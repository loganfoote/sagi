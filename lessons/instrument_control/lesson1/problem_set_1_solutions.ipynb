{
 "cells": [
  {
   "cell_type": "markdown",
   "id": "28708cf2",
   "metadata": {},
   "source": [
    "# Problem 0 \n",
    "### 0.1\n",
    "Given an instrument name and status string, print a statement to display the status with the following format: 'Thermometer is connected'."
   ]
  },
  {
   "cell_type": "code",
   "execution_count": null,
   "id": "8364b289",
   "metadata": {},
   "outputs": [],
   "source": [
    "name = 'Oscilloscope'\n",
    "status = 'disconnected'\n",
    "# Your code here \n",
    "print(f'{name} is {status}')"
   ]
  },
  {
   "cell_type": "markdown",
   "id": "348accec",
   "metadata": {},
   "source": [
    "### 0.2\n",
    "Modify your code to ensure that the instrument name is capitalized and the instrument status is not."
   ]
  },
  {
   "cell_type": "code",
   "execution_count": null,
   "id": "071c9c4b",
   "metadata": {},
   "outputs": [],
   "source": [
    "name = 'oscilloscope'\n",
    "status = 'Disconnected'\n",
    "# Your code here \n",
    "print(f'{name.capitalize()} is {status.lower()}')"
   ]
  },
  {
   "cell_type": "markdown",
   "id": "1cdb02dc",
   "metadata": {},
   "source": [
    "# Problem 1\n",
    "### 1.1\n",
    "When connecting to an instrument through the GPIB protocol, addresses are given as strings with the form 'GPIB0::12::INSTR', where 12 is the GPIB address. Write code to convert a the GPIB address as a numeric data type into the corresponding string. Ensure that your code works for int and float data types."
   ]
  },
  {
   "cell_type": "code",
   "execution_count": null,
   "id": "11b82006",
   "metadata": {},
   "outputs": [],
   "source": [
    "gpib_address0 = 19 \n",
    "gpib_address1 = 20. \n",
    "### Your code here \n",
    "gpib_string0 = f'GPIB0::{gpib_address0}::INSTR' \n",
    "gpib_string1 = f'GPIB0::{int(gpib_address1)}::INSTR' "
   ]
  },
  {
   "cell_type": "markdown",
   "id": "2056d65a",
   "metadata": {},
   "source": [
    "### 1.2\n",
    "Given the address as a string, write code to extract the address number as an integer."
   ]
  },
  {
   "cell_type": "code",
   "execution_count": null,
   "id": "e0c1824e",
   "metadata": {},
   "outputs": [],
   "source": [
    "gpib_string = 'GPIB0::18::INSTR'\n",
    "### Your code here \n",
    "# There are many ways to solve this one. \n",
    "gpib_address = int(gpib_string.replace('GPIB0::', '').replace('::INSTR', ''))\n",
    "gpib_address = int(gpib_string.split('::')[1])\n",
    "# Avoid this solution:\n",
    "gpib_address = int(gpib_string[7:9])\n",
    "# Because, it requires that the gpib address is two digits"
   ]
  },
  {
   "cell_type": "markdown",
   "id": "8c69dfa6",
   "metadata": {},
   "source": [
    "### 1.3 \n",
    "Suppose the number after GPIB (0 in 'GPIB0') can be any value, and you do not know the exact length. Ensure that your code is robust to this change."
   ]
  },
  {
   "cell_type": "code",
   "execution_count": null,
   "id": "a02bb7db",
   "metadata": {},
   "outputs": [],
   "source": [
    "gpib_string0 = 'GPIB0::18::INSTR'\n",
    "gpib_string0 = 'GPIB14::18::INSTR'\n",
    "### Your code here\n",
    "# This is why it is important to imagine all possible situations when writing your code\n",
    "# You know that the gpib address is separated by '::' on either side, so this is the best solution\n",
    "gpib_address = int(gpib_string.split('::')[1])"
   ]
  },
  {
   "cell_type": "markdown",
   "id": "eef75b8e",
   "metadata": {},
   "source": [
    "# Problem 2\n",
    "### 2.1\n",
    "You have imported the following log file as a string. Parse through the data to create the following variables:\n",
    "<ul>\n",
    "    <li> log_number (int): log file number </li>\n",
    "    <li> year (int) </li> \n",
    "    <li> month (int) </li>\n",
    "    <li> day (int) </li> \n",
    "    <li> hour (float) </li>\n",
    "    <li> minute (float) </li> \n",
    "    <li> second (float) </li> \n",
    "    <li> temperature (float): in K </li> \n",
    "    <li> resistance (float): in $\\Omega$ </li> \n",
    "    <li> voltage (float): in V </li> \n",
    "</ul>"
   ]
  },
  {
   "cell_type": "code",
   "execution_count": null,
   "id": "81603ce1",
   "metadata": {},
   "outputs": [],
   "source": [
    "log = \"\"\"Log 14: instrument control \n",
    "\n",
    "date: 20240729\n",
    "time: 7:46:12.14893\n",
    "temperature: 298 K \n",
    "resistance: 14 mOhms \n",
    "voltage: 19.498 V \n",
    "\"\"\"\n",
    "# Your code here \n",
    "# There are many ways to solve this problem. Here is one example\n",
    "lines = log.split('\\n')\n",
    "def get_line(start):\n",
    "    line = [l for l in lines if l.startswith(start)][0]\n",
    "    line = line.replace(start, '')\n",
    "    return line\n",
    "log_number = int(get_line('Log ').split(':')[0])\n",
    "date = get_line('date: ') \n",
    "year = int(date[:4])\n",
    "month = int(date[4:6])\n",
    "day = int(date[6:])\n",
    "time = get_line('time: ').split(':')\n",
    "hour = float(time[0])\n",
    "minute = float(time[1])\n",
    "second = float(time[2])\n",
    "temperature = float(get_line('temperature: ').replace(' K', ''))\n",
    "resistance = float(get_line('resistance: ').replace(' mOhms', '')) * 1e-3\n",
    "voltage = float(get_line('voltage: ').replace(' V', ''))"
   ]
  },
  {
   "cell_type": "markdown",
   "id": "bc3a8db9",
   "metadata": {},
   "source": [
    "### 2.2\n",
    "Convert the month integer to the month name as a string."
   ]
  },
  {
   "cell_type": "code",
   "execution_count": null,
   "id": "96145488",
   "metadata": {},
   "outputs": [],
   "source": [
    "# Your code here \n",
    "# Here is one possible way to solve this problem\n",
    "months = ['jan', 'feb', 'mar', 'apr', 'may', 'jun', 'jul', 'aug', 'sep', 'oct', 'nov', 'dec']\n",
    "month_name = months[month - 1]"
   ]
  },
  {
   "cell_type": "markdown",
   "id": "6ab87c6b",
   "metadata": {},
   "source": [
    "###\n",
    "What if the order of the lines in the log file changes? What if some of the values (temperature, resistance, etc) appear in some log files but not others? Can you ensure that your code is robust to these possibilities? For values that do not appear in the log file, your code should assign the variable to 'None'."
   ]
  },
  {
   "cell_type": "code",
   "execution_count": null,
   "id": "9edaeced",
   "metadata": {},
   "outputs": [],
   "source": [
    "log0 = \"\"\"Log 14: instrument control \n",
    "\n",
    "date: 20240729\n",
    "time: 7:46:12.14893\n",
    "temperature: 298 K \n",
    "voltage: 19.498 V \n",
    "\"\"\"\n",
    "log1 = \"\"\"Log 14: instrument control \n",
    "\n",
    "date: 20240729\n",
    "time: 7:46:12.14893\n",
    "resistance: 14 mOhms\n",
    "voltage: 19.498 V \n",
    "temperature: 298 K \n",
    "\"\"\"\n",
    "# Your code here \n",
    "# The easiest method here is to add an if statement for each variable. For example\n",
    "def get_line(lines, start):\n",
    "    line = [l for l in lines if l.startswith(start)]\n",
    "    if not len(line):\n",
    "        return None\n",
    "    line = line[0].replace(start, '')\n",
    "    return line\n",
    "\n",
    "lines0 = log0.split('\\n')\n",
    "resistance0 = get_line(lines0, 'resistance: ')\n",
    "if resistance0 is not None:\n",
    "    resistanc0 = float(resistance0.replace(' mOhms', '')) * 1e-3\n",
    "lines1 = log1.split('\\n')\n",
    "resistance1 = get_line(lines1, 'resistance: ')\n",
    "if resistance1 is not None:\n",
    "    resistance1 = float(resistance1.replace(' mOhms', '')) * 1e-3\n",
    "# See if you can think of a more elegant solution"
   ]
  },
  {
   "cell_type": "markdown",
   "id": "162437de",
   "metadata": {},
   "source": [
    "### 2.4 \n",
    "Given the following variables, create the log string with the format given above."
   ]
  },
  {
   "cell_type": "code",
   "execution_count": null,
   "id": "6b85a69b",
   "metadata": {},
   "outputs": [],
   "source": [
    "log_number =  5\n",
    "year = 2024\n",
    "month = 9\n",
    "day = 2\n",
    "hour = 18\n",
    "minute = 2\n",
    "second = 59.691348\n",
    "temperature = 10\n",
    "resistance = 0.002\n",
    "voltage = 16.4\n",
    "# Your code here \n",
    "log = f\"\"\"Log {int(log_number)}: instrument control \n",
    "\n",
    "date: {int(year)}{int(month)}{int(day)}\n",
    "time: {int(hour)}:{int(minute)}:{second}\n",
    "resistance: {resistance * 1e3} mOhms\n",
    "voltage: {voltage} V \n",
    "temperature: {temperature} K \n",
    "\"\"\""
   ]
  },
  {
   "cell_type": "markdown",
   "id": "7d07a0f1",
   "metadata": {},
   "source": [
    "### 2.5\n",
    "If one of the variables is given as 'None', make sure your code leaves that line out of the log file."
   ]
  },
  {
   "cell_type": "code",
   "execution_count": null,
   "id": "aee292d3",
   "metadata": {},
   "outputs": [],
   "source": [
    "log_number =  5\n",
    "year = 2024\n",
    "month = 9\n",
    "day = 2\n",
    "hour = 18\n",
    "minute = 2\n",
    "second = 59.691348\n",
    "temperature = 10\n",
    "resistance = None\n",
    "voltage = 16.4\n",
    "# Your code here \n",
    "log = f\"\"\"Log {int(log_number)}: instrument control\n",
    "\n",
    "date: {int(year)}{int(month)}{int(day)}\n",
    "time: {int(hour)}:{int(minute)}:{second}\\n\"\"\"\n",
    "if resistance is not None:\n",
    "    log += f'resistance: {resistance * 1e3} mOhms\\n'\n",
    "if voltage is not None:\n",
    "    log += f'voltage: {voltage} V\\n'\n",
    "if temperature is not None:\n",
    "    log += f'temperature: {temperature} K\\n'"
   ]
  },
  {
   "cell_type": "markdown",
   "id": "ac245dc8",
   "metadata": {},
   "source": [
    "# 3 \n",
    "### 3.1 \n",
    "Write code that calculates the voltage drop across a resistor using Ohm's Law (V = IR). Print the result with units."
   ]
  },
  {
   "cell_type": "code",
   "execution_count": null,
   "id": "ef4f967c",
   "metadata": {},
   "outputs": [],
   "source": [
    "current = 0.29813 # amps \n",
    "resistance = 15.134087 # Ohms \n",
    "# Your code here \n",
    "voltage = "
   ]
  },
  {
   "cell_type": "markdown",
   "id": "e3e250c3",
   "metadata": {},
   "source": [
    "### 3.2 \n",
    "Write code to calculate the pressure difference between two readings. Print the pressure difference (as a positive number), and print which reading is greater."
   ]
  },
  {
   "cell_type": "code",
   "execution_count": null,
   "id": "31bac326",
   "metadata": {},
   "outputs": [],
   "source": [
    "p1 = 0.98 \n",
    "p2 = 1.4 \n",
    "# Your code here \n",
    "delta_p = "
   ]
  },
  {
   "cell_type": "markdown",
   "id": "9385d327",
   "metadata": {},
   "source": [
    "# 4\n",
    "You are connecting to four instruments, and you receive a status string of either 'connected' or 'disconnected' from each one. Create a dictionary where keys are the name of the instruments and values are a boolean representing the state. Create a new variable 'all_connected' that is True if all the instruments are connected and False if any are disconnected."
   ]
  },
  {
   "cell_type": "code",
   "execution_count": null,
   "id": "841d4d0e",
   "metadata": {},
   "outputs": [],
   "source": [
    "oscilloscope = 'connected'\n",
    "function_generator = 'connected'\n",
    "thermometer = 'connected' \n",
    "multimeter = 'connected'\n",
    "# Your code here \n",
    "instruments = {}\n",
    "all_connected = "
   ]
  },
  {
   "cell_type": "markdown",
   "id": "ef3864de",
   "metadata": {},
   "source": [
    "# 5 \n",
    "Write code that takes the date of the last calibration as a string and creates a boolean that is True if the last calibration was within 30 days, or False if it was more than 30 days ago."
   ]
  },
  {
   "cell_type": "code",
   "execution_count": null,
   "id": "09812e24",
   "metadata": {},
   "outputs": [],
   "source": [
    "last_calibration = '20240604'\n",
    "# Your code here \n"
   ]
  },
  {
   "cell_type": "markdown",
   "id": "21576044",
   "metadata": {},
   "source": [
    "# 6 \n",
    "Write code that takes a list of measurements and returns their average."
   ]
  },
  {
   "cell_type": "code",
   "execution_count": null,
   "id": "6dd488c3",
   "metadata": {},
   "outputs": [],
   "source": [
    "resistances = [ 8.28855233, 11.24060003, 11.80479718, 10.49343725, \n",
    "               10.44392358, 8.5742672 ,  9.83928851,  9.03850073,  \n",
    "               9.41030567, 10.31236147]\n",
    "# Your code here \n",
    "average_resistance = "
   ]
  },
  {
   "cell_type": "markdown",
   "id": "31452b7f",
   "metadata": {},
   "source": [
    "# 7\n",
    "Write code that takes a list of values and returns the highest value and the index of the highest value. "
   ]
  },
  {
   "cell_type": "code",
   "execution_count": null,
   "id": "9ea26298",
   "metadata": {},
   "outputs": [],
   "source": [
    "resistances = [ 8.28855233, 11.24060003, 11.80479718, 10.49343725, \n",
    "               10.44392358, 8.5742672 ,  9.83928851,  9.03850073,  \n",
    "               9.41030567, 10.31236147]\n",
    "# Your code here \n",
    "max_resistance = \n",
    "max_resistance_index = "
   ]
  },
  {
   "cell_type": "markdown",
   "id": "b4b2ca72",
   "metadata": {},
   "source": [
    "# 8 \n",
    "Write code that takes tuple representing Cartesian coordinates (x,y) and converts to polar coordinates (r,theta)."
   ]
  },
  {
   "cell_type": "code",
   "execution_count": null,
   "id": "8803cd8f",
   "metadata": {},
   "outputs": [],
   "source": [
    "cart_coordinates = (5, 17)\n",
    "# Your code here \n",
    "polar_coordinates = "
   ]
  },
  {
   "cell_type": "markdown",
   "id": "3a494a4c",
   "metadata": {},
   "source": [
    "# 9 \n",
    "Given a dictionary with instrument settings and a new dictionary with updated settings, update the current configuration with the new settings."
   ]
  },
  {
   "cell_type": "code",
   "execution_count": null,
   "id": "601de0fe",
   "metadata": {},
   "outputs": [],
   "source": [
    "fgen_settings = {'voltage': 4.5,\n",
    "                 'type': 'sin',\n",
    "                 'offset': 0\n",
    "                }\n",
    "updated_settings = {'type': 'square',\n",
    "                    'offset': -1\n",
    "                   }\n",
    "# Your code here "
   ]
  },
  {
   "cell_type": "markdown",
   "id": "800d026f",
   "metadata": {},
   "source": [
    "# 10 \n",
    "Given a dictionary with instrument names as keys and statuses as values, return a list of instruments that are disconnected"
   ]
  },
  {
   "cell_type": "code",
   "execution_count": null,
   "id": "f5d9cd4a",
   "metadata": {},
   "outputs": [],
   "source": [
    "instruments = {oscilloscope       = 'disconnected'\n",
    "               function_generator = 'connected'\n",
    "               thermometer        = 'connected' \n",
    "               multimeter         = 'disconnected'\n",
    "              }\n",
    "# Your code here \n",
    "disconnected_instruments = []"
   ]
  },
  {
   "cell_type": "markdown",
   "id": "a04ad6bf",
   "metadata": {},
   "source": [
    "## 11 \n",
    "What will the following code print, and what will it output? Write your answer down, then run the code to check if you are right."
   ]
  },
  {
   "cell_type": "code",
   "execution_count": null,
   "id": "4253d379",
   "metadata": {},
   "outputs": [],
   "source": [
    "print('1') and print('2') or print('3')"
   ]
  },
  {
   "cell_type": "code",
   "execution_count": null,
   "id": "d141f259",
   "metadata": {},
   "outputs": [],
   "source": [
    "print('1') or print('2') or print('3')"
   ]
  },
  {
   "cell_type": "code",
   "execution_count": null,
   "id": "b9c3ce28",
   "metadata": {},
   "outputs": [],
   "source": [
    "1 or 2 or print('3')"
   ]
  },
  {
   "cell_type": "code",
   "execution_count": null,
   "id": "d7739a84",
   "metadata": {},
   "outputs": [],
   "source": [
    "1 and 2 or print('3')"
   ]
  }
 ],
 "metadata": {
  "kernelspec": {
   "display_name": "Python 3 (ipykernel)",
   "language": "python",
   "name": "python3"
  },
  "language_info": {
   "codemirror_mode": {
    "name": "ipython",
    "version": 3
   },
   "file_extension": ".py",
   "mimetype": "text/x-python",
   "name": "python",
   "nbconvert_exporter": "python",
   "pygments_lexer": "ipython3",
   "version": "3.9.12"
  }
 },
 "nbformat": 4,
 "nbformat_minor": 5
}
