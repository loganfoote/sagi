{
 "cells": [
  {
   "cell_type": "markdown",
   "id": "fa567e0c",
   "metadata": {},
   "source": [
    "# Strings\n",
    "In Python, strings are sequences of characters, and various operations can be performed on them using built-in operators."
   ]
  },
  {
   "cell_type": "code",
   "execution_count": null,
   "id": "91532346",
   "metadata": {},
   "outputs": [],
   "source": [
    "# Creating strings \n",
    "str1 = 'Hello World!'\n",
    "str2 = \"Hello world\"\n",
    "str3 = '''This is a multiline\n",
    "string'''\n",
    "str4 = \"\"\"This is a multiline\n",
    "string\"\"\"\n",
    "print(str1)\n",
    "print(str2)\n",
    "print(str3)\n",
    "print(str4)"
   ]
  },
  {
   "cell_type": "code",
   "execution_count": null,
   "id": "2500fb98",
   "metadata": {},
   "outputs": [],
   "source": [
    "# Accessing individual characters\n",
    "word = \"Python\"\n",
    "print(word[0])  \n",
    "print(word[-1]) \n",
    "\n",
    "# Slicing strings\n",
    "print(word[1:4])  \n",
    "print(word[:2])   \n",
    "print(word[2:])   \n",
    "print(word[:]) "
   ]
  },
  {
   "cell_type": "code",
   "execution_count": null,
   "id": "ad4b267a",
   "metadata": {},
   "outputs": [],
   "source": [
    "# Changing case\n",
    "s = \"hello world\"\n",
    "print(s.upper())  \n",
    "print(s.lower())  \n",
    "print(s.capitalize())  \n",
    "print(s.title())  \n",
    "\n",
    "# Finding and replacing\n",
    "print(s.find('e')) \n",
    "print(s.find('x')) # -1 if not found\n",
    "print(s.replace('l', 'x')) "
   ]
  },
  {
   "cell_type": "code",
   "execution_count": null,
   "id": "626cd707",
   "metadata": {},
   "outputs": [],
   "source": [
    "# Formatting \n",
    "resistance = 10.5 \n",
    "print(f\"{resistance} Ohms\")"
   ]
  },
  {
   "cell_type": "code",
   "execution_count": null,
   "id": "7253708b",
   "metadata": {},
   "outputs": [],
   "source": [
    "# Concatenating\n",
    "resistance1 = f\"{10.5}\"\n",
    "resistance2 = str(15.4)\n",
    "print(resistance1 + ',' + resistance2)\n",
    "\n",
    "# Repetition \n",
    "print(\"Ha\" * 5)"
   ]
  },
  {
   "cell_type": "code",
   "execution_count": null,
   "id": "98e33f9d",
   "metadata": {},
   "outputs": [],
   "source": [
    "# Other string formatting \n",
    "pi = 3.14159\n",
    "print(f\"{pi:.3f}\") # 3 decimal places\n",
    "\n",
    "index = 1\n",
    "print(f\"{index:03d}\") # Leading zeros \n",
    "\n",
    "num = 123090981374 \n",
    "print(f\"{num:,}\") # Comma separator for thousdands \n",
    "\n",
    "# Align text \n",
    "text = 'align'\n",
    "print(f\"{text:^20}\")\n",
    "print(f\"{text:<20}\")\n",
    "print(f\"{text:>20}\")"
   ]
  },
  {
   "cell_type": "code",
   "execution_count": null,
   "id": "d4134498",
   "metadata": {},
   "outputs": [],
   "source": [
    "# Other less common examples\n",
    "# Trimming whitespace\n",
    "s = \"  whitespace    \"\n",
    "print(s.strip())  \n",
    "print(s.lstrip())  \n",
    "print(s.rstrip()) \n",
    "\n",
    "# Padding\n",
    "s = f\"{16}\"\n",
    "print(s.zfill(5))  \n",
    "print(s.rjust(5, '0'))  \n",
    "print(s.ljust(5, '0')) \n",
    "# Checking for prefixes and suffixes\n",
    "filename = \"example_file.csv\"\n",
    "print(filename.endswith('.csv')) \n",
    "print(filename.startswith('example')) \n",
    "\n",
    "# Counting occurrences of a substring\n",
    "text = \"banana\"\n",
    "print(text.count('a')) "
   ]
  },
  {
   "cell_type": "markdown",
   "id": "1dcb7850",
   "metadata": {},
   "source": [
    "# Numeric data types \n",
    "Built-in numeric data types in python are integers (int), floating-point numbers (float) and complex number (complex)."
   ]
  },
  {
   "cell_type": "code",
   "execution_count": null,
   "id": "610e7c5f",
   "metadata": {},
   "outputs": [],
   "source": [
    "# int \n",
    "x = 5 \n",
    "dtype = int"
   ]
  },
  {
   "cell_type": "code",
   "execution_count": null,
   "id": "d7e04ce3",
   "metadata": {},
   "outputs": [],
   "source": [
    "# float \n",
    "x = 5. \n",
    "y = 18.4897413984\n",
    "dtype = float\n",
    "\n",
    "# Complex number\n",
    "x = 1 + 2j \n",
    "dtype = complex"
   ]
  },
  {
   "cell_type": "code",
   "execution_count": null,
   "id": "1596e95a",
   "metadata": {},
   "outputs": [],
   "source": [
    "# None type\n",
    "x = None\n",
    "dtype = None"
   ]
  },
  {
   "cell_type": "code",
   "execution_count": null,
   "id": "f35643c4",
   "metadata": {},
   "outputs": [],
   "source": [
    "# arithmetic operators for numeric data types\n",
    "1 + 2   # addition\n",
    "1 - 2   # subtraction\n",
    "1 * 2   # multiplication\n",
    "1 / 2   # division\n",
    "1 // 2  # floor division\n",
    "1 % 2   # modulus\n",
    "1 ** 2  # exponentiation"
   ]
  },
  {
   "cell_type": "code",
   "execution_count": null,
   "id": "55072d1d",
   "metadata": {},
   "outputs": [],
   "source": [
    "# shortcut assignment operators \n",
    "c = 10 \n",
    "c += 5   # c = c + 5\n",
    "c -= 5   # c = c - 5 \n",
    "c *= 5   # c = c * 5 \n",
    "c /= 5   # c = c / 5  \n",
    "c **= 5  # c = c ** 5"
   ]
  },
  {
   "cell_type": "code",
   "execution_count": null,
   "id": "9893ce00",
   "metadata": {},
   "outputs": [],
   "source": [
    "# built-in functions \n",
    "abs(-7) # absolute value \n",
    "round(3.14159, 2) # rounding \n"
   ]
  },
  {
   "cell_type": "code",
   "execution_count": null,
   "id": "78a67a4d",
   "metadata": {},
   "outputs": [],
   "source": [
    "# type conversion \n",
    "float(1) # = 1.0, convert integer to float \n",
    "int(3.7) # = 3, convert float to integer (floor)\n",
    "complex(1, 2) # = 1 + 2j"
   ]
  },
  {
   "cell_type": "code",
   "execution_count": null,
   "id": "2256c084",
   "metadata": {},
   "outputs": [],
   "source": []
  },
  {
   "cell_type": "markdown",
   "id": "b5ec677b",
   "metadata": {},
   "source": [
    "# Booleans\n",
    "The boolean data type (bool) has two possible values: True and False. Boolean values are often the result of comparisons and logical operations."
   ]
  },
  {
   "cell_type": "code",
   "execution_count": null,
   "id": "8d38c6db",
   "metadata": {},
   "outputs": [],
   "source": [
    "# boolean \n",
    "x = True \n",
    "y = False\n",
    "dtype = bool\n",
    "\n",
    "# For floats and integers, 0 is False and anything else is True\n",
    "bool(0.)\n",
    "bool(1) \n",
    "\n",
    "# For strings, an empty string is False and anything else is True\n",
    "bool('a')\n",
    "bool('')"
   ]
  },
  {
   "cell_type": "code",
   "execution_count": null,
   "id": "2e04e1de",
   "metadata": {},
   "outputs": [],
   "source": [
    "# basic operators for booleans \n",
    "1 or 0 \n",
    "1 and 0\n",
    "not False"
   ]
  },
  {
   "cell_type": "code",
   "execution_count": null,
   "id": "83e81c38",
   "metadata": {},
   "outputs": [],
   "source": [
    "# comparison operators\n",
    "1 == 2  # equal \n",
    "1 != 2  # not equal \n",
    "1 > 2   # greater than \n",
    "1 < 2   # less than \n",
    "1 >= 2  # greater than or equal to \n",
    "1 <= 2  # less than or equal to "
   ]
  },
  {
   "cell_type": "code",
   "execution_count": null,
   "id": "c95e0674",
   "metadata": {},
   "outputs": [],
   "source": [
    "# Membership testing \n",
    "print(\"e\" in \"hello\")\n",
    "print('x' not in \"hello\")"
   ]
  },
  {
   "cell_type": "markdown",
   "id": "73515e59",
   "metadata": {},
   "source": [
    "## Short-circuit evaluation\n",
    "Logical operators stop evaluation as soon as the result is determined. This may not seem useful here, but if your operands take a long time to evaluate the order may affect the speed of your code."
   ]
  },
  {
   "cell_type": "code",
   "execution_count": null,
   "id": "129dbda7",
   "metadata": {},
   "outputs": [],
   "source": [
    "# and: stops and returns False if any operand is False\n",
    "(False and True and 1) # doesn't evaluate True or 1 \n",
    "(True or False or False) # doesn't evaluate the second 'False'"
   ]
  }
 ],
 "metadata": {
  "kernelspec": {
   "display_name": "Python 3 (ipykernel)",
   "language": "python",
   "name": "python3"
  },
  "language_info": {
   "codemirror_mode": {
    "name": "ipython",
    "version": 3
   },
   "file_extension": ".py",
   "mimetype": "text/x-python",
   "name": "python",
   "nbconvert_exporter": "python",
   "pygments_lexer": "ipython3",
   "version": "3.9.12"
  }
 },
 "nbformat": 4,
 "nbformat_minor": 5
}
