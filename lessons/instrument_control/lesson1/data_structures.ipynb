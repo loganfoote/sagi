{
 "cells": [
  {
   "cell_type": "markdown",
   "id": "2dd0e734",
   "metadata": {},
   "source": [
    "# Tuples"
   ]
  },
  {
   "cell_type": "code",
   "execution_count": null,
   "id": "370157bf",
   "metadata": {},
   "outputs": [],
   "source": [
    "empty_tuple = ()\n",
    "print(empty_tuple)"
   ]
  },
  {
   "cell_type": "code",
   "execution_count": null,
   "id": "1c0969d1",
   "metadata": {},
   "outputs": [],
   "source": [
    "integers = (1, 2, 3, 4, 5)\n",
    "print(integers)"
   ]
  },
  {
   "cell_type": "code",
   "execution_count": null,
   "id": "b586ec68",
   "metadata": {},
   "outputs": [],
   "source": [
    "single_element = (1,) # Needs comma, or it will just be a float \n",
    "print(single_element)"
   ]
  },
  {
   "cell_type": "code",
   "execution_count": null,
   "id": "70d49c33",
   "metadata": {},
   "outputs": [],
   "source": [
    "# Indexing \n",
    "instruments = ('oscilloscope', 'power meter', 'function generator')\n",
    "print('0  ', instruments[0]) # 0-indexed \n",
    "print('1  ', instruments[1])\n",
    "print('0:2', instruments[0:2]) # inclusive of first index, exclusive of seconds\n",
    "print('-1 ', instruments[-1]) # Counts back from last item in tuple"
   ]
  },
  {
   "cell_type": "code",
   "execution_count": null,
   "id": "bb2dab80",
   "metadata": {},
   "outputs": [],
   "source": [
    "instruments = ('oscilloscope', 'power meter', 'function generator')\n",
    "print(len(instruments))"
   ]
  },
  {
   "cell_type": "code",
   "execution_count": null,
   "id": "4e83a4ac",
   "metadata": {},
   "outputs": [],
   "source": [
    "# Operations \n",
    "# Concatenation\n",
    "tuple1 = (1, 2, 3)\n",
    "tuple2 = (4, 5, 6)\n",
    "combined = tuple1 + tuple2 \n",
    "print('combined:', combined)\n",
    "\n",
    "# Repetition\n",
    "repeated = tuple1 * 2 \n",
    "print('repeated:', repeated)\n",
    "\n",
    "# Membership testing \n",
    "print(2 in tuple1)\n",
    "print(5 not in tuple1)"
   ]
  },
  {
   "cell_type": "code",
   "execution_count": null,
   "id": "5bae178e",
   "metadata": {},
   "outputs": [],
   "source": [
    "# .count() method \n",
    "numbers = (10, 20, 30, 10, 20, 10)\n",
    "print(numbers.count(10))\n",
    "# .index() method \n",
    "print(numbers.index(10)) # Returns the index of the first occurence "
   ]
  },
  {
   "cell_type": "code",
   "execution_count": null,
   "id": "5d2e3c9b",
   "metadata": {},
   "outputs": [],
   "source": [
    "# Creating and accessing nested tuples\n",
    "nested_tuple = (1, (2, 3), 4, (5, 6, 7))\n",
    "print(nested_tuple[1])  \n",
    "print(nested_tuple[1][1])  "
   ]
  },
  {
   "cell_type": "code",
   "execution_count": null,
   "id": "6ca08c06",
   "metadata": {},
   "outputs": [],
   "source": [
    "# Basic unpacking\n",
    "coordinates = (30, 20)\n",
    "x, y = coordinates\n",
    "print('x:', x)\n",
    "print('y:', y)"
   ]
  },
  {
   "cell_type": "code",
   "execution_count": null,
   "id": "8635776d",
   "metadata": {},
   "outputs": [],
   "source": [
    "# Unpacking with multiple variables\n",
    "data = ('20240728', '11:03AM', 15.6)\n",
    "date, time, resistance = data\n",
    "print('date      :', date) \n",
    "print('time      :', time)  \n",
    "print('resistance:', resistance) "
   ]
  },
  {
   "cell_type": "code",
   "execution_count": null,
   "id": "ef0d969a",
   "metadata": {},
   "outputs": [],
   "source": [
    "# Examples: returning multiple values from a function\n",
    "def get_min_max(numbers):\n",
    "    return min(numbers), max(numbers)\n",
    "return_tuple = get_min_max([1, 2, 3, 4, 5])\n",
    "print('Returned tuple:', return_tuple)\n",
    "min_val, max_val = get_min_max([1, 2, 3, 4, 5])\n",
    "print('min:', min_val)\n",
    "print('max:', max_val)"
   ]
  },
  {
   "cell_type": "markdown",
   "id": "dff9b1a7",
   "metadata": {},
   "source": [
    "# Lists"
   ]
  },
  {
   "cell_type": "code",
   "execution_count": null,
   "id": "3addb322",
   "metadata": {},
   "outputs": [],
   "source": [
    "# Creating lists\n",
    "empty_list = []\n",
    "print(empty_list)\n",
    "\n",
    "integers = [1, 2, 3, 4, 5]\n",
    "print(integers)"
   ]
  },
  {
   "cell_type": "code",
   "execution_count": null,
   "id": "b1a0f93c",
   "metadata": {},
   "outputs": [],
   "source": [
    "# Indexing \n",
    "instruments = ['oscilloscope', 'power_meter', 'function_generator']\n",
    "print('0  ', instruments[0]) # 0-indexed \n",
    "print('1  ', instruments[1])\n",
    "print('0:2', instruments[0:2]) # inclusive of first index, exclusive of seconds\n",
    "print('-1 ', instruments[-1]) # Counts back from last item in tuple"
   ]
  },
  {
   "cell_type": "code",
   "execution_count": null,
   "id": "25a26f20",
   "metadata": {},
   "outputs": [],
   "source": [
    "# Changing an element by index\n",
    "instruments = ['oscilloscope', 'power_meter', 'function_generator']\n",
    "instruments[1] = 'multimeter'\n",
    "print(instruments) \n",
    "\n",
    "# Adding elements to a list\n",
    "instruments.append('power_supply')\n",
    "print(instruments) \n",
    "instruments.extend(['power_supply', 'power_supply'])\n",
    "\n",
    "# Inserting elements at a specific position\n",
    "instruments.insert(1, 'rf_source')\n",
    "print(instruments) \n",
    "\n",
    "# Removing elements from a list\n",
    "instruments.remove('rf_source')\n",
    "print(instruments)\n",
    "\n",
    "# Removing an element by index\n",
    "oscilloscope = instruments.pop(0)\n",
    "print(oscilloscope)\n",
    "print(instruments) \n",
    "\n",
    "# .index()\n",
    "print('Index of first power supply:', instruments.index('power_supply'))\n",
    "# .count()\n",
    "print('Number of power supplies:', instruments.count('power_supply'))"
   ]
  },
  {
   "cell_type": "code",
   "execution_count": null,
   "id": "89e81b2b",
   "metadata": {},
   "outputs": [],
   "source": [
    "# Sort \n",
    "integers = [3, 1, 2, 5, 4]\n",
    "integers.sort()\n",
    "print(integers)\n",
    "integers.reverse()\n",
    "print(integers)"
   ]
  },
  {
   "cell_type": "code",
   "execution_count": null,
   "id": "80a01a64",
   "metadata": {},
   "outputs": [],
   "source": [
    "# Concatenation\n",
    "list1 = [1, 2, 3]\n",
    "list2 = [4, 5, 6]\n",
    "combined = list1 + list2\n",
    "print(combined) \n",
    "\n",
    "# Repetition\n",
    "repeated = list1 * 2\n",
    "print(repeated) \n",
    "\n",
    "# Membership testing\n",
    "print(2 in list1) \n",
    "print(5 not in list1) "
   ]
  },
  {
   "cell_type": "code",
   "execution_count": null,
   "id": "87c60d56",
   "metadata": {},
   "outputs": [],
   "source": [
    "# Nested lists\n",
    "nested_list = [1, [2, 3], 4, [5, 6, 7]]\n",
    "print(nested_list[1])\n",
    "print(nested_list[1][1])"
   ]
  },
  {
   "cell_type": "code",
   "execution_count": null,
   "id": "6e7fa074",
   "metadata": {},
   "outputs": [],
   "source": [
    "# List comprehension\n",
    "xs = [1, 2, 3, 4, 5]\n",
    "squares = [x ** 2 for x in xs]\n",
    "print(squares)\n",
    "\n",
    "even_squares = [x**2 for x in xs if x % 2 == 0]\n",
    "print(even_squares)"
   ]
  },
  {
   "cell_type": "code",
   "execution_count": null,
   "id": "d08f036d",
   "metadata": {},
   "outputs": [],
   "source": [
    "# Splitting a string into a list \n",
    "data = '5.76,8.02,8.02,1.65,8.02,2.83,4.06,7.37,6.54,0.72' \n",
    "values = data.split(',')\n",
    "print(values)\n",
    "new_data = ';'.join(values)\n",
    "print(new_data)\n",
    "values = [float(v) for v in values]\n",
    "print(values)"
   ]
  },
  {
   "cell_type": "code",
   "execution_count": null,
   "id": "f296446a",
   "metadata": {},
   "outputs": [],
   "source": [
    "# Example: given a list of integers x, create a new list of only the odd integers in x \n",
    "numbers = [1, 2, 3, 4, 5, 6, 7, 8, 9, 10, 11]\n",
    "new_numbers = [num for num in numbers if num % 2 == 1]\n",
    "print(new_numbers)"
   ]
  },
  {
   "cell_type": "code",
   "execution_count": null,
   "id": "46847a1c",
   "metadata": {},
   "outputs": [],
   "source": [
    "any #####\n",
    "all\n",
    "max\n",
    "min\n",
    "sum\n",
    "[1] is [1] # False"
   ]
  },
  {
   "cell_type": "markdown",
   "id": "b06302ca",
   "metadata": {},
   "source": [
    "# Tuples vs lists"
   ]
  },
  {
   "cell_type": "code",
   "execution_count": null,
   "id": "331d6657",
   "metadata": {},
   "outputs": [],
   "source": [
    "# Tuples are immutable (cannot be changed after creation)\n",
    "t = (1, 2, 3)\n",
    "t[0] = 4"
   ]
  },
  {
   "cell_type": "code",
   "execution_count": null,
   "id": "244366fa",
   "metadata": {},
   "outputs": [],
   "source": [
    "# lists are mutable (can be changes)\n",
    "l = [1, 2, 3]\n",
    "l[0] = 4 \n",
    "print(l)"
   ]
  },
  {
   "cell_type": "markdown",
   "id": "bea396e8",
   "metadata": {},
   "source": [
    "As a result, tuples can be used as keys for dictionaries but lists cannot. Also, tuples are slightly faster than lists due to immutability and have less memory overhead. Lists are more versatile, but can be slower. It is important to understand tuples because they are used as inputs and outputs to functions, but in most cases you will use lists"
   ]
  },
  {
   "cell_type": "markdown",
   "id": "8165616f",
   "metadata": {},
   "source": [
    "# Dictionaries"
   ]
  },
  {
   "cell_type": "code",
   "execution_count": null,
   "id": "7fbf23ed",
   "metadata": {},
   "outputs": [],
   "source": [
    "# Creating dictionaries \n",
    "empty_dict = {} \n",
    "print(empty_dict)\n",
    "\n",
    "gpib_addresses = {'power_supply': 14, 'function_generator': 10, 'oscilloscope': 19}\n",
    "print(gpib_addresses)\n",
    "\n",
    "# dict() constructor -> this is why I recommend underscores instead of spaces\n",
    "gpib_addresses = dict(power_supply = 14, function_generator = 10, oscilloscope = 19)\n",
    "print(gpib_addresses)"
   ]
  },
  {
   "cell_type": "code",
   "execution_count": null,
   "id": "e98d7bd7",
   "metadata": {},
   "outputs": [],
   "source": [
    "# Accessing elements \n",
    "gpib_addresses = {'power_supply': 14, 'function_generator': 10, 'oscilloscope': 19}\n",
    "print('Power supply GPIB address:', gpib_addresses['power_supply'])\n",
    "\n",
    "# Add a new key-value pair \n",
    "gpib_addresses['multimeter'] = 25\n",
    "\n",
    "# Update and existing key-value pair \n",
    "gpib_addresses['multimeter'] = 26 \n",
    "\n",
    "# Removing a key-value pair \n",
    "gpib_multimeter = gpib_addresses.pop('multimeter')\n",
    "\n",
    "# Accessing value with get -> avoide KeyError \n",
    "print('Multimeter GPIB address:', gpib_addresses.get('multimeter'))\n",
    "print('Power supply GPIB address:', gpib_addresses.get('power_supply'))"
   ]
  },
  {
   "cell_type": "code",
   "execution_count": null,
   "id": "21793af1",
   "metadata": {},
   "outputs": [],
   "source": [
    "gpib_addresses = {'power_supply': 14, 'function_generator': 10, 'oscilloscope': 19}\n",
    "# Dictionary methods\n",
    "print(gpib_addresses.keys())\n",
    "print(gpib_addresses.values())\n",
    "print(gpib_addresses.items())\n",
    "\n",
    "# Updating several items at once with a new dictionary\n",
    "updated_dictionary = {'power_supply': 32, 'multimeter': 16}\n",
    "gpib_addresses.update(updated_dictionary)\n",
    "print(gpib_addresses)\n",
    "\n",
    "# Clear dictionary\n",
    "gpib_addresses = gpib_addresses.clear()\n",
    "print(gpib_addresses)"
   ]
  },
  {
   "cell_type": "code",
   "execution_count": null,
   "id": "c2b65998",
   "metadata": {},
   "outputs": [],
   "source": [
    "gpib_addresses = {'power_supply': 14, 'function_generator': 10, 'oscilloscope': 19}\n",
    "\n",
    "# Iterating through dictionaries \n",
    "for key in gpib_addresses:\n",
    "    print(key)\n",
    "\n",
    "for value in gpib_addresses.values():\n",
    "    print(value)\n",
    "    \n",
    "for key, value in gpib_addresses.items():\n",
    "    print(key, value)"
   ]
  },
  {
   "cell_type": "code",
   "execution_count": null,
   "id": "3ffda3eb",
   "metadata": {},
   "outputs": [],
   "source": [
    "# Dictionary comprehension \n",
    "squares = {x: x**2 for x in [1, 2, 3, 4, 5]}\n",
    "print(squares)"
   ]
  },
  {
   "cell_type": "code",
   "execution_count": null,
   "id": "897db798",
   "metadata": {},
   "outputs": [],
   "source": [
    "# exercise: remove the multimeter key using dictionary comprehension\n",
    "gpib_addresses = {'power_supply': 14, 'function_generator': 10, 'oscilloscope': 19, 'multimeter': 16}\n",
    "gpib_addresses = {key: value for key, value in gpib_addresses.items() if key != 'multimeter'} "
   ]
  },
  {
   "cell_type": "code",
   "execution_count": null,
   "id": "0f96f362",
   "metadata": {},
   "outputs": [],
   "source": []
  }
 ],
 "metadata": {
  "kernelspec": {
   "display_name": "Python 3 (ipykernel)",
   "language": "python",
   "name": "python3"
  },
  "language_info": {
   "codemirror_mode": {
    "name": "ipython",
    "version": 3
   },
   "file_extension": ".py",
   "mimetype": "text/x-python",
   "name": "python",
   "nbconvert_exporter": "python",
   "pygments_lexer": "ipython3",
   "version": "3.11.9"
  }
 },
 "nbformat": 4,
 "nbformat_minor": 5
}
