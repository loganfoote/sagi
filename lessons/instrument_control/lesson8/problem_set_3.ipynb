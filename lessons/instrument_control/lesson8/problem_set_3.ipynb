{
 "cells": [
  {
   "cell_type": "markdown",
   "id": "7d1462f1-9f41-47ce-9244-f5b473b9f551",
   "metadata": {},
   "source": [
    "# File I/O\n",
    "We need to write a log file that saves each of the following variables. Create the string for the log file. Include the data and time at the top of the log file."
   ]
  },
  {
   "cell_type": "code",
   "execution_count": null,
   "id": "c99b470a-1d7d-44c0-8b8e-928e879a6146",
   "metadata": {},
   "outputs": [],
   "source": [
    "voltage = 5.298\n",
    "temperature = 297 \n",
    "notes = 'some notes on the lab setup'\n",
    "\n",
    "log = '# -------- File I/O project log file -------- #\\n'\n",
    "# Your code here"
   ]
  },
  {
   "cell_type": "markdown",
   "id": "89dbc529-3b84-46c8-a9cc-2dcbb596a440",
   "metadata": {},
   "source": [
    "Now, save the file in the current directory to 'fileio.log'."
   ]
  },
  {
   "cell_type": "code",
   "execution_count": null,
   "id": "cbbff643-7dff-4c34-99bc-461aacf535b9",
   "metadata": {},
   "outputs": [],
   "source": []
  },
  {
   "cell_type": "markdown",
   "id": "a86ff04e-c88a-4eb1-9fca-066351d5da66",
   "metadata": {},
   "source": [
    "Write a function that takes the path to the log file, imports the file, and returns the voltage, temperature, notes, and datetime. "
   ]
  },
  {
   "cell_type": "code",
   "execution_count": null,
   "id": "a5a280cb-d53b-458a-8e56-e88e79cea562",
   "metadata": {},
   "outputs": [],
   "source": [
    "def read_log(path):\n",
    "    # Your code here \n",
    "    return voltage, temperature, notes, datetime"
   ]
  },
  {
   "cell_type": "markdown",
   "id": "7f7fa700",
   "metadata": {},
   "source": [
    "# Instrument control\n",
    "We will connect to a fake instrument and take data, then FFT the data to extract a signal. First, we will import `fake_pyvisa`, which will act like `pyvisa` without needing to connect to a physical instrument. We will also import `numpy`, `matplotlib.pyplot`, and our simple fft function."
   ]
  },
  {
   "cell_type": "code",
   "execution_count": null,
   "id": "614fdca5",
   "metadata": {},
   "outputs": [],
   "source": [
    "import fake_pyvisa\n",
    "import numpy as np \n",
    "import matplotlib.pyplot as plt\n",
    "from simple_fft import simple_fft"
   ]
  },
  {
   "cell_type": "markdown",
   "id": "6e2dd407",
   "metadata": {},
   "source": [
    "Create the resource manager instance. We will connect to the instrument via LAN. The IP address is '192.168.2.125'. Create the instrument instance and query the device ID to confirm the connection."
   ]
  },
  {
   "cell_type": "code",
   "execution_count": null,
   "id": "e6e5703a",
   "metadata": {},
   "outputs": [],
   "source": [
    "rm = fake_pyvisa.ResourceManager()"
   ]
  },
  {
   "cell_type": "code",
   "execution_count": null,
   "id": "4587cf51",
   "metadata": {},
   "outputs": [],
   "source": [
    "ip_address = '192.168.2.125'\n",
    "inst = rm.open_resource(f'TCPIP0::{ip_address}::INSTR') \n",
    "inst.query('*IDN?')"
   ]
  },
  {
   "cell_type": "markdown",
   "id": "8be79523",
   "metadata": {},
   "source": [
    "We expect our signal to be have a range between 1 V and 10 V, so we need to set the voltage range to 10 V, rather than the default 1 V. From the programming manual, we find that the command syntax is 'C[channel]:VOLT_DIV [range]V', where channel is the channel index and range is the voltage range. Set the voltage range on the first channel to 10 V."
   ]
  },
  {
   "cell_type": "code",
   "execution_count": null,
   "id": "9047b5ef",
   "metadata": {},
   "outputs": [],
   "source": [
    "inst.write('C1:VOLT_DIV 10V')"
   ]
  },
  {
   "cell_type": "markdown",
   "id": "8d6e7ddf",
   "metadata": {},
   "source": [
    "From the programming manual, we find that the command to get the sample rate is 'SARA?'. Query the sample rate, and create the variable 'tsample' in s."
   ]
  },
  {
   "cell_type": "code",
   "execution_count": null,
   "id": "893cdd91",
   "metadata": {},
   "outputs": [],
   "source": [
    "response = inst.query('SARA?')\n",
    "tsample = float(response.replace('SARA ', '').replace('Sa/s\\n', ''))"
   ]
  },
  {
   "cell_type": "markdown",
   "id": "5c8d8050",
   "metadata": {},
   "source": [
    "From the programming manual, we find that the command to recieve data is 'C[channel]:WF? DAT2'. Query the device for data and create the variable 'x'. Create the corresponding time array 'time'."
   ]
  },
  {
   "cell_type": "code",
   "execution_count": null,
   "id": "3058ecf2",
   "metadata": {},
   "outputs": [],
   "source": [
    "x = inst.query('C1:WF? DAT2')\n",
    "time = np.arange(0, len(x) * tsample, tsample)"
   ]
  },
  {
   "cell_type": "markdown",
   "id": "4054170e",
   "metadata": {},
   "source": [
    "Plot the signal timestream. Don't forget the axis labels."
   ]
  },
  {
   "cell_type": "code",
   "execution_count": null,
   "id": "813bbb13",
   "metadata": {},
   "outputs": [],
   "source": [
    "plt.plot(time, x)"
   ]
  },
  {
   "cell_type": "markdown",
   "id": "1a54dde3",
   "metadata": {},
   "source": [
    "FFT the data and plot the result. Can you extract the signal? If not, try taking data again. The noise in this system is on the edge of our ability to extract the peak, so we may find that the peak is visible in some datasets and not others."
   ]
  },
  {
   "cell_type": "code",
   "execution_count": null,
   "id": "dd39863d",
   "metadata": {},
   "outputs": [],
   "source": [
    "f, y = simple_fft(tsample, x)\n",
    "f, y = f[1:], y[1:]"
   ]
  },
  {
   "cell_type": "code",
   "execution_count": null,
   "id": "6ecf8d4b",
   "metadata": {},
   "outputs": [],
   "source": [
    "plt.plot(f, y)\n",
    "ix = np.argmax(y)\n",
    "plt.plot(f[ix], y[ix], marker = 'x', color = 'black')\n",
    "print(f[ix])"
   ]
  },
  {
   "cell_type": "markdown",
   "id": "5da0fc03",
   "metadata": {},
   "source": [
    "### Averaging\n",
    "The data above is fairly noisy. Take many sets of data, and average the FFTs to reduce the noise. How many sets of data do you need before the noise looks acceptable to you?"
   ]
  },
  {
   "cell_type": "code",
   "execution_count": null,
   "id": "4531d589",
   "metadata": {},
   "outputs": [],
   "source": []
  },
  {
   "cell_type": "markdown",
   "id": "e7e49aea-a919-4293-8183-22f0eba4c88b",
   "metadata": {},
   "source": [
    "## Problem 1: Saving csv files\n",
    "Format and save the following data as a single column csv file with column name `voltage`. Some people prefer to include the units as the second row in the columns, and others prefer to save the units in the log file. You can make this choice for yourself here. Turn this code into a function, which takes the following parameters as inputs: `voltage`, `path`, and optionally `unit`. \n",
    "**Note:** If you open a csv file in excel, it will try to get you to save it as an xlsx file. This will mess up your Python code, so make sure to keep the file format as csv."
   ]
  },
  {
   "cell_type": "code",
   "execution_count": null,
   "id": "6ac500a2-665a-43f6-b413-2e703a8adf1d",
   "metadata": {},
   "outputs": [],
   "source": [
    "voltage = [-22.49194569,  -8.84048421, -24.08512566, -28.17491177,\n",
    "            17.24362829, -31.72005968, -15.03070767,  -5.74553134,\n",
    "            -3.6421384 , -10.66114773, -16.61791335,   0.62631091,\n",
    "           -31.21654304,   1.64264594, -17.329834  , -13.47011889,\n",
    "           -19.19854741,  -5.61232529,  -2.21477568, -23.97114704,\n",
    "            -1.01685989,  -3.64775334,  -1.60606257,  -0.67603204,\n",
    "            -5.94722628, -19.91495162,  -4.08330075,   3.25255982,\n",
    "            -0.16814809,  -5.22093793,  -7.09634211, -16.28708169,\n",
    "           -16.03094174,  -9.89704766,  -4.3526658 ,   8.84505229,\n",
    "           -10.10431137, -21.98260157,  21.97641644,  -5.87630593]"
   ]
  },
  {
   "cell_type": "code",
   "execution_count": null,
   "id": "d6a35cba-1b10-4245-921b-986274879fa8",
   "metadata": {},
   "outputs": [],
   "source": [
    "def save_voltage(voltage, path, unit):\n",
    "    # Your code here "
   ]
  },
  {
   "cell_type": "markdown",
   "id": "bcb9cff5-fcd3-4a2d-8a87-c511bef0a12b",
   "metadata": {},
   "source": [
    "Write a function that reads the data from the csv file. The function should take parameters `path` and `unit`, and return an array of voltages. Your function should work for the following units: 'uV', 'mV', 'V', and 'kV'."
   ]
  },
  {
   "cell_type": "code",
   "execution_count": null,
   "id": "240af36c-7683-426a-9e90-0dfe105ce1d2",
   "metadata": {},
   "outputs": [],
   "source": [
    "def read_voltage(path, unit):\n",
    "    # Your code here"
   ]
  },
  {
   "cell_type": "code",
   "execution_count": null,
   "id": "b2150a85-3edf-4a93-ab5e-94cc15918ac4",
   "metadata": {},
   "outputs": [],
   "source": []
  },
  {
   "cell_type": "code",
   "execution_count": null,
   "id": "7f882c68-74c8-4ec2-a1e5-15ff746f5b8f",
   "metadata": {},
   "outputs": [],
   "source": []
  },
  {
   "cell_type": "code",
   "execution_count": null,
   "id": "5f431fc7-5aa1-4a24-b6ee-9f3f4199c1fd",
   "metadata": {},
   "outputs": [],
   "source": []
  },
  {
   "cell_type": "code",
   "execution_count": null,
   "id": "ae9f9794-fa82-4ffa-930a-51d35b3edf3f",
   "metadata": {},
   "outputs": [],
   "source": []
  },
  {
   "cell_type": "code",
   "execution_count": null,
   "id": "a85e5287-963c-4359-b095-a1f0341dfb11",
   "metadata": {},
   "outputs": [],
   "source": []
  },
  {
   "cell_type": "code",
   "execution_count": null,
   "id": "3fa0fa57-b440-424d-84d3-f777d5ba0586",
   "metadata": {},
   "outputs": [],
   "source": []
  }
 ],
 "metadata": {
  "kernelspec": {
   "display_name": "Python 3 (ipykernel)",
   "language": "python",
   "name": "python3"
  },
  "language_info": {
   "codemirror_mode": {
    "name": "ipython",
    "version": 3
   },
   "file_extension": ".py",
   "mimetype": "text/x-python",
   "name": "python",
   "nbconvert_exporter": "python",
   "pygments_lexer": "ipython3",
   "version": "3.11.9"
  }
 },
 "nbformat": 4,
 "nbformat_minor": 5
}
