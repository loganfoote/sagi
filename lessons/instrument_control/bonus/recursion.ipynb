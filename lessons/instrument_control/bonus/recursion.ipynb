{
 "cells": [
  {
   "cell_type": "markdown",
   "id": "b2a73eb2",
   "metadata": {},
   "source": [
    "# Python Recursion Problems\n",
    "Test your Python skills with these recursion problems. Recursion is a technique in Python where a function calls itself repeatedly with different arguments until an end condition is met. This technique can be applied to solve very complicated problems efficiently with few lines of code. \n",
    "\n",
    "## Problem 1: Towers\n",
    "\n",
    "You have three rods and `n` disks. The objective is to move all disks from the source rod to the target rod using the auxiliary rod, following these rules:\n",
    "1. Only one disk can be moved at a time.\n",
    "2. A disk can only be moved if it is the uppermost disk on a rod.\n",
    "3. No disk may be placed on top of a smaller disk.\n",
    "\n",
    "Write a recursive function to solve this problem."
   ]
  },
  {
   "cell_type": "code",
   "execution_count": null,
   "id": "f38cf498",
   "metadata": {},
   "outputs": [],
   "source": []
  },
  {
   "cell_type": "markdown",
   "id": "2651cca0",
   "metadata": {},
   "source": [
    "## Problem 2: Permutations of a String\n",
    "\n",
    "Given a string, write a recursive function to generate all possible permutations of the characters in the string."
   ]
  },
  {
   "cell_type": "code",
   "execution_count": null,
   "id": "47116601",
   "metadata": {},
   "outputs": [],
   "source": []
  },
  {
   "cell_type": "markdown",
   "id": "d52c7f55",
   "metadata": {},
   "source": [
    "## Problem 3: Reverse a Linked List\n",
    "\n",
    "Given the head of a singly linked list, write a recursive function to reverse the list and return the new head.\n"
   ]
  },
  {
   "cell_type": "code",
   "execution_count": null,
   "id": "5f02162e",
   "metadata": {},
   "outputs": [],
   "source": []
  },
  {
   "cell_type": "markdown",
   "id": "76504b35",
   "metadata": {},
   "source": [
    "## Problem 4: Generate All Subsets\n",
    "\n",
    "Given a list of numbers, write a recursive function to generate all possible subsets (the power set) of the list."
   ]
  },
  {
   "cell_type": "code",
   "execution_count": null,
   "id": "0698eac3",
   "metadata": {},
   "outputs": [],
   "source": []
  },
  {
   "cell_type": "markdown",
   "id": "99dbc595",
   "metadata": {},
   "source": [
    "## Problem 5: N-Queens Problem\n",
    "\n",
    "The N-Queens problem is to place `n` queens on an `n x n` chessboard such that no two queens attack each other. Write a recursive function to solve the N-Queens problem and return all possible solutions."
   ]
  },
  {
   "cell_type": "code",
   "execution_count": null,
   "id": "50d2aa3e",
   "metadata": {},
   "outputs": [],
   "source": []
  },
  {
   "cell_type": "markdown",
   "id": "c5477ee9",
   "metadata": {},
   "source": [
    "## Problem 6: Merge Sort\n",
    "\n",
    "Implement the merge sort algorithm using recursion. Given an array of integers, write a recursive function to sort the array."
   ]
  },
  {
   "cell_type": "code",
   "execution_count": null,
   "id": "27b1d44b",
   "metadata": {},
   "outputs": [],
   "source": []
  },
  {
   "cell_type": "markdown",
   "id": "331f0f77",
   "metadata": {},
   "source": [
    "## Problem 7: Word Break Problem\n",
    "\n",
    "Given a string `s` and a dictionary of words `word_dict`, write a recursive function to determine if `s` can be segmented into a space-separated sequence of one or more dictionary words."
   ]
  },
  {
   "cell_type": "code",
   "execution_count": null,
   "id": "3ecb0161",
   "metadata": {},
   "outputs": [],
   "source": []
  },
  {
   "cell_type": "markdown",
   "id": "2cd1d229",
   "metadata": {},
   "source": [
    "## Problem 8: Maximum Path Sum in Binary Tree\n",
    "\n",
    "Given a binary tree, write a recursive function to find the maximum path sum. The path may start and end at any node in the tree."
   ]
  },
  {
   "cell_type": "code",
   "execution_count": null,
   "id": "3d2cd61b",
   "metadata": {},
   "outputs": [],
   "source": []
  },
  {
   "cell_type": "markdown",
   "id": "898282d7",
   "metadata": {},
   "source": [
    "## Problem 9: Palindrome Partitioning\n",
    "\n",
    "Given a string `s`, write a recursive function to partition `s` such that every substring of the partition is a palindrome. Return all possible palindrome partitioning of `s`."
   ]
  },
  {
   "cell_type": "code",
   "execution_count": null,
   "id": "9ef5cb3e",
   "metadata": {},
   "outputs": [],
   "source": []
  },
  {
   "cell_type": "markdown",
   "id": "63a8e00a",
   "metadata": {},
   "source": [
    "## Problem 10: Kth Symbol in Grammar\n",
    "\n",
    "On the first row, we write a `0`. Now, in every subsequent row, we look at the previous row and replace each occurrence of `0` with `01`, and each occurrence of `1` with `10`. Given row number `n` and index `k`, write a recursive function to return the `k-th` indexed symbol in row `n`. (The index `k` is 1-based)."
   ]
  },
  {
   "cell_type": "code",
   "execution_count": null,
   "id": "4a73d25e",
   "metadata": {},
   "outputs": [],
   "source": []
  }
 ],
 "metadata": {
  "kernelspec": {
   "display_name": "Python 3 (ipykernel)",
   "language": "python",
   "name": "python3"
  },
  "language_info": {
   "codemirror_mode": {
    "name": "ipython",
    "version": 3
   },
   "file_extension": ".py",
   "mimetype": "text/x-python",
   "name": "python",
   "nbconvert_exporter": "python",
   "pygments_lexer": "ipython3",
   "version": "3.9.12"
  }
 },
 "nbformat": 4,
 "nbformat_minor": 5
}
