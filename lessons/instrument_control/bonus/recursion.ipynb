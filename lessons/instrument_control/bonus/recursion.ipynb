{
 "cells": [
  {
   "cell_type": "markdown",
   "id": "b2a73eb2",
   "metadata": {},
   "source": [
    "# Python Recursion Problems\n",
    "Test your Python skills with these recursion problems. Recursion is a technique in Python where a function calls itself repeatedly with different arguments until an end condition is met. This technique can be applied to solve very complicated problems efficiently with few lines of code. For each of these problem, you will need to write your own tests to ensure that it has the desired behavior. \n",
    "\n",
    "## Problem 1: Towers\n",
    "\n",
    "You have three rods and `n` disks. The objective is to move all disks from the source rod to the target rod using the auxiliary rod, following these rules:\n",
    "1. Only one disk can be moved at a time.\n",
    "2. A disk can only be moved if it is the uppermost disk on a rod.\n",
    "3. No disk may be placed on top of a smaller disk.\n",
    "\n",
    "Write a recursive function to solve this problem."
   ]
  },
  {
   "cell_type": "code",
   "execution_count": null,
   "id": "f38cf498",
   "metadata": {},
   "outputs": [],
   "source": [
    "def tower(n, source, target, auxiliary):\n",
    "    # Your code here "
   ]
  },
  {
   "cell_type": "code",
   "execution_count": null,
   "id": "05b33a7d",
   "metadata": {},
   "outputs": [],
   "source": [
    "n = 3  # Number of disks\n",
    "tower(n, 'A', 'C', 'B')"
   ]
  },
  {
   "cell_type": "markdown",
   "id": "2651cca0",
   "metadata": {},
   "source": [
    "## Problem 2: Permutations of a String\n",
    "\n",
    "Given a string, write a recursive function to generate all possible permutations of the characters in the string."
   ]
  },
  {
   "cell_type": "code",
   "execution_count": null,
   "id": "47116601",
   "metadata": {},
   "outputs": [],
   "source": [
    "def permutations(s):\n",
    "    # Your code here"
   ]
  },
  {
   "cell_type": "code",
   "execution_count": null,
   "id": "23a817bb",
   "metadata": {},
   "outputs": [],
   "source": [
    "input_string = \"abc\"\n",
    "print(permutations(input_string))"
   ]
  },
  {
   "cell_type": "markdown",
   "id": "76504b35",
   "metadata": {},
   "source": [
    "## Problem 3: Generate All Subsets\n",
    "\n",
    "Given a list of numbers, write a recursive function to generate all possible subsets (the power set) of the list."
   ]
  },
  {
   "cell_type": "code",
   "execution_count": null,
   "id": "0698eac3",
   "metadata": {},
   "outputs": [],
   "source": [
    "def power_set(nums):\n",
    "    # Your code here"
   ]
  },
  {
   "cell_type": "code",
   "execution_count": null,
   "id": "db90fb82",
   "metadata": {},
   "outputs": [],
   "source": [
    "nums = [1, 2, 3]\n",
    "print(power_set(nums))"
   ]
  },
  {
   "cell_type": "markdown",
   "id": "99dbc595",
   "metadata": {},
   "source": [
    "## Problem 4: N-Queens Problem\n",
    "\n",
    "The N-Queens problem is to place `n` queens on an `n x n` chessboard such that no two queens attack each other. Write a recursive function to solve the N-Queens problem and return all possible solutions."
   ]
  },
  {
   "cell_type": "code",
   "execution_count": null,
   "id": "50d2aa3e",
   "metadata": {},
   "outputs": [],
   "source": [
    "def solve_n_queens(n):\n",
    "    # Your code here "
   ]
  },
  {
   "cell_type": "code",
   "execution_count": null,
   "id": "8d6bdbba",
   "metadata": {},
   "outputs": [],
   "source": [
    "n = 4\n",
    "solutions = solve_n_queens(n)\n",
    "for solution in solutions:\n",
    "    for row in solution:\n",
    "        print(row)\n",
    "    print()"
   ]
  },
  {
   "cell_type": "markdown",
   "id": "c5477ee9",
   "metadata": {},
   "source": [
    "## Problem 5: Merge Sort\n",
    "\n",
    "Implement the merge sort algorithm using recursion. Given an array of integers, write a recursive function to sort the array."
   ]
  },
  {
   "cell_type": "code",
   "execution_count": null,
   "id": "27b1d44b",
   "metadata": {},
   "outputs": [],
   "source": [
    "def merge_sort(arr):\n",
    "    # Your code here`"
   ]
  },
  {
   "cell_type": "code",
   "execution_count": null,
   "id": "cbff2273",
   "metadata": {},
   "outputs": [],
   "source": [
    "arr = [38, 27, 43, 3, 9, 82, 10]\n",
    "sorted_arr = merge_sort(arr)\n",
    "print(\"Sorted array:\", sorted_arr)"
   ]
  },
  {
   "cell_type": "markdown",
   "id": "898282d7",
   "metadata": {},
   "source": [
    "## Problem 6: Palindrome Partitioning\n",
    "\n",
    "Given a string `s`, write a recursive function to partition `s` such that every substring of the partition is a palindrome. Return all possible palindrome partitioning of `s`."
   ]
  },
  {
   "cell_type": "code",
   "execution_count": null,
   "id": "9ef5cb3e",
   "metadata": {},
   "outputs": [],
   "source": [
    "def partition(s):\n",
    "    # Your code here"
   ]
  },
  {
   "cell_type": "code",
   "execution_count": null,
   "id": "df8d58c8",
   "metadata": {},
   "outputs": [],
   "source": [
    "s = \"aab\"\n",
    "print(partition(s))"
   ]
  },
  {
   "cell_type": "markdown",
   "id": "63a8e00a",
   "metadata": {},
   "source": [
    "## Problem 7: Kth Symbol in Grammar\n",
    "\n",
    "On the first row, we write a `0`. Now, in every subsequent row, we look at the previous row and replace each occurrence of `0` with `01`, and each occurrence of `1` with `10`. Given row number `n` and index `k`, write a recursive function to return the `k-th` indexed symbol in row `n`. (The index `k` is 1-based)."
   ]
  },
  {
   "cell_type": "code",
   "execution_count": null,
   "id": "4a73d25e",
   "metadata": {},
   "outputs": [],
   "source": [
    "def kth_symbol_in_grammar(n, k):\n",
    "    # Your code here"
   ]
  },
  {
   "cell_type": "code",
   "execution_count": null,
   "id": "382bc7fd",
   "metadata": {},
   "outputs": [],
   "source": [
    "n = 3\n",
    "k = 5\n",
    "print(f\"The {k}-th indexed symbol in row {n} is:\", kth_symbol_in_grammar(n, k))"
   ]
  }
 ],
 "metadata": {
  "kernelspec": {
   "display_name": "Python 3 (ipykernel)",
   "language": "python",
   "name": "python3"
  },
  "language_info": {
   "codemirror_mode": {
    "name": "ipython",
    "version": 3
   },
   "file_extension": ".py",
   "mimetype": "text/x-python",
   "name": "python",
   "nbconvert_exporter": "python",
   "pygments_lexer": "ipython3",
   "version": "3.9.12"
  }
 },
 "nbformat": 4,
 "nbformat_minor": 5
}
