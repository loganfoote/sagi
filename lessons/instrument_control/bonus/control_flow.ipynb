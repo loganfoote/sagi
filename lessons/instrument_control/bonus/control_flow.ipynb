{
 "cells": [
  {
   "cell_type": "markdown",
   "id": "af2f7eca",
   "metadata": {},
   "source": [
    "# Challenging Python Control Flow Problems\n",
    "For each of these problem, you will need to write your own tests to ensure that it has the desired behavior. \n",
    "\n",
    "## Problem 1: Longest Consecutive Sequence\n",
    "\n",
    "Given an unsorted array of integers, write a function to find the length of the longest consecutive elements sequence."
   ]
  },
  {
   "cell_type": "code",
   "execution_count": null,
   "id": "ca62e996",
   "metadata": {},
   "outputs": [],
   "source": []
  },
  {
   "cell_type": "markdown",
   "id": "9b37b2a9",
   "metadata": {},
   "source": [
    "## Problem 2: Trapping Rain Water\n",
    "\n",
    "Given `n` non-negative integers representing an elevation map where the width of each bar is 1, write a function to compute how much water it is able to trap after raining.\n"
   ]
  },
  {
   "cell_type": "code",
   "execution_count": null,
   "id": "79ac59d5",
   "metadata": {},
   "outputs": [],
   "source": []
  },
  {
   "cell_type": "markdown",
   "id": "debef50d",
   "metadata": {},
   "source": [
    "## Problem 3: Spiral Matrix\n",
    "\n",
    "Given a `m x n` matrix, write a function to return all elements of the matrix in spiral order."
   ]
  },
  {
   "cell_type": "code",
   "execution_count": null,
   "id": "e7bb5f5c",
   "metadata": {},
   "outputs": [],
   "source": []
  },
  {
   "cell_type": "markdown",
   "id": "25e603b2",
   "metadata": {},
   "source": [
    "## Problem 4: LRU Cache\n",
    "\n",
    "Design and implement a data structure for Least Recently Used (LRU) cache. It should support the following operations: `get` and `put`."
   ]
  },
  {
   "cell_type": "code",
   "execution_count": null,
   "id": "9cf213e9",
   "metadata": {},
   "outputs": [],
   "source": []
  },
  {
   "cell_type": "markdown",
   "id": "ba6f7120",
   "metadata": {},
   "source": [
    "## Problem 5: Find Median from Data Stream\n",
    "\n",
    "The median is the middle value in an ordered integer list. If the size of the list is even, the median is the average of the two middle values. Implement a data structure that supports the following operations: `addNum` (adds a number to the data structure) and `findMedian` (returns the median of all elements)."
   ]
  },
  {
   "cell_type": "code",
   "execution_count": null,
   "id": "8a3d38b9",
   "metadata": {},
   "outputs": [],
   "source": []
  },
  {
   "cell_type": "markdown",
   "id": "888bec25",
   "metadata": {},
   "source": [
    "## Problem 6: Word Ladder\n",
    "\n",
    "Given two words (beginWord and endWord), and a dictionary's word list, write a function to find the length of shortest transformation sequence from beginWord to endWord, such that:\n",
    "1. Only one letter can be changed at a time.\n",
    "2. Each transformed word must exist in the word list."
   ]
  },
  {
   "cell_type": "code",
   "execution_count": null,
   "id": "65a5d7f7",
   "metadata": {},
   "outputs": [],
   "source": []
  },
  {
   "cell_type": "markdown",
   "id": "d4c9d59f",
   "metadata": {},
   "source": [
    "## Problem 7: 3Sum Closest\n",
    "\n",
    "Given an array `nums` of `n` integers and an integer `target`, write a function to find three integers in `nums` such that the sum is closest to `target`. Return the sum of the three integers."
   ]
  },
  {
   "cell_type": "code",
   "execution_count": null,
   "id": "e632ba6d",
   "metadata": {},
   "outputs": [],
   "source": []
  },
  {
   "cell_type": "markdown",
   "id": "a31af05d",
   "metadata": {},
   "source": [
    "## Problem 8: Maximal Rectangle\n",
    "\n",
    "Given a `2D` binary matrix filled with `0`s and `1`s, write a function to find the largest rectangle containing only `1`s and return its area."
   ]
  },
  {
   "cell_type": "code",
   "execution_count": null,
   "id": "820dae97",
   "metadata": {},
   "outputs": [],
   "source": []
  },
  {
   "cell_type": "markdown",
   "id": "0ed4f3f3",
   "metadata": {},
   "source": [
    "## Problem 9: Decode Ways\n",
    "\n",
    "A message containing letters from `A-Z` can be encoded into numbers using the following mapping: `'A' -> 1, 'B' -> 2, ..., 'Z' -> 26`. Given a non-empty string containing only digits, write a function to determine the total number of ways to decode it."
   ]
  },
  {
   "cell_type": "code",
   "execution_count": null,
   "id": "4072f931",
   "metadata": {},
   "outputs": [],
   "source": []
  },
  {
   "cell_type": "markdown",
   "id": "8653f8f9",
   "metadata": {},
   "source": [
    "## Problem 10: Largest Number\n",
    "\n",
    "Given a list of non-negative integers, write a function to arrange them such that they form the largest number. Note: The result may be very large, so you need to return a string instead of an integer."
   ]
  },
  {
   "cell_type": "code",
   "execution_count": null,
   "id": "1671f9f7",
   "metadata": {},
   "outputs": [],
   "source": []
  }
 ],
 "metadata": {
  "kernelspec": {
   "display_name": "Python 3 (ipykernel)",
   "language": "python",
   "name": "python3"
  },
  "language_info": {
   "codemirror_mode": {
    "name": "ipython",
    "version": 3
   },
   "file_extension": ".py",
   "mimetype": "text/x-python",
   "name": "python",
   "nbconvert_exporter": "python",
   "pygments_lexer": "ipython3",
   "version": "3.9.12"
  }
 },
 "nbformat": 4,
 "nbformat_minor": 5
}
