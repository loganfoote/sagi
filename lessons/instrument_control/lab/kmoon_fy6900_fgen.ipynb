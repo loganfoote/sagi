{
 "cells": [
  {
   "cell_type": "markdown",
   "id": "46c1d4d6-5f98-4fd8-beb3-297deae75214",
   "metadata": {},
   "source": [
    "# IC/DAQ + Electronics Lab\n",
    "\n",
    "In this lab, you will learn to connect to instrument to perform automated measurements of the frequency transmission through an electronic circuit.\n",
    "\n",
    "Here, we connect to the KMoon FY6900 function generator using the PyVisa library and serial interface.\n",
    "\n",
    "For each of the below function templates, you should complete the docstring where it says \"COMPLETE THIS\"."
   ]
  },
  {
   "cell_type": "code",
   "execution_count": null,
   "id": "c0a857f8-5cad-4086-ae53-59a94ddd81e5",
   "metadata": {},
   "outputs": [],
   "source": [
    "import time\n",
    "import pyvisa"
   ]
  },
  {
   "cell_type": "markdown",
   "id": "628f7b51-9325-4771-a56b-7ab366a6f665",
   "metadata": {},
   "source": [
    "To begin, create the variable `rm` which is the pyvisa resource manager. Then, connect to the function generator using the port number and assign the resource to the variable `inst`. Wrap this code into a function that connects to the resource, and returns `inst`."
   ]
  },
  {
   "cell_type": "code",
   "execution_count": null,
   "id": "0b42312d-1c82-41c4-b130-40ea9111a74b",
   "metadata": {},
   "outputs": [],
   "source": [
    "def connect(port=0):\n",
    "    \"\"\"\n",
    "    COMPLETE THIS\n",
    "\n",
    "    :param port: int, USB port number to which the device was assigned.\n",
    "    :return inst: pyvisa resource.\n",
    "    \"\"\"\n",
    "    # your code here\n",
    "    return inst"
   ]
  },
  {
   "cell_type": "markdown",
   "id": "e029c356-aa64-410d-99a9-364f1fa3e246",
   "metadata": {},
   "source": [
    "### Setting up waveform parameters\n",
    "\n",
    "Next, we will create some functions to set parameters of a waveform. Refer to the KMoon programming guide to find the appropriate command syntax. We need functions to set the following attributes:\n",
    "\n",
    "<ul>\n",
    "    <li>Waveform type</li>\n",
    "    <li>Frequency</li>\n",
    "    <li>Voltage peak-to-peak amplitude</li>\n",
    "    <li>Offset voltage</li>\n",
    "</ul>"
   ]
  },
  {
   "cell_type": "code",
   "execution_count": null,
   "id": "3a5e5467-c0ea-4ec0-ab5c-41d715dcbdcc",
   "metadata": {},
   "outputs": [],
   "source": [
    "channels = {1: 'M', 2: 'F'}\n",
    "def set_wave_type(inst, channel, wave_type):\n",
    "    \"\"\" Set the waveform type using the Basic Wave command.\n",
    "\n",
    "    :param inst: serial resource object corresponding to the waveform generator\n",
    "    :param wave_type: int, 1 for sine, 2 for square, etc\n",
    "    \"\"\"\n",
    "    wave_map = {\n",
    "        'SINE': 0,\n",
    "        'Square': 1,\n",
    "        'Rectangle': 2,\n",
    "        'Trapezoid': 3,\n",
    "        'Impulse': 31,\n",
    "    }\n",
    "    wave_type = wave_map[wave_type]\n",
    "    command = f'W{channels[channel]}W{wave_type}'\n",
    "    inst.write(command)\n",
    "\n",
    "def set_frequency(inst, channel, frequency):\n",
    "    \"\"\" Set the waveform fundamental frequency.\n",
    "    \n",
    "    :param inst: serial resource object corresponding to the waveform generator.\n",
    "    :param channel: (int) Channel on which to change the waveform type.\n",
    "    :param frequency: COMPLETE THIS\n",
    "    \"\"\"\n",
    "    # Your code here\n",
    "\n",
    "def set_amplitude(inst, channel, amplitude):\n",
    "    \"\"\" Set the waveform amplitude in peak-to-peak units.\n",
    "\n",
    "    :param inst: serial resource object corresponding to the waveform generator.\n",
    "    :param channel: (int) Channel on which to change the waveform type.\n",
    "    :param amp: COMPLETE THIS\n",
    "    \"\"\"\n",
    "    # Your code here\n",
    "\n",
    "def set_offset(inst, channel, offset):\n",
    "    \"\"\" Set the waveform DC offset.\n",
    "\n",
    "    :param inst: serial resource object corresponding to the waveform generator.\n",
    "    :param channel: (int) Channel on which to change the waveform type.\n",
    "    :param offset: COMPLETE THIS\n",
    "    \"\"\"\n",
    "    # Your code here"
   ]
  },
  {
   "cell_type": "markdown",
   "id": "0ee87778-6c12-4402-8ecb-f14973c1008c",
   "metadata": {},
   "source": [
    "### Enable and disable a channel output\n",
    "\n",
    "We need a function to turn on and off the output of a waveform generator channel."
   ]
  },
  {
   "cell_type": "code",
   "execution_count": null,
   "id": "8ea74c35-d03f-4843-bd69-d838c11bffaf",
   "metadata": {},
   "outputs": [],
   "source": [
    "def set_channel_state(inst, channel, state):\n",
    "    \"\"\" Set the state of a waveform generator channel to ON or OFF.\n",
    "\n",
    "    :param inst: Pyvisa resource.\n",
    "    :param channel: Waveform channel.\n",
    "    :param state: COMPLETE THIS\n",
    "    \"\"\"\n",
    "    # Your code here"
   ]
  },
  {
   "cell_type": "markdown",
   "id": "834301d5-2976-4175-86f1-00502e5256ca",
   "metadata": {},
   "source": [
    "### Initialization\n",
    "\n",
    "Write a function that initializes the instrument using the following parameters: \n",
    "\n",
    "<ul>\n",
    "    <li>Waveform type = \"SINE\"</li>\n",
    "    <li>Frequency = 1 Hz.</li>\n",
    "    <li>Voltage peak-to-peak amplitude = 1 Volt</li>\n",
    "    <li>Offset voltage = 0 volts</li>\n",
    "</ul>"
   ]
  },
  {
   "cell_type": "code",
   "execution_count": null,
   "id": "81fff511-5e3c-4746-b1e7-79c1b1b9f3bf",
   "metadata": {},
   "outputs": [],
   "source": [
    "def initialize(inst):\n",
    "    \"\"\"\n",
    "    COMPLETE THIS\n",
    "    \"\"\"\n",
    "    # Your code here"
   ]
  },
  {
   "cell_type": "markdown",
   "id": "13ba41b3-4a33-473c-841e-dad3a3f0ddd1",
   "metadata": {},
   "source": [
    "### Get functions (skip if time limited)\n",
    "\n",
    "Write a function to query all parameters the we have set functions for. Return the response in a dictionary."
   ]
  },
  {
   "cell_type": "code",
   "execution_count": null,
   "id": "f0fcd736-cd7f-4933-9471-f14e76949380",
   "metadata": {},
   "outputs": [],
   "source": [
    "def get_basic_wave(inst, channel):\n",
    "    \"\"\" Query the basic waveform parameters and return a dictionary that splits the parameters.\n",
    "\n",
    "    :param inst: Pyvisa resource.\n",
    "    :param channel: Waveform generator channel to query.\n",
    "    \"\"\"\n",
    "    # Your code here"
   ]
  },
  {
   "cell_type": "markdown",
   "id": "162903d5-6619-4467-bded-ad214fee5caa",
   "metadata": {},
   "source": [
    "### Logging\n",
    "\n",
    "We want to store the parameters we set, so we need to set up a log file. Write a function that creates the log string, which will later be saved to\n",
    "a log file. Include the waveform generator name at the top of the string."
   ]
  },
  {
   "cell_type": "code",
   "execution_count": null,
   "id": "112ba743-a96f-4ca0-b546-cd83b9207788",
   "metadata": {},
   "outputs": [],
   "source": [
    "def create_log(channel, wave_type, freq, amp, offset):\n",
    "    \"\"\" Create a string to log basic parameters of the SDG2082X\n",
    "    waveform generator output.\n",
    "\n",
    "    COMPLETE THIS\n",
    "    \"\"\"\n",
    "    log = \"# ------------- KMoon Fy6900 Waveform Settings ------------- #\\n\"\n",
    "    # Your code here\n",
    "    return log"
   ]
  },
  {
   "cell_type": "markdown",
   "id": "6195be40-43d7-4acc-bd9c-b7c8812551b5",
   "metadata": {},
   "source": [
    "# Creating the .py file\n",
    "\n",
    "Transfer all of your relevant functions into the kmoon_fy6900_fgen.py file. This will allow us to use the code throughout the rest of the lab without copying/pasting.\n",
    "\n",
    "# Bonus\n",
    "\n",
    "If you are familiar with Python classes, encapsulate all of your functions into a class. This is the standard method for writing instrument control code with Python"
   ]
  },
  {
   "cell_type": "code",
   "execution_count": null,
   "id": "5752bd1e-c42b-43fa-88e6-b59a4ed77836",
   "metadata": {},
   "outputs": [],
   "source": []
  }
 ],
 "metadata": {
  "kernelspec": {
   "display_name": "Python 3 (ipykernel)",
   "language": "python",
   "name": "python3"
  },
  "language_info": {
   "codemirror_mode": {
    "name": "ipython",
    "version": 3
   },
   "file_extension": ".py",
   "mimetype": "text/x-python",
   "name": "python",
   "nbconvert_exporter": "python",
   "pygments_lexer": "ipython3",
   "version": "3.11.9"
  }
 },
 "nbformat": 4,
 "nbformat_minor": 5
}
