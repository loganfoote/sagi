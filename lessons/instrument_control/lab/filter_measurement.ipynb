{
 "cells": [
  {
   "cell_type": "markdown",
   "id": "e03e34c3-1fe6-4f4c-a89e-745fd4da08e2",
   "metadata": {},
   "source": [
    "# Bandpass filter measurement\n",
    "Insert your bandpass filter into your measurement chain. Write code to measure and plot the transmission through your filter, using 'freq_sweep.py'. Are your results reasonable? "
   ]
  },
  {
   "cell_type": "code",
   "execution_count": null,
   "id": "c1bec5a5-a1a7-4418-966b-581d00179950",
   "metadata": {},
   "outputs": [],
   "source": []
  }
 ],
 "metadata": {
  "kernelspec": {
   "display_name": "Python 3 (ipykernel)",
   "language": "python",
   "name": "python3"
  },
  "language_info": {
   "codemirror_mode": {
    "name": "ipython",
    "version": 3
   },
   "file_extension": ".py",
   "mimetype": "text/x-python",
   "name": "python",
   "nbconvert_exporter": "python",
   "pygments_lexer": "ipython3",
   "version": "3.11.9"
  }
 },
 "nbformat": 4,
 "nbformat_minor": 5
}
