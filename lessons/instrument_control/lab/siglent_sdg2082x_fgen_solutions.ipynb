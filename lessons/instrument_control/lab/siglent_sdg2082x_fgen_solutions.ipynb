{
 "cells": [
  {
   "cell_type": "code",
   "execution_count": null,
   "id": "2861c1fc-de69-482f-b00a-6c06dda9e9b1",
   "metadata": {},
   "outputs": [],
   "source": [
    "import pyvisa"
   ]
  },
  {
   "cell_type": "markdown",
   "id": "2d9b9239-8cda-4daf-be39-6d1cf359bfc5",
   "metadata": {},
   "source": [
    "## 1) Connect to the waveform generator using pyvisa and the LAN interface"
   ]
  },
  {
   "cell_type": "code",
   "execution_count": null,
   "id": "b02d0ff3-0ae1-4ab7-9faf-5c64de4a8581",
   "metadata": {},
   "outputs": [],
   "source": [
    "def connect(ip_address = '192.168.2.92'):\n",
    "    \"\"\"\n",
    "    Connects to the function generator through the ethernet interface \n",
    "    and confirms the connection by printing the instrument ID \n",
    "\n",
    "    :param ip_address: str, IP address of the function generator\n",
    "\n",
    "    :return inst: pyvisa resource\n",
    "    \"\"\"\n",
    "    rm = pyvisa.ResourceManager()\n",
    "    inst = rm.open_resource(f'TCPIP0::{ip_address}::INSTR') \n",
    "    print(inst.query('*IDN?'))\n",
    "    return inst\n",
    "\n",
    "inst = connect()"
   ]
  },
  {
   "cell_type": "markdown",
   "id": "6bb150fb-f930-4cb9-b951-cc3fff8459e3",
   "metadata": {},
   "source": [
    "## 2) Set basic waveform parameters\n",
    "\n",
    "Refer to the SDG 2082X Programming manual to complete the following functions. For each function, you should complete the docstring where\n",
    "it says \"COMPLETE THIS\""
   ]
  },
  {
   "cell_type": "markdown",
   "id": "d743baa3-47b1-41f4-a920-904498d94547",
   "metadata": {},
   "source": [
    "Write a function to query the basic wave parameters and return a dictionary"
   ]
  },
  {
   "cell_type": "code",
   "execution_count": null,
   "id": "6097de0d-efe8-4e29-9b62-729267458717",
   "metadata": {},
   "outputs": [],
   "source": [
    "def get_basic_wave(inst, channel):\n",
    "    \"\"\" Query the basic waveform parameters and return a dictionary that splits the parameters.\n",
    "\n",
    "    :param inst: Pyvisa resource.\n",
    "    :param channel: Waveform generator channel to query.\n",
    "    \"\"\"\n",
    "    query = f'C{channel}:BSWV?'\n",
    "    bswv = inst.query(query)\n",
    "    params = bswv.split(' ')[1]\n",
    "    params_split = params.split(',')\n",
    "    bswv_params_dict = {\n",
    "        param: val\n",
    "        for param, val in zip(params_split[0::2], params_split[1::2])\n",
    "    }\n",
    "    \n",
    "    return bswv_params_dict"
   ]
  },
  {
   "cell_type": "code",
   "execution_count": null,
   "id": "05daeee5-abbe-4dcb-b63a-92759c99c417",
   "metadata": {},
   "outputs": [],
   "source": [
    "def get_channel_state(inst, channel):\n",
    "    \"\"\" Get the current state of a channel.\n",
    "\n",
    "    :param inst: Pyvisa resource.\n",
    "    :param channel: Waveform generator channel.\n",
    "    \"\"\"\n",
    "    query = f'C{channel}:OUTP?'\n",
    "    state_str = inst.query(query)\n",
    "    params = state_str.split(' ')\n",
    "    state = params.split(',')[0]\n",
    "\n",
    "    return state"
   ]
  },
  {
   "cell_type": "markdown",
   "id": "588645df-c22c-4bb1-8792-e32a220afbb1",
   "metadata": {},
   "source": [
    "Set the basic wave parameters"
   ]
  },
  {
   "cell_type": "code",
   "execution_count": null,
   "id": "2ac0bbc5-54ec-4233-9326-f39f6ef27344",
   "metadata": {},
   "outputs": [],
   "source": [
    "def set_wave_type(inst, channel, wave_type):\n",
    "    \"\"\" Set the waveform type using the Basic Wave command.\n",
    "\n",
    "    :param inst: PyVisa resource object corresponding to the waveform generator.\n",
    "    :param channel: (int) Channel on which to change the waveform type.\n",
    "    :param wave_type: (str) one of ['SINE', 'SQUARE', 'RAMP', 'PULSE', 'ARB', 'DC', 'PRBS', 'IQ']\n",
    "    \"\"\"\n",
    "    valid_wave_types = ['SINE', 'SQUARE', 'RAMP', 'PULSE', 'NOISE', 'ARB', 'DC', 'PRBS', 'IQ']\n",
    "    if wave_type not in valid_wave_types:\n",
    "        raise ValueError(f'wave_type must be one of {valid_wave_types}')\n",
    "    cmd = f'C{channel}:BSWV WVTP,{wave_type}'\n",
    "    inst.write(cmd)\n",
    "\n",
    "def set_frequency(inst, channel, freq):\n",
    "    \"\"\" Set the waveform fundamental frequency.\n",
    "    \n",
    "    :param inst: PyVisa resource object corresponding to the waveform generator.\n",
    "    :param channel: (int) Channel on which to change the waveform type.\n",
    "    :param freq: COMPLETE THIS\n",
    "    \"\"\"\n",
    "    freq = float(abs(freq))\n",
    "    freq_min = 1e-6\n",
    "    freq_max = 1e6\n",
    "    if not ((freq_min <= freq) and (freq <= freq_max)):\n",
    "        raise ValueError(f'Specified frequency {freq} falls outside the range {freq_min} <= freq <= {freq_max}')\n",
    "    cmd = f'C{channel}:BSWV FRQ,{freq}'\n",
    "    inst.write(cmd)\n",
    "\n",
    "def set_amplitude(inst, channel, amp):\n",
    "    \"\"\" Set the waveform amplitude in peak-to-peak units.\n",
    "\n",
    "    :param inst: PyVisa resource object corresponding to the waveform generator.\n",
    "    :param channel: (int) Channel on which to change the waveform type.\n",
    "    :param amp: COMPLETE THIS\n",
    "    \"\"\"\n",
    "    amp = float(abs(amp))\n",
    "    amp_min = 2e-3\n",
    "    amp_max = 20\n",
    "    if not ((amp_min <= amp) and (amp <= amp_max)):\n",
    "        raise ValueError(f'Specified amplitude {amp} falls outside the range {amp_min} <= freq <= {amp_max}')\n",
    "    cmd = f'C{channel}:BSWV AMP,{amp}'\n",
    "    inst.write(cmd)\n",
    "\n",
    "def set_offset(inst, channel, offset):\n",
    "    \"\"\" Set the waveform DC offset.\n",
    "\n",
    "    :param inst: PyVisa resource object corresponding to the waveform generator.\n",
    "    :param channel: (int) Channel on which to change the waveform type.\n",
    "    :param offset: COMPLETE THIS\n",
    "    \"\"\"\n",
    "    offset = float(offset)\n",
    "    \n",
    "    # - first get the amplitude of the waveform - #\n",
    "    amp = float(get_basic_wave(inst, channel)['AMP'][:-1])\n",
    "    \n",
    "    # - the max value of amp/2 + abs(offset) is 10 - #\n",
    "    offset_check = (amp / 2) + abs(offset)\n",
    "    max_offset = 10 - (amp / 2)\n",
    "    if offset_check > 10:\n",
    "        raise ValueError(f'Specified offset {offset}V exceeds the maximum value {max_offset} for the amplitude {amp}')\n",
    "\n",
    "    # - set the offset - #\n",
    "    cmd = f'C{channel}:BSWV OFST,{offset}'\n",
    "    inst.write(cmd)"
   ]
  },
  {
   "cell_type": "markdown",
   "id": "7aae8060-06f4-46c9-ac45-271c79b54148",
   "metadata": {},
   "source": [
    "Turn a channel output on or off"
   ]
  },
  {
   "cell_type": "code",
   "execution_count": null,
   "id": "7b53c91e-4455-42ca-b828-92405a8d2933",
   "metadata": {},
   "outputs": [],
   "source": [
    "def set_channel_state(inst, channel, state):\n",
    "    \"\"\" Set the state of a waveform generator channel to ON or OFF.\n",
    "\n",
    "    :param inst: Pyvisa resource.\n",
    "    :param channel: Waveform channel.\n",
    "    :param state: 'ON' or 'OFF' to specify the state.\n",
    "    \"\"\"\n",
    "    if state not in ['ON', 'OFF']:\n",
    "        raise ValueError(f'Invalid state {state} specified! Must be \"ON\" or \"OFF\"!')\n",
    "    cmd = f'C{channel}:OUTP {state}'\n",
    "    inst.write(cmd)"
   ]
  },
  {
   "cell_type": "markdown",
   "id": "b17601af-f4d5-45f3-9bab-ed88818f384f",
   "metadata": {},
   "source": [
    "## 3) Initialization"
   ]
  },
  {
   "cell_type": "markdown",
   "id": "e2f0be69-2084-4d2b-aa51-a4df920d5ad2",
   "metadata": {},
   "source": [
    "Initialize both channels of the waveform generator to a sine wave with frequency 1 Hz, amplitude 1 Vpp, offset 0V.\n",
    "\n",
    "Make sure both channels are turned off"
   ]
  },
  {
   "cell_type": "code",
   "execution_count": null,
   "id": "063eed39-87f6-493c-b221-214b4124d863",
   "metadata": {},
   "outputs": [],
   "source": [
    "def initialize(inst):\n",
    "    \"\"\" Initialize both channels of the waveform generator to a sine wave with frequency 1 Hz, amplitude 1 Vpp, and offset 0V.\n",
    "    Turn off both channels\n",
    "\n",
    "    :param inst: Pyvisa resource.\n",
    "    \"\"\"\n",
    "    for channel in [1, 2]:\n",
    "        set_channel_state(inst, channel, 'OFF')\n",
    "        set_wave_type(inst, channel, 'SINE')\n",
    "        set_frequency(inst, channel, 1)\n",
    "        set_amplitude(inst, channel, 1)\n",
    "        set_offset(inst, channel, 0)"
   ]
  },
  {
   "cell_type": "markdown",
   "id": "5328eb1a-36a7-448e-b8ee-04a6cd1c96da",
   "metadata": {},
   "source": [
    "## 4) Logging"
   ]
  },
  {
   "cell_type": "markdown",
   "id": "7032adce-79a4-4f4f-a2ae-e10a81e743fc",
   "metadata": {},
   "source": [
    "Use the get_basic_wave() function to create a log string of waveform parameters"
   ]
  },
  {
   "cell_type": "code",
   "execution_count": null,
   "id": "2b7c6098-b838-41db-8e50-3e5aba05a8ce",
   "metadata": {},
   "outputs": [],
   "source": [
    "def create_log(channel, wave_type, freq, amp, offset):\n",
    "    \"\"\" Create a string to log basic parameters of the SDG2082X waveform generator output.\n",
    "\n",
    "    :param channel: Which channel the parameters correspond to.\n",
    "    :param wave_type: Type of waveform.\n",
    "    :param freq: Frequency in Hz.\n",
    "    :param amp: Amplitude in volts peak-to-peak.\n",
    "    :param offset: Offset voltage.\n",
    "    \"\"\"\n",
    "    log = \"# ------------- SDG2082X Waveform Settings ------------- #\\n\"\n",
    "    log += f\"Channel: {channel}\\n\"\n",
    "    log += f\"Waveform Type: {wave_type}\\n\"\n",
    "    log += f\"Frequency: {freq} Hz\\n\"\n",
    "    log += f\"Amplitude: {amp} Volts peak-to-peak\\n\"\n",
    "    log += f\"Offset: {offset} Volts\\n\"\n",
    "    return log"
   ]
  },
  {
   "cell_type": "code",
   "execution_count": null,
   "id": "aebc1ce6-5191-4572-a288-210b09bccbe6",
   "metadata": {},
   "outputs": [],
   "source": [
    "channel = 1\n",
    "bswv = get_basic_wave(inst, channel)\n",
    "log_str = create_log(\n",
    "    channel=channel,\n",
    "    wave_type=bswv['WVTP'],\n",
    "    freq=float(bswv['FRQ'].split('HZ')[0]),\n",
    "    amp=float(bswv['AMP'].split('V')[0]),\n",
    "    offset=float(bswv['OFST'].split('V')[0])\n",
    ")"
   ]
  },
  {
   "cell_type": "code",
   "execution_count": null,
   "id": "66e92cf1-44c4-4165-aec0-78dab997872e",
   "metadata": {},
   "outputs": [],
   "source": [
    "print(log_str)"
   ]
  }
 ],
 "metadata": {
  "kernelspec": {
   "display_name": "Python 3 (ipykernel)",
   "language": "python",
   "name": "python3"
  },
  "language_info": {
   "codemirror_mode": {
    "name": "ipython",
    "version": 3
   },
   "file_extension": ".py",
   "mimetype": "text/x-python",
   "name": "python",
   "nbconvert_exporter": "python",
   "pygments_lexer": "ipython3",
   "version": "3.11.9"
  }
 },
 "nbformat": 4,
 "nbformat_minor": 5
}
