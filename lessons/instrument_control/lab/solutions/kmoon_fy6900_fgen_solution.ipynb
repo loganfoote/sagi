{
 "cells": [
  {
   "cell_type": "code",
   "execution_count": 1,
   "id": "307e725d-2469-420a-b951-4141e574b072",
   "metadata": {},
   "outputs": [],
   "source": [
    "import time\n",
    "import pyvisa"
   ]
  },
  {
   "cell_type": "markdown",
   "id": "601621cd-4372-4d4e-9b31-dc8c2237d8fd",
   "metadata": {},
   "source": [
    "## 1) Connect to the waveform generator using the serial interface"
   ]
  },
  {
   "cell_type": "code",
   "execution_count": 2,
   "id": "0941a47e-f8b4-4ac9-887b-f20eb179ca4f",
   "metadata": {},
   "outputs": [],
   "source": [
    "def connect(port=0):\n",
    "    \"\"\"\n",
    "    Connects to the function generator through the serial interface.\n",
    "    Confirms the connection by printing the instrument ID.\n",
    "\n",
    "    :param port: Usb port number.\n",
    "\n",
    "    :return: Pyvisa resource.\n",
    "    \"\"\"\n",
    "    resource_name = f'ASRL/dev/ttyUSB{port}::INSTR'\n",
    "    rm = pyvisa.ResourceManager()\n",
    "    termination = '\\n'\n",
    "    inst = rm.open_resource(resource_name, baud_rate=115200, write_termination=termination)\n",
    "    #print(inst.query('*IDN?'))\n",
    "\n",
    "    return inst"
   ]
  },
  {
   "cell_type": "markdown",
   "id": "565e5971-60a1-4aae-9f93-38a74af77d3d",
   "metadata": {},
   "source": [
    "## 2) Query basic waveform parameters"
   ]
  },
  {
   "cell_type": "code",
   "execution_count": null,
   "id": "9d17f6d0-fb93-44bb-8155-acdec87c00a4",
   "metadata": {},
   "outputs": [],
   "source": [
    "def get_basic_wave(inst, channel):\n",
    "    \"\"\" Query the basic waveform parameters and return a dictionary that splits the parameters.\n",
    "\n",
    "    :param inst: serial resource.\n",
    "    :param channel: Waveform generator channel to query.\n",
    "    \"\"\"\n",
    "    response = query(inst, f'R{channels[channel]}W\\n')\n",
    "    return response\n",
    "\n",
    "def get_channel_state(inst, channel):\n",
    "    \"\"\" asdf\n",
    "\n",
    "    :param inst: pyvisa resource.\n",
    "    :param channel: \n",
    "    \"\"\"\n",
    "    pass"
   ]
  },
  {
   "cell_type": "markdown",
   "id": "cb9fd076-9bbb-4c93-a911-cc21134f5a09",
   "metadata": {},
   "source": [
    "## 3) Set basic waveform parameters"
   ]
  },
  {
   "cell_type": "code",
   "execution_count": null,
   "id": "cc555fa4-e0b9-40ca-a3ec-5af9c2650ac7",
   "metadata": {},
   "outputs": [],
   "source": [
    "channels = {1: 'M', 2: 'F'}\n",
    "def set_wave_type(inst, channel, wave_type):\n",
    "    \"\"\" Set the waveform type using the Basic Wave command.\n",
    "\n",
    "    :param inst: serial resource object corresponding to the waveform generator\n",
    "    :param wave_type: int, 1 for sine, 2 for square, etc\n",
    "    \"\"\"\n",
    "    wave_map = {\n",
    "        'SINE': 0,\n",
    "        'Square': 1,\n",
    "        'Rectangle': 2,\n",
    "        'Trapezoid': 3,\n",
    "        'Impulse': 31,\n",
    "    }\n",
    "    wave_type = wave_map[wave_type]\n",
    "    command = f'W{channels[channel]}W{wave_type}'\n",
    "    inst.write(command)\n",
    "\n",
    "def set_frequency(inst, channel, frequency):\n",
    "    \"\"\" Set the waveform fundamental frequency.\n",
    "    \n",
    "    :param inst: serial resource object corresponding to the waveform generator.\n",
    "    :param channel: (int) Channel on which to change the waveform type.\n",
    "    :param frequency: COMPLETE THIS\n",
    "    \"\"\"\n",
    "    command = f'W{channels[channel]}F{int(round(frequency * 1e6, 0)):010d}' \n",
    "    inst.write(command)\n",
    "\n",
    "def set_amplitude(inst, channel, amplitude):\n",
    "    \"\"\" Set the waveform amplitude in peak-to-peak units.\n",
    "\n",
    "    :param inst: serial resource object corresponding to the waveform generator.\n",
    "    :param channel: (int) Channel on which to change the waveform type.\n",
    "    :param amp: COMPLETE THIS\n",
    "    \"\"\"\n",
    "    command = f'W{channels[channel]}A{round(amplitude, 4)}'\n",
    "    inst.write(command)\n",
    "\n",
    "def set_offset(inst, channel, offset):\n",
    "    \"\"\" Set the waveform DC offset.\n",
    "\n",
    "    :param inst: serial resource object corresponding to the waveform generator.\n",
    "    :param channel: (int) Channel on which to change the waveform type.\n",
    "    :param offset: COMPLETE THIS\n",
    "    \"\"\"\n",
    "    command = f'W{channels[channel]}O{round(offset, 4)}'\n",
    "    inst.write(command)"
   ]
  },
  {
   "cell_type": "markdown",
   "id": "adb3e2e7-0b58-4cf4-80d1-13fd40b5f215",
   "metadata": {},
   "source": [
    "Turn a channel output on or off"
   ]
  },
  {
   "cell_type": "code",
   "execution_count": null,
   "id": "d500ce6c-aff1-4ad1-bf5f-192bdb486104",
   "metadata": {},
   "outputs": [],
   "source": [
    "def set_channel_state(inst, channel, state):\n",
    "    \"\"\" Set the state of a waveform generator channel to ON or OFF\n",
    "    \"\"\"\n",
    "    state_map = {\n",
    "        'ON': 1,\n",
    "        'OFF': 0,\n",
    "    }\n",
    "    state = state_map[state]\n",
    "    command = f'W{channels[channel]}N{state}'\n",
    "    inst.write(command)"
   ]
  },
  {
   "cell_type": "markdown",
   "id": "f36258cb-c40b-4735-b09d-9fc71831955d",
   "metadata": {},
   "source": [
    "## 4) Initialization"
   ]
  },
  {
   "cell_type": "code",
   "execution_count": null,
   "id": "065df05f-2e48-47c4-af37-59e3046ebd7a",
   "metadata": {},
   "outputs": [],
   "source": [
    "def initialize(inst):\n",
    "    \"\"\" Initialize both channels of the waveform generator to a sine wave w/ 1 Hz frequency,\n",
    "    1 Vpp amplitude, and offset 0V. Turn off both channels.\n",
    "\n",
    "    :param inst: Pyvisa resource.\n",
    "    \"\"\"\n",
    "    for channel in [1, 2]:\n",
    "        set_channel_state(inst, channel, 'OFF')\n",
    "        sleep(0.2)\n",
    "        set_wave_type(inst, channel, 'SINE')\n",
    "        sleep(0.2)\n",
    "        set_frequency(inst, channel, 1)\n",
    "        sleep(0.2)\n",
    "        set_amplitude(inst, channel, 1)\n",
    "        sleep(0.2)\n",
    "        set_offset(inst, channel, 1)\n",
    "        sleep(0.2)"
   ]
  },
  {
   "cell_type": "markdown",
   "id": "b830bc63-95f4-460b-9a11-d1d134d3177f",
   "metadata": {},
   "source": [
    "## 5) Logging"
   ]
  },
  {
   "cell_type": "code",
   "execution_count": null,
   "id": "c2cce0ed-cdd6-476e-bbfe-21fdf6eaf8b4",
   "metadata": {},
   "outputs": [],
   "source": [
    "def create_log(channel, wave_type, freq, amp, offset):\n",
    "    \"\"\" Create a string to log basic parameters of the FY6900 waveform generator output.\n",
    "\n",
    "    :param channel: Which channel the parameters correspond to.\n",
    "    :param wave_type: Type of waveform.\n",
    "    :param freq: Frequency in Hz.\n",
    "    :param amp: Amplitude in volts peak-to-peak.\n",
    "    :param offset: Offset voltage.\n",
    "    \"\"\"\n",
    "    log = \"# -------------- FY6900 Waveform Settings -------------- #\\n\"\n",
    "    log += f\"Channel: {channel}\\n\"\n",
    "    log += f\"Waveform Type: {wave_type}\\n\"\n",
    "    log += f\"Frequency: {freq} Hz\\n\"\n",
    "    log += f\"Amplitude: {amp} Volts peak-to-peak\\n\"\n",
    "    log += f\"Offset: {offset} Volts\\n\"\n",
    "    return log"
   ]
  },
  {
   "cell_type": "code",
   "execution_count": null,
   "id": "e11909c1-3445-4f31-a608-4817f9e9767b",
   "metadata": {},
   "outputs": [],
   "source": []
  }
 ],
 "metadata": {
  "kernelspec": {
   "display_name": "Python 3 (ipykernel)",
   "language": "python",
   "name": "python3"
  },
  "language_info": {
   "codemirror_mode": {
    "name": "ipython",
    "version": 3
   },
   "file_extension": ".py",
   "mimetype": "text/x-python",
   "name": "python",
   "nbconvert_exporter": "python",
   "pygments_lexer": "ipython3",
   "version": "3.11.9"
  }
 },
 "nbformat": 4,
 "nbformat_minor": 5
}
