{
 "cells": [
  {
   "cell_type": "markdown",
   "id": "cee3f0e9-afd5-47e6-bf90-bae5422110bd",
   "metadata": {},
   "source": [
    "# IC/DAQ + Electronics Lab\n",
    "\n",
    "In this lab, you will learn to connect to instrument to perform automated measurements of the frequency transmission through an electronic circuit.\n",
    "\n",
    "Here, we connect to the KMoon FY6900 function generator using the PyVisa library and serial interface.\n",
    "\n",
    "For each of the below function templates, you should complete the docstring where it says \"COMPLETE THIS\"."
   ]
  },
  {
   "cell_type": "code",
   "execution_count": null,
   "id": "307e725d-2469-420a-b951-4141e574b072",
   "metadata": {},
   "outputs": [],
   "source": [
    "import time\n",
    "import pyvisa"
   ]
  },
  {
   "cell_type": "markdown",
   "id": "601621cd-4372-4d4e-9b31-dc8c2237d8fd",
   "metadata": {},
   "source": [
    "To begin, create the variable `rm` which is the pyvisa resource manager. Then, connect to the function generator using the port number and assign the resource to the variable `inst`. Wrap this code into a function that connects to the resource, and returns `inst`."
   ]
  },
  {
   "cell_type": "code",
   "execution_count": null,
   "id": "0941a47e-f8b4-4ac9-887b-f20eb179ca4f",
   "metadata": {},
   "outputs": [],
   "source": [
    "def connect(port):\n",
    "    \"\"\"\n",
    "    Connects to the function generator through the serial interface.\n",
    "\n",
    "    :param port: Usb port number.\n",
    "\n",
    "    :return: Pyvisa resource.\n",
    "    \"\"\"\n",
    "    resource_name = f'ASRL/dev/ttyUSB{port}::INSTR'\n",
    "    rm = pyvisa.ResourceManager()\n",
    "    termination = '\\n'\n",
    "    inst = rm.open_resource(resource_name, baud_rate=115200, write_termination=termination)\n",
    "\n",
    "    return inst"
   ]
  },
  {
   "cell_type": "markdown",
   "id": "46d00055-6dcd-4c65-9a82-9a96ce7abfe1",
   "metadata": {},
   "source": [
    "### Setting up waveform parameters\n",
    "\n",
    "Next, we will create some functions to set parameters of a waveform. Refer to the KMoon programming guide to find the appropriate command syntax. We need functions to set the following attributes:\n",
    "\n",
    "<ul>\n",
    "    <li>Waveform type</li>\n",
    "    <li>Frequency</li>\n",
    "    <li>Voltage peak-to-peak amplitude</li>\n",
    "    <li>Offset voltage</li>\n",
    "</ul>"
   ]
  },
  {
   "cell_type": "code",
   "execution_count": null,
   "id": "cc555fa4-e0b9-40ca-a3ec-5af9c2650ac7",
   "metadata": {},
   "outputs": [],
   "source": [
    "channels = {1: 'M', 2: 'F'}\n",
    "def set_wave_type(inst, channel, wave_type):\n",
    "    \"\"\" Set the waveform type using the Basic Wave command.\n",
    "\n",
    "    :param inst: PyVisa resource object corresponding to the waveform generator\n",
    "    :param wave_type: int, 1 for sine, 2 for square, etc\n",
    "    \"\"\"\n",
    "    wave_map = {\n",
    "        'SINE': 0,\n",
    "        'Square': 1,\n",
    "        'Rectangle': 2,\n",
    "        'Trapezoid': 3,\n",
    "        'Impulse': 31,\n",
    "    }\n",
    "    valid_wave_types = list(wave_map.keys())\n",
    "    if wave_type not in valid_wave_types:\n",
    "        raise ValueError(f'wave_type must be one of {valid_wave_types}')\n",
    "    wave_type = wave_map[wave_type]\n",
    "    command = f'W{channels[channel]}W{wave_type}'\n",
    "    inst.write(command)\n",
    "\n",
    "def set_frequency(inst, channel, frequency):\n",
    "    \"\"\" Set the waveform fundamental frequency.\n",
    "    \n",
    "    :param inst: PyVisa resource object corresponding to the waveform generator.\n",
    "    :param channel: (int) Channel on which to change the waveform type.\n",
    "    :param frequency: (float) Frequency of the waveform in Hz.\n",
    "    \"\"\"\n",
    "    command = f'W{channels[channel]}F{int(round(frequency * 1e6, 0)):010d}' \n",
    "    inst.write(command)\n",
    "\n",
    "def set_amplitude(inst, channel, amplitude):\n",
    "    \"\"\" Set the waveform amplitude in peak-to-peak units.\n",
    "\n",
    "    :param inst: PyVisa resource object corresponding to the waveform generator.\n",
    "    :param channel: (int) Channel on which to change the waveform type.\n",
    "    :param amp: (float) Amplitude of the waveform in volts peak-to-peak.\n",
    "    \"\"\"\n",
    "    command = f'W{channels[channel]}A{round(amplitude, 4)}'\n",
    "    inst.write(command)\n",
    "\n",
    "def set_offset(inst, channel, offset):\n",
    "    \"\"\" Set the waveform DC offset.\n",
    "\n",
    "    :param inst: PyVisa resource object corresponding to the waveform generator.\n",
    "    :param channel: (int) Channel on which to change the waveform type.\n",
    "    :param offset: (float) Waveform DC offset in Volts.\n",
    "    \"\"\"\n",
    "    command = f'W{channels[channel]}O{round(offset, 4)}'\n",
    "    inst.write(command)"
   ]
  },
  {
   "cell_type": "markdown",
   "id": "adb3e2e7-0b58-4cf4-80d1-13fd40b5f215",
   "metadata": {},
   "source": [
    "### Enable and disable a channel output\n",
    "\n",
    "We need a function to turn on and off the output of a waveform generator channel."
   ]
  },
  {
   "cell_type": "code",
   "execution_count": null,
   "id": "d500ce6c-aff1-4ad1-bf5f-192bdb486104",
   "metadata": {},
   "outputs": [],
   "source": [
    "def set_channel_state(inst, channel, state):\n",
    "    \"\"\" Set the state of a waveform generator channel to ON or OFF.\n",
    "\n",
    "    :param inst: PyVisa resource object corresponding to the waveform generator.\n",
    "    :param channel: (int) Waveform generator channel.\n",
    "    :param state: (str) 'ON' or 'OFF' specifying the desired state of the wavegen channel.\n",
    "    \"\"\"\n",
    "    state_map = {\n",
    "        'ON': 1,\n",
    "        'OFF': 0,\n",
    "    }\n",
    "    state = state_map[state]\n",
    "    command = f'W{channels[channel]}N{state}'\n",
    "    inst.write(command)"
   ]
  },
  {
   "cell_type": "markdown",
   "id": "f36258cb-c40b-4735-b09d-9fc71831955d",
   "metadata": {},
   "source": [
    "### Initialization\n",
    "\n",
    "Write a function that initializes the instrument using the following parameters: \n",
    "\n",
    "<ul>\n",
    "    <li>Waveform type = \"SINE\"</li>\n",
    "    <li>Frequency = 1 Hz.</li>\n",
    "    <li>Voltage peak-to-peak amplitude = 1 Volt</li>\n",
    "    <li>Offset voltage = 0 volts</li>\n",
    "</ul>"
   ]
  },
  {
   "cell_type": "code",
   "execution_count": null,
   "id": "065df05f-2e48-47c4-af37-59e3046ebd7a",
   "metadata": {},
   "outputs": [],
   "source": [
    "def initialize(inst):\n",
    "    \"\"\" Initialize both channels of the waveform generator to a sine wave w/ 1 Hz frequency,\n",
    "    1 Vpp amplitude, and offset 0V. Turn off both channels.\n",
    "\n",
    "    :param inst: Pyvisa resource.\n",
    "    \"\"\"\n",
    "    for channel in [1, 2]:\n",
    "        set_channel_state(inst, channel, 'OFF')\n",
    "        time.sleep(0.2)\n",
    "        set_wave_type(inst, channel, 'SINE')\n",
    "        time.sleep(0.2)\n",
    "        set_frequency(inst, channel, 1)\n",
    "        time.sleep(0.2)\n",
    "        set_amplitude(inst, channel, 1)\n",
    "        time.sleep(0.2)\n",
    "        set_offset(inst, channel, 1)\n",
    "        time.sleep(0.2)"
   ]
  },
  {
   "cell_type": "markdown",
   "id": "b830bc63-95f4-460b-9a11-d1d134d3177f",
   "metadata": {},
   "source": [
    "### Logging\n",
    "\n",
    "We want to store the parameters we set, so we need to set up a log file. Write a function that creates the log string, which will later be saved to\n",
    "a log file. Include the waveform generator name at the top of the string."
   ]
  },
  {
   "cell_type": "code",
   "execution_count": null,
   "id": "c2cce0ed-cdd6-476e-bbfe-21fdf6eaf8b4",
   "metadata": {},
   "outputs": [],
   "source": [
    "def create_log(channel, wave_type, freq, amp, offset):\n",
    "    \"\"\" Create a string to log basic parameters of the FY6900 waveform generator output.\n",
    "\n",
    "    :param channel: Which channel the parameters correspond to.\n",
    "    :param wave_type: Type of waveform.\n",
    "    :param freq: Frequency in Hz.\n",
    "    :param amp: Amplitude in volts peak-to-peak.\n",
    "    :param offset: Offset voltage.\n",
    "    \"\"\"\n",
    "    log = \"# -------------- FY6900 Waveform Settings -------------- #\\n\"\n",
    "    log += f\"Channel: {channel}\\n\"\n",
    "    log += f\"Waveform Type: {wave_type}\\n\"\n",
    "    log += f\"Frequency: {freq} Hz\\n\"\n",
    "    log += f\"Amplitude: {amp} Volts peak-to-peak\\n\"\n",
    "    log += f\"Offset: {offset} Volts\\n\"\n",
    "    return log"
   ]
  },
  {
   "cell_type": "code",
   "execution_count": null,
   "id": "e11909c1-3445-4f31-a608-4817f9e9767b",
   "metadata": {},
   "outputs": [],
   "source": []
  }
 ],
 "metadata": {
  "kernelspec": {
   "display_name": "Python 3 (ipykernel)",
   "language": "python",
   "name": "python3"
  },
  "language_info": {
   "codemirror_mode": {
    "name": "ipython",
    "version": 3
   },
   "file_extension": ".py",
   "mimetype": "text/x-python",
   "name": "python",
   "nbconvert_exporter": "python",
   "pygments_lexer": "ipython3",
   "version": "3.11.9"
  }
 },
 "nbformat": 4,
 "nbformat_minor": 5
}
