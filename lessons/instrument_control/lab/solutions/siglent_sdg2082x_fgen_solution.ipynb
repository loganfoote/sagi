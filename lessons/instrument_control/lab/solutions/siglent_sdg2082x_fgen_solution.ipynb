{
 "cells": [
  {
   "cell_type": "markdown",
   "id": "cda725f7-95dc-4d95-bc09-ae5e59dd9065",
   "metadata": {},
   "source": [
    "# IC/DAQ + Electronics Lab\n",
    "\n",
    "In this lab, you will learn to connect to instruments to perform an automated measurement of the frequency transmission through an electronic circuit. \n",
    "\n",
    "Here, we connect to the Siglent SDG2082x function generator using the Pyvisa library and the ethernet interface.\n",
    "\n",
    "For each of the below function templates, you should complete the docstring where it says \"COMPLETE THIS\"."
   ]
  },
  {
   "cell_type": "code",
   "execution_count": null,
   "id": "2861c1fc-de69-482f-b00a-6c06dda9e9b1",
   "metadata": {},
   "outputs": [],
   "source": [
    "import time\n",
    "import pyvisa\n",
    "import numpy as np"
   ]
  },
  {
   "cell_type": "markdown",
   "id": "2d9b9239-8cda-4daf-be39-6d1cf359bfc5",
   "metadata": {},
   "source": [
    "To begin, create the variable `rm`, which is the pyvisa resource manager. Then, connect to the oscilloscope using the ip address and assign the resource to the variable `inst`. Test your connection using the `'*IDN?'` command. Wrap this code into a function that connects to the resource, prints the `*IDN?` query, and returns `inst`."
   ]
  },
  {
   "cell_type": "code",
   "execution_count": null,
   "id": "b02d0ff3-0ae1-4ab7-9faf-5c64de4a8581",
   "metadata": {},
   "outputs": [],
   "source": [
    "def connect(ip_address):\n",
    "    \"\"\"\n",
    "    Connects to the function generator through the ethernet interface \n",
    "    and confirms the connection by printing the instrument ID \n",
    "\n",
    "    :param ip_address: str, IP address of the function generator\n",
    "\n",
    "    :return inst: pyvisa resource\n",
    "    \"\"\"\n",
    "    rm = pyvisa.ResourceManager()\n",
    "    inst = rm.open_resource(f'TCPIP0::{ip_address}::INSTR') \n",
    "    print(inst.query('*IDN?'))\n",
    "    return inst\n",
    "\n",
    "inst = connect()"
   ]
  },
  {
   "cell_type": "markdown",
   "id": "6bb150fb-f930-4cb9-b951-cc3fff8459e3",
   "metadata": {},
   "source": [
    "### Setting up waveform parameters\n",
    "\n",
    "Next, we will create some functions to set parameters of a waveform. Refer to the SDG programming guide to find the appropriate command syntax. We need functions to set:\n",
    "\n",
    "<ul>\n",
    "    <li>Waveform type</li>\n",
    "    <li>Frequency</li>\n",
    "    <li>Voltage peak-to-peak amplitude</li>\n",
    "    <li>Offset voltage</li>\n",
    "</ul>"
   ]
  },
  {
   "cell_type": "code",
   "execution_count": null,
   "id": "8202e8f5-74d1-4015-a56a-a90696010435",
   "metadata": {},
   "outputs": [],
   "source": [
    "def set_wave_type(inst, channel, wave_type):\n",
    "    \"\"\" Set the waveform type using the Basic Wave command.\n",
    "\n",
    "    :param inst: PyVisa resource object corresponding to the waveform generator.\n",
    "    :param channel: (int) Channel on which to change the waveform type.\n",
    "    :param wave_type: (str) one of ['SINE', 'SQUARE', 'RAMP', 'PULSE', 'ARB', 'DC', 'PRBS', 'IQ']\n",
    "    \"\"\"\n",
    "    valid_wave_types = ['SINE', 'SQUARE', 'RAMP', 'PULSE', 'NOISE', 'ARB', 'DC', 'PRBS', 'IQ']\n",
    "    if wave_type not in valid_wave_types:\n",
    "        raise ValueError(f'wave_type must be one of {valid_wave_types}')\n",
    "    cmd = f'C{channel}:BSWV WVTP,{wave_type}'\n",
    "    inst.write(cmd)\n",
    "\n",
    "def set_frequency(inst, channel, freq):\n",
    "    \"\"\" Set the waveform fundamental frequency.\n",
    "    \n",
    "    :param inst: PyVisa resource object corresponding to the waveform generator.\n",
    "    :param channel: (int) Channel on which to change the waveform type.\n",
    "    :param freq: (float) Frequency of the waveform in Hz.\n",
    "    \"\"\"\n",
    "    freq = float(abs(freq))\n",
    "    freq_min = 1e-6\n",
    "    freq_max = 1e6\n",
    "    if not ((freq_min <= freq) and (freq <= freq_max)):\n",
    "        raise ValueError(f'Specified frequency {freq} falls outside the range {freq_min} <= freq <= {freq_max}')\n",
    "    cmd = f'C{channel}:BSWV FRQ,{freq}'\n",
    "    inst.write(cmd)\n",
    "\n",
    "def set_amplitude(inst, channel, amp):\n",
    "    \"\"\" Set the waveform amplitude in peak-to-peak units.\n",
    "\n",
    "    :param inst: PyVisa resource object corresponding to the waveform generator.\n",
    "    :param channel: (int) Channel on which to change the waveform type.\n",
    "    :param amp: (float) Amplitude of the waveform in volts peak-to-peak.\n",
    "    \"\"\"\n",
    "    amp = float(abs(amp))\n",
    "    amp_min = 2e-3\n",
    "    amp_max = 20\n",
    "    if not ((amp_min <= amp) and (amp <= amp_max)):\n",
    "        raise ValueError(f'Specified amplitude {amp} falls outside the range {amp_min} <= freq <= {amp_max}')\n",
    "    cmd = f'C{channel}:BSWV AMP,{amp}'\n",
    "    inst.write(cmd)\n",
    "\n",
    "def set_offset(inst, channel, offset):\n",
    "    \"\"\" Set the waveform DC offset.\n",
    "\n",
    "    :param inst: PyVisa resource object corresponding to the waveform generator.\n",
    "    :param channel: (int) Channel on which to change the waveform type.\n",
    "    :param offset: (float) DC offset of the waveform in volts.\n",
    "    \"\"\"\n",
    "    offset = float(offset)\n",
    "    \n",
    "    # - first get the amplitude of the waveform - #\n",
    "    amp = float(get_basic_wave(inst, channel)['AMP'][:-1])\n",
    "    \n",
    "    # - the max value of amp/2 + abs(offset) is 10 - #\n",
    "    offset_check = (amp / 2) + abs(offset)\n",
    "    max_offset = 10 - (amp / 2)\n",
    "    if offset_check > 10:\n",
    "        raise ValueError(f'Specified offset {offset}V exceeds the maximum value {max_offset} for the amplitude {amp}')\n",
    "\n",
    "    # - set the offset - #\n",
    "    cmd = f'C{channel}:BSWV OFST,{offset}'\n",
    "    inst.write(cmd)"
   ]
  },
  {
   "cell_type": "markdown",
   "id": "d1eaacf6-36da-4fd0-94a9-de5bb388ad38",
   "metadata": {},
   "source": [
    "### Enable and disable a channel output\n",
    "\n",
    "We need a function to turn on and off the output of a waveform generator channel."
   ]
  },
  {
   "cell_type": "code",
   "execution_count": null,
   "id": "77c0bfb6-1402-4e47-84d8-a6519a37e259",
   "metadata": {},
   "outputs": [],
   "source": [
    "def set_channel_state(inst, channel, state):\n",
    "    \"\"\" Set the state of a waveform generator channel to ON or OFF.\n",
    "\n",
    "    :param inst: Pyvisa resource.\n",
    "    :param channel: Waveform channel.\n",
    "    :param state: 'ON' or 'OFF' to specify the state.\n",
    "    \"\"\"\n",
    "    if state not in ['ON', 'OFF']:\n",
    "        raise ValueError(f'Invalid state {state} specified! Must be \"ON\" or \"OFF\"!')\n",
    "    cmd = f'C{channel}:OUTP {state}'\n",
    "    inst.write(cmd)"
   ]
  },
  {
   "cell_type": "markdown",
   "id": "b2fc614b-29c7-4063-95b8-be3cdb054589",
   "metadata": {},
   "source": [
    "### Initialization\n",
    "\n",
    "Write a function that initializes the instrument using the following parameters:\n",
    "\n",
    "<ul>\n",
    "    <li>Waveform type = \"SINE\"</li>\n",
    "    <li>Frequency = 1 Hz.</li>\n",
    "    <li>Voltage peak-to-peak amplitude = 1 Volt</li>\n",
    "    <li>Offset voltage = 0 volts</li>\n",
    "</ul>"
   ]
  },
  {
   "cell_type": "markdown",
   "id": "d743baa3-47b1-41f4-a920-904498d94547",
   "metadata": {},
   "source": [
    "Write a function to query the basic wave parameters and return a dictionary"
   ]
  },
  {
   "cell_type": "code",
   "execution_count": null,
   "id": "6ea01be7-72fe-40ff-8001-3ab73dc0d2a6",
   "metadata": {},
   "outputs": [],
   "source": [
    "def initialize(inst):\n",
    "    \"\"\" Initialize both channels of the waveform generator to a sine wave with frequency 1 Hz, amplitude 1 Vpp, and offset 0V.\n",
    "    Turn off both channels\n",
    "\n",
    "    :param inst: Pyvisa resource.\n",
    "    \"\"\"\n",
    "    for channel in [1, 2]:\n",
    "        set_channel_state(inst, channel, 'OFF')\n",
    "        time.sleep(0.2)\n",
    "        set_wave_type(inst, channel, 'SINE')\n",
    "        time.sleep(0.2)\n",
    "        set_frequency(inst, channel, 1)\n",
    "        time.sleep(0.2)\n",
    "        set_amplitude(inst, channel, 1)\n",
    "        time.sleep(0.2)\n",
    "        set_offset(inst, channel, 0)\n",
    "        time.sleep(0.2)"
   ]
  },
  {
   "cell_type": "markdown",
   "id": "4dc5610d-a697-46bf-8a32-da36175731e6",
   "metadata": {},
   "source": [
    "### Get functions (skip if time limited)\n",
    "\n",
    "Write a function to query all parameters the we have set functions for. Return the response in a dictionary.\n",
    "\n",
    "Also write a function to query the channel state ['ON', 'OFF']"
   ]
  },
  {
   "cell_type": "code",
   "execution_count": null,
   "id": "6097de0d-efe8-4e29-9b62-729267458717",
   "metadata": {},
   "outputs": [],
   "source": [
    "def get_basic_wave(inst, channel):\n",
    "    \"\"\" Query the basic waveform parameters and return a dictionary that splits the parameters.\n",
    "\n",
    "    :param inst: Pyvisa resource.\n",
    "    :param channel: Waveform generator channel to query.\n",
    "    \"\"\"\n",
    "    query = f'C{channel}:BSWV?'\n",
    "    bswv = inst.query(query)\n",
    "    params = bswv.split(' ')[1]\n",
    "    params_split = params.split(',')\n",
    "    bswv_params_dict = {\n",
    "        param: val\n",
    "        for param, val in zip(params_split[0::2], params_split[1::2])\n",
    "    }\n",
    "    \n",
    "    return bswv_params_dict\n",
    "\n",
    "def get_channel_state(inst, channel):\n",
    "    \"\"\" Get the current state of a channel.\n",
    "\n",
    "    :param inst: Pyvisa resource.\n",
    "    :param channel: Waveform generator channel.\n",
    "    \"\"\"\n",
    "    query = f'C{channel}:OUTP?'\n",
    "    state_str = inst.query(query)\n",
    "    params = state_str.split(' ')\n",
    "    state = params.split(',')[0]\n",
    "\n",
    "    return state"
   ]
  },
  {
   "cell_type": "markdown",
   "id": "5328eb1a-36a7-448e-b8ee-04a6cd1c96da",
   "metadata": {},
   "source": [
    "### Logging\n",
    "\n",
    "We want to store the parameters we set, so we need to set up a log file. Write a function that creates the log string, which will later be saved to\n",
    "a log file. Include the waveform generator name at the top of the string."
   ]
  },
  {
   "cell_type": "code",
   "execution_count": null,
   "id": "2b7c6098-b838-41db-8e50-3e5aba05a8ce",
   "metadata": {},
   "outputs": [],
   "source": [
    "def create_log(channel, wave_type, freq, amp, offset):\n",
    "    \"\"\" Create a string to log basic parameters of the SDG2082X waveform generator output.\n",
    "\n",
    "    :param channel: Which channel the parameters correspond to.\n",
    "    :param wave_type: Type of waveform.\n",
    "    :param freq: Frequency in Hz.\n",
    "    :param amp: Amplitude in volts peak-to-peak.\n",
    "    :param offset: Offset voltage.\n",
    "    \"\"\"\n",
    "    log = \"# ------------- SDG2082X Waveform Settings ------------- #\\n\"\n",
    "    log += f\"Channel: {channel}\\n\"\n",
    "    log += f\"Waveform Type: {wave_type}\\n\"\n",
    "    log += f\"Frequency: {freq} Hz\\n\"\n",
    "    log += f\"Amplitude: {amp} Volts peak-to-peak\\n\"\n",
    "    log += f\"Offset: {offset} Volts\\n\"\n",
    "    return log"
   ]
  },
  {
   "cell_type": "code",
   "execution_count": null,
   "id": "66e92cf1-44c4-4165-aec0-78dab997872e",
   "metadata": {},
   "outputs": [],
   "source": [
    "print(log_str)"
   ]
  }
 ],
 "metadata": {
  "kernelspec": {
   "display_name": "Python 3 (ipykernel)",
   "language": "python",
   "name": "python3"
  },
  "language_info": {
   "codemirror_mode": {
    "name": "ipython",
    "version": 3
   },
   "file_extension": ".py",
   "mimetype": "text/x-python",
   "name": "python",
   "nbconvert_exporter": "python",
   "pygments_lexer": "ipython3",
   "version": "3.11.9"
  }
 },
 "nbformat": 4,
 "nbformat_minor": 5
}
