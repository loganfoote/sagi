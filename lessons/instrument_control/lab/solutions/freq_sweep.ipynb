{
 "cells": [
  {
   "cell_type": "markdown",
   "id": "a6bd7405-ebb0-47e2-8f89-3bc85dc04dfe",
   "metadata": {},
   "source": [
    "# Frequency sweep\n",
    "Now that we can control the function generator and the oscilloscope, we are ready to set up a frequency sweep. Start by connecting to both devices and creating log string for each. Concatenate the two log strings. We will be varying the function generator frequency and oscilloscope xscale throughout the project, so set these values to the string `'VARIABLE'` in the log file. We will log them later."
   ]
  },
  {
   "cell_type": "code",
   "execution_count": null,
   "id": "ebee7a52-5068-4136-a5c4-0fba7c4121e4",
   "metadata": {},
   "outputs": [],
   "source": [
    "import siglent_sds1104xe_oscope_solution as osc \n",
    "import siglent_sdg2082x_fgen_solution as fgen\n",
    "from time import sleep\n",
    "import numpy as np\n",
    "import matplotlib.pyplot as plt\n",
    "from simple_fft import simple_fft\n",
    "import os"
   ]
  },
  {
   "cell_type": "code",
   "execution_count": null,
   "id": "8e5cb94c-e211-43af-8ad9-4ba2b989c464",
   "metadata": {},
   "outputs": [],
   "source": [
    "osc_inst = osc.connect('192.168.1.4')\n",
    "fgen_inst = fgen.connect('192.168.1.2')\n",
    "\n",
    "osc.initialize(osc_inst)\n",
    "inst_log = osc.create_log('VARIABLE', 0, 1, 0, 1, 'AUTO') + '\\n'\n",
    "\n",
    "fgen.initialize(fgen_inst)\n",
    "fgen.set_amplitude(fgen_inst, 1, 5)\n",
    "inst_log += fgen.create_log(1, 'SINE', 'VARIABLE', 5, 0) + '\\n'"
   ]
  },
  {
   "cell_type": "markdown",
   "id": "5da14b00-828d-45bc-9435-1619e0949962",
   "metadata": {},
   "source": [
    "Now, we need a function that will set the frequency of the function generator and set the xscale of the oscilloscope to cover two periods per division. Put a sleep statement at the end of the function to ensure that both devices have time to be set properly."
   ]
  },
  {
   "cell_type": "code",
   "execution_count": null,
   "id": "e53deac3-951d-4e48-a8e7-94449cff3f70",
   "metadata": {},
   "outputs": [],
   "source": [
    "def set_frequency(frequency):\n",
    "    # Set frequency of function generator\n",
    "    fgen.set_frequency(fgen_inst, 1, frequency)\n",
    "    # Set xscale of oscilloscope\n",
    "    tperiod = 1 / frequency \n",
    "    xscale = tperiod / 2\n",
    "    \n",
    "    osc.set_xscale(osc_inst, xscale)\n",
    "\n",
    "    sleep(0.1)"
   ]
  },
  {
   "cell_type": "markdown",
   "id": "f8496c08-ea19-4c06-87f8-4f169be9f49e",
   "metadata": {},
   "source": [
    "We will now set up a frequency sweep. Using the following parameters, append to the log file the information about the frequency sweep and create a list of frequencies. Change the output directory to your group name. We have written code to raise an error if the files already exist, so you don't overwrite another group's data."
   ]
  },
  {
   "cell_type": "code",
   "execution_count": null,
   "id": "65b49023-f345-459f-a662-f0199111aaf4",
   "metadata": {},
   "outputs": [],
   "source": [
    "start_freq = 100 \n",
    "end_freq = 30e3 \n",
    "npoints = 50\n",
    "\n",
    "frequencies = np.linspace(start_freq, end_freq, npoints)\n",
    "log = inst_log + \"# -------------- Frequency sweep settings -------------- #\\n\" \n",
    "log += f'start frequency: {start_freq} Hz\\n' \n",
    "log += f'end frequency: {end_freq} Hz\\n' \n",
    "log += f'number of points: {npoints}\\n'\n",
    "\n",
    "\n",
    "out_directory = '/home/ifirse05/data/sagi/group1/sweep_00/'\n",
    "log_path = out_directory + 'freqsweep.log' \n",
    "# if os.path.exists(log_path):\n",
    "#     raise FileExistsError(f'{log_path} already exists')\n",
    "with open(log_path, 'w') as f:\n",
    "    f.write(log)"
   ]
  },
  {
   "cell_type": "markdown",
   "id": "393a65ee-2c2b-4fb8-8c16-111c2d3b636a",
   "metadata": {},
   "source": [
    "Now, we will create a loop to iteratively set the frequency and save data. For each frequency in `frequencies`, first set the frequency, then capture data, then save the data. Don't forget to turn on the function generator output before taking data."
   ]
  },
  {
   "cell_type": "code",
   "execution_count": null,
   "id": "810f6683-f04f-4ebc-a7e2-575c4abc6970",
   "metadata": {},
   "outputs": [],
   "source": [
    "fgen.set_channel_state(fgen_inst, 1, 'ON')\n",
    "\n",
    "for index, frequency in enumerate(frequencies):\n",
    "    set_frequency(frequency)\n",
    "    tsample, time, voltage = osc.capture_data(osc_inst) \n",
    "    np.save(out_directory + f'freqsweep_{index:03d}.npy', [time, voltage])\n",
    "\n",
    "fgen.set_channel_state(fgen_inst, 1, 'OFF')"
   ]
  },
  {
   "cell_type": "markdown",
   "id": "cd320948-2708-432c-9816-6409751fd3c1",
   "metadata": {},
   "source": [
    "# Analysis\n",
    "We will now import each set of data, FFT the data, extract the amplitude at the desired frequency, and plot the amplitude versus frequency. As a sanity check, plot a few of your timestreams and FFTs with an indication of the value you have selected as the peak."
   ]
  },
  {
   "cell_type": "code",
   "execution_count": null,
   "id": "6ce15c2b-c74a-414c-b4e0-51fd6087e5da",
   "metadata": {},
   "outputs": [],
   "source": [
    "index = 4\n",
    "\n",
    "frequency = frequencies[index]\n",
    "time, voltage = np.load(out_directory + f'freqsweep_{index:03d}.npy') \n",
    "tsample = time[1] - time[0]\n",
    "f, y = simple_fft(tsample, voltage)\n",
    "ix = np.argmin(abs(f - frequency))\n",
    "\n",
    "fig, axs = plt.subplots(2, 1, figsize = [10, 5])\n",
    "axs[1].set_xscale('log')\n",
    "axs[0].plot(time, voltage) \n",
    "axs[1].plot(f, y)\n",
    "axs[1].plot(f[ix], y[ix], 'xr')"
   ]
  },
  {
   "cell_type": "code",
   "execution_count": null,
   "id": "418bdf03-b264-49b3-a254-131b1fdf0768",
   "metadata": {},
   "outputs": [],
   "source": [
    "transmission = []\n",
    "for index, frequency in enumerate(frequencies):\n",
    "    time, voltage = np.load(out_directory + f'freqsweep_{index:03d}.npy') \n",
    "    tsample = time[1] - time[0]\n",
    "    f, y = simple_fft(tsample, voltage)\n",
    "    ix = np.argmin(abs(f - frequency))\n",
    "    transmission.append(y[ix]/ 2.5) # Divide by the input voltage to get transmission"
   ]
  },
  {
   "cell_type": "code",
   "execution_count": null,
   "id": "1d1d99ac-9b01-4a9f-9c8b-2e5af8c8e5c3",
   "metadata": {},
   "outputs": [],
   "source": [
    "fig, ax = plt.subplots()\n",
    "ax.set(ylabel = 'Transmission', xlabel = 'Frequency (MHz)')\n",
    "ax.plot(frequencies / 1e6, np.array(transmission))"
   ]
  },
  {
   "cell_type": "markdown",
   "id": "318b6e2a-52e9-41a3-8530-4ef4fe5012ce",
   "metadata": {},
   "source": [
    "# Cleaning up frequency sweep code\n",
    "You have developed the code you need to perform a frequency sweep, and now you want to wrap the code into a single function to use for the rest of the lab. Write this function and move it to 'frequency_sweep.py'. Run the code from this notebook to test it."
   ]
  },
  {
   "cell_type": "code",
   "execution_count": null,
   "id": "580ef04b-519b-40ad-a792-31d8384591a7",
   "metadata": {},
   "outputs": [],
   "source": [
    "import siglent_sds1104xe_oscope_solution as osc \n",
    "import siglent_sdg2082x_fgen_solution as fgen\n",
    "from freq_sweep import capture_freq_sweep\n",
    "\n",
    "out_directory = '/home/ifirse05/data/sagi/group1/sweep_00/'\n",
    "osc_inst = osc.connect('192.168.1.4')\n",
    "fgen_inst = fgen.connect('192.168.1.2')\n",
    "\n",
    "start_freq = 100 \n",
    "end_freq = 1e6 \n",
    "npoints = 200\n",
    "\n",
    "capture_freq_sweep(out_directory, osc_inst, fgen_inst, start_freq, end_freq, npoints)"
   ]
  }
 ],
 "metadata": {
  "kernelspec": {
   "display_name": "Python 3 (ipykernel)",
   "language": "python",
   "name": "python3"
  },
  "language_info": {
   "codemirror_mode": {
    "name": "ipython",
    "version": 3
   },
   "file_extension": ".py",
   "mimetype": "text/x-python",
   "name": "python",
   "nbconvert_exporter": "python",
   "pygments_lexer": "ipython3",
   "version": "3.11.9"
  }
 },
 "nbformat": 4,
 "nbformat_minor": 5
}
