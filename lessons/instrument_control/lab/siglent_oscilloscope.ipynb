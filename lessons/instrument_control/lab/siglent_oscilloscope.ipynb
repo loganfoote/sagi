{
 "cells": [
  {
   "cell_type": "markdown",
   "id": "3b2b4206-8969-4fae-b337-81d889314c39",
   "metadata": {},
   "source": [
    "# IC/DAQ Lab\n",
    "In this lab, you will learn to connecto to instruments to perform a measurement of the frequency transmission through an electronic circuit. First, we will learn how to connect to the oscilloscope and read out data. To begin, create the variable `rm`, which is the pyvisa resource manager. Then, connect to the oscilloscope using the ip address and assign the resource to the variable `inst`. Test your connection using the `'*IDN?'` command. Wrap this code into a function that connects to the resource, prints the `*IDN?` query, returns `inst`. Write docstrings for the function. For each function, you should complete the docstring where it says \"COMPLETE THIS\"."
   ]
  },
  {
   "cell_type": "code",
   "execution_count": null,
   "id": "6dc6a41c-35b4-4a80-b08e-247ee0bd036a",
   "metadata": {},
   "outputs": [],
   "source": [
    "import pyvisa\n",
    "import numpy as np\n",
    "from time import sleep\n",
    "import matplotlib.pyplot as plt\n",
    "from simple_fft import simple_fft"
   ]
  },
  {
   "cell_type": "code",
   "execution_count": null,
   "id": "19ee473d-cebe-4929-ab93-9de8056c3860",
   "metadata": {},
   "outputs": [],
   "source": [
    "def connect(ip_address = '192.168.1.164'):\n",
    "    \"\"\"\n",
    "    COMPLETE THIS \n",
    "\n",
    "    :param ip_address: str, COMPLETE THIS  \n",
    "\n",
    "    :return inst: pyvisa resource\n",
    "    \"\"\"\n",
    "    # Your code here \n",
    "    return inst\n",
    "\n",
    "inst = connect_oscilloscope()"
   ]
  },
  {
   "cell_type": "markdown",
   "id": "e0528b81-c0f9-4aef-bdd3-914a454ffdbc",
   "metadata": {},
   "source": [
    "### Setting up the oscilloscope parameters\n",
    "Next, we will set some of the oscilloscope settings manually. Fill in the following functions. Use the SDS programming manual to find the appropriate SCPI commands. Write docstrings for each function.\n",
    "\n",
    "### Note\n",
    "Several of these parameters can only be set to discrete values. If we try to set a value that is not possible, it will choose the closest value. For example, if we try to set the yscale to 999 mV / div, it will choose 1 V / div. We can ignore this for now, but keep it in mind so you don't run into problems later."
   ]
  },
  {
   "cell_type": "code",
   "execution_count": null,
   "id": "e4622aae-9954-461c-8a72-d24168fbacca",
   "metadata": {},
   "outputs": [],
   "source": [
    "def set_xscale(inst, xscale):\n",
    "    \"\"\"\n",
    "    Sets the horizontal scale\n",
    "\n",
    "    :param inst: pyvisa resource\n",
    "    :param xscale: float, horizontal scale in seconds / div\n",
    "    \"\"\"\n",
    "    inst.write(f'TIME_DIV {xscale}s')\n",
    "    \n",
    "def set_xoffset(inst, xoffset):\n",
    "    \"\"\"\n",
    "    Sets the horizontal offset\n",
    "\n",
    "    :param inst: pyvisa resource\n",
    "    :param xoffset: float, horizontal scale in seconds\n",
    "    \"\"\"\n",
    "    inst.write(f'HOR_POSITION {xoffset}s')\n",
    "    \n",
    "def set_yscale(inst, yscale, ch = 1):\n",
    "    \"\"\"\n",
    "    Sets the vertical scale on the given channel\n",
    "\n",
    "    :param inst: pyvisa resource\n",
    "    :param yscale: float, vertical scale in V / div\n",
    "    :param ch: int, channel index, must be in [1, 2, 3, 4]\n",
    "    \"\"\"\n",
    "    inst.write(f'C{ch}:VOLT_DIV {yscale}V')\n",
    "    \n",
    "def set_yoffset(inst, yoffset, ch = 1):\n",
    "    \"\"\"\n",
    "    Sets the vertical offset on the given channel\n",
    "\n",
    "    :param inst: pyvisa resource\n",
    "    :param yoffset: float, vertical offset in V\n",
    "    :param ch: int, channel index, must be in [1, 2, 3, 4]\n",
    "    \"\"\"\n",
    "    inst.write(f'C{ch}:OFFSET {yoffset}v')\n",
    "    \n",
    "def set_amplification(inst, amplification, ch = 1):\n",
    "    \"\"\"\n",
    "    Sets the amplification on the given channel\n",
    "\n",
    "    :param inst: pyvisa resource\n",
    "    :param amplification: float, amplification\n",
    "        Must be in [0.1, 0.2, 0.5, 1, 2, 5, 10, 20, 50, 100]\n",
    "    :param ch: int, channel index, must be in [1, 2, 3, 4]\n",
    "    \"\"\"\n",
    "    inst.write(f'C{ch}:ATTENUATION {amplification}')\n",
    "\n",
    "def set_trigger_mode(inst, mode = 'AUTO'):\n",
    "    \"\"\"\n",
    "    Sets the trigger mode \n",
    "\n",
    "    :param inst: pyvisa resource\n",
    "    :param mode: str, trigger mode\n",
    "        Must be in ['AUTO', 'NORM', 'SINGLE', 'STOP']\n",
    "    \"\"\"\n",
    "    modes = ['AUTO', 'NORM', 'SINGLE', 'STOP']\n",
    "    if mode not in modes:\n",
    "        raise ValueError('Invalid mode')\n",
    "    inst.write(f'TRIG_MODE {mode}')"
   ]
  },
  {
   "cell_type": "markdown",
   "id": "e72ac635-c44d-44d0-a4e1-3af6165c1337",
   "metadata": {},
   "source": [
    "### Initialization function\n",
    "Write a function that initializes the instrument using the following parameters:\n",
    "<ul>\n",
    "    <li>xscale: 10 $\\mu$s/div</li>\n",
    "    <li>xoffset: 0 s</li>\n",
    "    <li>yscale: 1 V/div</li>\n",
    "    <li>yoffset: 0 V</li>\n",
    "    <li>amplification: 1X</li>\n",
    "    <li>trigger mode: AUTO</li>\n",
    "</ul>\n",
    "Make sure to set these parameters for all four channels."
   ]
  },
  {
   "cell_type": "code",
   "execution_count": null,
   "id": "95ae160f-9169-4fe7-bdfc-a6b4ba8d88dc",
   "metadata": {},
   "outputs": [],
   "source": [
    "def initialize(inst):\n",
    "    \"\"\" functions\n",
    "    Initializes the oscilloscope instrument to the following \n",
    "    values on every channel \n",
    "\n",
    "    xscale        -> 10 us / div\n",
    "    xoffset       -> 0 s\n",
    "    yscale        -> 1 V / div \n",
    "    yoffset       -> 0 V \n",
    "    amplification -> 1X \n",
    "    trigger mode  -> AUTO\n",
    "    \"\"\"\n",
    "    set_xscale(inst, 10e-6)\n",
    "    set_xoffset(inst, 0)\n",
    "    for ch in range(4):\n",
    "        set_yscale(inst, 1, ch = ch)\n",
    "        set_yoffset(inst, 0, ch = ch)\n",
    "        set_amplification(inst, 1, ch = ch) \n",
    "    set_trigger_mode(inst, 'AUTO')\n",
    "initialize(inst)"
   ]
  },
  {
   "cell_type": "markdown",
   "id": "6053a03e-63dd-4570-85b2-2d566e8640ff",
   "metadata": {},
   "source": [
    "### Bonus\n",
    "For each of the funtions above, write the corresponding 'get' function which returns the value of the parameter."
   ]
  },
  {
   "cell_type": "code",
   "execution_count": null,
   "id": "7f010458-3d00-44d1-a063-29e1b85d0011",
   "metadata": {},
   "outputs": [],
   "source": [
    "def get_xscale(inst):\n",
    "    \"\"\"\n",
    "    Gets the horizontal scale\n",
    "\n",
    "    :param inst: pyvisa resource\n",
    "    \n",
    "    :return xscale: float, horizontal scale in seconds / div\n",
    "    \"\"\"\n",
    "    response = inst.query('TIME_DIV?')\n",
    "    response = response.split('TDIV ')[1].replace('S\\n', '')\n",
    "    xscale = float(response)\n",
    "    return xscale\n",
    "    \n",
    "def get_xoffset(inst):\n",
    "    \"\"\"\n",
    "    Gets the horizontal offset\n",
    "\n",
    "    :param inst: pyvisa resource\n",
    "    \n",
    "    :return xoffset: float, horizontal scale in seconds\n",
    "    \"\"\"\n",
    "    response = inst.query('HOR_POSITION?')\n",
    "    response = response.split('HPOS ')[1].replace('S\\n', '')\n",
    "    xoffset = float(response)functions\n",
    "    return xoffset\n",
    "    \n",
    "def get_yscale(inst, ch = 1):\n",
    "    \"\"\"\n",
    "    Gets the vertical scale on the given channel\n",
    "\n",
    "    :param inst: pyvisa resource\n",
    "    :param ch: int, channel index, must be in [1, 2, 3, 4]\n",
    "\n",
    "    :return yscale: float, vertical scale in V / div\n",
    "    \"\"\"\n",
    "    response = inst.query(f'C{ch}:VOLT_DIV?')\n",
    "    response = response.split('VDIV ')[1].replace('V\\n', '')\n",
    "    yscale = float(response)\n",
    "    return yscale\n",
    "    \n",
    "def get_yoffset(inst, ch = 1):\n",
    "    \"\"\"\n",
    "    Gets the vertical offset on the given channel\n",
    "\n",
    "    :param inst: pyvisa resource\n",
    "    :param ch: int, channel index, must be in [1, 2, 3, 4]\n",
    "\n",
    "    :return yoffset: float, vertical offset in V\n",
    "    \"\"\"\n",
    "    response = inst.query(f'C{ch}:OFFSET?')\n",
    "    response = response.split('OFST ')[1].replace('V\\n', '')\n",
    "    yoffset = float(response)\n",
    "    return yoffset\n",
    "    functions\n",
    "def get_amplification(inst, ch = 1):\n",
    "    \"\"\"\n",
    "    Gets the amplification on the given channel\n",
    "\n",
    "    :param inst: pyvisa resource\n",
    "    :param ch: int, channel index, must be in [1, 2, 3, 4]\n",
    "\n",
    "    :return amplification: float, amplification\n",
    "    \"\"\"\n",
    "    response = inst.query(f'C{ch}:ATTENUATION?')\n",
    "    response = response.split('ATTN ')[1].replace('\\n', '')\n",
    "    amplification = float(response)\n",
    "    return amplification\n",
    "\n",
    "def get_trigger_mode(inst):\n",
    "    \"\"\"\n",
    "    Gets the trigger mode \n",
    "\n",
    "    :param inst: pyvisa resource\n",
    "    \n",
    "    :return mode: str, trigger mode\n",
    "    \"\"\"\n",
    "    response = inst.query('TRIG_MODE?')\n",
    "    response = response.split('TRMD ')[1].replace('\\n', '')\n",
    "    mode = response\n",
    "    return mode"
   ]
  },
  {
   "cell_type": "markdown",
   "id": "4d2288f1-0742-40db-bda5-79bacc272ece",
   "metadata": {},
   "source": [
    "### Logging\n",
    "We want to remember the parameters we set, so we need to set up a log file to save these parameters. Write a function that creates the log string, which will later be save to a log file. Include the oscilloscope name at the top of the log file. Write a docstring for the function."
   ]
  },
  {
   "cell_type": "code",
   "execution_count": null,
   "id": "6e2cd127-fe4a-4355-bfb0-6e49ef7660bd",
   "metadata": {},
   "outputs": [],
   "source": [
    "def create_log(xscale, xoffset, yscale, yoffset, \n",
    "               amplification, trigger_mode):\n",
    "    \"\"\"\n",
    "    Creates a log file to keep track of the \n",
    "    oscilloscope parameters\n",
    "\n",
    "    :param xscale: float, horizontal scale in seconds / div\n",
    "    :param xoffset: float, horizontal scale in seconds\n",
    "    :param yscale: float, vertical scale in V / div\n",
    "    :param yoffset: float, vertical offset in V\n",
    "    :param amplification: float, amplification\n",
    "    :param trigger_mode: str, trigger mode\n",
    "    \"\"\"\n",
    "    log = \"------------- SIGLENT SDS 1104X-E -------------\\n\" \n",
    "    log += f'xscale: {xscale} s / div\\n'\n",
    "    log += f'xoffset: {xoffset} s\\n'\n",
    "    log += f'yscale: {yscale} V / div\\n'\n",
    "    log += f'yoffset: {yoffset} V\\n'\n",
    "    log += f'amplification: {amplification}X\\n'\n",
    "    log += f'trigger mode: {trigger_mode}\\n'\n",
    "    return log "
   ]
  },
  {
   "cell_type": "markdown",
   "id": "5f4d7b6e-3293-41e3-9735-c159a050b882",
   "metadata": {},
   "source": [
    "### Reading data\n",
    "Next, we will read data from the oscilloscope. First, write a segment of code to get the sample time and sample frequency."
   ]
  },
  {
   "cell_type": "code",
   "execution_count": null,
   "id": "34e2e3c6-3632-46ee-86ed-4dd8a5a4b951",
   "metadata": {},
   "outputs": [],
   "source": [
    "fsample = inst.query('SARA?')\n",
    "fsample = float(fsample.split(' ')[1].replace('Sa/s\\n', ''))\n",
    "tsample = 1 / fsample"
   ]
  },
  {
   "cell_type": "markdown",
   "id": "8b736706-ee77-43c3-a2c7-74497b52d794",
   "metadata": {},
   "source": [
    "Now, write a segment of code to get the number of Volts per division and the voltage offset. If you did the bonus earlier, you should already have this code written."
   ]
  },
  {
   "cell_type": "code",
   "execution_count": null,
   "id": "9ba5ba02-4546-49ff-b3ad-d33a9a7aaa73",
   "metadata": {},
   "outputs": [],
   "source": [
    "vdiv = get_yscale(inst)\n",
    "voffset = get_yoffset(inst)"
   ]
  },
  {
   "cell_type": "markdown",
   "id": "eccddebe-8074-47e1-98d1-63e4fbbeca28",
   "metadata": {},
   "source": [
    "Now, right a segment of code to receive the data. Instead of using `query` here, we will use `inst.query_binary_values` with the extra argument `datatype 'B'`. This will ensure that the binary values are converted to integers correctly. We will then have to convert the binary values to a voltage using vdiv and voffset. Use the programming manual to make sure you have done this correctly."
   ]
  },
  {
   "cell_type": "code",
   "execution_count": null,
   "id": "a12d1959-202c-4d4b-8b41-39058e9fc5c6",
   "metadata": {},
   "outputs": [],
   "source": [
    "raw_data = inst.query_binary_values('C1:WF? DAT2', datatype = 'B')\n",
    "data = []\n",
    "for d in raw_data:\n",
    "    if d > 127:\n",
    "        data.append(d - 256)\n",
    "    else:\n",
    "        data.append(d)\n",
    "voltage = [d * (vdiv / 25) - voffset for d in data]"
   ]
  },
  {
   "cell_type": "markdown",
   "id": "09c925a4-22c7-4e19-bd39-3ea0c6c75164",
   "metadata": {},
   "source": [
    "Finally, put the last three cells together to create a single function that captures a waveform and returns the following:\n",
    "<ul>\n",
    "    <li>tsample (float): sample time in seconds</li>\n",
    "    <li>time (list): time array in seconds</li>\n",
    "    <li>voltage (list): voltage array in V</li>\n",
    "</ul>\n",
    "Write a docstring for the function."
   ]
  },
  {
   "cell_type": "code",
   "execution_count": null,
   "id": "4109d405-c671-4b60-9ffd-406f017a2db9",
   "metadata": {},
   "outputs": [],
   "source": [
    "def capture_data(inst):\n",
    "    \"\"\"\n",
    "    Captures data from the most recent trigger \n",
    "\n",
    "    :param inst: pyvisa resource\n",
    "\n",
    "    :return tsample: sample time in seconds \n",
    "    :return time: np.array, time array in seconds\n",
    "    :return voltage: np.array, voltage array in V\n",
    "    \"\"\"\n",
    "    fsample = inst.query('SARA?')\n",
    "    fsample = float(fsample.split(' ')[1].replace('Sa/s\\n', ''))\n",
    "    tsample = 1 / fsample\n",
    "\n",
    "    vdiv = get_yscale(inst)\n",
    "    voffset = get_yoffset(inst)\n",
    "\n",
    "    sleep(0.1)\n",
    "    raw_data = inst.query_binary_values('C1:WF? DAT2', datatype = 'B')\n",
    "    data = []\n",
    "    for d in raw_data:\n",
    "        if d > 127:\n",
    "            data.append(d - 256)\n",
    "        else:\n",
    "            data.append(d)\n",
    "    voltage = [d * (vdiv / 25) - voffset for d in data]\n",
    "\n",
    "    time = np.arange(0, tsample * len(voltage), tsample)\n",
    "    voltage = np.array(voltage)\n",
    "    return tsample, time, voltage"
   ]
  },
  {
   "cell_type": "markdown",
   "id": "e3819bd6-597a-42cd-a84b-0f04ed17235e",
   "metadata": {},
   "source": [
    "### Note\n",
    "If we were saving large amount of data, we may want to bypass creating the `time` array, and just save the sample time. For the small amounts of data we will use in this lab, it is easier to just create and save the time array with the voltage, so we don't have to keep track of `tsample`."
   ]
  },
  {
   "cell_type": "markdown",
   "id": "2ed1e8a5-06a5-439f-b7fd-1f5fde46b83f",
   "metadata": {},
   "source": [
    "### Simple measurement\n",
    "Using the functions you have defined above, we will perform a simple measurement. Suppose you have a signal of the frequency defined below. Initialize the instrument, then set the x scale to cover 20 periods of the signal (Note that the xscale is per division, and we have 14 divisions of data). Plot your output data, and create the log string."
   ]
  },
  {
   "cell_type": "code",
   "execution_count": null,
   "id": "068c57ff-a081-4467-9997-dd4cc650228c",
   "metadata": {},
   "outputs": [],
   "source": [
    "frequency = 1e3\n",
    "tperiod = 1 / frequency \n",
    "total_time = tperiod * 10 \n",
    "divisions = 14\n",
    "xscale = total_time / divisions \n",
    "\n",
    "initialize(inst) \n",
    "set_xscale(inst, xscale)"
   ]
  },
  {
   "cell_type": "code",
   "execution_count": null,
   "id": "afafe970-4870-405e-a04e-46de9ebe3345",
   "metadata": {},
   "outputs": [],
   "source": [
    "tsample, time, voltage = capture_data(inst)"
   ]
  },
  {
   "cell_type": "code",
   "execution_count": null,
   "id": "6e0105e0-764a-4a2f-90bf-c2e7e31c35da",
   "metadata": {},
   "outputs": [],
   "source": [
    "log = create_log(xscale, 0, 1, 0, \n",
    "                 1, 'AUTO')"
   ]
  },
  {
   "cell_type": "code",
   "execution_count": null,
   "id": "868cc010-51dc-43e8-accb-bdc6939d82a0",
   "metadata": {},
   "outputs": [],
   "source": [
    "import matplotlib.pyplot as plt\n",
    "fig, ax = plt.subplots()\n",
    "ax.set(ylabel = 'Voltage (V)', xlabel = 'Time (ms)')\n",
    "ax.grid()\n",
    "ax.plot(time * 1e3, voltage)"
   ]
  },
  {
   "cell_type": "markdown",
   "id": "6e792b1b-ca21-47bb-98dc-07efe8c35479",
   "metadata": {},
   "source": [
    "## FFT \n",
    "Perform an FFT on the data and plot the results on a log-log scale. It can help to omit the first point from the data on a log-log plot, because any DC offset will bias the y scale. Do the results match your expected signal?"
   ]
  },
  {
   "cell_type": "code",
   "execution_count": null,
   "id": "77f7fcb3-4538-4130-a02a-a43c3fa4a553",
   "metadata": {},
   "outputs": [],
   "source": [
    "f, y = simple_fft(tsample, voltage)"
   ]
  },
  {
   "cell_type": "code",
   "execution_count": null,
   "id": "7ae4ce3d-104f-4f85-ae10-cb8bc02fcb20",
   "metadata": {},
   "outputs": [],
   "source": [
    "fig, ax = plt.subplots()\n",
    "ax.set(ylabel = 'Voltage (V)', xlabel = 'Frequency (Hz)')\n",
    "ax.set(yscale = 'log', xscale = 'log')\n",
    "ax.grid()\n",
    "ax.plot(f[1:], y[1:])"
   ]
  },
  {
   "cell_type": "markdown",
   "id": "bc350684-199e-4d4a-a012-99ce89224a58",
   "metadata": {},
   "source": [
    "### Square wave FFT \n",
    "Try repeating the steps above with a square wave. Are the results what you expect?"
   ]
  },
  {
   "cell_type": "code",
   "execution_count": null,
   "id": "d678e23e-597e-409f-909a-8e2a49c4233d",
   "metadata": {},
   "outputs": [],
   "source": [
    "# set up instrument parameters\n",
    "frequency = 1e3\n",
    "tperiod = 1 / frequency \n",
    "total_time = tperiod * 10 \n",
    "divisions = 14\n",
    "xscale = total_time / divisions \n",
    "initialize(inst) \n",
    "set_xscale(inst, xscale)\n",
    "\n",
    "# capture data\n",
    "set_trigger_mode(inst, 'AUTO')\n",
    "sleep(1)\n",
    "tsample, time, voltage = capture_data(inst)\n",
    "\n",
    "# create log file \n",
    "log = create_log(xscale, 0, 1, 0, \n",
    "                 1, 'AUTO')\n",
    "\n",
    "# plot timestream\n",
    "fig, ax = plt.subplots()\n",
    "ax.set(ylabel = 'Voltage (V)', xlabel = 'Time (ms)')\n",
    "ax.grid()\n",
    "ax.plot(time * 1e3, voltage)\n",
    "# plot FFT\n",
    "f, y = simple_fft(tsample, voltage)\n",
    "fig, ax = plt.subplots()\n",
    "ax.set(ylabel = 'Voltage (V)', xlabel = 'Frequency (Hz)')\n",
    "ax.set(yscale = 'log', xscale = 'log')\n",
    "ax.grid()\n",
    "ax.plot(f[1:], y[1:])"
   ]
  },
  {
   "cell_type": "markdown",
   "id": "a60bdcc7-5808-4f0a-ad3f-35c051f24fad",
   "metadata": {},
   "source": [
    "# Creating the .py file \n",
    "Finally, transfer all of your relevant functions into the siglent_sds1104xe.py file. This will allow us to use the code in the rest of the lab without copying/pasting into every notebook.\n",
    "\n",
    "# Bonus\n",
    "If you are familiar with Python classes, create a class to control the instrument that contains all of the functions you have written above. This is the standard method for writing instrument control code in Python."
   ]
  },
  {
   "cell_type": "code",
   "execution_count": null,
   "id": "cf676a31-7cbb-4176-93aa-e99e0706c499",
   "metadata": {},
   "outputs": [],
   "source": []
  }
 ],
 "metadata": {
  "kernelspec": {
   "display_name": "Python 3 (ipykernel)",
   "language": "python",
   "name": "python3"
  },
  "language_info": {
   "codemirror_mode": {
    "name": "ipython",
    "version": 3
   },
   "file_extension": ".py",
   "mimetype": "text/x-python",
   "name": "python",
   "nbconvert_exporter": "python",
   "pygments_lexer": "ipython3",
   "version": "3.11.9"
  }
 },
 "nbformat": 4,
 "nbformat_minor": 5
}
