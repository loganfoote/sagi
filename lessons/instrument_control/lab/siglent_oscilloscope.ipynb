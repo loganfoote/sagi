{
 "cells": [
  {
   "cell_type": "markdown",
   "id": "3b2b4206-8969-4fae-b337-81d889314c39",
   "metadata": {},
   "source": [
    "# IC/DAQ Lab\n",
    "In this lab, you will learn to connect to instruments to perform a measurement of the frequency transmission through an electronic circuit. First, we will learn how to connect to the oscilloscope and read out data. To begin, create the variable `rm`, which is the pyvisa resource manager. Then, connect to the oscilloscope using the ip address and assign the resource to the variable `inst`. Test your connection using the `'*IDN?'` command. Wrap this code into a function that connects to the resource, prints the `*IDN?` query, and returns `inst`. For each function, you should complete the docstring where it says \"COMPLETE THIS\"."
   ]
  },
  {
   "cell_type": "code",
   "execution_count": null,
   "id": "6dc6a41c-35b4-4a80-b08e-247ee0bd036a",
   "metadata": {},
   "outputs": [],
   "source": [
    "import pyvisa\n",
    "import numpy as np\n",
    "from time import sleep"
   ]
  },
  {
   "cell_type": "code",
   "execution_count": null,
   "id": "19ee473d-cebe-4929-ab93-9de8056c3860",
   "metadata": {},
   "outputs": [],
   "source": [
    "def connect(ip_address = '192.168.1.164'):\n",
    "    \"\"\"\n",
    "    COMPLETE THIS \n",
    "\n",
    "    :param ip_address: str, COMPLETE THIS  \n",
    "\n",
    "    :return inst: pyvisa resource\n",
    "    \"\"\"\n",
    "    # Your code here \n",
    "    return inst\n",
    "\n",
    "inst = connect_oscilloscope()"
   ]
  },
  {
   "cell_type": "markdown",
   "id": "e0528b81-c0f9-4aef-bdd3-914a454ffdbc",
   "metadata": {},
   "source": [
    "### Setting up the oscilloscope parameters\n",
    "Next, we will set some of the oscilloscope settings manually. Fill in the following functions. Use the SDS programming manual to find the appropriate SCPI commands. \n",
    "\n",
    "### Note\n",
    "Several of these parameters can only be set to discrete values. If we try to set a value that is not possible, it will choose the closest value. For example, if we try to set the yscale to 999 mV / div, it will choose 1 V / div. We can ignore this for now, but keep it in mind so you don't run into problems later."
   ]
  },
  {
   "cell_type": "code",
   "execution_count": null,
   "id": "e4622aae-9954-461c-8a72-d24168fbacca",
   "metadata": {},
   "outputs": [],
   "source": [
    "def set_xscale(inst, xscale):\n",
    "    \"\"\"\n",
    "    Sets the horizontal scale\n",
    "\n",
    "    :param inst: pyvisa resource\n",
    "    :param xscale: COMPLETE THIS \n",
    "    \"\"\"\n",
    "    inst.write(f'TIME_DIV {xscale}s')\n",
    "    \n",
    "def set_xoffset(inst, xoffset):\n",
    "    \"\"\"\n",
    "    Sets the horizontal offset\n",
    "\n",
    "    :param inst: pyvisa resource\n",
    "    :param xoffset: COMPLETE THIS \n",
    "    \"\"\"\n",
    "    # Your code here\n",
    "\n",
    "def set_yscale(inst, yscale, ch = 1):\n",
    "    \"\"\"\n",
    "    Sets the vertical scale on the given channel\n",
    "\n",
    "    :param inst: pyvisa resource\n",
    "    :param yscale: COMPLETE THIS \n",
    "    :param ch: int, channel index, must be in [1, 2, 3, 4]\n",
    "    \"\"\"\n",
    "    # Your code here\n",
    "\n",
    "def set_yoffset(inst, yoffset, ch = 1):\n",
    "    \"\"\"\n",
    "    Sets the vertical offset on the given channel\n",
    "\n",
    "    :param inst: pyvisa resource\n",
    "    :param yoffset: COMPLETE THIS \n",
    "    :param ch: int, channel index, must be in [1, 2, 3, 4]\n",
    "    \"\"\"\n",
    "    # Your code here\n",
    "    \n",
    "def set_amplification(inst, amplification, ch = 1):\n",
    "    \"\"\"\n",
    "    Sets the amplification on the given channel\n",
    "\n",
    "    :param inst: pyvisa resource\n",
    "    :param amplification: COMPLETE THIS \n",
    "    :param ch: int, channel index, must be in [1, 2, 3, 4]\n",
    "    \"\"\"\n",
    "    # Your code here\n",
    "\n",
    "def set_trigger_mode(inst, mode = 'AUTO'):\n",
    "    \"\"\"\n",
    "    Sets the trigger mode \n",
    "\n",
    "    :param inst: pyvisa resource\n",
    "    :param mode: COMPLETE THIS \n",
    "    \"\"\"\n",
    "    # Your code here"
   ]
  },
  {
   "cell_type": "markdown",
   "id": "e72ac635-c44d-44d0-a4e1-3af6165c1337",
   "metadata": {},
   "source": [
    "### Initialization function\n",
    "Write a function that initializes the instrument using the following parameters:\n",
    "<ul>\n",
    "    <li>xscale: 10 $\\mu$s/div</li>\n",
    "    <li>xoffset: 0 s</li>\n",
    "    <li>yscale: 1 V/div</li>\n",
    "    <li>yoffset: 0 V</li>\n",
    "    <li>amplification: 1X</li>\n",
    "    <li>trigger mode: AUTO</li>\n",
    "</ul>\n",
    "Make sure to set these parameters for all four channels. Turn on channel 1, and turn off the other channels."
   ]
  },
  {
   "cell_type": "code",
   "execution_count": null,
   "id": "95ae160f-9169-4fe7-bdfc-a6b4ba8d88dc",
   "metadata": {},
   "outputs": [],
   "source": [
    "def initialize(inst):\n",
    "    \"\"\"\n",
    "    COMPLETE THIS \n",
    "    \"\"\"\n",
    "    # Your code here"
   ]
  },
  {
   "cell_type": "markdown",
   "id": "27645911-5708-482c-abf5-ecf3110b4448",
   "metadata": {},
   "source": [
    "# Get functions\n",
    "Write functions to get the yscale and yoffset."
   ]
  },
  {
   "cell_type": "code",
   "execution_count": null,
   "id": "5d82d93b-a9e9-458d-9aa1-4a0b8faa9a1c",
   "metadata": {},
   "outputs": [],
   "source": [
    "def get_yscale(inst, ch = 1):\n",
    "    \"\"\"\n",
    "    COMPLETE THIS \n",
    "    \"\"\"\n",
    "    # Your code here\n",
    "    return yscale\n",
    "    \n",
    "def get_yoffset(inst, ch = 1):\n",
    "    \"\"\"\n",
    "    COMPLETE THIS \n",
    "    \"\"\"\n",
    "    # Your code here\n",
    "    return yoffset"
   ]
  },
  {
   "cell_type": "markdown",
   "id": "6053a03e-63dd-4570-85b2-2d566e8640ff",
   "metadata": {},
   "source": [
    "### Bonus\n",
    "For the rest of the 'set functions above, write the corresponding 'get' function."
   ]
  },
  {
   "cell_type": "code",
   "execution_count": null,
   "id": "7f010458-3d00-44d1-a063-29e1b85d0011",
   "metadata": {},
   "outputs": [],
   "source": [
    "def get_xscale(inst):\n",
    "    \"\"\"\n",
    "    COMPLETE THIS \n",
    "    \"\"\"\n",
    "    # Your code here\n",
    "\n",
    "def get_xoffset(inst):of\n",
    "    \"\"\"\n",
    "    COMPLETE THIS  \n",
    "    \"\"\"\n",
    "    # Your code here\n",
    "\n",
    "def get_amplification(inst, ch = 1):\n",
    "    \"\"\"\n",
    "    COMPLETE THIS \n",
    "    \"\"\"\n",
    "    # Your code here\n",
    "\n",
    "def get_trigger_mode(inst):\n",
    "    \"\"\"\n",
    "    COMPLETE THIS \n",
    "    \"\"\"\n",
    "    # Your code here"
   ]
  },
  {
   "cell_type": "markdown",
   "id": "4d2288f1-0742-40db-bda5-79bacc272ece",
   "metadata": {},
   "source": [
    "### Logging\n",
    "We want to remember the parameters we set, so we need to set up a log file to save these parameters. Write a function that creates the log string, which will later be save to a log file. Include the oscilloscope name at the top of the log file. "
   ]
  },
  {
   "cell_type": "code",
   "execution_count": null,
   "id": "6e2cd127-fe4a-4355-bfb0-6e49ef7660bd",
   "metadata": {},
   "outputs": [],
   "source": [
    "def create_log(xscale, xoffset, yscale, yoffset, \n",
    "               amplification, trigger_mode):\n",
    "    \"\"\"\n",
    "    Creates a log file to keep track connect of the \n",
    "    oscilloscope parameters\n",
    "\n",
    "    COMPLETE THIS \n",
    "    \"\"\"\n",
    "    log = \"------------- SIGLENT SDS 1104X-E -------------\\n\" \n",
    "    # Your code here \n",
    "    return log "
   ]
  },
  {
   "cell_type": "markdown",
   "id": "5f4d7b6e-3293-41e3-9735-c159a050b882",
   "metadata": {},
   "source": [
    "### Reading data\n",
    "Next, we will read data from the oscilloscope. First, write a segment of code to get the sample time and sample frequency."
   ]
  },
  {
   "cell_type": "code",
   "execution_count": null,
   "id": "34e2e3c6-3632-46ee-86ed-4dd8a5a4b951",
   "metadata": {},
   "outputs": [],
   "source": [
    "fsample = inst.query('SARA?')\n",
    "# Your code here "
   ]
  },
  {
   "cell_type": "markdown",
   "id": "8b736706-ee77-43c3-a2c7-74497b52d794",
   "metadata": {},
   "source": [
    "Now, write a segment of code to get the number of volts per division and the voltage offset. You can use the functions you wrote earlier."
   ]
  },
  {
   "cell_type": "code",
   "execution_count": null,
   "id": "9ba5ba02-4546-49ff-b3ad-d33a9a7aaa73",
   "metadata": {},
   "outputs": [],
   "source": [
    "# Your code here "
   ]
  },
  {
   "cell_type": "markdown",
   "id": "eccddebe-8074-47e1-98d1-63e4fbbeca28",
   "metadata": {},
   "source": [
    "Now, write a segment of code to receive the data. Instead of using `query` here, we will use `inst.query_binary_values` with the extra argument `datatype 'B'`. This will ensure that the binary values are converted to integers correctly. We will then have to convert the binary values to a voltage using vdiv and voffset. Use the programming manual to make sure you have done this correctly."
   ]
  },
  {
   "cell_type": "code",
   "execution_count": null,
   "id": "a12d1959-202c-4d4b-8b41-39058e9fc5c6",
   "metadata": {},
   "outputs": [],
   "source": [
    "raw_data = inst.query_binary_values('C1:WF? DAT2', datatype = 'B')\n",
    "# Your code here "
   ]
  },
  {
   "cell_type": "markdown",
   "id": "09c925a4-22c7-4e19-bd39-3ea0c6c75164",
   "metadata": {},
   "source": [
    "Finally, put the last three cells together to create a single function that captures a waveform and returns the following:\n",
    "<ul>\n",
    "    <li>tsample (float): sample time in seconds</li>\n",
    "    <li>time (list): time array in seconds</li>\n",
    "    <li>voltage (list): voltage array in V</li>\n",
    "</ul>"
   ]
  },
  {
   "cell_type": "code",
   "execution_count": null,
   "id": "4109d405-c671-4b60-9ffd-406f017a2db9",
   "metadata": {},
   "outputs": [],
   "source": [
    "def capture_data(inst):\n",
    "    \"\"\"\n",
    "    Captures data from thplote most recent trigger \n",
    "\n",
    "    :param inst: pyvisa resource\n",
    "\n",
    "    :return tsample: sample time in seconds \n",
    "    :return time: np.array, time array in seconds\n",
    "    :return voltage: np.array, voltage array in V\n",
    "    \"\"\"\n",
    "    # Your code here\n",
    "    return tsample, time, voltage"
   ]
  },
  {
   "cell_type": "markdown",
   "id": "e3819bd6-597a-42cd-a84b-0f04ed17235e",
   "metadata": {},
   "source": [
    "### Note\n",
    "If we were saving large amount of data, we may want to bypass creating the `time` array, and just save the sample time. For the small amounts of data we will use in this lab, it is easier to just create and save the time array with the voltage, so we don't have to keep track of `tsample`."
   ]
  },
  {
   "cell_type": "markdown",
   "id": "2ed1e8a5-06a5-439f-b7fd-1f5fde46b83f",
   "metadata": {},
   "source": [
    "### Loopback measurement\n",
    "Using the functions you have defined above, we will perform a simple measurement. Suppose you have a signal of the frequency defined below. Initialize the instrument, then set the x scale to cover 20 periods of the signal (Note that the xscale is per division, and we have 14 divisions of data). Set the function generator the the frequency we chose, and plug it directly into the oscilloscope. Plot your output data, and create the log string. Don't forget x and y axis labels on your plot."
   ]
  },
  {
   "cell_type": "code",
   "execution_count": null,
   "id": "068c57ff-a081-4467-9997-dd4cc650228c",
   "metadata": {},
   "outputs": [],
   "source": [
    "frequency = 1e3\n",
    "# Your code here \n",
    "xscale = \n",
    "\n",
    "initialize(inst) \n",
    "set_xscale(inst, xscale)"
   ]
  },
  {
   "cell_type": "code",
   "execution_count": null,
   "id": "afafe970-4870-405e-a04e-46de9ebe3345",
   "metadata": {},
   "outputs": [],
   "source": [
    "tsample, time, voltage = capture_data(inst)"
   ]
  },
  {
   "cell_type": "code",
   "execution_count": null,
   "id": "6e0105e0-764a-4a2f-90bf-c2e7e31c35da",
   "metadata": {},
   "outputs": [],
   "source": [
    "log = create_log(xscale, 0, 1, 0, \n",
    "                 1, 'AUTO')"
   ]
  },
  {
   "cell_type": "code",
   "execution_count": null,
   "id": "868cc010-51dc-43e8-accb-bdc6939d82a0",
   "metadata": {},
   "outputs": [],
   "source": [
    "import matplotlib.pyplot as plt\n",
    "# Plot the data here. "
   ]
  },
  {
   "cell_type": "markdown",
   "id": "6e792b1b-ca21-47bb-98dc-07efe8c35479",
   "metadata": {},
   "source": [
    "## FFT \n",
    "Perform an FFT on the data and plot the results on a log-log scale. It can help to omit the first point from the data on a log-log plot, because any DC offset will bias the y scale. Do the results match your expected signal?"
   ]
  },
  {
   "cell_type": "code",
   "execution_count": null,
   "id": "77f7fcb3-4538-4130-a02a-a43c3fa4a553",
   "metadata": {},
   "outputs": [],
   "source": [
    "from simple_fft import simple_fft\n",
    "f, y = simple_fft(tsample, voltage)"
   ]
  },
  {
   "cell_type": "code",
   "execution_count": null,
   "id": "7ae4ce3d-104f-4f85-ae10-cb8bc02fcb20",
   "metadata": {},
   "outputs": [],
   "source": [
    "# plot your data here "
   ]
  },
  {
   "cell_type": "markdown",
   "id": "bc350684-199e-4d4a-a012-99ce89224a58",
   "metadata": {},
   "source": [
    "### Square wave FFT \n",
    "Try repeating the steps above with a square wave. Are the results what you expect?"
   ]
  },
  {
   "cell_type": "code",
   "execution_count": null,
   "id": "d678e23e-597e-409f-909a-8e2a49c4233d",
   "metadata": {},
   "outputs": [],
   "source": []
  },
  {
   "cell_type": "markdown",
   "id": "a60bdcc7-5808-4f0a-ad3f-35c051f24fad",
   "metadata": {},
   "source": [
    "# Creating the .py file \n",
    "Finally, transfer all of your relevant functions into the siglent_sds1104xe.py file. This will allow us to use the code in the rest of the lab without copying/pasting into every notebook.\n",
    "\n",
    "# Bonus\n",
    "If you are familiar with Python classes, create a class to control the instrument that contains all of the functions you have written above. This is the standard method for writing instrument control code in Python."
   ]
  }
 ],
 "metadata": {
  "kernelspec": {
   "display_name": "Python 3 (ipykernel)",
   "language": "python",
   "name": "python3"
  },
  "language_info": {
   "codemirror_mode": {
    "name": "ipython",
    "version": 3
   },
   "file_extension": ".py",
   "mimetype": "text/x-python",
   "name": "python",
   "nbconvert_exporter": "python",
   "pygments_lexer": "ipython3",
   "version": "3.11.9"
  }
 },
 "nbformat": 4,
 "nbformat_minor": 5
}
