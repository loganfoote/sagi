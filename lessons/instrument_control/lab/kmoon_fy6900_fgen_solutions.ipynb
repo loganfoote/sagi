{
 "cells": [
  {
   "cell_type": "code",
   "execution_count": 8,
   "id": "2861c1fc-de69-482f-b00a-6c06dda9e9b1",
   "metadata": {},
   "outputs": [],
   "source": [
    "import serial\n",
    "import time"
   ]
  },
  {
   "cell_type": "markdown",
   "id": "2d9b9239-8cda-4daf-be39-6d1cf359bfc5",
   "metadata": {},
   "source": [
    "## 1) Connect to the waveform generator using the serial interface"
   ]
  },
  {
   "cell_type": "code",
   "execution_count": 4,
   "id": "b02d0ff3-0ae1-4ab7-9faf-5c64de4a8581",
   "metadata": {},
   "outputs": [],
   "source": [
    "def connect(port = '/dev/ttyUSB0' ):\n",
    "    \"\"\"\n",
    "    Connects to the function generator through the serial\n",
    "    interface\n",
    "\n",
    "    :param port: str, USB port of the function generator\n",
    "\n",
    "    :return ser:serial resource\n",
    "    \"\"\"\n",
    "    \n",
    "    baud_rate = 115200 \n",
    "    inst = serial.Serial(port, baud_rate, timeout = 1)\n",
    "    return inst\n",
    "\n",
    "def query(inst, command):\n",
    "    inst.write(command.encode())\n",
    "    response = inst.read(inst.in_waiting).decode()\n",
    "    time.sleep(1)\n",
    "    response = response.replace('\\n', '')\n",
    "    return response\n",
    "    \n",
    "inst = connect()"
   ]
  },
  {
   "cell_type": "markdown",
   "id": "6bb150fb-f930-4cb9-b951-cc3fff8459e3",
   "metadata": {},
   "source": [
    "## 2) Set basic waveform parameters\n",
    "\n",
    "Refer to the SDG 2082X Programming manual to complete the following functions. For each function, you should complete the docstring where\n",
    "it says \"COMPLETE THIS\""
   ]
  },
  {
   "cell_type": "markdown",
   "id": "d743baa3-47b1-41f4-a920-904498d94547",
   "metadata": {},
   "source": [
    "Write a function to query the basic wave parameters and return a dictionary"
   ]
  },
  {
   "cell_type": "code",
   "execution_count": 30,
   "id": "6097de0d-efe8-4e29-9b62-729267458717",
   "metadata": {},
   "outputs": [],
   "source": [
    "channels = {1: 'M', 2: 'F'}\n",
    "def get_basic_wave(inst, channel):\n",
    "    \"\"\" Query the basic waveform parameters and return a dictionary that splits the parameters.\n",
    "\n",
    "    :param inst: serial resource.\n",
    "    :param channel: Waveform generator channel to query.\n",
    "    \"\"\"\n",
    "    response = query(inst, f'R{channels[channel]}W\\n')\n",
    "    return response\n",
    "# I don't understand the output "
   ]
  },
  {
   "cell_type": "code",
   "execution_count": 31,
   "id": "05daeee5-abbe-4dcb-b63a-92759c99c417",
   "metadata": {},
   "outputs": [],
   "source": [
    "def get_channel_state(inst, channel):\n",
    "    \"\"\" Get the current state of a channel.\n",
    "\n",
    "    :param inst: serial resource.\n",
    "    :param channel: Waveform generator channel.\n",
    "    \"\"\"\n",
    "    response = query(inst, f'R{channels[channel]}N\\n')\n",
    "\n",
    "    return response "
   ]
  },
  {
   "cell_type": "markdown",
   "id": "588645df-c22c-4bb1-8792-e32a220afbb1",
   "metadata": {},
   "source": [
    "Set the basic wave parameters"
   ]
  },
  {
   "cell_type": "code",
   "execution_count": 40,
   "id": "2ac0bbc5-54ec-4233-9326-f39f6ef27344",
   "metadata": {},
   "outputs": [],
   "source": [
    "def set_wave_type(inst, channel, wave_type):\n",
    "    \"\"\" Set the waveform type using the Basic Wave command.\n",
    "\n",
    "    :param inst: serial resource object corresponding to the waveform generator\n",
    "    :param wave_type: int, 1 for sine, 2 for square, etc\n",
    "    \"\"\"\n",
    "    command = f'W{channels[channel]}W{wave_type}\\n'\n",
    "    ser.write(command.encode())\n",
    "\n",
    "def set_frequency(inst, frequency):\n",
    "    \"\"\" Set the waveform fundamental frequency.\n",
    "    \n",
    "    :param inst: serial resource object corresponding to the waveform generator.\n",
    "    :param channel: (int) Channel on which to change the waveform type.\n",
    "    :param frequency: COMPLETE THIS\n",
    "    \"\"\"\n",
    "    command = f'W{channels[channel]}F{int(round(frequency * 1e6, 0)):010d}\\n' \n",
    "    ser.write(command.encode())\n",
    "\n",
    "def set_amplitude(inst, channel, amplitude):\n",
    "    \"\"\" Set the waveform amplitude in peak-to-peak units.\n",
    "\n",
    "    :param inst: serial resource object corresponding to the waveform generator.\n",
    "    :param channel: (int) Channel on which to change the waveform type.\n",
    "    :param amp: COMPLETE THIS\n",
    "    \"\"\"\n",
    "    command = f'W{channels[channel]}A{round(amplitude, 4)}\\n'\n",
    "    ser.write(command.encode())\n",
    "\n",
    "def set_offset(inst, channel, offset):\n",
    "    \"\"\" Set the waveform DC offset.\n",
    "\n",
    "    :param inst: serial resource object corresponding to the waveform generator.\n",
    "    :param channel: (int) Channel on which to change the waveform type.\n",
    "    :param offset: COMPLETE THIS\n",
    "    \"\"\"\n",
    "    command = f'W{channels[channel]}O{round(offset, 4)}\\n'\n",
    "    ser.write(command.encode())"
   ]
  },
  {
   "cell_type": "markdown",
   "id": "7aae8060-06f4-46c9-ac45-271c79b54148",
   "metadata": {},
   "source": [
    "Turn a channel output on or off"
   ]
  },
  {
   "cell_type": "code",
   "execution_count": 38,
   "id": "7b53c91e-4455-42ca-b828-92405a8d2933",
   "metadata": {},
   "outputs": [],
   "source": [
    "def set_channel_state(inst, channel, state):\n",
    "    \"\"\" Set the state of a waveform generator channel to ON or OFF.\n",
    "\n",
    "    :param inst: serial resource.\n",
    "    :param channel: Waveform channel.\n",
    "    :param state: 'ON' or 'OFF' to specify the state.\n",
    "    \"\"\"\n",
    "    if state == 'ON':\n",
    "        state = 1 \n",
    "    elif state == 'OFF':\n",
    "        state = 0\n",
    "    else:\n",
    "        raise ValueError(\"state must be 'ON' or 'OFF'\")\n",
    "    command = f'W{channels[channel]}N{state}\\n'\n",
    "    ser.write(command.encode())"
   ]
  },
  {
   "cell_type": "markdown",
   "id": "b17601af-f4d5-45f3-9bab-ed88818f384f",
   "metadata": {},
   "source": [
    "## 3) Initialization"
   ]
  },
  {
   "cell_type": "markdown",
   "id": "e2f0be69-2084-4d2b-aa51-a4df920d5ad2",
   "metadata": {},
   "source": [
    "Initialize both channels of the waveform generator to a sine wave with frequency 1 Hz, amplitude 1 Vpp, offset 0V.\n",
    "\n",
    "Make sure both channels are turned off"
   ]
  },
  {
   "cell_type": "code",
   "execution_count": null,
   "id": "063eed39-87f6-493c-b221-214b4124d863",
   "metadata": {},
   "outputs": [],
   "source": [
    "def initialize(inst):\n",
    "    \"\"\" Initialize both channels of the waveform generator to a sine wave with frequency 1 Hz, amplitude 1 Vpp, and offset 0V.\n",
    "    Turn off both channels\n",
    "\n",
    "    :param inst: serial resource.\n",
    "    \"\"\"\n",
    "    for channel in [1, 2]:\n",
    "        set_channel_state(inst, channel, 'OFF')\n",
    "        set_wave_type(inst, channel, 'SINE')\n",
    "        set_frequency(inst, channel, 1)\n",
    "        set_amplitude(inst, channel, 1)\n",
    "        set_offset(inst, channel, 0)"
   ]
  },
  {
   "cell_type": "markdown",
   "id": "5328eb1a-36a7-448e-b8ee-04a6cd1c96da",
   "metadata": {},
   "source": [
    "## 4) Logging"
   ]
  },
  {
   "cell_type": "markdown",
   "id": "7032adce-79a4-4f4f-a2ae-e10a81e743fc",
   "metadata": {},
   "source": [
    "Use the get_basic_wave() function to create a log string of waveform parameters"
   ]
  },
  {
   "cell_type": "code",
   "execution_count": null,
   "id": "2b7c6098-b838-41db-8e50-3e5aba05a8ce",
   "metadata": {},
   "outputs": [],
   "source": [
    "def create_log(channel, wave_type, freq, amp, offset):\n",
    "    \"\"\" Create a string to log basic parameters of the FY6900 waveform generator output.\n",
    "\n",
    "    :param channel: Which channel the parameters correspond to.\n",
    "    :param wave_type: Type of waveform.\n",
    "    :param freq: Frequency in Hz.\n",
    "    :param amp: Amplitude in volts peak-to-peak.\n",
    "    :param offset: Offset voltage.\n",
    "    \"\"\"\n",
    "    log = \"# -------------- FY6900 Waveform Settings -------------- #\\n\"\n",
    "    log += f\"Channel: {channel}\\n\"\n",
    "    log += f\"Waveform Type: {wave_type}\\n\"\n",
    "    log += f\"Frequency: {freq} Hz\\n\"\n",
    "    log += f\"Amplitude: {amp} Volts peak-to-peak\\n\"\n",
    "    log += f\"Offset: {offset} Volts\\n\"\n",
    "    return log"
   ]
  },
  {
   "cell_type": "code",
   "execution_count": null,
   "id": "aebc1ce6-5191-4572-a288-210b09bccbe6",
   "metadata": {},
   "outputs": [],
   "source": []
  },
  {
   "cell_type": "code",
   "execution_count": null,
   "id": "66e92cf1-44c4-4165-aec0-78dab997872e",
   "metadata": {},
   "outputs": [],
   "source": []
  }
 ],
 "metadata": {
  "kernelspec": {
   "display_name": "Python 3 (ipykernel)",
   "language": "python",
   "name": "python3"
  },
  "language_info": {
   "codemirror_mode": {
    "name": "ipython",
    "version": 3
   },
   "file_extension": ".py",
   "mimetype": "text/x-python",
   "name": "python",
   "nbconvert_exporter": "python",
   "pygments_lexer": "ipython3",
   "version": "3.11.9"
  }
 },
 "nbformat": 4,
 "nbformat_minor": 5
}
