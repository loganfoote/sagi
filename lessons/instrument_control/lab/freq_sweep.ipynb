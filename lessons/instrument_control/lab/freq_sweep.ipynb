{
 "cells": [
  {
   "cell_type": "markdown",
   "id": "a6bd7405-ebb0-47e2-8f89-3bc85dc04dfe",
   "metadata": {},
   "source": [
    "# Frequency sweep\n",
    "Now that we can control the function generator and the oscilloscope, we are ready to set up a frequency sweep. Start by connecting to both devices and creating log string for each. Concatenate the two log strings. We will be varying the function generator frequency and oscilloscope xscale throughout the project, so set these values to the string `'VARIABLE'` in the log file. We will log them later. You may want to change the y scale of the oscilloscope depending on the transmission through your circuit, so ensure that it is a variable parameter."
   ]
  },
  {
   "cell_type": "code",
   "execution_count": null,
   "id": "ebee7a52-5068-4136-a5c4-0fba7c4121e4",
   "metadata": {},
   "outputs": [],
   "source": [
    "# Your code here "
   ]
  },
  {
   "cell_type": "markdown",
   "id": "5da14b00-828d-45bc-9435-1619e0949962",
   "metadata": {},
   "source": [
    "Now, we need a function that will set the frequency of the function generator and set the xscale of the oscilloscope to cover two periods per division. Put a sleep statement at the end of the function to ensure that both devices have time to be set properly."
   ]
  },
  {
   "cell_type": "code",
   "execution_count": null,
   "id": "e53deac3-951d-4e48-a8e7-94449cff3f70",
   "metadata": {},
   "outputs": [],
   "source": [
    "def set_freq(fgen_inst, osc_inst, freq):\n",
    "    \"\"\" \n",
    "    Sets the function generator to the given frequency and sets up the \n",
    "    oscilloscope x scale to roughly ten periods per division \n",
    "\n",
    "    :param osc_inst: oscilloscope pyvisa resource \n",
    "    :param fgen_inst: function generator pyvisa resource\n",
    "    :param freq: float, frequency in Hz \n",
    "    \"\"\"\n",
    "    # Your code here "
   ]
  },
  {
   "cell_type": "markdown",
   "id": "f8496c08-ea19-4c06-87f8-4f169be9f49e",
   "metadata": {},
   "source": [
    "We will now set up a frequency sweep. Using the following parameters, append to the log file the information about the frequency sweep and create a list of frequencies. Change the output directory to your group name. We have written code to raise an error if the files already exist, so you don't overwrite another group's data."
   ]
  },
  {
   "cell_type": "code",
   "execution_count": null,
   "id": "65b49023-f345-459f-a662-f0199111aaf4",
   "metadata": {},
   "outputs": [],
   "source": [
    "# Your code here \n",
    "start_freq = 1000\n",
    "end_freq = 1e6 \n",
    "npoints = \n",
    "######################################################################\n",
    "### Here is how we create a logarithmically spaced frequency array ###\n",
    "frequencies = np.geomspace(start_freq, end_freq, npoints)\n",
    "######################################################################\n",
    "log = inst_log + \"# --------- Geometric frequency sweep settings --------- #\\n\" \n",
    "# Your code here \n",
    "\n",
    "out_directory = \n",
    "log_path = out_directory + 'freqsweep.log' \n",
    "if os.path.exists(log_path):\n",
    "    raise FileExistsError(f'{log_path} already exists')\n",
    "with open(log_path, 'w') as f:\n",
    "    f.write(log)"
   ]
  },
  {
   "cell_type": "markdown",
   "id": "393a65ee-2c2b-4fb8-8c16-111c2d3b636a",
   "metadata": {},
   "source": [
    "Now, we will create a loop to iteratively set the frequency and save data. For each frequency in `frequencies`, first set the frequency, then capture data, then save the data. Don't forget to turn on the function generator output before taking data, and turn it off when you are done."
   ]
  },
  {
   "cell_type": "code",
   "execution_count": null,
   "id": "810f6683-f04f-4ebc-a7e2-575c4abc6970",
   "metadata": {},
   "outputs": [],
   "source": [
    "# Your code here "
   ]
  },
  {
   "cell_type": "markdown",
   "id": "cd320948-2708-432c-9816-6409751fd3c1",
   "metadata": {},
   "source": [
    "# Analysis\n",
    "We will now import each set of data, FFT the data, extract the amplitude at the desired frequency, and plot the amplitude versus frequency. It is recommended that you scale the x-axis logarithmically and plot the y-axis in dB. We commonly use dB for transmission through a circuit. It can be calculated from \n",
    "$$\n",
    "dB = 20 \\times \\log\\left(\\frac{V_{\\mathrm{out}}}{V_{\\mathrm{in}}}\\right)=10 \\times \\log\\left(\\frac{P_{\\mathrm{out}}}{P_{\\mathrm{in}}}\\right)\n",
    "$$\n",
    "As a sanity check, plot a few of your timestreams and FFTs with an indication of the value you have selected as the peak. Do your FFTs and amplitude extractions look ok?"
   ]
  },
  {
   "cell_type": "code",
   "execution_count": null,
   "id": "6ce15c2b-c74a-414c-b4e0-51fd6087e5da",
   "metadata": {},
   "outputs": [],
   "source": [
    "# Your code here"
   ]
  },
  {
   "cell_type": "markdown",
   "id": "318b6e2a-52e9-41a3-8530-4ef4fe5012ce",
   "metadata": {},
   "source": [
    "# Cleaning up frequency sweep code\n",
    "You have developed the code you need to perform a frequency sweep, and now you want to wrap the code into a single function to use for the rest of the lab. Write this function and move it to 'freq_sweep.py'. Run the code from this notebook to test it. You may find that you need to add a few sleep statements to stop the code from trying to run before the previous command is finished. In practice, you will use 'get' commands or other methods to force your code to wait until each command is set on the instrument, but we are doing the quick-and-easy method of using sleep statements for now. Now that you have combined your code into a function in the .py file, are there any other functions you need to write to read in the data? Hint: where do you get your frequency list when you import the data?"
   ]
  },
  {
   "cell_type": "code",
   "execution_count": null,
   "id": "580ef04b-519b-40ad-a792-31d8384591a7",
   "metadata": {},
   "outputs": [],
   "source": [
    "import siglent_sds1104xe_oscope as osc \n",
    "import siglent_sdg2082x_fgen as fgen\n",
    "from freq_sweep import capture_freq_sweep\n",
    "import matplotlib.pyplot as plt\n",
    "import numpy as np \n",
    "\n",
    "out_directory = \n",
    "\n",
    "osc_inst = osc.connect('oscope IP')\n",
    "fgen_inst = fgen.connect('fgen IP')\n",
    "\n",
    "start_freq = 1000\n",
    "end_freq = 1e6 \n",
    "npoints = 100\n",
    "yscale = 0.5\n",
    "\n",
    "capture_freq_sweep(out_directory, osc_inst, fgen_inst, start_freq, end_freq, npoints, yscale)"
   ]
  },
  {
   "cell_type": "code",
   "execution_count": null,
   "id": "4ff46a96-0cd1-46ae-86e1-339b1acf88a5",
   "metadata": {},
   "outputs": [],
   "source": [
    "# Import the data here \n",
    "from freq_sweep_solution import import_freq_sweep\n",
    "frequencies, transmission = import_freq_sweep(out_directory)"
   ]
  },
  {
   "cell_type": "code",
   "execution_count": null,
   "id": "026975c6-9470-42db-8289-13df3b79b285",
   "metadata": {},
   "outputs": [],
   "source": [
    "# Plot the results here "
   ]
  }
 ],
 "metadata": {
  "kernelspec": {
   "display_name": "Python 3 (ipykernel)",
   "language": "python",
   "name": "python3"
  },
  "language_info": {
   "codemirror_mode": {
    "name": "ipython",
    "version": 3
   },
   "file_extension": ".py",
   "mimetype": "text/x-python",
   "name": "python",
   "nbconvert_exporter": "python",
   "pygments_lexer": "ipython3",
   "version": "3.11.9"
  }
 },
 "nbformat": 4,
 "nbformat_minor": 5
}
