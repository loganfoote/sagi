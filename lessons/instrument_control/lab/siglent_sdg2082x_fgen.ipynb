{
 "cells": [
  {
   "cell_type": "markdown",
   "id": "969d7851-b129-416e-aa76-3542ec1f2971",
   "metadata": {},
   "source": [
    "# IC/DAQ + Electronics Lab\n",
    "\n",
    "In this lab, you will learn to connect to instruments to perform an automated measurement of the frequency transmission through an electronic circuit. \n",
    "\n",
    "Here, we connect to the Siglent SDG2082x function generator using the Pyvisa library and the ethernet interface.\n",
    "\n",
    "For each of the below function templates, you should complete the docstring where it says \"COMPLETE THIS\"."
   ]
  },
  {
   "cell_type": "code",
   "execution_count": null,
   "id": "9438bace-d974-47c4-b5d6-fac30fa0e8f4",
   "metadata": {},
   "outputs": [],
   "source": [
    "import pyvisa\n",
    "import numpy as np\n",
    "from time import sleep"
   ]
  },
  {
   "cell_type": "markdown",
   "id": "94930c23-f633-4c82-84ea-8233d17b6113",
   "metadata": {},
   "source": [
    "To begin, create the variable `rm`, which is the pyvisa resource manager. Then, connect to the oscilloscope using the ip address and assign the resource to the variable `inst`. Test your connection using the `'*IDN?'` command. Wrap this code into a function that connects to the resource, prints the `*IDN?` query, and returns `inst`."
   ]
  },
  {
   "cell_type": "code",
   "execution_count": null,
   "id": "95a9002e-3073-4280-924f-21d70bc18ace",
   "metadata": {},
   "outputs": [],
   "source": [
    "def connect(ip_address = '192.168.2.92'):\n",
    "    \"\"\"\n",
    "    COMPLETE THIS\n",
    "\n",
    "    :param ip_address: str, COMPLETE THIS\n",
    "\n",
    "    :return inst: pyvisa resource\n",
    "    \"\"\"\n",
    "    # Your code here\n",
    "    return inst"
   ]
  },
  {
   "cell_type": "markdown",
   "id": "ea2540f9-6a5b-4f66-8566-6b3029099b3b",
   "metadata": {},
   "source": [
    "### Setting up waveform parameters\n",
    "\n",
    "Next, we will create some functions to set parameters of a waveform. Refer to the SDG programming guide to find the appropriate command syntax. We need functions to set:\n",
    "\n",
    "<ul>\n",
    "    <li>Waveform type</li>\n",
    "    <li>Frequency</li>\n",
    "    <li>Voltage peak-to-peak amplitude</li>\n",
    "    <li>Offset voltage</li>\n",
    "</ul>"
   ]
  },
  {
   "cell_type": "code",
   "execution_count": null,
   "id": "0f72ea68-58ef-40a1-a582-dde5fd0e6ad8",
   "metadata": {},
   "outputs": [],
   "source": [
    "def set_wave_type(inst, channel, wave_type):\n",
    "    \"\"\" Set the waveform type using the Basic Wave command.\n",
    "\n",
    "    :param inst: PyVisa resource object corresponding to the waveform generator.\n",
    "    :param channel: (int) Channel on which to change the waveform type.\n",
    "    :param wave_type: COMPLETE THIS\n",
    "    \"\"\"\n",
    "    valid_wave_types = ['SINE', 'SQUARE', 'RAMP', 'PULSE', 'NOISE', 'ARB', 'DC', 'PRBS', 'IQ']\n",
    "    if wave_type not in valid_wave_types:\n",
    "        raise ValueError(f'wave_type must be one of {valid_wave_types}')\n",
    "    cmd = f'C{channel}:BSWV WVTP,{wave_type}'\n",
    "    inst.write(cmd)\n",
    "\n",
    "def set_frequency(inst, channel, freq):\n",
    "    \"\"\" Set the waveform fundamental frequency.\n",
    "    \n",
    "    :param inst: PyVisa resource object corresponding to the waveform generator.\n",
    "    :param channel: (int) Channel on which to change the waveform type.\n",
    "    :param freq: COMPLETE THIS\n",
    "    \"\"\"\n",
    "    # Your code here\n",
    "\n",
    "def set_amplitude(inst, channel, amp):\n",
    "    \"\"\" Set the waveform amplitude in peak-to-peak units.\n",
    "\n",
    "    :param inst: PyVisa resource object corresponding to the waveform generator.\n",
    "    :param channel: (int) Channel on which to change the waveform type.\n",
    "    :param amp: COMPLETE THIS\n",
    "    \"\"\"\n",
    "    # Your code here\n",
    "\n",
    "def set_offset(inst, channel, offset):\n",
    "    \"\"\" Set the waveform DC offset.\n",
    "\n",
    "    :param inst: PyVisa resource object corresponding to the waveform generator.\n",
    "    :param channel: (int) Channel on which to change the waveform type.\n",
    "    :param offset: COMPLETE THIS\n",
    "    \"\"\"\n",
    "    # Your code here"
   ]
  },
  {
   "cell_type": "markdown",
   "id": "7f51f760-687c-49fb-b60e-0ff2c018a2a4",
   "metadata": {},
   "source": [
    "### Enable and disable a channel output\n",
    "\n",
    "We need a function to turn on and off the output of a waveform generator channel."
   ]
  },
  {
   "cell_type": "code",
   "execution_count": null,
   "id": "107f1f70-2624-417d-8b77-03b781bdce69",
   "metadata": {},
   "outputs": [],
   "source": [
    "def set_channel_state(inst, channel, state):\n",
    "    \"\"\" Set the state of a waveform generator channel to ON or OFF.\n",
    "\n",
    "    :param inst: Pyvisa resource.\n",
    "    :param channel: Waveform channel.\n",
    "    :param state: COMPLETE THIS\n",
    "    \"\"\"\n",
    "    # Your code here"
   ]
  },
  {
   "cell_type": "markdown",
   "id": "05618d88-0334-4b81-861a-4d81699557f6",
   "metadata": {},
   "source": [
    "### Initialization\n",
    "\n",
    "Write a function that initializes the instrument using the following parameters:\n",
    "\n",
    "<ul>\n",
    "    <li>Waveform type = \"SINE\"</li>\n",
    "    <li>Frequency = 1 Hz.</li>\n",
    "    <li>Voltage peak-to-peak amplitude = 1 Volt</li>\n",
    "    <li>Offset voltage = 0 volts</li>\n",
    "</ul>"
   ]
  },
  {
   "cell_type": "code",
   "execution_count": null,
   "id": "aecd8a07-edb4-4b3e-8b41-dce3442d5b91",
   "metadata": {},
   "outputs": [],
   "source": [
    "def initialize(inst):\n",
    "    \"\"\"\n",
    "    COMPLETE THIS\n",
    "    \"\"\"\n",
    "    # Your code here"
   ]
  },
  {
   "cell_type": "markdown",
   "id": "28330bec-f467-49cd-bc2b-6c9080e87acf",
   "metadata": {},
   "source": [
    "### Get functions (skip if time limited)\n",
    "\n",
    "Write a function to query all parameters the we have set functions for. Return the response in a dictionary.\n",
    "\n",
    "Also write a function to query the channel state ['ON', 'OFF']"
   ]
  },
  {
   "cell_type": "code",
   "execution_count": null,
   "id": "4a219bf6-6433-4274-a8f8-f5db04b54309",
   "metadata": {},
   "outputs": [],
   "source": [
    "def get_basic_wave(inst, channel):\n",
    "    \"\"\" Query the basic waveform parameters and return a dictionary that splits the parameters.\n",
    "\n",
    "    :param inst: Pyvisa resource.\n",
    "    :param channel: Waveform generator channel to query.\n",
    "    \"\"\"\n",
    "    # Your code here\n",
    "\n",
    "def get_channel_state(inst, channel):\n",
    "    \"\"\" Get the current state of a channel.\n",
    "\n",
    "    :param inst: Pyvisa resource.\n",
    "    :param channel: Waveform generator channel.\n",
    "    \"\"\"\n",
    "    # Your code here"
   ]
  },
  {
   "cell_type": "markdown",
   "id": "0957301c-521c-489e-b9c0-d999f5684f87",
   "metadata": {},
   "source": [
    "### Logging\n",
    "\n",
    "We want to store the parameters we set, so we need to set up a log file. Write a function that creates the log string, which will later be saved to\n",
    "a log file. Include the waveform generator name at the top of the string."
   ]
  },
  {
   "cell_type": "code",
   "execution_count": null,
   "id": "6fa7895a-1093-4d80-886e-a5f37bab5085",
   "metadata": {},
   "outputs": [],
   "source": [
    "def create_log(channel, wave_type, freq, amp, offset):\n",
    "    \"\"\" Create a string to log basic parameters of the SDG2082X\n",
    "    waveform generator output.\n",
    "\n",
    "    COMPLETE THIS\n",
    "    \"\"\"\n",
    "    log = \"# ------------- SDG2082X Waveform Settings ------------- #\\n\"\n",
    "    # Your code here\n",
    "    return log"
   ]
  },
  {
   "cell_type": "markdown",
   "id": "7457c622-e59b-4e15-a749-f6be06de8666",
   "metadata": {},
   "source": [
    "# Creating the .py file\n",
    "\n",
    "Transfer all of your relevant functions into the siglent_sdg2082x_fgen.py file. This will allow us to use the code throughout the rest of the lab without copying/pasting.\n",
    "\n",
    "# Bonus\n",
    "\n",
    "If you are familiar with Python classes, encapsulate all of your functions into a class. This is the standard method for writing instrument control code with Python"
   ]
  },
  {
   "cell_type": "code",
   "execution_count": null,
   "id": "6cf45dab-82e2-45f6-8cb7-3685622a2d67",
   "metadata": {},
   "outputs": [],
   "source": []
  }
 ],
 "metadata": {
  "kernelspec": {
   "display_name": "Python 3 (ipykernel)",
   "language": "python",
   "name": "python3"
  },
  "language_info": {
   "codemirror_mode": {
    "name": "ipython",
    "version": 3
   },
   "file_extension": ".py",
   "mimetype": "text/x-python",
   "name": "python",
   "nbconvert_exporter": "python",
   "pygments_lexer": "ipython3",
   "version": "3.11.9"
  }
 },
 "nbformat": 4,
 "nbformat_minor": 5
}
