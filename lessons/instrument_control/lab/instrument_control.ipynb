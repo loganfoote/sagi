{
 "cells": [
  {
   "cell_type": "markdown",
   "id": "7f7fa700",
   "metadata": {},
   "source": [
    "# Instrument control\n",
    "We will connect to a fake instrument and take data, then FFT the data to extract a signal. First, we will import `fake_pyvisa`, which will act like `pyvisa` without needing to connect to a physical instrument. We will also import `numpy`, `matplotlib.pyplot`, and our simple fft function."
   ]
  },
  {
   "cell_type": "code",
   "execution_count": null,
   "id": "614fdca5",
   "metadata": {},
   "outputs": [],
   "source": [
    "import fake_pyvisa\n",
    "import numpy as np \n",
    "import matplotlib.pyplot as plt\n",
    "from simple_fft import simple_fft"
   ]
  },
  {
   "cell_type": "markdown",
   "id": "6e2dd407",
   "metadata": {},
   "source": [
    "Create the resource manager instance. We will connect to the instrument via LAN. The IP address is '192.168.2.125'. Create the instrument instance and query the device ID to confirm the connection."
   ]
  },
  {
   "cell_type": "code",
   "execution_count": null,
   "id": "e6e5703a",
   "metadata": {},
   "outputs": [],
   "source": [
    "rm = fake_pyvisa.ResourceManager()"
   ]
  },
  {
   "cell_type": "code",
   "execution_count": null,
   "id": "4587cf51",
   "metadata": {},
   "outputs": [],
   "source": [
    "ip_address = '192.168.2.125'\n",
    "inst = rm.open_resource(f'TCPIP0::{ip_address}::INSTR') \n",
    "inst.query('*IDN?')"
   ]
  },
  {
   "cell_type": "markdown",
   "id": "8be79523",
   "metadata": {},
   "source": [
    "We expect our signal to be have a range between 1 V and 10 V, so we need to set the voltage range to 10 V, rather than the default 1 V. From the programming manual, we find that the command syntax is 'C[channel]:VOLT_DIV [range]V', where channel is the channel index and range is the voltage range. Set the voltage range on the first channel to 10 V."
   ]
  },
  {
   "cell_type": "code",
   "execution_count": null,
   "id": "9047b5ef",
   "metadata": {},
   "outputs": [],
   "source": [
    "inst.write('C1:VOLT_DIV 10V')"
   ]
  },
  {
   "cell_type": "markdown",
   "id": "8d6e7ddf",
   "metadata": {},
   "source": [
    "From the programming manual, we find that the command to get the sample rate is 'SARA?'. Query the sample rate, and create the variable 'tsample' in s."
   ]
  },
  {
   "cell_type": "code",
   "execution_count": null,
   "id": "893cdd91",
   "metadata": {},
   "outputs": [],
   "source": [
    "response = inst.query('SARA?')\n",
    "tsample = float(response.replace('SARA ', '').replace('Sa/s\\n', ''))"
   ]
  },
  {
   "cell_type": "markdown",
   "id": "5c8d8050",
   "metadata": {},
   "source": [
    "From the programming manual, we find that the command to recieve data is 'C[channel]:WF? DAT2'. Query the device for data and create the variable 'x'. Create the corresponding time array 'time'."
   ]
  },
  {
   "cell_type": "code",
   "execution_count": null,
   "id": "3058ecf2",
   "metadata": {},
   "outputs": [],
   "source": [
    "x = inst.query('C1:WF? DAT2')\n",
    "time = np.arange(0, len(x) * tsample, tsample)"
   ]
  },
  {
   "cell_type": "markdown",
   "id": "4054170e",
   "metadata": {},
   "source": [
    "Plot the signal timestream. Don't forget the axis labels."
   ]
  },
  {
   "cell_type": "code",
   "execution_count": null,
   "id": "813bbb13",
   "metadata": {},
   "outputs": [],
   "source": [
    "plt.plot(time, x)"
   ]
  },
  {
   "cell_type": "markdown",
   "id": "1a54dde3",
   "metadata": {},
   "source": [
    "FFT the data and plot the result. Can you extract the signal? If not, try taking data again. The noise in this system is on the edge of our ability to extract the peak, so we may find that the peak is visible in some datasets and not others."
   ]
  },
  {
   "cell_type": "code",
   "execution_count": null,
   "id": "dd39863d",
   "metadata": {},
   "outputs": [],
   "source": [
    "f, y = simple_fft(tsample, x)\n",
    "f, y = f[1:], y[1:]"
   ]
  },
  {
   "cell_type": "code",
   "execution_count": null,
   "id": "6ecf8d4b",
   "metadata": {},
   "outputs": [],
   "source": [
    "plt.plot(f, y)\n",
    "ix = np.argmax(y)\n",
    "plt.plot(f[ix], y[ix], marker = 'x', color = 'black')\n",
    "print(f[ix])"
   ]
  },
  {
   "cell_type": "markdown",
   "id": "5da0fc03",
   "metadata": {},
   "source": [
    "### Averaging"
   ]
  },
  {
   "cell_type": "code",
   "execution_count": null,
   "id": "4531d589",
   "metadata": {},
   "outputs": [],
   "source": []
  },
  {
   "cell_type": "code",
   "execution_count": null,
   "id": "f1076afe",
   "metadata": {},
   "outputs": [],
   "source": []
  }
 ],
 "metadata": {
  "kernelspec": {
   "display_name": "Python 3 (ipykernel)",
   "language": "python",
   "name": "python3"
  },
  "language_info": {
   "codemirror_mode": {
    "name": "ipython",
    "version": 3
   },
   "file_extension": ".py",
   "mimetype": "text/x-python",
   "name": "python",
   "nbconvert_exporter": "python",
   "pygments_lexer": "ipython3",
   "version": "3.9.12"
  }
 },
 "nbformat": 4,
 "nbformat_minor": 5
}
