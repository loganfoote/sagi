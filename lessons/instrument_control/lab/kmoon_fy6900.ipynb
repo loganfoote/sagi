{
 "cells": [
  {
   "cell_type": "code",
   "execution_count": 1,
   "id": "dd4b4c26-49f5-4e79-99b5-02f552ce2d7c",
   "metadata": {
    "scrolled": true
   },
   "outputs": [],
   "source": [
    "import serial\n",
    "import time \n",
    "port = '/dev/ttyUSB0' \n",
    "baud_rate = 115200 \n",
    "ser = serial.Serial(port, baud_rate, timeout = 1)"
   ]
  },
  {
   "cell_type": "code",
   "execution_count": 96,
   "id": "cbb9cb0f-3b9b-4eae-b5ef-0fea748b9ac5",
   "metadata": {},
   "outputs": [
    {
     "data": {
      "text/plain": [
       "14"
      ]
     },
     "execution_count": 96,
     "metadata": {},
     "output_type": "execute_result"
    }
   ],
   "source": [
    "frequency = 1e3\n",
    "# command units are uV \n",
    "command = f'WMF{int(round(frequency * 1e6, 0)):010d}\\n' \n",
    "ser.write(command.encode())"
   ]
  },
  {
   "cell_type": "code",
   "execution_count": 98,
   "id": "42728c13-d713-4102-aadc-2cd63e147b1a",
   "metadata": {},
   "outputs": [
    {
     "data": {
      "text/plain": [
       "5"
      ]
     },
     "execution_count": 98,
     "metadata": {},
     "output_type": "execute_result"
    }
   ],
   "source": [
    "amplitude = 1\n",
    "command = f'WMA{round(amplitude, 4)}\\n'\n",
    "ser.write(command.encode())"
   ]
  },
  {
   "cell_type": "code",
   "execution_count": 100,
   "id": "7f4a6f4e-c0a1-42aa-bca5-a2dbbb15d647",
   "metadata": {},
   "outputs": [
    {
     "data": {
      "text/plain": [
       "8"
      ]
     },
     "execution_count": 100,
     "metadata": {},
     "output_type": "execute_result"
    }
   ],
   "source": [
    "offset = 2.35\n",
    "command = f'WMO{round(offset, 4)}\\n'\n",
    "ser.write(command.encode())"
   ]
  },
  {
   "cell_type": "code",
   "execution_count": 105,
   "id": "43032cc8-2978-452f-811e-18bc74e0d53e",
   "metadata": {},
   "outputs": [
    {
     "data": {
      "text/plain": [
       "5"
      ]
     },
     "execution_count": 105,
     "metadata": {},
     "output_type": "execute_result"
    }
   ],
   "source": [
    "waveform = 1 #0 for sine, 1 for square, etc\n",
    "command = f'WMW{waveform}\\n'\n",
    "ser.write(command.encode())"
   ]
  },
  {
   "cell_type": "code",
   "execution_count": 108,
   "id": "a03cd6f5-af42-4272-9587-3702f898c98c",
   "metadata": {},
   "outputs": [
    {
     "data": {
      "text/plain": [
       "5"
      ]
     },
     "execution_count": 108,
     "metadata": {},
     "output_type": "execute_result"
    }
   ],
   "source": [
    "# ch on \n",
    "command = f'WMN1\\n'\n",
    "ser.write(command.encode())"
   ]
  },
  {
   "cell_type": "code",
   "execution_count": null,
   "id": "ebb9428e-e3e5-47e3-ac4d-39358da83553",
   "metadata": {},
   "outputs": [],
   "source": [
    "# ch off\n",
    "command = f'WMN0\\n'\n",
    "ser.write(command.encode())"
   ]
  },
  {
   "cell_type": "code",
   "execution_count": 120,
   "id": "fc1bf07b-011d-434e-a41e-06ad1a8aee2e",
   "metadata": {},
   "outputs": [
    {
     "data": {
      "text/plain": [
       "'00001000.000000'"
      ]
     },
     "execution_count": 120,
     "metadata": {},
     "output_type": "execute_result"
    }
   ],
   "source": [
    "def query(command):\n",
    "    ser.write(command.encode())\n",
    "    response = ser.read(ser.in_waiting).decode()\n",
    "    time.sleep(1)\n",
    "    response = response.replace('\\n', '')\n",
    "    return response\n",
    "command = 'RMF\\n' \n",
    "query(command)"
   ]
  },
  {
   "cell_type": "code",
   "execution_count": null,
   "id": "dc538588-b876-437b-a5dc-453a90d139df",
   "metadata": {},
   "outputs": [],
   "source": []
  }
 ],
 "metadata": {
  "kernelspec": {
   "display_name": "Python 3 (ipykernel)",
   "language": "python",
   "name": "python3"
  },
  "language_info": {
   "codemirror_mode": {
    "name": "ipython",
    "version": 3
   },
   "file_extension": ".py",
   "mimetype": "text/x-python",
   "name": "python",
   "nbconvert_exporter": "python",
   "pygments_lexer": "ipython3",
   "version": "3.11.9"
  }
 },
 "nbformat": 4,
 "nbformat_minor": 5
}
