{
 "cells": [
  {
   "cell_type": "code",
   "execution_count": null,
   "id": "614fdca5",
   "metadata": {},
   "outputs": [],
   "source": [
    "from time import sleep\n",
    "import numpy as np \n",
    "\n",
    "class ResourceManager:\n",
    "    def __init__(self):\n",
    "        pass \n",
    "    \n",
    "    def open_resource(self, address):\n",
    "        return Resource(address)\n",
    "\n",
    "class Resource:\n",
    "    def __init__(self, address):\n",
    "        if address != f'TCPIP0::192.168.2.125::INSTR':\n",
    "            sleep(5)\n",
    "            raise VisaIOError('VI_ERROR_RSRC_NFOUND (-1073807343): Insufficient location information or the requested device or resource is not present in the system.')\n",
    "        self.yscale = 1\n",
    "    \n",
    "    def query(self, message):\n",
    "        if message == '*IDN?':\n",
    "            return 'SAGI Technologies fake oscilloscope'\n",
    "        elif ':WF? DAT2' in message:\n",
    "            try:\n",
    "                channel = int(message.split(':')[0].replace('C', ''))\n",
    "                if channel != 1:\n",
    "                    return 'data requested on the wrong channel'\n",
    "                else:\n",
    "                    data = self.get_data() \n",
    "                    return data\n",
    "            except:\n",
    "#                 sleep(5)\n",
    "                raise VisaIOError('VI_ERROR_TMO (-1073807339): Timeout expired before operation completed.') \n",
    "        elif message == 'SARA?':\n",
    "            return 'SARA 0.00001Sa/s\\n'\n",
    "        else:\n",
    "            sleep(5)\n",
    "            raise VisaIOError('VI_ERROR_TMO (-1073807339): Timeout expired before operation completed.')\n",
    "        \n",
    "    def write(self, message):\n",
    "        if ':VOLT_DIV ' in message and message[-1] == 'V':\n",
    "            try:\n",
    "                channel = int(message.split(':')[0].replace('C', ''))\n",
    "                yscale = float(message.split(' ')[1].replace('V', ''))\n",
    "                if channel != 1:\n",
    "                    return f'yscale set to {yscale} V on the wrong channel'\n",
    "                self.yscale = yscale\n",
    "                return f'yscale set to {self.yscale} V on channel 1'\n",
    "            except:\n",
    "                return 'nothing happened'\n",
    "        else:\n",
    "            return 'nothing happened'\n",
    "\n",
    "    def get_data(self):\n",
    "        fsample = 1000 # 1 kHz \n",
    "        tsample = 1 / fsample\n",
    "        time = np.arange(0, 1, tsample)\n",
    "        frequency = 88\n",
    "        amplitude = 1\n",
    "        delta = np.random.uniform(-np.pi, np.pi)\n",
    "        x = amplitude * np.sin(2 * np.pi * time * frequency + delta)\n",
    "        noise = amplitude * np.random.normal(-1, 1, len(time))\n",
    "        x += noise\n",
    "        x[x > self.yscale] = self.yscale \n",
    "        x[x < -self.yscale] = -self.yscale \n",
    "        return x\n",
    "        \n",
    "    \n",
    "class VisaIOError(Exception):\n",
    "    pass"
   ]
  },
  {
   "cell_type": "code",
   "execution_count": null,
   "id": "e6e5703a",
   "metadata": {},
   "outputs": [],
   "source": [
    "rm = ResourceManager()"
   ]
  },
  {
   "cell_type": "code",
   "execution_count": null,
   "id": "4587cf51",
   "metadata": {},
   "outputs": [],
   "source": [
    "ip_address = '192.168.2.125'\n",
    "inst = rm.open_resource(f'TCPIP0::{ip_address}::INSTR') "
   ]
  },
  {
   "cell_type": "code",
   "execution_count": null,
   "id": "9047b5ef",
   "metadata": {},
   "outputs": [],
   "source": [
    "inst.write('C1:VOLT_DIV 5V')"
   ]
  },
  {
   "cell_type": "code",
   "execution_count": null,
   "id": "893cdd91",
   "metadata": {},
   "outputs": [],
   "source": [
    "inst.query('SARA?')"
   ]
  },
  {
   "cell_type": "code",
   "execution_count": null,
   "id": "3058ecf2",
   "metadata": {},
   "outputs": [],
   "source": [
    "x = inst.query('C1:WF? DAT2')"
   ]
  },
  {
   "cell_type": "code",
   "execution_count": null,
   "id": "6ecf8d4b",
   "metadata": {},
   "outputs": [],
   "source": [
    "import matplotlib.pyplot as plt\n",
    "plt.plot(x)"
   ]
  },
  {
   "cell_type": "code",
   "execution_count": null,
   "id": "169a2924",
   "metadata": {},
   "outputs": [],
   "source": []
  },
  {
   "cell_type": "code",
   "execution_count": null,
   "id": "4531d589",
   "metadata": {},
   "outputs": [],
   "source": []
  }
 ],
 "metadata": {
  "kernelspec": {
   "display_name": "Python 3 (ipykernel)",
   "language": "python",
   "name": "python3"
  },
  "language_info": {
   "codemirror_mode": {
    "name": "ipython",
    "version": 3
   },
   "file_extension": ".py",
   "mimetype": "text/x-python",
   "name": "python",
   "nbconvert_exporter": "python",
   "pygments_lexer": "ipython3",
   "version": "3.9.12"
  }
 },
 "nbformat": 4,
 "nbformat_minor": 5
}
