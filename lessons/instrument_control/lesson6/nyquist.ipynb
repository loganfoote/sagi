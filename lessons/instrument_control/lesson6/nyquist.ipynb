{
 "cells": [
  {
   "cell_type": "code",
   "execution_count": null,
   "id": "5c93cdc3",
   "metadata": {},
   "outputs": [],
   "source": [
    "import numpy as np\n",
    "import matplotlib.pyplot as plt\n",
    "frequency = 60\n",
    "duration = 0.3\n",
    "\n",
    "time = np.linspace(0, duration, 1000)\n",
    "original_signal = np.sin(2 * np.pi * time * frequency)"
   ]
  },
  {
   "cell_type": "code",
   "execution_count": null,
   "id": "08b99541",
   "metadata": {},
   "outputs": [],
   "source": [
    "nyquist_rate = 2 * frequency \n",
    "below_nyquist_rate = 0.8 * frequency \n",
    "above_nyquist_rate = 3 * frequency \n",
    "\n",
    "t_nyquist = np.linspace(0, duration, int(nyquist_rate * duration), endpoint=False)\n",
    "t_above_nyquist = np.linspace(0, duration, int(above_nyquist_rate * duration), endpoint=False)\n",
    "t_below_nyquist = np.linspace(0, duration, int(below_nyquist_rate * duration), endpoint=False)"
   ]
  },
  {
   "cell_type": "code",
   "execution_count": null,
   "id": "8c57ded2",
   "metadata": {},
   "outputs": [],
   "source": [
    "sampled_signal_nyquist = np.sin(2 * np.pi * frequency * t_nyquist)\n",
    "sampled_signal_above_nyquist = np.sin(2 * np.pi * frequency * t_above_nyquist)\n",
    "sampled_signal_below_nyquist = np.sin(2 * np.pi * frequency * t_below_nyquist)\n",
    "\n",
    "def simple_fft(tsample, x):\n",
    "    N = len(x)\n",
    "    f = np.fft.fftfreq(N, d = tsample)\n",
    "    y = np.fft.fft(x)\n",
    "    y = np.abs(y) / N\n",
    "    f, y = f[:N // 2], y[:N // 2] * 2\n",
    "    return f, y\n",
    "\n",
    "freq, y = simple_fft(1 / 1000, original_signal)\n",
    "freq_nyquist, y_nyquist = simple_fft(1 / nyquist_rate, sampled_signal_nyquist)\n",
    "freq_below_nyquist, y_below_nyquist = simple_fft(1 / below_nyquist_rate, sampled_signal_below_nyquist)\n",
    "freq_above_nyquist, y_above_nyquist = simple_fft(1 / above_nyquist_rate, sampled_signal_above_nyquist)"
   ]
  },
  {
   "cell_type": "code",
   "execution_count": null,
   "id": "04fcdfbb",
   "metadata": {},
   "outputs": [],
   "source": [
    "# Plot the results\n",
    "fig, axs = plt.subplots(4, 2, figsize=(12, 8), dpi = 300, layout = 'tight')\n",
    "for ax in axs[:, 0]:\n",
    "    ax.set_xlabel('Time [s]')\n",
    "    ax.set_ylabel('Amplitude')\n",
    "    ax.grid()\n",
    "for ax in axs[:, 1]:\n",
    "    ax.set_xlabel('Frequency (Hz)')\n",
    "    ax.set_ylabel('Amplitude')\n",
    "    ax.grid()\n",
    "\n",
    "axs[0, 0].plot(time, original_signal, label='Original Signal')\n",
    "axs[0, 0].set_title('Original Signal')\n",
    "\n",
    "\n",
    "# plt.subplot(4, 1, 2)\n",
    "axs[1, 0].plot(time, original_signal, label='Original Signal')\n",
    "axs[1, 0].plot(t_nyquist, sampled_signal_nyquist, '.-r', label='Sampled Signal (Nyquist Rate)')\n",
    "axs[1, 0].set_title('Sampled at Nyquist Rate')\n",
    "\n",
    "axs[2, 0].plot(time, original_signal, label='Original Signal')\n",
    "axs[2, 0].plot(t_above_nyquist, sampled_signal_above_nyquist, '.-g', label='Sampled Signal (Above Nyquist Rate)')\n",
    "axs[2, 0].set_title('Sampled Above Nyquist Rate')\n",
    "\n",
    "axs[3, 0].plot(time, original_signal, label='Original Signal')\n",
    "axs[3, 0].plot(t_below_nyquist, sampled_signal_below_nyquist, '.-m', label='Sampled Signal (Below Nyquist Rate)')\n",
    "axs[3, 0].set_title('Sampled Below Nyquist Rate')\n",
    "\n",
    "axs[0, 1].plot(freq, y)\n",
    "axs[1, 1].plot(freq_nyquist, y_nyquist)\n",
    "axs[2, 1].plot(freq_above_nyquist, y_above_nyquist)\n",
    "axs[3, 1].plot(freq_below_nyquist, y_below_nyquist)"
   ]
  },
  {
   "cell_type": "code",
   "execution_count": null,
   "id": "62d82fb3",
   "metadata": {},
   "outputs": [],
   "source": [
    "from ipywidgets import interact, SelectionSlider, Layout\n",
    "def plot_data(sample_freq):\n",
    "    t = np.linspace(0, duration, int(sample_freq * duration), endpoint=False)\n",
    "    sampled_signal = np.sin(2 * np.pi * frequency * t)\n",
    "    freq, y = simple_fft(1 / sample_freq, sampled_signal)\n",
    "    fig, axs = plt.subplots(1, 2, figsize=(12, 2), dpi = 300, layout = 'tight')\n",
    "    axs[1].set_xlabel('Time [s]')\n",
    "    axs[1].set_ylabel('Amplitude')\n",
    "    axs[1].grid()\n",
    "    axs[0].set_xlabel('Frequency (Hz)')\n",
    "    axs[0].set_ylabel('Amplitude')\n",
    "    axs[0].grid()\n",
    "    axs[0].plot(time, original_signal, label='Original Signal')\n",
    "    axs[0].plot(t, sampled_signal, '.-r', label='Sampled Signal (Nyquist Rate)')\n",
    "    axs[0].set_title(f'Sampled at {sample_freq} Hz')\n",
    "    axs[1].plot(freq, y)\n",
    "\n",
    "sample_freq = 124\n",
    "\n",
    "# Define slider options with markers\n",
    "slider_options = [(f'{int(i)}', i) for i in np.arange(18, 1060, 1)]\n",
    "\n",
    "# Create a SelectionSlider\n",
    "slider = SelectionSlider(\n",
    "    options=slider_options,\n",
    "    value=60,\n",
    "    description='Frequency:',\n",
    "    layout=Layout(width='800px'),\n",
    "    continuous_update = False\n",
    ")\n",
    "interact(plot_data, sample_freq = slider);\n",
    "# If you slide the slider, it will take a long time to plot "
   ]
  },
  {
   "cell_type": "code",
   "execution_count": null,
   "id": "e1a419e2",
   "metadata": {},
   "outputs": [],
   "source": [
    "# Example of reconstructed signal"
   ]
  },
  {
   "cell_type": "code",
   "execution_count": null,
   "id": "f3fd4a2f",
   "metadata": {},
   "outputs": [],
   "source": []
  },
  {
   "cell_type": "code",
   "execution_count": null,
   "id": "01238d25",
   "metadata": {},
   "outputs": [],
   "source": []
  }
 ],
 "metadata": {
  "kernelspec": {
   "display_name": "Python 3 (ipykernel)",
   "language": "python",
   "name": "python3"
  },
  "language_info": {
   "codemirror_mode": {
    "name": "ipython",
    "version": 3
   },
   "file_extension": ".py",
   "mimetype": "text/x-python",
   "name": "python",
   "nbconvert_exporter": "python",
   "pygments_lexer": "ipython3",
   "version": "3.11.9"
  }
 },
 "nbformat": 4,
 "nbformat_minor": 5
}
