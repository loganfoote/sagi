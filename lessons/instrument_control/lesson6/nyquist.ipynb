{
 "cells": [
  {
   "cell_type": "code",
   "execution_count": 28,
   "id": "5c93cdc3",
   "metadata": {},
   "outputs": [],
   "source": [
    "import numpy as np\n",
    "import matplotlib.pyplot as plt\n",
    "amplitude = 100\n",
    "frequency = 100\n",
    "fsample = 100\n",
    "\n",
    "tsample = 1 / (2 * np.pi * fsample)\n",
    "time = np.arange(0, 1, tsample)\n",
    "x = amplitude * np.sin(2 * np.pi * time * frequency)"
   ]
  },
  {
   "cell_type": "code",
   "execution_count": 29,
   "id": "62d82fb3",
   "metadata": {},
   "outputs": [
    {
     "data": {
      "text/plain": [
       "[<matplotlib.lines.Line2D at 0x2278ccb13a0>]"
      ]
     },
     "execution_count": 29,
     "metadata": {},
     "output_type": "execute_result"
    },
    {
     "data": {
      "image/png": "[encoded data removed]",
      "text/plain": [
       "<Figure size 432x288 with 1 Axes>"
      ]
     },
     "metadata": {
      "needs_background": "light"
     },
     "output_type": "display_data"
    }
   ],
   "source": [
    "N = len(x)\n",
    "f = np.fft.fftfreq(N, d = tsample)\n",
    "y = np.fft.fft(x)\n",
    "y = np.abs(y) / N\n",
    "f, y = f[:N // 2], y[:N // 2] * 2\n",
    "plt.plot(f, y)\n",
    "# plt.loglog()"
   ]
  },
  {
   "cell_type": "code",
   "execution_count": null,
   "id": "e1a419e2",
   "metadata": {},
   "outputs": [],
   "source": []
  }
 ],
 "metadata": {
  "kernelspec": {
   "display_name": "Python 3 (ipykernel)",
   "language": "python",
   "name": "python3"
  },
  "language_info": {
   "codemirror_mode": {
    "name": "ipython",
    "version": 3
   },
   "file_extension": ".py",
   "mimetype": "text/x-python",
   "name": "python",
   "nbconvert_exporter": "python",
   "pygments_lexer": "ipython3",
   "version": "3.9.12"
  }
 },
 "nbformat": 4,
 "nbformat_minor": 5
}
