{
 "cells": [
  {
   "cell_type": "code",
   "execution_count": null,
   "id": "032279b0",
   "metadata": {},
   "outputs": [],
   "source": [
    "import numpy as np \n",
    "import matplotlib.pyplot as plt"
   ]
  },
  {
   "cell_type": "code",
   "execution_count": null,
   "id": "e9e18ecf",
   "metadata": {},
   "outputs": [],
   "source": [
    "fsample = 1000\n",
    "t, x = np.load(f'data/sine_{fsample}Hz.npy')\n",
    "\n",
    "fig, ax = plt.subplots(1, 1, figsize = [12, 4])\n",
    "ax.plot(t, x, color = 'red', marker = 'o', linestyle = '-')\n",
    "ax.set(ylabel = 'voltage (mV)', xlabel = 'time (s)')\n",
    "ax.grid()\n",
    "ax.set_title(f'Sample Frequency: {fsample} Hz')"
   ]
  },
  {
   "cell_type": "code",
   "execution_count": null,
   "id": "09779138",
   "metadata": {},
   "outputs": [],
   "source": [
    "fsample = 50\n",
    "t, x = np.load(f'data/sine_{fsample}Hz.npy')\n",
    "\n",
    "fig, ax = plt.subplots(1, 1, figsize = [12, 4])\n",
    "ax.plot(t, x, color = 'red', marker = 'o', linestyle = '-')\n",
    "ax.set(ylabel = 'voltage (mV)', xlabel = 'time (s)')\n",
    "ax.grid()\n",
    "ax.set_title(f'Sample Frequency: {fsample} Hz')"
   ]
  },
  {
   "cell_type": "code",
   "execution_count": null,
   "id": "65e3de79",
   "metadata": {},
   "outputs": [],
   "source": [
    "fig, ax = plt.subplots(1, 1, figsize = [12, 4])\n",
    "ax.set(ylabel = 'voltage (mV)', xlabel = 'time (s)')\n",
    "ax.grid()\n",
    "\n",
    "fsample = 1000\n",
    "t, x = np.load(f'data/sine_{fsample}Hz_1s.npy')\n",
    "ax.plot(t, x, linestyle = '-', label = fsample)\n",
    "\n",
    "fsample = 24\n",
    "t, x = np.load(f'data/sine_{fsample}Hz.npy')\n",
    "ax.plot(t, x, marker = 'o', linestyle = '--', label = fsample)\n",
    "\n",
    "ax.legend(title = 'Sample Frequency (Hz)')"
   ]
  },
  {
   "cell_type": "code",
   "execution_count": null,
   "id": "d16767fe",
   "metadata": {},
   "outputs": [],
   "source": [
    "def simple_fft(tsample, x):\n",
    "    N = len(x) \n",
    "    y = np.fft.fft(x) \n",
    "    y = 2 * np.abs(y) / N \n",
    "    # factor of 2 because signal is split equally between negative and positive frequency\n",
    "    f = np.fft.fftfreq(N, d = tsample) \n",
    "    f, y = f[:N // 2], y[:N // 2]\n",
    "    return f, y"
   ]
  },
  {
   "cell_type": "code",
   "execution_count": null,
   "id": "c0d293fc",
   "metadata": {},
   "outputs": [],
   "source": [
    "fsample = 1000\n",
    "t, x = np.load(f'data/sine_{fsample}Hz_1s.npy')\n",
    "ax.plot(t, x, linestyle = '-', label = fsample)\n",
    "\n",
    "nfreqs = 3\n",
    "fig, axs = plt.subplots(nfreqs, 2, figsize = [14, 4 * nfreqs], layout = 'tight')\n",
    "axs[2, 0].set(xlabel = 'time (s)')\n",
    "axs[2, 1].set(xlabel = 'frequency (Hz)')\n",
    "for ax in axs.flatten():\n",
    "    ax.set_ylabel('voltage (V)')\n",
    "for ax in axs[:, 0]:\n",
    "    ax.plot(t, x, color = 'b')\n",
    "    \n",
    "\n",
    "for index, fsample in enumerate([24, 100, 200]):\n",
    "    tsample = 1 / fsample\n",
    "    t, x = np.load(f'data/sine_{fsample}Hz_1s.npy')\n",
    "    f, y = simple_fft(tsample, x)\n",
    "    axs[index, 0].plot(t, x, 'o--r')\n",
    "    axs[index, 1].plot(f, y, 'r', label = f'{fsample} Hz')\n",
    "    axs[index, 1].legend()"
   ]
  },
  {
   "cell_type": "markdown",
   "id": "dfff03ac",
   "metadata": {},
   "source": [
    "# Averaging"
   ]
  },
  {
   "cell_type": "code",
   "execution_count": null,
   "id": "272d2de2",
   "metadata": {},
   "outputs": [],
   "source": [
    "import numpy as np \n",
    "import matplotlib.pyplot as plt\n",
    "def simple_fft(tsample, x):\n",
    "    N = len(x) \n",
    "    y = np.fft.fft(x) \n",
    "    y = 2 * np.abs(y) / N \n",
    "    # factor of 2 because signal is split equally between negative and positive frequency\n",
    "    f = np.fft.fftfreq(N, d = tsample) \n",
    "    f, y = f[:N // 2], y[:N // 2]\n",
    "    return f, y\n",
    "tsample = 1 / 1000"
   ]
  },
  {
   "cell_type": "code",
   "execution_count": null,
   "id": "cf820309",
   "metadata": {},
   "outputs": [],
   "source": [
    "t, x = np.load('data/noisy_sine_00.npy')\n",
    "f, y = simple_fft(tsample, x)"
   ]
  },
  {
   "cell_type": "code",
   "execution_count": null,
   "id": "22bb7a32",
   "metadata": {},
   "outputs": [],
   "source": [
    "fig, axs = plt.subplots(1, 2, figsize = [12, 4])\n",
    "axs[0].set(xlabel = 'time (s)', ylabel = 'voltage (V)')\n",
    "axs[1].set(xlabel = 'frequency (Hz)', ylabel = 'voltage (V)')\n",
    "axs[0].plot(t, x)\n",
    "axs[1].plot(f, y)"
   ]
  },
  {
   "cell_type": "code",
   "execution_count": null,
   "id": "084e2826",
   "metadata": {},
   "outputs": [],
   "source": [
    "ts, xs = [], [] \n",
    "fs, ys = [], []\n",
    "for  i in range(20):\n",
    "    t, x = np.load(f'data/noisy_sine_{i:02d}.npy')\n",
    "    f, y = simple_fft(tsample, x)\n",
    "    ts.append(t)\n",
    "    xs.append(x)\n",
    "    fs.append(f)\n",
    "    ys.append(y)"
   ]
  },
  {
   "cell_type": "code",
   "execution_count": null,
   "id": "7d924b35",
   "metadata": {},
   "outputs": [],
   "source": [
    "fig, axs = plt.subplots(1, 2, figsize = [12, 4])\n",
    "axs[0].set(xlabel = 'time (s)', ylabel = 'voltage (V)')\n",
    "axs[1].set(xlabel = 'frequency (Hz)', ylabel = 'voltage (V)')\n",
    "\n",
    "for t, x, f, y in zip(ts, xs, fs, ys):\n",
    "    axs[0].plot(t, x)\n",
    "    axs[1].plot(f, y)"
   ]
  },
  {
   "cell_type": "code",
   "execution_count": null,
   "id": "17afd748",
   "metadata": {},
   "outputs": [],
   "source": [
    "fig, axs = plt.subplots(1, 2, figsize = [12, 4])\n",
    "axs[0].set(xlabel = 'time (s)', ylabel = 'voltage (V)')\n",
    "axs[1].set(xlabel = 'frequency (Hz)', ylabel = 'voltage (V)')\n",
    "\n",
    "x_avg = np.mean(xs, axis = 0)\n",
    "axs[0].plot(t, x_avg)\n",
    "\n",
    "y_avg = np.mean(ys, axis = 0)\n",
    "axs[1].plot(f, y_avg)"
   ]
  },
  {
   "cell_type": "code",
   "execution_count": null,
   "id": "938d915b",
   "metadata": {},
   "outputs": [],
   "source": [
    "# Extract the magnitude at the desired frequency \n",
    "frequency = 50 \n",
    "ix = np.argmin(np.abs(f - frequency))\n",
    "y_avg[ix]"
   ]
  },
  {
   "cell_type": "code",
   "execution_count": null,
   "id": "33c40b97",
   "metadata": {},
   "outputs": [],
   "source": []
  },
  {
   "cell_type": "code",
   "execution_count": null,
   "id": "c3a867a6-4a2b-4fdc-8223-63de2df143d9",
   "metadata": {},
   "outputs": [],
   "source": []
  },
  {
   "cell_type": "code",
   "execution_count": null,
   "id": "0650fb6c-ce39-461b-8585-00e9cafc08b6",
   "metadata": {},
   "outputs": [],
   "source": []
  },
  {
   "cell_type": "code",
   "execution_count": null,
   "id": "429ba6e0-c8bc-48c7-a482-4d8c9b488265",
   "metadata": {},
   "outputs": [],
   "source": []
  },
  {
   "cell_type": "code",
   "execution_count": null,
   "id": "588d7267-6c50-45e2-9ebb-dfb9488119a1",
   "metadata": {},
   "outputs": [],
   "source": []
  }
 ],
 "metadata": {
  "kernelspec": {
   "display_name": "Python 3 (ipykernel)",
   "language": "python",
   "name": "python3"
  },
  "language_info": {
   "codemirror_mode": {
    "name": "ipython",
    "version": 3
   },
   "file_extension": ".py",
   "mimetype": "text/x-python",
   "name": "python",
   "nbconvert_exporter": "python",
   "pygments_lexer": "ipython3",
   "version": "3.9.12"
  }
 },
 "nbformat": 4,
 "nbformat_minor": 5
}
