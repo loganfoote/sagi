{
 "cells": [
  {
   "cell_type": "code",
   "execution_count": null,
   "id": "96cf8aa1",
   "metadata": {},
   "outputs": [],
   "source": [
    "import numpy as np \n",
    "import matplotlib.pyplot as plt\n",
    "fsample = 1000 # 1 kHz \n",
    "tsample = 1 / fsample\n",
    "time = np.arange(0, 1, tsample)\n",
    "frequency = np.random.uniform(0.1, 100)\n",
    "amplitude = np.random.uniform(0.1, 10)\n",
    "delta = 0\n",
    "x = amplitude * np.sin(2 * np.pi * time * frequency + delta)\n",
    "noise = 0.5 * amplitude * np.random.normal(0, 1, len(t))\n",
    "x += noise\n",
    "del frequency, amplitude"
   ]
  },
  {
   "cell_type": "code",
   "execution_count": null,
   "id": "4dc64cae",
   "metadata": {},
   "outputs": [],
   "source": [
    "plt.plot(time, x)"
   ]
  },
  {
   "cell_type": "code",
   "execution_count": null,
   "id": "ebd2467d",
   "metadata": {},
   "outputs": [],
   "source": [
    "N = len(x)\n",
    "f = np.fft.fftfreq(N, d = tsample)\n",
    "y = np.fft.fft(x)\n",
    "y = np.abs(y) / N\n",
    "f, y = f[:N // 2], y[:N // 2] * 2"
   ]
  },
  {
   "cell_type": "code",
   "execution_count": null,
   "id": "cc58134f",
   "metadata": {},
   "outputs": [],
   "source": [
    "# find peaks: simple method \n",
    "max_index, min_index = np.argmax(y), np.argmin(y) \n",
    "print(f'Amplitude: {y[max_index] - y[min_index]}')\n",
    "print(f'Frequency: {f[max_index]}')"
   ]
  },
  {
   "cell_type": "code",
   "execution_count": null,
   "id": "f6f4c2b1",
   "metadata": {},
   "outputs": [],
   "source": [
    "plt.plot(f, y)\n",
    "plt.plot(f[max_index], y[max_index], 'xr')\n",
    "plt.loglog()"
   ]
  },
  {
   "cell_type": "markdown",
   "id": "1addfe8b",
   "metadata": {},
   "source": [
    "## Part 2: averaging\n",
    "Now, imagine you have many data sets to average, but you don't know if the phases are aligned. We can't average the timestreams, because the phase missalignment will disrupt the signal. However, the FFT removes the phase dependence, so we can average the FFT to lower the noise."
   ]
  },
  {
   "cell_type": "code",
   "execution_count": null,
   "id": "2879cc99",
   "metadata": {},
   "outputs": [],
   "source": [
    "import numpy as np \n",
    "import matplotlib.pyplot as plt\n",
    "fsample = 1000 # 1 kHz \n",
    "tsample = 1 / fsample\n",
    "time = np.arange(0, 1, tsample)\n",
    "frequency = np.random.uniform(0.1, 100)\n",
    "amplitude = np.random.uniform(0.1, 10)\n",
    "xs = []\n",
    "for delta in np.random.uniform(-np.pi, np.pi, 20):\n",
    "    x = amplitude * np.sin(2 * np.pi * time * frequency + delta)\n",
    "    noise = 10 * amplitude * np.random.normal(0, 1, len(t))\n",
    "    x += noise\n",
    "    xs.append(x)\n",
    "del frequency, amplitude"
   ]
  },
  {
   "cell_type": "code",
   "execution_count": null,
   "id": "85951970",
   "metadata": {},
   "outputs": [],
   "source": [
    "[plt.plot(time, x) for x in xs[::2]];"
   ]
  },
  {
   "cell_type": "code",
   "execution_count": null,
   "id": "ee15051d",
   "metadata": {},
   "outputs": [],
   "source": [
    "ys = []\n",
    "N = len(x)\n",
    "f = np.fft.fftfreq(N, d = tsample)\n",
    "f = f[:N // 2]\n",
    "for x in xs:\n",
    "    y = np.fft.fft(x)\n",
    "    y = np.abs(y) / N\n",
    "    y = y[:N // 2] * 2\n",
    "    ys.append(y)"
   ]
  },
  {
   "cell_type": "code",
   "execution_count": null,
   "id": "2391f460",
   "metadata": {},
   "outputs": [],
   "source": [
    "y_avg = np.mean(ys, axis = 0)"
   ]
  },
  {
   "cell_type": "code",
   "execution_count": null,
   "id": "8d2c915b",
   "metadata": {},
   "outputs": [],
   "source": [
    "max_index = np.argmax(y_avg) \n",
    "print(f'Amplitude: {y_avg[max_index]}')\n",
    "print(f'Frequency: {f[max_index]}')"
   ]
  },
  {
   "cell_type": "code",
   "execution_count": null,
   "id": "7d02053f",
   "metadata": {},
   "outputs": [],
   "source": [
    "plt.plot(f, ys[0])\n",
    "plt.plot(f, y_avg)\n",
    "plt.plot(f[max_index], y_avg[max_index], 'xr')\n",
    "plt.loglog()"
   ]
  },
  {
   "cell_type": "code",
   "execution_count": null,
   "id": "dfc2496a",
   "metadata": {},
   "outputs": [],
   "source": []
  },
  {
   "cell_type": "code",
   "execution_count": null,
   "id": "a6613fb5",
   "metadata": {},
   "outputs": [],
   "source": []
  },
  {
   "cell_type": "code",
   "execution_count": null,
   "id": "201d5aac",
   "metadata": {},
   "outputs": [],
   "source": []
  }
 ],
 "metadata": {
  "kernelspec": {
   "display_name": "Python 3 (ipykernel)",
   "language": "python",
   "name": "python3"
  },
  "language_info": {
   "codemirror_mode": {
    "name": "ipython",
    "version": 3
   },
   "file_extension": ".py",
   "mimetype": "text/x-python",
   "name": "python",
   "nbconvert_exporter": "python",
   "pygments_lexer": "ipython3",
   "version": "3.9.12"
  }
 },
 "nbformat": 4,
 "nbformat_minor": 5
}
