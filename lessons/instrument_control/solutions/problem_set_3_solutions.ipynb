{
 "cells": [
  {
   "cell_type": "markdown",
   "id": "7d1462f1-9f41-47ce-9244-f5b473b9f551",
   "metadata": {},
   "source": [
    "# Problem 1: Logging\n",
    "We need to write a log file that saves each of the following variables. Create the string for the log file. Include the data and time at the top of the log file."
   ]
  },
  {
   "cell_type": "code",
   "execution_count": null,
   "id": "c99b470a-1d7d-44c0-8b8e-928e879a6146",
   "metadata": {},
   "outputs": [],
   "source": [
    "voltage_scale = 0.1 # V / div\n",
    "time_scale = 1e-3 # s / div\n",
    "voltage_offset = -0.5 # V\n",
    "time_offset = 0 # s\n",
    "notes = 'Connected in loopback with mini BNC'\n",
    "\n",
    "log = '# -------- File I/O project log file -------- #\\n'\n",
    "# Your code here\n",
    "from datetime import datetime\n",
    "dt = datetime.now().strftime(\"%d-%m-%Y,%H:%M:%S.%f\")\n",
    "log += 'Time: ' + dt + '\\n'\n",
    "log += f'Voltage scale: {voltage_scale} V/div\\n'\n",
    "log += f'Voltage offset: {voltage_offset} V\\n'\n",
    "log += f'Time scale: {time_scale} s/div\\n'\n",
    "log += f'Time offset: {time_offset} s\\n'\n",
    "log += f'Notes: {notes}\\n'"
   ]
  },
  {
   "cell_type": "markdown",
   "id": "89dbc529-3b84-46c8-a9cc-2dcbb596a440",
   "metadata": {},
   "source": [
    "Now, save the file in the current directory to 'fileio.log'. <b>Bonus</b>: raise an error if the file already exists."
   ]
  },
  {
   "cell_type": "code",
   "execution_count": null,
   "id": "cbbff643-7dff-4c34-99bc-461aacf535b9",
   "metadata": {},
   "outputs": [],
   "source": [
    "import os \n",
    "if os.path.exists('fileio.log'):\n",
    "    raise FileExistsError('fileio.log already exists')\n",
    "with open('fileio.log', 'w') as file:\n",
    "    file.write(log)"
   ]
  },
  {
   "cell_type": "markdown",
   "id": "a86ff04e-c88a-4eb1-9fca-066351d5da66",
   "metadata": {},
   "source": [
    "Write a function that takes the path to the log file, imports the file, and returns the voltage, temperature, notes, and datetime. Your code should return the voltage in V and the temperature in K."
   ]
  },
  {
   "cell_type": "code",
   "execution_count": null,
   "id": "a5a280cb-d53b-458a-8e56-e88e79cea562",
   "metadata": {},
   "outputs": [],
   "source": [
    "def read_log(path):\n",
    "    \"\"\"\n",
    "    Read the log file and return the contents.\n",
    "\n",
    "    :param path: str, path to the log file \n",
    "\n",
    "    :return voltage: float, voltage in V \n",
    "    :return temperature: float, temperature in K \n",
    "    :return notes: str, measurement setup notes \n",
    "    :return dt: datetime.datetime, datetime of the measurement\n",
    "    \"\"\"\n",
    "    # Your code here \n",
    "    with open(path, 'r') as file:\n",
    "        lines = file.readlines()\n",
    "    dt = [line for line in lines if line.startswith('Time: ')][0]\n",
    "    dt = dt.replace('Time: ', '').replace('\\n', '')\n",
    "    dt = datetime.strptime(dt, \"%d-%m-%Y,%H:%M:%S.%f\")\n",
    "    voltage_scale = [line for line in lines if line.startswith('Voltage scale: ')][0]\n",
    "    voltage_scale = voltage_scale.replace('Voltage scale: ', '').replace('V/div\\n', '')\n",
    "    voltage_scale = float(voltage_scale)\n",
    "    voltage_offset = [line for line in lines if line.startswith('Voltage offset: ')][0]\n",
    "    voltage_offset = voltage_offset.replace('Voltage offset: ', '').replace('V\\n', '')\n",
    "    voltage_offset = float(voltage_offset)\n",
    "    time_scale = [line for line in lines if line.startswith('Time scale: ')][0]\n",
    "    time_scale = time_scale.replace('Time scale: ', '').replace('s/div\\n', '')\n",
    "    time_scale = float(time_scale)\n",
    "    time_offset = [line for line in lines if line.startswith('Time offset: ')][0]\n",
    "    time_offset = time_offset.replace('Time offset: ', '').replace('s\\n', '')\n",
    "    time_offset = float(time_offset)\n",
    "    notes = [line for line in lines if line.startswith('Notes: ')][0]\n",
    "    notes = notes.replace('Notes: ', '').replace('\\n', '')\n",
    "    return voltage_scale, voltage_offset, time_scale, time_offset, notes, dt\n",
    "\n",
    "voltage_scale, voltage_offset, time_scale, time_offset, notes, dt =\\\n",
    "    read_log('fileio.log')"
   ]
  },
  {
   "cell_type": "markdown",
   "id": "7f7fa700",
   "metadata": {},
   "source": [
    "# Problem 2: Instrument control\n",
    "We will connect to a fake instrument and take data, then FFT the data to extract a signal. First, we will import `fake_pyvisa`, which will act like `pyvisa` without needing to connect to a physical instrument. We will also import `numpy`, `matplotlib.pyplot`, and our simple fft function."
   ]
  },
  {
   "cell_type": "code",
   "execution_count": null,
   "id": "614fdca5",
   "metadata": {},
   "outputs": [],
   "source": [
    "import fake_pyvisa\n",
    "import numpy as np \n",
    "import matplotlib.pyplot as plt\n",
    "from simple_fft import simple_fft"
   ]
  },
  {
   "cell_type": "markdown",
   "id": "6e2dd407",
   "metadata": {},
   "source": [
    "Create the resource manager instance. We will connect to the instrument via LAN. The IP address is '192.168.2.125'. Create the instrument instance and query the device ID to confirm the connection."
   ]
  },
  {
   "cell_type": "code",
   "execution_count": null,
   "id": "e6e5703a",
   "metadata": {},
   "outputs": [],
   "source": [
    "rm = fake_pyvisa.ResourceManager()"
   ]
  },
  {
   "cell_type": "code",
   "execution_count": null,
   "id": "4587cf51",
   "metadata": {},
   "outputs": [],
   "source": [
    "ip_address = '192.168.2.125'\n",
    "inst = rm.open_resource(f'TCPIP0::{ip_address}::INSTR') \n",
    "inst.query('*IDN?')"
   ]
  },
  {
   "cell_type": "markdown",
   "id": "8be79523",
   "metadata": {},
   "source": [
    "We expect our signal to be have a range between 1 V and 10 V, so we need to set the voltage range to 10 V, rather than the default 1 V. From the programming manual, we find that the command syntax is 'C[channel]:VOLT_DIV [range]V', where channel is the channel index and range is the voltage range. Set the voltage range on the first channel to 10 V."
   ]
  },
  {
   "cell_type": "code",
   "execution_count": null,
   "id": "9047b5ef",
   "metadata": {},
   "outputs": [],
   "source": [
    "inst.write('C1:VOLT_DIV 10V')"
   ]
  },
  {
   "cell_type": "markdown",
   "id": "8d6e7ddf",
   "metadata": {},
   "source": [
    "From the programming manual, we find that the command to get the sample rate is 'SARA?'. Query the sample rate, and create the variable 'tsample' in s."
   ]
  },
  {
   "cell_type": "code",
   "execution_count": null,
   "id": "893cdd91",
   "metadata": {},
   "outputs": [],
   "source": [
    "response = inst.query('SARA?')\n",
    "tsample = float(response.replace('SARA ', '').replace('Sa/s\\n', ''))"
   ]
  },
  {
   "cell_type": "markdown",
   "id": "5c8d8050",
   "metadata": {},
   "source": [
    "From the programming manual, we find that the command to recieve data is 'C[channel]:WF? DAT2'. Query the device for data and create the variable 'x'. Create the corresponding time array 'time'."
   ]
  },
  {
   "cell_type": "code",
   "execution_count": null,
   "id": "3058ecf2",
   "metadata": {},
   "outputs": [],
   "source": [
    "x = inst.query('C1:WF? DAT2')\n",
    "time = np.arange(0, len(x) * tsample, tsample)"
   ]
  },
  {
   "cell_type": "markdown",
   "id": "4054170e",
   "metadata": {},
   "source": [
    "Plot the signal timestream. Don't forget the axis labels."
   ]
  },
  {
   "cell_type": "code",
   "execution_count": null,
   "id": "813bbb13",
   "metadata": {},
   "outputs": [],
   "source": [
    "fig, ax = plt.subplots(1, 1, figsize = [12, 4])\n",
    "ax.set(xlabel = 'time (s)', ylabel = 'voltage (V)')\n",
    "ax.plot(time, x)"
   ]
  },
  {
   "cell_type": "markdown",
   "id": "1a54dde3",
   "metadata": {},
   "source": [
    "FFT the data and plot the result. Can you extract the signal? If not, try taking data again. The noise in this system is on the edge of our ability to extract the peak, so we may find that the peak is visible in some datasets and not others. You may find that you cannot extract the signal out of the noise at all: we will need averaging."
   ]
  },
  {
   "cell_type": "code",
   "execution_count": null,
   "id": "dd39863d",
   "metadata": {},
   "outputs": [],
   "source": [
    "f, y = simple_fft(tsample, x)"
   ]
  },
  {
   "cell_type": "code",
   "execution_count": null,
   "id": "6ecf8d4b",
   "metadata": {},
   "outputs": [],
   "source": [
    "fig, ax = plt.subplots(1, 1, figsize = [12, 4])\n",
    "ax.set(xlabel = 'Frequency (Hz)', ylabel = 'voltage (mV)')\n",
    "ax.plot(f, y * 1e3)\n",
    "\n",
    "ix = np.argmax(y)\n",
    "ax.plot(f[ix], y[ix] * 1e3, marker = 'x', color = 'black')\n",
    "print(f'Signal frequency: {f[ix]} Hz')\n",
    "print(f'Signal amplitude: {round(1e3 * y[ix], 2)} mV')"
   ]
  },
  {
   "cell_type": "markdown",
   "id": "5da0fc03",
   "metadata": {},
   "source": [
    "### Problem 2.2: Averaging\n",
    "The data above is fairly noisy. Take many sets of data, and average the FFTs to reduce the noise. How many sets of data do you need before the noise looks acceptable to you?"
   ]
  },
  {
   "cell_type": "code",
   "execution_count": null,
   "id": "4531d589",
   "metadata": {},
   "outputs": [],
   "source": [
    "ys = []\n",
    "for i in range(1000):\n",
    "    x = inst.query('C1:WF? DAT2')\n",
    "    f, y = simple_fft(tsample, x)\n",
    "    ys.append(y)\n",
    "y_avg = np.mean(ys, axis = 0)\n",
    "f, y_avg = f[1:], y_avg[1:] \n",
    "# Sometimes the DC component (f = 0) can offset the plot, so we can remove it"
   ]
  },
  {
   "cell_type": "code",
   "execution_count": null,
   "id": "e2dd3d1f-4996-4bdc-9285-07cb95a8afbe",
   "metadata": {},
   "outputs": [],
   "source": [
    "fig, ax = plt.subplots(1, 1, figsize = [12, 4])\n",
    "ax.set(xlabel = 'Frequency (Hz)', ylabel = 'voltage (mV)')\n",
    "ax.plot(f, y_avg * 1e3)\n",
    "\n",
    "ix = np.argmax(y_avg)\n",
    "ax.plot(f[ix], y_avg[ix] * 1e3, marker = 'x', color = 'black')\n",
    "print(f'Signal frequency: {f[ix]} Hz')\n",
    "print(f'Signal amplitude: {round(1e3 * y_avg[ix], 2)} mV')"
   ]
  },
  {
   "cell_type": "markdown",
   "id": "7918c822-e64c-41a1-991f-c93e5e2d6937",
   "metadata": {},
   "source": [
    "### Note\n",
    "In practice, it is more common to average the square of the voltage (power), which will give us higher signal-to-noise. We have kept things simple for this lab by averaging voltage, but you can mess around with the square to see how it performs."
   ]
  },
  {
   "cell_type": "markdown",
   "id": "e7e49aea-a919-4293-8183-22f0eba4c88b",
   "metadata": {},
   "source": [
    "# Problem 3: Saving csv files\n",
    "Format and save the following data as a single column csv file with column name `voltage`. Some people prefer to include the units as the second row in the columns, and others prefer to save the units in the log file. You can make this choice for yourself here. The units for the list you are given are mV. Turn this code into a function, which takes the following parameters as inputs: `voltage`, `path`, and optionally `unit`. \n",
    "**Note:** If you open a csv file in excel, it will try to get you to save it as an xlsx file. This is a completely different file format, so make sure to keep the file format as csv. "
   ]
  },
  {
   "cell_type": "code",
   "execution_count": null,
   "id": "6ac500a2-665a-43f6-b413-2e703a8adf1d",
   "metadata": {},
   "outputs": [],
   "source": [
    "voltage = [-22.49194569,  -8.84048421, -24.08512566, -28.17491177,\n",
    "            17.24362829, -31.72005968, -15.03070767,  -5.74553134,\n",
    "            -3.6421384 , -10.66114773, -16.61791335,   0.62631091,\n",
    "           -31.21654304,   1.64264594, -17.329834  , -13.47011889,\n",
    "           -19.19854741,  -5.61232529,  -2.21477568, -23.97114704,\n",
    "            -1.01685989,  -3.64775334,  -1.60606257,  -0.67603204,\n",
    "            -5.94722628, -19.91495162,  -4.08330075,   3.25255982,\n",
    "            -0.16814809,  -5.22093793,  -7.09634211, -16.28708169,\n",
    "           -16.03094174,  -9.89704766,  -4.3526658 ,   8.84505229,\n",
    "           -10.10431137, -21.98260157,  21.97641644,  -5.87630593] # mV"
   ]
  },
  {
   "cell_type": "code",
   "execution_count": null,
   "id": "d6a35cba-1b10-4245-921b-986274879fa8",
   "metadata": {},
   "outputs": [],
   "source": [
    "import os\n",
    "def save_voltage(voltage, path, unit):\n",
    "    \"\"\"\n",
    "    Save the voltage array to a csv file with units as the header \n",
    "\n",
    "    :param voltage: array-like, voltage array \n",
    "    :param path: str, path to save the data \n",
    "    :param unit: str, units of the voltage array \n",
    "    \"\"\"\n",
    "    # Your code here \n",
    "    if os.path.exists(path):\n",
    "        raise FileExistsError(f'{path} already exists')\n",
    "    output = f'voltage\\n{unit}\\n' \n",
    "    for v in voltage:\n",
    "        output += f'{v}\\n' \n",
    "    with open(path, 'w') as file:\n",
    "        file.write(output)\n",
    "        \n",
    "save_voltage(voltage, 'pset3_voltage.csv', 'mV')"
   ]
  },
  {
   "cell_type": "markdown",
   "id": "bcb9cff5-fcd3-4a2d-8a87-c511bef0a12b",
   "metadata": {},
   "source": [
    "Write a function that reads the data from the csv file. The function should take the parameter `path` and return an array of voltages. Your function should work for the following units: 'uV', 'mV', 'V', and 'kV'."
   ]
  },
  {
   "cell_type": "code",
   "execution_count": null,
   "id": "240af36c-7683-426a-9e90-0dfe105ce1d2",
   "metadata": {},
   "outputs": [],
   "source": [
    "def read_voltage(path):\n",
    "    \"\"\" \n",
    "    Reads the voltage array from the csv file\n",
    "\n",
    "    :param path: str, path to the voltage data \n",
    "\n",
    "    :return voltage: list, voltages in V \n",
    "    \"\"\"\n",
    "    # Your code here\n",
    "    multipliers = {'uV': 1e-6, 'mV': 1e-3, '': 1, 'kV': 1e3} \n",
    "    with open(path, 'r') as file:\n",
    "        lines = file.readlines()\n",
    "    lines = [line.replace('\\n', '') for line in lines]\n",
    "    unit = lines[1]  \n",
    "    m = multipliers[unit]\n",
    "    voltage = [float(line) * m for line in lines[2:]]\n",
    "    return voltage\n",
    "    \n",
    "read_voltage('pset3_voltage.csv')"
   ]
  },
  {
   "cell_type": "markdown",
   "id": "97c9fb14-097a-4b02-ad3c-fb7134520b3a",
   "metadata": {},
   "source": [
    "## Problem 3.2 Bonus \n",
    "Repeat the tasks above using the `pandas` package. "
   ]
  },
  {
   "cell_type": "code",
   "execution_count": null,
   "id": "851c748a-b0a6-4766-a343-defb4ede8c56",
   "metadata": {},
   "outputs": [],
   "source": [
    "import pandas as pd "
   ]
  },
  {
   "cell_type": "code",
   "execution_count": null,
   "id": "7f882c68-74c8-4ec2-a1e5-15ff746f5b8f",
   "metadata": {},
   "outputs": [],
   "source": [
    "def save_voltage(voltage, path, unit):\n",
    "    \"\"\"\n",
    "    Save the voltage array to a csv file with units as the header \n",
    "\n",
    "    :param voltage: array-like, voltage array \n",
    "    :param path: str, path to save the data \n",
    "    :param unit: str, units of the voltage array \n",
    "    \"\"\"\n",
    "    # Your code here \n",
    "    header = pd.DataFrame({'voltage': [unit]})\n",
    "    df = pd.DataFrame({'voltage': voltage}) \n",
    "    df = pd.concat([header, df]).reset_index(drop = True)\n",
    "    df.to_csv(path, index = False)\n",
    "    \n",
    "save_voltage(voltage, 'pset3_voltage.csv', 'mV')"
   ]
  },
  {
   "cell_type": "code",
   "execution_count": null,
   "id": "5f431fc7-5aa1-4a24-b6ee-9f3f4199c1fd",
   "metadata": {},
   "outputs": [],
   "source": [
    "def read_voltage(path):\n",
    "    \"\"\" \n",
    "    Reads the voltage array from the csv file\n",
    "\n",
    "    :param path: str, path to the voltage data \n",
    "\n",
    "    :return voltage: list, voltages in V \n",
    "    \"\"\"\n",
    "    # Your code here\n",
    "    multipliers = {'uV': 1e-6, 'mV': 1e-3, '': 1, 'kV': 1e3} \n",
    "    df = pd.read_csv(path, skiprows = [1])\n",
    "    units = pd.read_csv(path, nrows = 1) \n",
    "    unit = units['voltage'].loc[0] \n",
    "    m = multipliers[unit] \n",
    "    voltage = np.array(df.voltage) * m\n",
    "    return voltage\n",
    "    \n",
    "read_voltage('pset3_voltage.csv')"
   ]
  },
  {
   "cell_type": "markdown",
   "id": "7bc421be-86b9-4840-ba6c-9bc887ac5a01",
   "metadata": {},
   "source": [
    "This may seem complicated, but most of the work comes from the way we have decided to handle units. If we instead standardize our output files to use V, we can ignore the units and the problem becomes simple with pandas.`"
   ]
  },
  {
   "cell_type": "code",
   "execution_count": null,
   "id": "a85e5287-963c-4359-b095-a1f0341dfb11",
   "metadata": {},
   "outputs": [],
   "source": [
    "import pandas as pd "
   ]
  },
  {
   "cell_type": "code",
   "execution_count": null,
   "id": "3fa0fa57-b440-424d-84d3-f777d5ba0586",
   "metadata": {},
   "outputs": [],
   "source": [
    "def save_voltage(voltage, path):\n",
    "    \"\"\"\n",
    "    Save the voltage array to a csv file\n",
    "\n",
    "    :param voltage: array-like, voltage array in V\n",
    "    :param path: str, path to save the data \n",
    "    \"\"\"\n",
    "    df = pd.DataFrame({'voltage': voltage}) \n",
    "    df.to_csv(path, index = False)\n",
    "    \n",
    "save_voltage(np.array(voltage) * 1e-3, 'pset3_voltage.csv')"
   ]
  },
  {
   "cell_type": "code",
   "execution_count": null,
   "id": "972ae2f8-9ad5-476e-8e84-45b7b1f5e3ce",
   "metadata": {},
   "outputs": [],
   "source": [
    "def read_voltage(path):\n",
    "    \"\"\" \n",
    "    Reads the voltage array from the csv file\n",
    "\n",
    "    :param path: str, path to the voltage data \n",
    "\n",
    "    :return voltage: np.array, voltages in V \n",
    "    \"\"\"\n",
    "    df = pd.read_csv(path)\n",
    "    voltage = np.array(df.voltage)\n",
    "    return voltage\n",
    "    \n",
    "read_voltage('pset3_voltage.csv')"
   ]
  }
 ],
 "metadata": {
  "kernelspec": {
   "display_name": "Python 3 (ipykernel)",
   "language": "python",
   "name": "python3"
  },
  "language_info": {
   "codemirror_mode": {
    "name": "ipython",
    "version": 3
   },
   "file_extension": ".py",
   "mimetype": "text/x-python",
   "name": "python",
   "nbconvert_exporter": "python",
   "pygments_lexer": "ipython3",
   "version": "3.11.9"
  }
 },
 "nbformat": 4,
 "nbformat_minor": 5
}
