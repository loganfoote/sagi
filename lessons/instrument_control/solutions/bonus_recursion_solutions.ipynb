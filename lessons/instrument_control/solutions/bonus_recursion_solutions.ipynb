{
 "cells": [
  {
   "cell_type": "markdown",
   "id": "b2a73eb2",
   "metadata": {},
   "source": [
    "# Python Recursion Problems\n",
    "Test your Python skills with these recursion problems. Recursion is a technique in Python where a function calls itself repeatedly with different arguments until an end condition is met. This technique can be applied to solve very complicated problems efficiently with few lines of code. For each of these problem, you will need to write your own tests to ensure that it has the desired behavior. \n",
    "\n",
    "## Problem 1: Towers\n",
    "\n",
    "You have three rods and `n` disks. The objective is to move all disks from the source rod to the target rod using the auxiliary rod, following these rules:\n",
    "1. Only one disk can be moved at a time.\n",
    "2. A disk can only be moved if it is the uppermost disk on a rod.\n",
    "3. No disk may be placed on top of a smaller disk.\n",
    "\n",
    "Write a recursive function to solve this problem."
   ]
  },
  {
   "cell_type": "code",
   "execution_count": null,
   "id": "f38cf498",
   "metadata": {},
   "outputs": [],
   "source": [
    "def tower(n, source, target, auxiliary):\n",
    "    if n == 1:\n",
    "        print(f\"Move disk 1 from {source} to {target}\")\n",
    "        return\n",
    "    tower(n - 1, source, auxiliary, target)\n",
    "    print(f\"Move disk {n} from {source} to {target}\")\n",
    "    tower(n - 1, auxiliary, target, source)"
   ]
  },
  {
   "cell_type": "code",
   "execution_count": null,
   "id": "264a4689",
   "metadata": {},
   "outputs": [],
   "source": [
    "n = 3  # Number of disks\n",
    "tower(n, 'A', 'C', 'B')"
   ]
  },
  {
   "cell_type": "markdown",
   "id": "2651cca0",
   "metadata": {},
   "source": [
    "## Problem 2: Permutations of a String\n",
    "\n",
    "Given a string, write a recursive function to generate all possible permutations of the characters in the string."
   ]
  },
  {
   "cell_type": "code",
   "execution_count": null,
   "id": "47116601",
   "metadata": {},
   "outputs": [],
   "source": [
    "def permutations(s):\n",
    "    # Base case: if the string is empty or has one character, return it as the only permutation\n",
    "    if len(s) == 0:\n",
    "        return ['']\n",
    "    elif len(s) == 1:\n",
    "        return [s]\n",
    "    \n",
    "    # List to store the permutations\n",
    "    perm_list = []\n",
    "    \n",
    "    # Iterate through the string and recursively calculate permutations\n",
    "    for i in range(len(s)):\n",
    "        # Extract the current character\n",
    "        current_char = s[i]\n",
    "        \n",
    "        # Get the remaining characters\n",
    "        remaining_chars = s[:i] + s[i+1:]\n",
    "        \n",
    "        # Recursively get permutations of the remaining characters\n",
    "        for p in permutations(remaining_chars):\n",
    "            # Prepend the current character to each permutation of the remaining characters\n",
    "            perm_list.append(current_char + p)\n",
    "    \n",
    "    return perm_list"
   ]
  },
  {
   "cell_type": "code",
   "execution_count": null,
   "id": "0c8f5cb5",
   "metadata": {},
   "outputs": [],
   "source": [
    "input_string = \"abc\"\n",
    "print(permutations(input_string))"
   ]
  },
  {
   "cell_type": "markdown",
   "id": "76504b35",
   "metadata": {},
   "source": [
    "## Problem 3: Generate All Subsets\n",
    "\n",
    "Given a list of numbers, write a recursive function to generate all possible subsets (the power set) of the list."
   ]
  },
  {
   "cell_type": "code",
   "execution_count": null,
   "id": "0698eac3",
   "metadata": {},
   "outputs": [],
   "source": [
    "def power_set(nums):\n",
    "    # Base case: if the list is empty, return a list containing the empty subset\n",
    "    if not nums:\n",
    "        return [[]]\n",
    "    \n",
    "    # Recursive step: get the first element and the remaining elements\n",
    "    first = nums[0]\n",
    "    rest = nums[1:]\n",
    "    \n",
    "    # Recursively find all subsets of the remaining elements\n",
    "    subsets_without_first = power_set(rest)\n",
    "    \n",
    "    # For each subset, create a new subset that includes the first element\n",
    "    subsets_with_first = [subset + [first] for subset in subsets_without_first]\n",
    "    \n",
    "    # Combine the subsets without the first element and with the first element\n",
    "    return subsets_without_first + subsets_with_first"
   ]
  },
  {
   "cell_type": "code",
   "execution_count": null,
   "id": "86beb79f",
   "metadata": {},
   "outputs": [],
   "source": [
    "nums = [1, 2, 3]\n",
    "print(power_set(nums))"
   ]
  },
  {
   "cell_type": "markdown",
   "id": "99dbc595",
   "metadata": {},
   "source": [
    "## Problem 4: N-Queens Problem\n",
    "\n",
    "The N-Queens problem is to place `n` queens on an `n x n` chessboard such that no two queens attack each other. Write a recursive function to solve the N-Queens problem and return all possible solutions."
   ]
  },
  {
   "cell_type": "code",
   "execution_count": null,
   "id": "50d2aa3e",
   "metadata": {},
   "outputs": [],
   "source": [
    "def solve_n_queens(n):\n",
    "    def is_valid(board, row, col):\n",
    "        # Check if placing a queen at (row, col) is valid\n",
    "\n",
    "        # Check the column\n",
    "        for i in range(row):\n",
    "            if board[i][col] == 'Q':\n",
    "                return False\n",
    "\n",
    "        # Check the upper-left diagonal\n",
    "        for i, j in zip(range(row-1, -1, -1), range(col-1, -1, -1)):\n",
    "            if board[i][j] == 'Q':\n",
    "                return False\n",
    "\n",
    "        # Check the upper-right diagonal\n",
    "        for i, j in zip(range(row-1, -1, -1), range(col+1, n)):\n",
    "            if board[i][j] == 'Q':\n",
    "                return False\n",
    "\n",
    "        return True\n",
    "\n",
    "    def solve(board, row):\n",
    "        # Base case: if all queens are placed, add the board to the result\n",
    "        if row == n:\n",
    "            result.append([''.join(row) for row in board])\n",
    "            return\n",
    "        \n",
    "        for col in range(n):\n",
    "            if is_valid(board, row, col):\n",
    "                board[row][col] = 'Q'\n",
    "                solve(board, row + 1)\n",
    "                board[row][col] = '.'  # Backtrack\n",
    "\n",
    "    result = []\n",
    "    board = [['.' for _ in range(n)] for _ in range(n)]\n",
    "    solve(board, 0)\n",
    "    return result"
   ]
  },
  {
   "cell_type": "code",
   "execution_count": null,
   "id": "35912a72",
   "metadata": {},
   "outputs": [],
   "source": [
    "n = 4\n",
    "solutions = solve_n_queens(n)\n",
    "for solution in solutions:\n",
    "    for row in solution:\n",
    "        print(row)\n",
    "    print()"
   ]
  },
  {
   "cell_type": "markdown",
   "id": "c5477ee9",
   "metadata": {},
   "source": [
    "## Problem 5: Merge Sort\n",
    "\n",
    "Implement the merge sort algorithm using recursion. Given an array of integers, write a recursive function to sort the array."
   ]
  },
  {
   "cell_type": "code",
   "execution_count": null,
   "id": "27b1d44b",
   "metadata": {},
   "outputs": [],
   "source": [
    "def merge_sort(arr):\n",
    "    # Base case: if the array has 0 or 1 element, it is already sorted\n",
    "    if len(arr) <= 1:\n",
    "        return arr\n",
    "\n",
    "    # Recursive step: divide the array into two halves\n",
    "    mid = len(arr) // 2\n",
    "    left_half = arr[:mid]\n",
    "    right_half = arr[mid:]\n",
    "\n",
    "    # Recursively sort each half\n",
    "    left_sorted = merge_sort(left_half)\n",
    "    right_sorted = merge_sort(right_half)\n",
    "\n",
    "    # Merge the two sorted halves\n",
    "    return merge(left_sorted, right_sorted)\n",
    "\n",
    "def merge(left, right):\n",
    "    sorted_array = []\n",
    "    i = j = 0\n",
    "\n",
    "    # Merge the two arrays while there are elements in both\n",
    "    while i < len(left) and j < len(right):\n",
    "        if left[i] < right[j]:\n",
    "            sorted_array.append(left[i])\n",
    "            i += 1\n",
    "        else:\n",
    "            sorted_array.append(right[j])\n",
    "            j += 1\n",
    "\n",
    "    # If there are remaining elements in left or right, add them\n",
    "    while i < len(left):\n",
    "        sorted_array.append(left[i])\n",
    "        i += 1\n",
    "\n",
    "    while j < len(right):\n",
    "        sorted_array.append(right[j])\n",
    "        j += 1\n",
    "\n",
    "    return sorted_array"
   ]
  },
  {
   "cell_type": "code",
   "execution_count": null,
   "id": "3cb8663f",
   "metadata": {},
   "outputs": [],
   "source": [
    "arr = [38, 27, 43, 3, 9, 82, 10]\n",
    "sorted_arr = merge_sort(arr)\n",
    "print(\"Sorted array:\", sorted_arr)"
   ]
  },
  {
   "cell_type": "markdown",
   "id": "898282d7",
   "metadata": {},
   "source": [
    "## Problem 6: Palindrome Partitioning\n",
    "\n",
    "Given a string `s`, write a recursive function to partition `s` such that every substring of the partition is a palindrome. Return all possible palindrome partitioning of `s`."
   ]
  },
  {
   "cell_type": "code",
   "execution_count": null,
   "id": "9ef5cb3e",
   "metadata": {},
   "outputs": [],
   "source": [
    "def is_palindrome(s):\n",
    "    return s == s[::-1]\n",
    "\n",
    "def partition(s):\n",
    "    def backtrack(start, path):\n",
    "        # If we've reached the end of the string, add the current path to the result\n",
    "        if start == len(s):\n",
    "            result.append(path[:])\n",
    "            return\n",
    "        \n",
    "        # Iterate through the string starting from 'start'\n",
    "        for end in range(start + 1, len(s) + 1):\n",
    "            substring = s[start:end]\n",
    "            # If the substring is a palindrome, continue the recursion\n",
    "            if is_palindrome(substring):\n",
    "                path.append(substring)\n",
    "                backtrack(end, path)\n",
    "                path.pop()  # Backtrack\n",
    "    \n",
    "    result = []\n",
    "    backtrack(0, [])\n",
    "    return result"
   ]
  },
  {
   "cell_type": "code",
   "execution_count": null,
   "id": "066e20f6",
   "metadata": {},
   "outputs": [],
   "source": [
    "s = \"aab\"\n",
    "print(partition(s))"
   ]
  },
  {
   "cell_type": "markdown",
   "id": "63a8e00a",
   "metadata": {},
   "source": [
    "## Problem 7: Kth Symbol in Grammar\n",
    "\n",
    "On the first row, we write a `0`. Now, in every subsequent row, we look at the previous row and replace each occurrence of `0` with `01`, and each occurrence of `1` with `10`. Given row number `n` and index `k`, write a recursive function to return the `k-th` indexed symbol in row `n`. (The index `k` is 1-based)."
   ]
  },
  {
   "cell_type": "code",
   "execution_count": null,
   "id": "4a73d25e",
   "metadata": {},
   "outputs": [],
   "source": [
    "def kth_symbol_in_grammar(n, k):\n",
    "    # Base case: first row and first index is always 0\n",
    "    if n == 0:\n",
    "        return 0\n",
    "    \n",
    "    # Determine the parent index in the previous row\n",
    "    parent_index = (k + 1) // 2\n",
    "    \n",
    "    # Recursively find the symbol in the previous row\n",
    "    parent_symbol = kth_symbol_in_grammar(n - 1, parent_index)\n",
    "    \n",
    "    # Determine the current symbol based on the parent's symbol and k\n",
    "    if parent_symbol == 0:\n",
    "        return 0 if k % 2 == 1 else 1\n",
    "    else:\n",
    "        return 1 if k % 2 == 1 else 0"
   ]
  },
  {
   "cell_type": "code",
   "execution_count": null,
   "id": "d2fb8f4c",
   "metadata": {},
   "outputs": [],
   "source": [
    "n = 3\n",
    "k = 5\n",
    "print(f\"The {k}-th indexed symbol in row {n} is:\", kth_symbol_in_grammar(n, k))"
   ]
  },
  {
   "cell_type": "code",
   "execution_count": null,
   "id": "9ab81bcc",
   "metadata": {},
   "outputs": [],
   "source": []
  }
 ],
 "metadata": {
  "kernelspec": {
   "display_name": "Python 3 (ipykernel)",
   "language": "python",
   "name": "python3"
  },
  "language_info": {
   "codemirror_mode": {
    "name": "ipython",
    "version": 3
   },
   "file_extension": ".py",
   "mimetype": "text/x-python",
   "name": "python",
   "nbconvert_exporter": "python",
   "pygments_lexer": "ipython3",
   "version": "3.9.12"
  }
 },
 "nbformat": 4,
 "nbformat_minor": 5
}
