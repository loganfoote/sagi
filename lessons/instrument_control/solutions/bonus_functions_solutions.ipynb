{
 "cells": [
  {
   "cell_type": "markdown",
   "id": "b80e356d",
   "metadata": {},
   "source": [
    "# Challenging Python Function Problems\n",
    "For each of these problem, you will need to write your own tests to ensure that it has the desired behavior. \n",
    "\n",
    "## Problem 1: Memoization\n",
    "\n",
    "Implement a memoized version of a function to calculate the n-th Fibonacci number. The function should cache previously computed values to improve efficiency."
   ]
  },
  {
   "cell_type": "code",
   "execution_count": null,
   "id": "86685c60",
   "metadata": {},
   "outputs": [],
   "source": [
    "def memoized_fibonacci(n, cache=None):\n",
    "    if cache is None:\n",
    "        cache = {}\n",
    "\n",
    "    if n in cache:\n",
    "        return cache[n]\n",
    "\n",
    "    if n <= 1:\n",
    "        cache[n] = n\n",
    "    else:\n",
    "        cache[n] = memoized_fibonacci(n - 1, cache) + memoized_fibonacci(n - 2, cache)\n",
    "    \n",
    "    return cache[n]"
   ]
  },
  {
   "cell_type": "code",
   "execution_count": null,
   "id": "8f5628e1",
   "metadata": {},
   "outputs": [],
   "source": [
    "n = 10\n",
    "print(f\"The {n}-th Fibonacci number is {memoized_fibonacci(n)}\")"
   ]
  },
  {
   "cell_type": "markdown",
   "id": "22f6bbf5",
   "metadata": {},
   "source": [
    "## Problem 2: Higher-Order Functions\n",
    "\n",
    "Write a higher-order function `compose` that takes two functions `f` and `g` as arguments and returns a new function `h` such that `h(x) = f(g(x))`."
   ]
  },
  {
   "cell_type": "code",
   "execution_count": null,
   "id": "8eb3f74c",
   "metadata": {},
   "outputs": [],
   "source": [
    "def compose(f, g):\n",
    "    def h(x):\n",
    "        return f(g(x))\n",
    "    return h"
   ]
  },
  {
   "cell_type": "code",
   "execution_count": null,
   "id": "60384a81",
   "metadata": {},
   "outputs": [],
   "source": [
    "def f(x):\n",
    "    return x + 2\n",
    "\n",
    "def g(x):\n",
    "    return x * 3\n",
    "\n",
    "h = compose(f, g)\n",
    "x = 5\n",
    "print(f\"h({x}) = {h(x)}\") "
   ]
  },
  {
   "cell_type": "markdown",
   "id": "3687c745",
   "metadata": {},
   "source": [
    "## Problem 3: Currying\n",
    "\n",
    "Implement a curried version of a function that takes three arguments and returns their sum. The curried function should be called in a chain of single-argument function calls."
   ]
  },
  {
   "cell_type": "code",
   "execution_count": null,
   "id": "cec4a7bd",
   "metadata": {},
   "outputs": [],
   "source": [
    "def curried_sum(a):\n",
    "    def add_b(b):\n",
    "        def add_c(c):\n",
    "            return a + b + c\n",
    "        return add_c\n",
    "    return add_b"
   ]
  },
  {
   "cell_type": "code",
   "execution_count": null,
   "id": "cab85c8f",
   "metadata": {},
   "outputs": [],
   "source": [
    "curried_sum(1)(2)(3)"
   ]
  },
  {
   "cell_type": "markdown",
   "id": "8673f11b",
   "metadata": {},
   "source": [
    "## Problem 4: Lambda Functions\n",
    "\n",
    "Given a list of tuples containing two integers each, use a lambda function to sort the list based on the sum of the integers in each tuple."
   ]
  },
  {
   "cell_type": "code",
   "execution_count": null,
   "id": "51521deb",
   "metadata": {},
   "outputs": [],
   "source": [
    "# Sample list of tuples\n",
    "list_of_tuples = [(1, 2), (3, 4), (1, 1), (4, 2)]\n",
    "\n",
    "# Sorting the list using a lambda function based on the sum of the integers in each tuple\n",
    "sorted_list = sorted(list_of_tuples, key=lambda x: x[0] + x[1])"
   ]
  },
  {
   "cell_type": "code",
   "execution_count": null,
   "id": "c34a0f19",
   "metadata": {},
   "outputs": [],
   "source": [
    "print(\"Original list:\", list_of_tuples)\n",
    "print(\"Sorted list:\", sorted_list)"
   ]
  },
  {
   "cell_type": "markdown",
   "id": "34be0d06",
   "metadata": {},
   "source": [
    "## Problem 5: Function Generators\n",
    "\n",
    "Write a generator function `fibonacci_gen` that yields the Fibonacci sequence indefinitely."
   ]
  },
  {
   "cell_type": "code",
   "execution_count": null,
   "id": "4d19f766",
   "metadata": {},
   "outputs": [],
   "source": [
    "def fibonacci_gen():\n",
    "    a, b = 0, 1\n",
    "    while True:\n",
    "        yield a\n",
    "        a, b = b, a + b"
   ]
  },
  {
   "cell_type": "code",
   "execution_count": null,
   "id": "4da48a50",
   "metadata": {},
   "outputs": [],
   "source": [
    "fib_gen = fibonacci_gen()\n",
    "for _ in range(10):\n",
    "    print(next(fib_gen))"
   ]
  },
  {
   "cell_type": "markdown",
   "id": "a436f120",
   "metadata": {},
   "source": [
    "## Problem 6: Function Introspection\n",
    "\n",
    "Create a function `describe_function` that takes another function as an argument and prints its name, docstring, and the names and default values of its parameters."
   ]
  },
  {
   "cell_type": "code",
   "execution_count": null,
   "id": "16dddd36",
   "metadata": {},
   "outputs": [],
   "source": [
    "import inspect\n",
    "\n",
    "def describe_function(func):\n",
    "    # Get the function name\n",
    "    func_name = func.__name__\n",
    "    \n",
    "    # Get the docstring\n",
    "    docstring = func.__doc__\n",
    "    \n",
    "    # Get the function signature\n",
    "    signature = inspect.signature(func)\n",
    "    \n",
    "    # Print the function name\n",
    "    print(f\"Function name: {func_name}\")\n",
    "    \n",
    "    # Print the docstring\n",
    "    if docstring:\n",
    "        print(f\"Docstring: {docstring}\")\n",
    "    else:\n",
    "        print(\"Docstring: None\")\n",
    "    \n",
    "    # Print the parameters and their default values\n",
    "    print(\"Parameters:\")\n",
    "    for param in signature.parameters.values():\n",
    "        if param.default is param.empty:\n",
    "            print(f\"  {param.name}\")\n",
    "        else:\n",
    "            print(f\"  {param.name} = {param.default}\")"
   ]
  },
  {
   "cell_type": "code",
   "execution_count": null,
   "id": "5156b0b6",
   "metadata": {},
   "outputs": [],
   "source": [
    "def example_function(param1, param2='default', param3=42):\n",
    "    \"\"\"\n",
    "    This is an example function.\n",
    "    \n",
    "    Parameters:\n",
    "    param1: The first parameter.\n",
    "    param2: The second parameter, with a default value.\n",
    "    param3: The third parameter, with a default value.\n",
    "    \"\"\"\n",
    "    pass\n",
    "\n",
    "describe_function(example_function)"
   ]
  }
 ],
 "metadata": {
  "kernelspec": {
   "display_name": "Python 3 (ipykernel)",
   "language": "python",
   "name": "python3"
  },
  "language_info": {
   "codemirror_mode": {
    "name": "ipython",
    "version": 3
   },
   "file_extension": ".py",
   "mimetype": "text/x-python",
   "name": "python",
   "nbconvert_exporter": "python",
   "pygments_lexer": "ipython3",
   "version": "3.9.12"
  }
 },
 "nbformat": 4,
 "nbformat_minor": 5
}
