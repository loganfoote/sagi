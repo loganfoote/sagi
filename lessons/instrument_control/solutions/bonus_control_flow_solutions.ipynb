{
 "cells": [
  {
   "cell_type": "markdown",
   "id": "af2f7eca",
   "metadata": {},
   "source": [
    "# Challenging Python Control Flow Problems\n",
    "For each of these problem, you will need to write your own tests to ensure that it has the desired behavior. \n",
    "\n",
    "## Problem 1: Longest Consecutive Sequence\n",
    "\n",
    "Given an unsorted array of integers, write a function to find the length of the longest consecutive elements sequence."
   ]
  },
  {
   "cell_type": "code",
   "execution_count": null,
   "id": "ca62e996",
   "metadata": {},
   "outputs": [],
   "source": [
    "def longest_consecutive_sequence(x):\n",
    "    if len(x) == 0:\n",
    "        return 0\n",
    "    longest_streak, current_streak = 0, 0\n",
    "    previous_value = x[0] - 1\n",
    "    for xi in x:\n",
    "        if xi - previous_value == 1:\n",
    "            current_streak += 1\n",
    "        else:\n",
    "            current_streak = 1\n",
    "        longest_streak = max(current_streak, longest_streak)\n",
    "        previous_value = xi\n",
    "    return longest_streak\n",
    "\n",
    "print(longest_consecutive_sequence([0, 3, 2, 0, 1, 2, 2, 2, 3, 2])) # 3\n",
    "print(longest_consecutive_sequence([0, 2, 2, 4, 1, 3, 0, 2, 1, 2])) # 2\n",
    "print(longest_consecutive_sequence([0, 0, 1, 1, 2, 3, 4, 2, 4, 3])) # 4\n",
    "print(longest_consecutive_sequence([])) # 0\n",
    "print(longest_consecutive_sequence([4])) # 1 \n",
    "# Can you think of other tests we"
   ]
  },
  {
   "cell_type": "markdown",
   "id": "9b37b2a9",
   "metadata": {},
   "source": [
    "## Problem 2: Trapping Rain Water\n",
    "\n",
    "Given `n` non-negative integers representing an elevation map where the width of each bar is 1, write a function to compute how much water it is able to trap after raining.\n"
   ]
  },
  {
   "cell_type": "code",
   "execution_count": null,
   "id": "79ac59d5",
   "metadata": {},
   "outputs": [],
   "source": [
    "def trap_water(height):\n",
    "    if not height:\n",
    "        return 0 \n",
    "    left, right = 0, len(height) - 1\n",
    "    left_max, right_max = height[left], height[right]\n",
    "    water_trapped = 0\n",
    "\n",
    "    while left < right:\n",
    "        if left_max < right_max:\n",
    "            left += 1 \n",
    "            left_max = max(left_max, height[left]) \n",
    "            water_trapped += max(0, left_max - height[left])\n",
    "        else:\n",
    "            right -= 1 \n",
    "            right_max = max(right_max, height[right])\n",
    "            water_trapped += max(0, right_max - height[right])\n",
    "    return water_trapped\n",
    "\n",
    "height = [0, 1, 2, 3, 0, 4]\n",
    "trap_water(height)"
   ]
  },
  {
   "cell_type": "markdown",
   "id": "debef50d",
   "metadata": {},
   "source": [
    "## Problem 3: Spiral Matrix\n",
    "\n",
    "Given a `m x n` matrix, write a function to return all elements of the matrix in spiral order."
   ]
  },
  {
   "cell_type": "code",
   "execution_count": null,
   "id": "e7bb5f5c",
   "metadata": {},
   "outputs": [],
   "source": [
    "def spiralOrder(matrix):\n",
    "    result = []\n",
    "    \n",
    "    if not matrix:\n",
    "        return result\n",
    "\n",
    "    m, n = len(matrix), len(matrix[0])\n",
    "    left, right, top, bottom = 0, n - 1, 0, m - 1\n",
    "\n",
    "    while left <= right and top <= bottom:\n",
    "        # Traverse from left to right along the top row\n",
    "        for j in range(left, right + 1):\n",
    "            result.append(matrix[top][j])\n",
    "        top += 1\n",
    "\n",
    "        # Traverse from top to bottom along the right column\n",
    "        for i in range(top, bottom + 1):\n",
    "            result.append(matrix[i][right])\n",
    "        right -= 1\n",
    "\n",
    "        if top <= bottom:\n",
    "            # Traverse from right to left along the bottom row\n",
    "            for j in range(right, left - 1, -1):\n",
    "                result.append(matrix[bottom][j])\n",
    "            bottom -= 1\n",
    "\n",
    "        if left <= right:\n",
    "            # Traverse from bottom to top along the left column\n",
    "            for i in range(bottom, top - 1, -1):\n",
    "                result.append(matrix[i][left])\n",
    "            left += 1\n",
    "\n",
    "    return result\n",
    "\n",
    "M = [[1,2,3,4,5], [6,7,8,9,10], [11,12,13,14,15]]\n",
    "\n",
    "spiralOrder(M)"
   ]
  },
  {
   "cell_type": "markdown",
   "id": "ba6f7120",
   "metadata": {},
   "source": [
    "## Problem 4: Find Median from Data Stream\n",
    "\n",
    "The median is the middle value in an ordered integer list. If the size of the list is even, the median is the average of the two middle values."
   ]
  },
  {
   "cell_type": "code",
   "execution_count": null,
   "id": "8a3d38b9",
   "metadata": {},
   "outputs": [],
   "source": [
    "def median(x):\n",
    "    x_sorted = sorted(x)\n",
    "    if len(x) % 2:\n",
    "        return x_sorted[len(x) // 2]\n",
    "    return (x_sorted[len(x) // 2] + x_sorted[len(x) // 2 + 1]) / 2\n",
    "\n",
    "median([5, 4, 3, 2, 1, 0])"
   ]
  },
  {
   "cell_type": "markdown",
   "id": "d4c9d59f",
   "metadata": {},
   "source": [
    "## Problem 5: 3 integer sum target\n",
    "\n",
    "Given an array `nums` of `n` integers and an integer `target`, write a function to find three integers in `nums` such that the sum is closest to `target`. Return the sum of the three integers."
   ]
  },
  {
   "cell_type": "code",
   "execution_count": null,
   "id": "e632ba6d",
   "metadata": {},
   "outputs": [],
   "source": [
    "def threeSumClosest(nums, target):\n",
    "    nums.sort()\n",
    "    closest_sum = float('inf')\n",
    "    n = len(nums)\n",
    "\n",
    "    for i in range(n - 2):\n",
    "        left, right = i + 1, n - 1\n",
    "        while left < right:\n",
    "            current_sum = nums[i] + nums[left] + nums[right]\n",
    "            if abs(current_sum - target) < abs(closest_sum - target):\n",
    "                closest_sum = current_sum\n",
    "            \n",
    "            if current_sum < target:\n",
    "                left += 1\n",
    "            elif current_sum > target:\n",
    "                right -= 1\n",
    "            else:\n",
    "                return current_sum\n",
    "\n",
    "    return closest_sum\n",
    "\n",
    "nums = [-1, 2, 1, -4]\n",
    "target = 1\n",
    "print(threeSumClosest(nums, target))"
   ]
  },
  {
   "cell_type": "markdown",
   "id": "a31af05d",
   "metadata": {},
   "source": [
    "## Problem 6: Maximal Rectangle\n",
    "\n",
    "Given a `2D` binary matrix filled with `0`s and `1`s, write a function to find the largest rectangle containing only `1`s and return its area."
   ]
  },
  {
   "cell_type": "code",
   "execution_count": null,
   "id": "820dae97",
   "metadata": {},
   "outputs": [],
   "source": [
    "def maximalRectangle(matrix):\n",
    "    if not matrix or not matrix[0]:\n",
    "        return 0\n",
    "\n",
    "    max_area = 0\n",
    "    n_cols = len(matrix[0])\n",
    "    heights = [0] * n_cols\n",
    "\n",
    "    def largestRectangleArea(heights):\n",
    "        stack = []\n",
    "        max_area = 0\n",
    "        heights.append(0)  # Add a zero height to flush out remaining heights in stack\n",
    "\n",
    "        for i in range(len(heights)):\n",
    "            while stack and heights[i] < heights[stack[-1]]:\n",
    "                h = heights[stack.pop()]\n",
    "                w = i if not stack else i - stack[-1] - 1\n",
    "                max_area = max(max_area, h * w)\n",
    "            stack.append(i)\n",
    "\n",
    "        heights.pop()  # Remove the zero height added earlier\n",
    "        return max_area\n",
    "\n",
    "    for row in matrix:\n",
    "        for col in range(n_cols):\n",
    "            if row[col] == '1':\n",
    "                heights[col] += 1\n",
    "            else:\n",
    "                heights[col] = 0\n",
    "\n",
    "        max_area = max(max_area, largestRectangleArea(heights))\n",
    "\n",
    "    return max_area"
   ]
  },
  {
   "cell_type": "code",
   "execution_count": null,
   "id": "151f51bc",
   "metadata": {},
   "outputs": [],
   "source": [
    "matrix = [\n",
    "    [\"1\", \"0\", \"1\", \"0\", \"0\"],\n",
    "    [\"1\", \"0\", \"1\", \"1\", \"1\"],\n",
    "    [\"1\", \"1\", \"1\", \"1\", \"1\"],\n",
    "    [\"1\", \"0\", \"0\", \"1\", \"0\"]\n",
    "]\n",
    "\n",
    "print(maximalRectangle(matrix))"
   ]
  },
  {
   "cell_type": "markdown",
   "id": "0ed4f3f3",
   "metadata": {},
   "source": [
    "## Problem 7: Decode Ways\n",
    "\n",
    "A message containing letters from `A-Z` can be encoded into numbers using the following mapping: `'A' -> 1, 'B' -> 2, ..., 'Z' -> 26`. Given a non-empty string containing only digits, write a function to determine the total number of ways to decode it. For example, the string '126' could be decoded as 'ABF', 'LF', or 'AZ'."
   ]
  },
  {
   "cell_type": "code",
   "execution_count": null,
   "id": "4072f931",
   "metadata": {},
   "outputs": [],
   "source": [
    "def numDecodings(s):\n",
    "    if not s or s[0] == '0':\n",
    "        return 0\n",
    "    \n",
    "    n = len(s)\n",
    "    dp = [0] * (n + 1)\n",
    "    dp[0] = 1  # There's one way to decode an empty string\n",
    "    dp[1] = 1  # There's one way to decode a non-empty string starting with a non-'0' digit\n",
    "    \n",
    "    for i in range(2, n + 1):\n",
    "        # Single digit decode (s[i-1])\n",
    "        if s[i-1] != '0':\n",
    "            dp[i] += dp[i-1]\n",
    "        \n",
    "        # Two digit decode (s[i-2:i])\n",
    "        if 10 <= int(s[i-2:i]) <= 26:\n",
    "            dp[i] += dp[i-2]\n",
    "    \n",
    "    return dp[n]"
   ]
  },
  {
   "cell_type": "code",
   "execution_count": null,
   "id": "3170bbbd",
   "metadata": {},
   "outputs": [],
   "source": [
    "print(numDecodings(\"12\"))  # Output: 2 ('AB', 'L')\n",
    "print(numDecodings(\"226\")) # Output: 3 ('BZ', 'VF', 'BBF')\n",
    "print(numDecodings(\"0\"))   # Output: 0\n",
    "print(numDecodings(\"10\"))  # Output: 1 ('J')"
   ]
  }
 ],
 "metadata": {
  "kernelspec": {
   "display_name": "Python 3 (ipykernel)",
   "language": "python",
   "name": "python3"
  },
  "language_info": {
   "codemirror_mode": {
    "name": "ipython",
    "version": 3
   },
   "file_extension": ".py",
   "mimetype": "text/x-python",
   "name": "python",
   "nbconvert_exporter": "python",
   "pygments_lexer": "ipython3",
   "version": "3.9.12"
  }
 },
 "nbformat": 4,
 "nbformat_minor": 5
}
