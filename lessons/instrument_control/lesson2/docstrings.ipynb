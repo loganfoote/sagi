{
 "cells": [
  {
   "cell_type": "markdown",
   "id": "7cc84b5a",
   "metadata": {},
   "source": [
    "# docstrings\n",
    "When writing code, it is very important to document exactly what the code will do. Get in the habit of writing docstrings for every function you write!! You will thank yourself later."
   ]
  },
  {
   "cell_type": "code",
   "execution_count": null,
   "id": "ec4ae046",
   "metadata": {},
   "outputs": [],
   "source": [
    "def add(a, b):\n",
    "    \"\"\"\n",
    "    Adds two numbers and returns the result.\n",
    "\n",
    "    :param a: float, the first number\n",
    "    :param b: float, the second number\n",
    "    \n",
    "    :return: float, the sum of the two numbers\n",
    "    \"\"\"\n",
    "    result = a + b\n",
    "    return result"
   ]
  }
 ],
 "metadata": {
  "kernelspec": {
   "display_name": "Python 3 (ipykernel)",
   "language": "python",
   "name": "python3"
  },
  "language_info": {
   "codemirror_mode": {
    "name": "ipython",
    "version": 3
   },
   "file_extension": ".py",
   "mimetype": "text/x-python",
   "name": "python",
   "nbconvert_exporter": "python",
   "pygments_lexer": "ipython3",
   "version": "3.11.9"
  }
 },
 "nbformat": 4,
 "nbformat_minor": 5
}
