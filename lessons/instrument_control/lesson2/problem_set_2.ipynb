{
 "cells": [
  {
   "cell_type": "markdown",
   "id": "5548541c",
   "metadata": {},
   "source": [
    "# Problem 1\n",
    "### 1.1\n",
    "Write a function that prints the largest and smallest elements in the following list, without using the max or min functions. Format the output to make it clear which value is the max and which is the min."
   ]
  },
  {
   "cell_type": "code",
   "execution_count": null,
   "id": "472359bd",
   "metadata": {},
   "outputs": [],
   "source": [
    "y = [87.96802803, 68.88423466, 97.55625748, 10.7190059 , 61.873047  ,\n",
    "     10.9918108 , 75.06649647, 52.52995411, 59.80411679,  9.90864536,\n",
    "     62.7518199 , 30.0433436 , 37.89287249, 82.40797255, 91.34869014,\n",
    "     26.32968054, 74.51634794, 63.16405964, 90.95562846, 57.07851194,\n",
    "     23.82879227, 55.11636267, 49.22818585,  9.97822878, 63.53592245,\n",
    "     78.32218254, 96.16041451, 56.16694094, 82.31394935, 85.50870095,\n",
    "     27.70282899, 82.22935653, 55.46314093, 55.09907211, 47.80178026,\n",
    "     55.48119461, 58.28209988, 60.7331124 , 96.81633853, 35.99409922,\n",
    "     54.85646241, 64.34195278, 83.56447564, 17.34990176, 91.45320605,\n",
    "     76.74388664, 72.72634567, 73.09588634, 74.46388511,  9.16216742]"
   ]
  },
  {
   "cell_type": "code",
   "execution_count": null,
   "id": "7179906d",
   "metadata": {},
   "outputs": [],
   "source": [
    "def find_max_min(x):\n",
    "    # Your code here"
   ]
  },
  {
   "cell_type": "markdown",
   "id": "e91d89a5",
   "metadata": {},
   "source": [
    "### 1.2 \n",
    "Modify the function to print the values rounded to 3 decimal places."
   ]
  },
  {
   "cell_type": "code",
   "execution_count": null,
   "id": "a892b514",
   "metadata": {},
   "outputs": [],
   "source": [
    "def find_max_min(x):\n",
    "    # Your code here"
   ]
  },
  {
   "cell_type": "markdown",
   "id": "b774d079",
   "metadata": {},
   "source": [
    "### 1.3\n",
    "Modify the function to return the largest and smallest values instead of printing them. Include the parameter \"print_output\", which if True causes the function to print the output before returning, and if False returns the output wihtout printing. \"print_output\" should be set to False by default. "
   ]
  },
  {
   "cell_type": "code",
   "execution_count": null,
   "id": "840a215b",
   "metadata": {},
   "outputs": [],
   "source": [
    "def find_max_min(x):\n",
    "    # Your code here"
   ]
  },
  {
   "cell_type": "markdown",
   "id": "5ea9dca0",
   "metadata": {},
   "source": [
    "### 1.4\n",
    "Modify the function to print and return the sum and average of the elements, rather than the max and min. "
   ]
  },
  {
   "cell_type": "code",
   "execution_count": null,
   "id": "071e1d55",
   "metadata": {},
   "outputs": [],
   "source": [
    "def find_sum_avg(x):\n",
    "    # Your code here"
   ]
  },
  {
   "cell_type": "markdown",
   "id": "1ae470a1",
   "metadata": {},
   "source": [
    "# 1.5 \n",
    "Write a function that sorts the list in ascending order."
   ]
  },
  {
   "cell_type": "code",
   "execution_count": null,
   "id": "46c2334a",
   "metadata": {},
   "outputs": [],
   "source": [
    "def sort_list(x):\n",
    "    # Your code here"
   ]
  },
  {
   "cell_type": "markdown",
   "id": "f3504a46",
   "metadata": {},
   "source": [
    "### 1.6 \n",
    "Write a function that converts each item in the list to an integer, properly rounded. Then print the unique elements in the list in ascending order."
   ]
  },
  {
   "cell_type": "code",
   "execution_count": null,
   "id": "17ecd523",
   "metadata": {},
   "outputs": [],
   "source": [
    "y = [87.96802803, 68.88423466, 97.55625748, 10.7190059 , 61.873047  ,\n",
    "     10.9918108 , 75.06649647, 52.52995411, 59.80411679,  9.90864536,\n",
    "     62.7518199 , 30.0433436 , 37.89287249, 82.40797255, 91.34869014,\n",
    "     26.32968054, 74.51634794, 63.16405964, 90.95562846, 57.07851194,\n",
    "     23.82879227, 55.11636267, 49.22818585,  9.97822878, 63.53592245,\n",
    "     78.32218254, 96.16041451, 56.16694094, 82.31394935, 85.50870095,\n",
    "     27.70282899, 82.22935653, 55.46314093, 55.09907211, 47.80178026,\n",
    "     55.48119461, 58.28209988, 60.7331124 , 96.81633853, 35.99409922,\n",
    "     54.85646241, 64.34195278, 83.56447564, 17.34990176, 91.45320605,\n",
    "     76.74388664, 72.72634567, 73.09588634, 74.46388511,  9.16216742]"
   ]
  },
  {
   "cell_type": "code",
   "execution_count": null,
   "id": "2323e7ba",
   "metadata": {},
   "outputs": [],
   "source": []
  },
  {
   "cell_type": "markdown",
   "id": "bc0f8f18",
   "metadata": {},
   "source": [
    "### 1.6 bonus\n",
    "Rewrite the same function in as few lines as possible. Feel free to use modules such as numpy."
   ]
  },
  {
   "cell_type": "code",
   "execution_count": null,
   "id": "09f39929",
   "metadata": {},
   "outputs": [],
   "source": []
  },
  {
   "cell_type": "markdown",
   "id": "1bcd6e79",
   "metadata": {},
   "source": [
    "# Problem 2: Instrument health monitoring system \n",
    "Write a function that monitors the health of multiple instruments. Each instrument has a connection status (connected, disconnected), enabled status (enabled, disabled), and some have a battery level. Write functions to \n",
    "<ul>\n",
    "    <li> Check if the instrument is disconnected </li>\n",
    "    <li> Check if the battery level is below 20%, if the instrument uses a battery </li>\n",
    "    <li> Print a report summarizing which instruments need attention, and which instruments are operating normally. </li>\n",
    "</ul>"
   ]
  },
  {
   "cell_type": "code",
   "execution_count": null,
   "id": "0d04920d",
   "metadata": {},
   "outputs": [],
   "source": [
    "instruments = {\n",
    "    \"thermometer\"       : {\"connection\": \"connected\",\n",
    "                           \"status\": \"enabled\",\n",
    "                           \"battery\": 80},\n",
    "    \"function_generator\": {\"connection\": \"disconnected\",\n",
    "                           \"status\": \"enabled\",\n",
    "                           \"battery\": None},\n",
    "    \"oscilloscope1\"     : {\"connection\": \"connected\",\n",
    "                           \"status\": \"enabled\",\n",
    "                           \"battery\": 20}\n",
    "    \"oscilloscope2\"     : {\"connection\": \"connected\",\n",
    "                           \"status\": \"disabled\",\n",
    "                           \"battery\": 100}\n",
    "} "
   ]
  }
 ],
 "metadata": {
  "kernelspec": {
   "display_name": "Python 3 (ipykernel)",
   "language": "python",
   "name": "python3"
  },
  "language_info": {
   "codemirror_mode": {
    "name": "ipython",
    "version": 3
   },
   "file_extension": ".py",
   "mimetype": "text/x-python",
   "name": "python",
   "nbconvert_exporter": "python",
   "pygments_lexer": "ipython3",
   "version": "3.9.12"
  }
 },
 "nbformat": 4,
 "nbformat_minor": 5
}
