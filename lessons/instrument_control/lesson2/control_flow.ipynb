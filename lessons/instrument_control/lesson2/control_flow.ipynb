{
 "cells": [
  {
   "cell_type": "markdown",
   "id": "50c40b79",
   "metadata": {},
   "source": [
    "# Functions\n",
    "Functions are reusable blocks of code that perform a specific task. They are defined using the 'def' keyword, followed by the function name, parenthesis, and a colon. The code within the function is indented, and the return value(s) are specified with the 'return' keyword."
   ]
  },
  {
   "cell_type": "code",
   "execution_count": null,
   "id": "03757dc1",
   "metadata": {},
   "outputs": [],
   "source": [
    "# define a function\n",
    "def func():\n",
    "    print('function 1')"
   ]
  },
  {
   "cell_type": "code",
   "execution_count": null,
   "id": "ec2c771f",
   "metadata": {},
   "outputs": [],
   "source": [
    "# execute the function\n",
    "func()"
   ]
  },
  {
   "cell_type": "code",
   "execution_count": null,
   "id": "ca10a098",
   "metadata": {},
   "outputs": [],
   "source": [
    "# define a function with a parameter \n",
    "def func(parameter):\n",
    "    print(str(parameter))\n",
    "func(10)"
   ]
  },
  {
   "cell_type": "code",
   "execution_count": null,
   "id": "10751c12",
   "metadata": {},
   "outputs": [],
   "source": [
    "# Define a function with two parameters, and return two parameters\n",
    "def add_subtract_numbers(a, b):\n",
    "    x = a + b \n",
    "    y = a - b\n",
    "    return x, y\n",
    "# Call the function \n",
    "x, y = add_subtract_numbers(10, 4)\n",
    "print(f'sum       : {x:>2}')\n",
    "print(f'difference: {y:>2}')"
   ]
  },
  {
   "cell_type": "code",
   "execution_count": null,
   "id": "742958c6",
   "metadata": {},
   "outputs": [],
   "source": [
    "# Note that the output is a tuple, so I can assign it to one variable and later split it\n",
    "t = add_subtract_numbers(4, 7)\n",
    "print(f'output    : {t}')\n",
    "x, y = t\n",
    "print(f'sum       : {x:>2}')\n",
    "print(f'difference: {y:>2}')"
   ]
  },
  {
   "cell_type": "code",
   "execution_count": null,
   "id": "adb2d7b6",
   "metadata": {},
   "outputs": [],
   "source": [
    "# I can also pass in a list instead of individual parameters using the asterix operator\n",
    "params = (4, 17)\n",
    "x, y = add_subtract_numbers(*params)\n",
    "print(f'sum       : {x:>2}')\n",
    "print(f'difference: {y:>2}')"
   ]
  },
  {
   "cell_type": "markdown",
   "id": "2246b151",
   "metadata": {},
   "source": [
    "## Default parameters\n",
    "Some parameters can be given a default value, that will only be overwritten if a different value is given as input to the function. "
   ]
  },
  {
   "cell_type": "code",
   "execution_count": null,
   "id": "38a15509",
   "metadata": {},
   "outputs": [],
   "source": [
    "def print_status(instrument, status = 'enabled'):\n",
    "    print(f'{instrument}: {status}')\n",
    "print_status('Function generator')\n",
    "print_status(instrument = 'Function generator')\n",
    "print_status('Function generator', status = 'disabled')\n",
    "print_status('Function generator', 'disabled')"
   ]
  },
  {
   "cell_type": "markdown",
   "id": "fcf8b4d1",
   "metadata": {},
   "source": [
    "## Scope and lifetime\n",
    "Variables defined inside a function are within that function's scope, and cannot be accessed outside the function. The variable exists in memory only for the duration of the function call. However, it is possible for a function to access variables outside the function call. Best practice is to avoid this, because it can lead to unwanted behavior."
   ]
  },
  {
   "cell_type": "code",
   "execution_count": null,
   "id": "47987fab",
   "metadata": {},
   "outputs": [],
   "source": [
    "# It is best not to do this, because you may forget that x was defined here, and redefine it later\n",
    "x = 5 \n",
    "def add_to_5(y):\n",
    "    return x + y \n",
    "add(3)"
   ]
  },
  {
   "cell_type": "code",
   "execution_count": null,
   "id": "f0ce1a6f",
   "metadata": {},
   "outputs": [],
   "source": [
    "x = 7\n",
    "add_to_5(3)"
   ]
  },
  {
   "cell_type": "code",
   "execution_count": null,
   "id": "76796644",
   "metadata": {},
   "outputs": [],
   "source": [
    "# Do this instead\n",
    "def add_to_5(y):\n",
    "    x = 5 \n",
    "    return x + y \n",
    "add_to_5(3)"
   ]
  },
  {
   "cell_type": "code",
   "execution_count": null,
   "id": "5d8646a7",
   "metadata": {},
   "outputs": [],
   "source": [
    "# Or something like this\n",
    "def add(y, x = 5):\n",
    "    return x + y \n",
    "add(3)"
   ]
  },
  {
   "cell_type": "markdown",
   "id": "af7868ba",
   "metadata": {},
   "source": [
    "# lambda functions\n",
    "lambda functions are a more compact way of defining simple functions"
   ]
  },
  {
   "cell_type": "code",
   "execution_count": null,
   "id": "4e6dfad7",
   "metadata": {},
   "outputs": [],
   "source": [
    "m, b = 10, 4\n",
    "line = lambda x: m * x + b\n",
    "print(line(-4))"
   ]
  },
  {
   "cell_type": "markdown",
   "id": "b3210dd9",
   "metadata": {},
   "source": [
    "## Higher-order functions \n",
    "Functions can take other functions as arguments or return them as results."
   ]
  },
  {
   "cell_type": "code",
   "execution_count": null,
   "id": "04d5593b",
   "metadata": {},
   "outputs": [],
   "source": [
    "def square(x):\n",
    "    return x * x \n",
    "def print_func_output(func, x):\n",
    "    print(func(x))\n",
    "    \n",
    "print_func_output(square, 2)"
   ]
  },
  {
   "cell_type": "markdown",
   "id": "a1d040a6",
   "metadata": {},
   "source": [
    "# Control flow\n",
    "Control flow describes the order in which segments of code are executed. Here is an overview of the following control flow statements:\n",
    "<ol>\n",
    "    <li>conditional statements </li>\n",
    "    <li> looping statements </li>\n",
    "</ol>"
   ]
  },
  {
   "cell_type": "markdown",
   "id": "7d77e820",
   "metadata": {},
   "source": [
    "## 1. Conditional statements \n",
    "Conditional statements allow you to execute code based on whether or not a statement is True."
   ]
  },
  {
   "cell_type": "code",
   "execution_count": null,
   "id": "f5e05511",
   "metadata": {},
   "outputs": [],
   "source": [
    "# if condition is True, executes the indented text \n",
    "condition = True \n",
    "if condition:\n",
    "    print('1')\n",
    "if not condition:\n",
    "    print('2')"
   ]
  },
  {
   "cell_type": "code",
   "execution_count": null,
   "id": "180ee8d3",
   "metadata": {},
   "outputs": [],
   "source": [
    "# if-else statement executes the first segment of code if the \n",
    "# condition is True, and the second segment of code if the \n",
    "# condition is False \n",
    "condition = False\n",
    "if condition:\n",
    "    print('The condition is True')\n",
    "else:\n",
    "    print('The condition is False')"
   ]
  },
  {
   "cell_type": "code",
   "execution_count": null,
   "id": "f7b2910c",
   "metadata": {},
   "outputs": [],
   "source": [
    "# if-elif-else statement executes the first condition that is True \n",
    "if False:\n",
    "    print('1')\n",
    "elif True:\n",
    "    print('2')\n",
    "else:\n",
    "    print('3')"
   ]
  },
  {
   "cell_type": "markdown",
   "id": "a15bdafe",
   "metadata": {},
   "source": [
    "## 2. Looping statements \n",
    "Looping statements allow you to execute a block of code repeatedly."
   ]
  },
  {
   "cell_type": "code",
   "execution_count": null,
   "id": "3f5b8ad9",
   "metadata": {},
   "outputs": [],
   "source": [
    "# while loop: executes the code as long as a condition is True \n",
    "i = 0\n",
    "while i <= 3:\n",
    "    print(i)\n",
    "    i += 1"
   ]
  },
  {
   "cell_type": "code",
   "execution_count": null,
   "id": "554729f2",
   "metadata": {},
   "outputs": [],
   "source": [
    "# for loop: loops over each item in a sequence\n",
    "indices = [0, 1, 2, 3]\n",
    "for i in indices:\n",
    "    print(i)"
   ]
  },
  {
   "cell_type": "markdown",
   "id": "4ae3cc67",
   "metadata": {},
   "source": [
    "### Some useful functions to use with lists"
   ]
  },
  {
   "cell_type": "code",
   "execution_count": null,
   "id": "e3d726cf",
   "metadata": {},
   "outputs": [],
   "source": [
    "# range creates evenly spaced integers\n",
    "r = range(1, 4, 1) # first value inclusive, second value exclusive\n",
    "print(r)\n",
    "for index in r:\n",
    "    print(index)"
   ]
  },
  {
   "cell_type": "code",
   "execution_count": null,
   "id": "fececf30",
   "metadata": {},
   "outputs": [],
   "source": [
    "# enumerate: iterate through a list and also get the index of \n",
    "# each item \n",
    "integers = [10, 6, 5, 9, 3]\n",
    "for index, integer in enumerate(integers):\n",
    "    print(index, integer)"
   ]
  },
  {
   "cell_type": "code",
   "execution_count": null,
   "id": "1667f3bb",
   "metadata": {},
   "outputs": [],
   "source": [
    "# zip: iterate through two lists \n",
    "names = ['run0', 'run1', 'run2', 'run3', 'run4']\n",
    "data = [10, 6, 5, 9, 3] \n",
    "for name, x in zip(names, data):\n",
    "    print(name + ':', x)\n",
    "# Can you rewrite this without zip? What about using a while loop?"
   ]
  },
  {
   "cell_type": "markdown",
   "id": "816573ab",
   "metadata": {},
   "source": [
    "### Extra: control statements within loops \n",
    "The following statements should be used sparingly, but may be of use in certain situations."
   ]
  },
  {
   "cell_type": "code",
   "execution_count": null,
   "id": "5008803b",
   "metadata": {},
   "outputs": [],
   "source": [
    "# break statement escapes the loop \n",
    "i = 10\n",
    "while True:\n",
    "    print(i)\n",
    "    if i < 1:\n",
    "        break\n",
    "    i = 0\n",
    "# can you rewrite this without using a break statement?"
   ]
  },
  {
   "cell_type": "code",
   "execution_count": null,
   "id": "24b4e922",
   "metadata": {},
   "outputs": [],
   "source": [
    "# continue: bypasses the rest of the loop and moves on to \n",
    "# the next iteration\n",
    "indices = [0, 1, 2, 3]\n",
    "for i in indices:\n",
    "    if i == 2:\n",
    "        continue \n",
    "    print(i)"
   ]
  },
  {
   "cell_type": "code",
   "execution_count": null,
   "id": "212dcb2d",
   "metadata": {},
   "outputs": [],
   "source": [
    "# pass statement: does nothing. Use this as a temporary \n",
    "# placeholder for code you plan to fill in later\n",
    "for index in [0, 1, 2, 3]:\n",
    "    pass"
   ]
  },
  {
   "cell_type": "markdown",
   "id": "cc3b74b9",
   "metadata": {},
   "source": [
    "## Recursion\n",
    "Recursion is a very useful behavior in Python where a function calls itself. When writing recursive functions, ensure that there is an end condition, so the function cannot enter an infinite loop."
   ]
  },
  {
   "cell_type": "code",
   "execution_count": null,
   "id": "5367800e",
   "metadata": {},
   "outputs": [],
   "source": [
    "# This function will enter an endless loop if n < 0\n",
    "def factorial(n):\n",
    "    if n == 0:\n",
    "        return 1 \n",
    "    else:\n",
    "        return n * factorial(n - 1)\n",
    "print(factorial(5))"
   ]
  },
  {
   "cell_type": "markdown",
   "id": "7e91e984",
   "metadata": {},
   "source": [
    "## Exception handling\n",
    "There may be situations where you want your code to raise an Exception instead of continuing. For example, in the 'factorial' function above, the function will enter an infinite loop if the parameter 'n' is negative. Instead, the function can raise an error to ensure that this is impossible using the 'raise' keyword. The user must specify the type of exception. The general class is 'Exception', but there are many built-in exception types that can be found [here](https://docs.python.org/3/library/exceptions.html). In this case, we will use 'ValueError', when the argument is the right type but has an inappropriate value. "
   ]
  },
  {
   "cell_type": "code",
   "execution_count": null,
   "id": "1a831d3f",
   "metadata": {},
   "outputs": [],
   "source": [
    "def factorial(n):\n",
    "    if n < 0:\n",
    "        raise ValueError('n must be greater than 0')\n",
    "    if n == 0:\n",
    "        return 1 \n",
    "    else:\n",
    "        return n * factorial(n - 1)\n",
    "factorial(-1)"
   ]
  },
  {
   "cell_type": "markdown",
   "id": "c5166c42",
   "metadata": {},
   "source": [
    "### Catching errors \n",
    "There are other situations where the user may want to catch errors to allow their code to keep running. The code can be placed in a 'try' statement, with and 'except' statement for each type of exception the user wants to catch. A 'finally' statement can be used to execute cleanup code."
   ]
  },
  {
   "cell_type": "code",
   "execution_count": null,
   "id": "c50b9bc0",
   "metadata": {},
   "outputs": [],
   "source": [
    "try:\n",
    "    with open(\"non_existent_file.txt\", \"r\") as file:\n",
    "        data = file.read()\n",
    "except FileNotFoundError:\n",
    "    print(\"The file was not found.\")\n",
    "except IOError:\n",
    "    print(\"An I/O error occurred.\")\n",
    "finally:\n",
    "    print(\"File operation attempted.\")"
   ]
  },
  {
   "cell_type": "code",
   "execution_count": null,
   "id": "51a5c6de",
   "metadata": {},
   "outputs": [],
   "source": [
    "# The error can also be raised after executing some code as follows\n",
    "try:\n",
    "    with open(\"non_existent_file.txt\", \"r\") as file:\n",
    "        data = file.read()\n",
    "except FileNotFoundError as e:\n",
    "    print(\"The file was not found.\")\n",
    "    raise e"
   ]
  },
  {
   "cell_type": "markdown",
   "id": "d72b4061",
   "metadata": {},
   "source": [
    "This situation may come up a lot when analyzing large amounts of data: If a single set of data fails, we may want to log which set failed and what the error was, but allow the code to move on to the next set of data. We can then take a look at the set that failed to determine the error."
   ]
  },
  {
   "cell_type": "code",
   "execution_count": null,
   "id": "3213624c",
   "metadata": {},
   "outputs": [],
   "source": [
    "def analyze_data(index):\n",
    "    if index == 5:\n",
    "        raise FileNotFoundError('Data was not found')\n",
    "    # Analyze data \n",
    "    \n",
    "for index in range(50):\n",
    "    try:\n",
    "        analyze_data(index)\n",
    "    except FileNotFoundError:\n",
    "        print(f'File {index} not found')"
   ]
  },
  {
   "cell_type": "markdown",
   "id": "936ee2a6",
   "metadata": {},
   "source": [
    "In practice, if you know exactly what the error will be it is better to write code that doesn't raise the error in the first place. This prevents you from accidently catching an error that should not be caught."
   ]
  },
  {
   "cell_type": "code",
   "execution_count": null,
   "id": "1f917f38",
   "metadata": {},
   "outputs": [],
   "source": [
    "files = list(range(50))\n",
    "files.pop(5)\n",
    "def analyze_data(index):\n",
    "    if index in files:\n",
    "        # analyze data \n",
    "        pass \n",
    "    else:\n",
    "        print(f'File {index} not found')\n",
    "        \n",
    "for index in range(50):\n",
    "    analyze_data(index)"
   ]
  },
  {
   "cell_type": "code",
   "execution_count": null,
   "id": "b4141197",
   "metadata": {},
   "outputs": [],
   "source": []
  }
 ],
 "metadata": {
  "kernelspec": {
   "display_name": "Python 3 (ipykernel)",
   "language": "python",
   "name": "python3"
  },
  "language_info": {
   "codemirror_mode": {
    "name": "ipython",
    "version": 3
   },
   "file_extension": ".py",
   "mimetype": "text/x-python",
   "name": "python",
   "nbconvert_exporter": "python",
   "pygments_lexer": "ipython3",
   "version": "3.9.12"
  }
 },
 "nbformat": 4,
 "nbformat_minor": 5
}
