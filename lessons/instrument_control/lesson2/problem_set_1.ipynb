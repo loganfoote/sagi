{
 "cells": [
  {
   "cell_type": "markdown",
   "id": "28708cf2",
   "metadata": {},
   "source": [
    "# Problem 0 \n",
    "### 0.1\n",
    "Given an instrument name and status string, print a statement indicating the status, such as the following: 'Thermometer is currently operational'."
   ]
  },
  {
   "cell_type": "code",
   "execution_count": null,
   "id": "8364b289",
   "metadata": {},
   "outputs": [],
   "source": [
    "name = 'Oscilloscope'\n",
    "status = 'disconnected'\n",
    "# Your code here \n"
   ]
  },
  {
   "cell_type": "markdown",
   "id": "348accec",
   "metadata": {},
   "source": [
    "### 0.2\n",
    "Modify your code to ensure that the instrument name is capitalized and the instrument status is not."
   ]
  },
  {
   "cell_type": "code",
   "execution_count": null,
   "id": "071c9c4b",
   "metadata": {},
   "outputs": [],
   "source": [
    "name = 'oscilloscope'\n",
    "status = 'Disconnected'\n",
    "# Your code here \n"
   ]
  },
  {
   "cell_type": "markdown",
   "id": "1cdb02dc",
   "metadata": {},
   "source": [
    "# Problem 1\n",
    "### 1.1\n",
    "When connecting to an instrument through the GPIB protocol, addresses are given as strings with the form 'GPIB0::12::INSTR', where 12 is the GPIB address. Write code to convert a the GPIB address as a numeric data type into the corresponding string. Ensure that your code works for int and float data types."
   ]
  },
  {
   "cell_type": "code",
   "execution_count": null,
   "id": "11b82006",
   "metadata": {},
   "outputs": [],
   "source": [
    "gpib_address0 = 19 \n",
    "gpib_address1 = 20. \n",
    "### Your code here \n",
    "gpib_string = "
   ]
  },
  {
   "cell_type": "markdown",
   "id": "2056d65a",
   "metadata": {},
   "source": [
    "### 1.2\n",
    "Given the address as a string, write code to extract the address number as an integer."
   ]
  },
  {
   "cell_type": "code",
   "execution_count": 1,
   "id": "e0c1824e",
   "metadata": {},
   "outputs": [],
   "source": [
    "gpib_string = 'GPIB0::18::INSTR'\n",
    "### Your code here \n",
    "gpib_address = "
   ]
  },
  {
   "cell_type": "markdown",
   "id": "8c69dfa6",
   "metadata": {},
   "source": [
    "### 1.3 \n",
    "Suppose the number after GPIB (0 in 'GPIB0') can be any value, and you do not know the exact length. Ensure that your code is robust to this change."
   ]
  },
  {
   "cell_type": "code",
   "execution_count": null,
   "id": "a02bb7db",
   "metadata": {},
   "outputs": [],
   "source": [
    "gpib_string0 = 'GPIB0::18::INSTR'\n",
    "gpib_string0 = 'GPIB14::18::INSTR'\n",
    "# Your code here\n",
    "gpib_address0 = \n",
    "gpib_address1 = "
   ]
  },
  {
   "cell_type": "markdown",
   "id": "eef75b8e",
   "metadata": {},
   "source": [
    "# Problem 2\n",
    "### 2.1\n",
    "You have imported the following log file as a string. Parse through the data to create the following variables:\n",
    "<ul>\n",
    "    <li> log_number (int): log file number </li>\n",
    "    <li> year (int) </li> \n",
    "    <li> month (int) </li>\n",
    "    <li> day (int) </li> \n",
    "    <li> hour (float) </li>\n",
    "    <li> minute (float) </li> \n",
    "    <li> second (float) </li> \n",
    "    <li> temperature (float): in K </li> \n",
    "    <li> resistance (float): in $\\Omega$ </li> \n",
    "    <li> voltage (float): in V </li> \n",
    "</ul>"
   ]
  },
  {
   "cell_type": "code",
   "execution_count": null,
   "id": "81603ce1",
   "metadata": {},
   "outputs": [],
   "source": [
    "log = \"\"\"\n",
    "Log 14: instrument control \n",
    "\n",
    "date: 20240729\n",
    "time: 7:46:12.14893\n",
    "temperature: 298 K \n",
    "resistance: 14 mOhms \n",
    "voltage: 19.498 V \n",
    "\"\"\"\n",
    "# Your code here \n",
    "log_number =  \n",
    "year = \n",
    "month = \n",
    "day = \n",
    "hour = \n",
    "minute = \n",
    "second = \n",
    "temperature = \n",
    "resistance = \n",
    "voltage = "
   ]
  },
  {
   "cell_type": "markdown",
   "id": "bc3a8db9",
   "metadata": {},
   "source": [
    "### 2.2\n",
    "Convert the month integer to the month name as a string."
   ]
  },
  {
   "cell_type": "code",
   "execution_count": null,
   "id": "96145488",
   "metadata": {},
   "outputs": [],
   "source": [
    "# Your code here \n",
    "month_name = "
   ]
  },
  {
   "cell_type": "markdown",
   "id": "6ab87c6b",
   "metadata": {},
   "source": [
    "### 2.3 bonus \n",
    "What if the order of the lines in the log file changes? What if some of the values (temperature, resistance, etc) appear in some log files but not others? Can you ensure that your code is robust to these variables? For values that are note found in the log file, your code should assign the variable to 'None'."
   ]
  },
  {
   "cell_type": "code",
   "execution_count": null,
   "id": "9edaeced",
   "metadata": {},
   "outputs": [],
   "source": [
    "log0 = \"\"\"\n",
    "Log 14: instrument control \n",
    "\n",
    "date: 20240729\n",
    "time: 7:46:12.14893\n",
    "temperature: 298 K \n",
    "voltage: 19.498 V \n",
    "\"\"\"\n",
    "log1 = \"\"\"\n",
    "Log 14: instrument control \n",
    "\n",
    "date: 20240729\n",
    "time: 7:46:12.14893\n",
    "resistance: 14 mOhms\n",
    "voltage: 19.498 V \n",
    "temperature: 298 K \n",
    "\"\"\"\n",
    "# Your code here \n",
    "log_number =  \n",
    "year = \n",
    "month = \n",
    "day = \n",
    "hour = \n",
    "minute = \n",
    "second = \n",
    "temperature = \n",
    "resistance = \n",
    "voltage = "
   ]
  },
  {
   "cell_type": "markdown",
   "id": "162437de",
   "metadata": {},
   "source": [
    "### 2.4 \n",
    "Given the following variables, create the log string with the format given above."
   ]
  },
  {
   "cell_type": "code",
   "execution_count": null,
   "id": "6b85a69b",
   "metadata": {},
   "outputs": [],
   "source": [
    "log_number =  5\n",
    "year = 2024\n",
    "month = 9\n",
    "day = 2\n",
    "hour = 18\n",
    "minute = 2\n",
    "second = 59.691348\n",
    "temperature = 10\n",
    "resistance = 0.002\n",
    "voltage = 16.4\n",
    "# Your code here \n",
    "log = "
   ]
  },
  {
   "cell_type": "markdown",
   "id": "7d07a0f1",
   "metadata": {},
   "source": [
    "### 2.5 bonus \n",
    "If one of the variables is given as 'None', make sure your code leaves that line out of the log file."
   ]
  },
  {
   "cell_type": "code",
   "execution_count": null,
   "id": "aee292d3",
   "metadata": {},
   "outputs": [],
   "source": [
    "log_number =  5\n",
    "year = 2024\n",
    "month = 9\n",
    "day = 2\n",
    "hour = 18\n",
    "minute = 2\n",
    "second = 59.691348\n",
    "temperature = 10\n",
    "resistance = None\n",
    "voltage = 16.4\n",
    "# Your code here \n",
    "log = "
   ]
  },
  {
   "cell_type": "markdown",
   "id": "ac245dc8",
   "metadata": {},
   "source": [
    "# 3 \n",
    "### 3.1 \n",
    "Write code that calculates the voltage drop across a resistor using Ohm's Law (V = IR). Print the result with units."
   ]
  },
  {
   "cell_type": "code",
   "execution_count": null,
   "id": "ef4f967c",
   "metadata": {},
   "outputs": [],
   "source": [
    "current = 0.29813 # amps \n",
    "resistance = 15.134087 # Ohms \n",
    "# Your code here \n",
    "voltage = "
   ]
  },
  {
   "cell_type": "markdown",
   "id": "e3e250c3",
   "metadata": {},
   "source": [
    "### 3.2 \n",
    "Write code to calculate the pressure difference between two readings. Print the pressure difference (as a positive number), and print which reading is greater."
   ]
  },
  {
   "cell_type": "code",
   "execution_count": null,
   "id": "31bac326",
   "metadata": {},
   "outputs": [],
   "source": [
    "p1 = 0.98 \n",
    "p2 = 1.4 \n",
    "# Your code here \n",
    "delta_p = "
   ]
  },
  {
   "cell_type": "markdown",
   "id": "9385d327",
   "metadata": {},
   "source": [
    "# 4\n",
    "You are connecting to four instruments, and you receive a status string of either 'connected' or 'disconnected' from each one. Create a dictionary where keys are the name of the instruments and values are a boolean representing the state. Create a new variable 'all_connected' that is True if all the instruments are connected and False if any are disconnected."
   ]
  },
  {
   "cell_type": "code",
   "execution_count": null,
   "id": "841d4d0e",
   "metadata": {},
   "outputs": [],
   "source": [
    "oscilloscope = 'connected'\n",
    "function_generator = 'connected'\n",
    "thermometer = 'connected' \n",
    "multimeter = 'connected'\n",
    "# Your code here \n",
    "instruments = {}\n",
    "all_connected = "
   ]
  },
  {
   "cell_type": "markdown",
   "id": "ef3864de",
   "metadata": {},
   "source": [
    "# 5 \n",
    "Write code that takes the date of the last calibration as a string and creates a boolean that is True if the last calibration was within 30 days, or False if it was more than 30 days ago."
   ]
  },
  {
   "cell_type": "code",
   "execution_count": null,
   "id": "09812e24",
   "metadata": {},
   "outputs": [],
   "source": [
    "last_calibration = '20240604'\n",
    "# Your code here \n"
   ]
  },
  {
   "cell_type": "markdown",
   "id": "21576044",
   "metadata": {},
   "source": [
    "# 6 \n",
    "Write code that takes a list of measurements and returns their average."
   ]
  },
  {
   "cell_type": "code",
   "execution_count": 6,
   "id": "6dd488c3",
   "metadata": {},
   "outputs": [
    {
     "data": {
      "text/plain": [
       "array([ 8.28855233, 11.24060003, 11.80479718, 10.49343725, 10.44392358,\n",
       "        8.5742672 ,  9.83928851,  9.03850073,  9.41030567, 10.31236147])"
      ]
     },
     "execution_count": 6,
     "metadata": {},
     "output_type": "execute_result"
    }
   ],
   "source": [
    "resistances = [ 8.28855233, 11.24060003, 11.80479718, 10.49343725, \n",
    "               10.44392358, 8.5742672 ,  9.83928851,  9.03850073,  \n",
    "               9.41030567, 10.31236147]\n",
    "# Your code here \n",
    "average_resistance = "
   ]
  },
  {
   "cell_type": "markdown",
   "id": "31452b7f",
   "metadata": {},
   "source": [
    "# 7\n",
    "Write code that takes a list of values and returns the highest value and the index of the highest value. "
   ]
  },
  {
   "cell_type": "code",
   "execution_count": null,
   "id": "9ea26298",
   "metadata": {},
   "outputs": [],
   "source": [
    "resistances = [ 8.28855233, 11.24060003, 11.80479718, 10.49343725, \n",
    "               10.44392358, 8.5742672 ,  9.83928851,  9.03850073,  \n",
    "               9.41030567, 10.31236147]\n",
    "# Your code here \n",
    "max_resistance = \n",
    "max_resistance_index = "
   ]
  },
  {
   "cell_type": "markdown",
   "id": "b4b2ca72",
   "metadata": {},
   "source": [
    "# 8 \n",
    "Write code that takes tuple representing Cartesian coordinates (x,y) and converts to polar coordinates (r,theta)."
   ]
  },
  {
   "cell_type": "code",
   "execution_count": null,
   "id": "8803cd8f",
   "metadata": {},
   "outputs": [],
   "source": [
    "cart_coordinates = (5, 17)\n",
    "# Your code here \n",
    "polar_coordinates = "
   ]
  },
  {
   "cell_type": "markdown",
   "id": "3a494a4c",
   "metadata": {},
   "source": [
    "# 9 \n",
    "Given a dictionary with instrument settings and a new dictionary with updated settings, update the current configuration with the new settings."
   ]
  },
  {
   "cell_type": "code",
   "execution_count": 7,
   "id": "601de0fe",
   "metadata": {},
   "outputs": [],
   "source": [
    "fgen_settings = {'voltage': 4.5,\n",
    "                 'type': 'sin',\n",
    "                 'offset': 0\n",
    "                }\n",
    "updated_settings = {'type': 'square',\n",
    "                    'offset': -1\n",
    "                   }\n",
    "# Your code here "
   ]
  },
  {
   "cell_type": "markdown",
   "id": "800d026f",
   "metadata": {},
   "source": [
    "# 10 \n",
    "Given a dictionary with instrument names as keys and statuses as values, return a list of instruments that are disconnected"
   ]
  },
  {
   "cell_type": "code",
   "execution_count": null,
   "id": "f5d9cd4a",
   "metadata": {},
   "outputs": [],
   "source": [
    "instruments = {oscilloscope       = 'disconnected'\n",
    "               function_generator = 'connected'\n",
    "               thermometer        = 'connected' \n",
    "               multimeter         = 'disconnected'\n",
    "              }\n",
    "# Your code here \n",
    "disconnected_instruments = []"
   ]
  }
 ],
 "metadata": {
  "kernelspec": {
   "display_name": "Python 3 (ipykernel)",
   "language": "python",
   "name": "python3"
  },
  "language_info": {
   "codemirror_mode": {
    "name": "ipython",
    "version": 3
   },
   "file_extension": ".py",
   "mimetype": "text/x-python",
   "name": "python",
   "nbconvert_exporter": "python",
   "pygments_lexer": "ipython3",
   "version": "3.9.12"
  }
 },
 "nbformat": 4,
 "nbformat_minor": 5
}
