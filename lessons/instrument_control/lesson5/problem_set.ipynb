{
 "cells": [
  {
   "cell_type": "markdown",
   "id": "d99df7a4",
   "metadata": {},
   "source": [
    "# File I/O Setup for Electronics Lab Project\n",
    "In this problem set, we will set up functions to save data and log parameters for the electronics lab project. \n",
    "## Problem 1: Saving csv files\n",
    "Format and save the following data as a single column csv file with column name `voltage`. Some people prefer to include the units as the second row in the columns, and others prefer to save the units in the log file. You can make this choice for yourself here. Turn this code into a function, which takes the following parameters as inputs: `voltage`, `path`, and optionally `unit`. \\\n",
    "**Note:** If you open a csv file in excel, it will try to get you to save it as an xlsx file. This will mess up your Python code, so make sure to keep the file format as csv."
   ]
  },
  {
   "cell_type": "code",
   "execution_count": 4,
   "id": "71cd6c3c",
   "metadata": {},
   "outputs": [],
   "source": [
    "voltage = [-22.49194569,  -8.84048421, -24.08512566, -28.17491177,\n",
    "            17.24362829, -31.72005968, -15.03070767,  -5.74553134,\n",
    "            -3.6421384 , -10.66114773, -16.61791335,   0.62631091,\n",
    "           -31.21654304,   1.64264594, -17.329834  , -13.47011889,\n",
    "           -19.19854741,  -5.61232529,  -2.21477568, -23.97114704,\n",
    "            -1.01685989,  -3.64775334,  -1.60606257,  -0.67603204,\n",
    "            -5.94722628, -19.91495162,  -4.08330075,   3.25255982,\n",
    "            -0.16814809,  -5.22093793,  -7.09634211, -16.28708169,\n",
    "           -16.03094174,  -9.89704766,  -4.3526658 ,   8.84505229,\n",
    "           -10.10431137, -21.98260157,  21.97641644,  -5.87630593]"
   ]
  },
  {
   "cell_type": "code",
   "execution_count": null,
   "id": "9b1e69ea",
   "metadata": {},
   "outputs": [],
   "source": [
    "def save_voltage(voltage, path, unit):\n",
    "    # Your code here "
   ]
  },
  {
   "cell_type": "markdown",
   "id": "f4f5e223",
   "metadata": {},
   "source": [
    "Write a function that reads the data from the csv file. The function should take parameters `path` and `unit`, and return an array of voltages. Your function should work for the following units: 'uV', 'mV', 'V', and 'kV'."
   ]
  },
  {
   "cell_type": "code",
   "execution_count": null,
   "id": "4ec477cb",
   "metadata": {},
   "outputs": [],
   "source": [
    "def read_voltage(path, unit):\n",
    "    # Your code here"
   ]
  },
  {
   "cell_type": "markdown",
   "id": "7b8dfe38",
   "metadata": {},
   "source": [
    "## Problem 2: Logging \n",
    "Write a function to create and save a log file. The log file will be associated with a single csv data file. The file name of the log file should end in '.log'. The log file should have the header 'SAGI electronics project', followed by a line with your name, followed by a line with the date and time. This text should be followed by info given by a dictionary. The info should be formatted as 'key: value (units)'. You will decide what data and units to fill this dictionary with during the project. At the bottom of the log file, there should be a line that says 'Notes:', followed by a multiline input from the user."
   ]
  },
  {
   "cell_type": "code",
   "execution_count": 5,
   "id": "bad18493",
   "metadata": {},
   "outputs": [],
   "source": [
    "log_data = {'temperature': 292, 'frequency': 2}\n",
    "log_units = {'temperature': 'K', 'frequency': 'kHz'}\n",
    "notes = \"\"\"sample notes\n",
    "oscilloscope was connected with a 5 ft BNC cable \n",
    "other notes\n",
    "\"\"\""
   ]
  },
  {
   "cell_type": "code",
   "execution_count": null,
   "id": "cd9d5ca5",
   "metadata": {},
   "outputs": [],
   "source": [
    "def log_electronics_project(path, name, log_data, log_units, notes, title = 'SAGI electronics project'):\n",
    "    # Your code here"
   ]
  },
  {
   "cell_type": "markdown",
   "id": "77cb966d",
   "metadata": {},
   "source": [
    "Write a function to import the data from a log file, and return the dictionary given above, the notes, your name, and the date/time."
   ]
  },
  {
   "cell_type": "code",
   "execution_count": null,
   "id": "6ba46041",
   "metadata": {},
   "outputs": [],
   "source": [
    "def read_electronics_project_log(path):\n",
    "    # Your code here \n",
    "    return name, datetime, log_data, log_units, notes"
   ]
  }
 ],
 "metadata": {
  "kernelspec": {
   "display_name": "Python 3 (ipykernel)",
   "language": "python",
   "name": "python3"
  },
  "language_info": {
   "codemirror_mode": {
    "name": "ipython",
    "version": 3
   },
   "file_extension": ".py",
   "mimetype": "text/x-python",
   "name": "python",
   "nbconvert_exporter": "python",
   "pygments_lexer": "ipython3",
   "version": "3.9.12"
  }
 },
 "nbformat": 4,
 "nbformat_minor": 5
}
