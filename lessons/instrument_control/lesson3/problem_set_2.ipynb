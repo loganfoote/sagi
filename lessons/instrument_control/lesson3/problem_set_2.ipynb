{
 "cells": [
  {
   "cell_type": "markdown",
   "id": "5548541c",
   "metadata": {},
   "source": [
    "# Problem 1\n",
    "### 1.1\n",
    "Write a function that prints the largest and smallest elements in the following list, without using the max or min functions. Format the output to make it clear which value is the max and which is the min."
   ]
  },
  {
   "cell_type": "code",
   "execution_count": null,
   "id": "472359bd",
   "metadata": {},
   "outputs": [],
   "source": [
    "y = [87.96802803, 68.88423466, 97.55625748, 10.7190059 , 61.873047  ,\n",
    "     10.9918108 , 75.06649647, 52.52995411, 59.80411679,  9.90864536,\n",
    "     62.7518199 , 30.0433436 , 37.89287249, 82.40797255, 91.34869014,\n",
    "     26.32968054, 74.51634794, 63.16405964, 90.95562846, 57.07851194,\n",
    "     23.82879227, 55.11636267, 49.22818585,  9.97822878, 63.53592245,\n",
    "     78.32218254, 96.16041451, 56.16694094, 82.31394935, 85.50870095,\n",
    "     27.70282899, 82.22935653, 55.46314093, 55.09907211, 47.80178026,\n",
    "     55.48119461, 58.28209988, 60.7331124 , 96.81633853, 35.99409922,\n",
    "     54.85646241, 64.34195278, 83.56447564, 17.34990176, 91.45320605,\n",
    "     76.74388664, 72.72634567, 73.09588634, 74.46388511,  9.16216742]"
   ]
  },
  {
   "cell_type": "code",
   "execution_count": null,
   "id": "7179906d",
   "metadata": {},
   "outputs": [],
   "source": [
    "def find_max_min(x):\n",
    "    # Your code here"
   ]
  },
  {
   "cell_type": "markdown",
   "id": "e91d89a5",
   "metadata": {},
   "source": [
    "### 1.2 \n",
    "Modify the function `find_max_min` to print the values rounded to 3 decimal places."
   ]
  },
  {
   "cell_type": "code",
   "execution_count": null,
   "id": "a892b514",
   "metadata": {},
   "outputs": [],
   "source": [
    "def find_max_min(x):\n",
    "    # Your code here"
   ]
  },
  {
   "cell_type": "markdown",
   "id": "b774d079",
   "metadata": {},
   "source": [
    "### 1.3\n",
    "Modify the function `find_max_min` to return the largest and smallest values instead of printing them. Include the parameter `print_output`, which if True causes the function to print the output before returning, and if False returns the output wihtout printing. `print_output` should be set to False by default. "
   ]
  },
  {
   "cell_type": "code",
   "execution_count": null,
   "id": "840a215b",
   "metadata": {},
   "outputs": [],
   "source": [
    "def find_max_min(x):\n",
    "    # Your code here"
   ]
  },
  {
   "cell_type": "markdown",
   "id": "5ea9dca0",
   "metadata": {},
   "source": [
    "### 1.4\n",
    "Modify the function `find_sum_avg` to print and return the sum and average of the elements, rather than the max and min. "
   ]
  },
  {
   "cell_type": "code",
   "execution_count": null,
   "id": "071e1d55",
   "metadata": {},
   "outputs": [],
   "source": [
    "def find_sum_avg(x):\n",
    "    # Your code here"
   ]
  },
  {
   "cell_type": "markdown",
   "id": "1ae470a1",
   "metadata": {},
   "source": [
    "# 1.5 \n",
    "Write a function `sort_list` that sorts the list in ascending order."
   ]
  },
  {
   "cell_type": "code",
   "execution_count": null,
   "id": "46c2334a",
   "metadata": {},
   "outputs": [],
   "source": [
    "def sort_list(x):\n",
    "    # Your code here"
   ]
  },
  {
   "cell_type": "markdown",
   "id": "f3504a46",
   "metadata": {},
   "source": [
    "### 1.6 \n",
    "Write a function that converts each item in the list to an integer, properly rounded. Then print the unique elements in the list in ascending order."
   ]
  },
  {
   "cell_type": "code",
   "execution_count": null,
   "id": "17ecd523",
   "metadata": {},
   "outputs": [],
   "source": [
    "y = [87.96802803, 68.88423466, 97.55625748, 10.7190059 , 61.873047  ,\n",
    "     10.9918108 , 75.06649647, 52.52995411, 59.80411679,  9.90864536,\n",
    "     62.7518199 , 30.0433436 , 37.89287249, 82.40797255, 91.34869014,\n",
    "     26.32968054, 74.51634794, 63.16405964, 90.95562846, 57.07851194,\n",
    "     23.82879227, 55.11636267, 49.22818585,  9.97822878, 63.53592245,\n",
    "     78.32218254, 96.16041451, 56.16694094, 82.31394935, 85.50870095,\n",
    "     27.70282899, 82.22935653, 55.46314093, 55.09907211, 47.80178026,\n",
    "     55.48119461, 58.28209988, 60.7331124 , 96.81633853, 35.99409922,\n",
    "     54.85646241, 64.34195278, 83.56447564, 17.34990176, 91.45320605,\n",
    "     76.74388664, 72.72634567, 73.09588634, 74.46388511,  9.16216742]"
   ]
  },
  {
   "cell_type": "code",
   "execution_count": null,
   "id": "2323e7ba",
   "metadata": {},
   "outputs": [],
   "source": []
  },
  {
   "cell_type": "markdown",
   "id": "bc0f8f18",
   "metadata": {},
   "source": [
    "### 1.6 bonus\n",
    "Rewrite the same function in as few lines as possible. Feel free to use modules such as numpy."
   ]
  },
  {
   "cell_type": "code",
   "execution_count": null,
   "id": "09f39929",
   "metadata": {},
   "outputs": [],
   "source": []
  },
  {
   "cell_type": "markdown",
   "id": "1bcd6e79",
   "metadata": {},
   "source": [
    "# Problem 2: Instrument health monitoring system \n",
    "Write a function that monitors the health of multiple instruments. Each instrument has a connection status (connected, disconnected), enabled status (enabled, disabled), and some have a battery level. Write functions to \n",
    "<ul>\n",
    "    <li> Check if the instrument is disconnected </li>\n",
    "    <li> Check if the battery level is below 20%, if the instrument uses a battery </li>\n",
    "    <li> Print a report summarizing which instruments need attention, and which instruments are operating normally. </li>\n",
    "</ul>"
   ]
  },
  {
   "cell_type": "code",
   "execution_count": null,
   "id": "0d04920d",
   "metadata": {},
   "outputs": [],
   "source": [
    "instruments = {\n",
    "    \"thermometer\"       : {\"connection\": \"connected\",\n",
    "                           \"status\": \"enabled\",\n",
    "                           \"battery\": 80},\n",
    "    \"function_generator\": {\"connection\": \"disconnected\",\n",
    "                           \"status\": \"enabled\",\n",
    "                           \"battery\": None},\n",
    "    \"oscilloscope1\"     : {\"connection\": \"connected\",\n",
    "                           \"status\": \"enabled\",\n",
    "                           \"battery\": 20}\n",
    "    \"oscilloscope2\"     : {\"connection\": \"connected\",\n",
    "                           \"status\": \"disabled\",\n",
    "                           \"battery\": 100}\n",
    "} "
   ]
  },
  {
   "cell_type": "code",
   "execution_count": null,
   "id": "a3e4d0f2",
   "metadata": {},
   "outputs": [],
   "source": []
  },
  {
   "cell_type": "markdown",
   "id": "c1b29916",
   "metadata": {},
   "source": [
    "# Problem 3: Even or Odd\n",
    "\n",
    "Write a function `even_or_odd` that takes an integer as an argument and returns \"Even\" if the number is even and \"Odd\" if the number is odd."
   ]
  },
  {
   "cell_type": "code",
   "execution_count": null,
   "id": "479b8ead",
   "metadata": {},
   "outputs": [],
   "source": [
    "def even_or_odd(number):\n",
    "    # Your code here\n",
    "    pass\n",
    "\n",
    "# Test cases\n",
    "print(even_or_odd(10))  # Output: \"Even\"\n",
    "print(even_or_odd(7))   # Output: \"Odd\""
   ]
  },
  {
   "cell_type": "markdown",
   "id": "698de083",
   "metadata": {},
   "source": [
    "# Problem 4: Factorial\n",
    "\n",
    "Write a function `factorial` that takes a non-negative integer and returns its factorial. The factorial of a number n is the product of all positive integers less than or equal to n."
   ]
  },
  {
   "cell_type": "code",
   "execution_count": null,
   "id": "54825ac4",
   "metadata": {},
   "outputs": [],
   "source": [
    "def factorial(n):\n",
    "    # Your code here\n",
    "    pass\n",
    "\n",
    "# Test cases\n",
    "print(factorial(5))  # Output: 120\n",
    "print(factorial(0))  # Output: 1"
   ]
  },
  {
   "cell_type": "markdown",
   "id": "a638dddc",
   "metadata": {},
   "source": [
    "# Problem 5: Prime Number Checker\n",
    "\n",
    "Write a function `is_prime` that takes a number as an argument and returns `True` if the number is a prime, otherwise returns `False`."
   ]
  },
  {
   "cell_type": "code",
   "execution_count": null,
   "id": "64ae55ef",
   "metadata": {},
   "outputs": [],
   "source": [
    "def is_prime(n):\n",
    "    # Your code here\n",
    "    pass\n",
    "\n",
    "# Test cases\n",
    "print(is_prime(11))  # Output: True\n",
    "print(is_prime(4))   # Output: False"
   ]
  },
  {
   "cell_type": "markdown",
   "id": "c1c4827a",
   "metadata": {},
   "source": [
    "# Problem 6: Find the Maximum\n",
    "\n",
    "Write a function `find_max` that takes a list of numbers and returns the largest number in the list."
   ]
  },
  {
   "cell_type": "code",
   "execution_count": null,
   "id": "0dbf27cf",
   "metadata": {},
   "outputs": [],
   "source": [
    "def find_max(numbers):\n",
    "    # Your code here\n",
    "    pass\n",
    "\n",
    "# Test cases\n",
    "print(find_max([1, 2, 3, 4, 5]))  # Output: 5\n",
    "print(find_max([-1, -2, -3, -4])) # Output: -1"
   ]
  },
  {
   "cell_type": "markdown",
   "id": "0e19e454",
   "metadata": {},
   "source": [
    "# Problem 7: Fibonacci Sequence\n",
    "\n",
    "Write a function `fibonacci` that takes an integer `n` and returns a list of the first `n` numbers in the Fibonacci sequence."
   ]
  },
  {
   "cell_type": "code",
   "execution_count": null,
   "id": "006478cf",
   "metadata": {},
   "outputs": [],
   "source": [
    "def fibonacci(n):\n",
    "    # Your code here\n",
    "    pass\n",
    "\n",
    "# Test cases\n",
    "print(fibonacci(5))  # Output: [0, 1, 1, 2, 3]\n",
    "print(fibonacci(10)) # Output: [0, 1, 1, 2, 3, 5, 8, 13, 21, 34]"
   ]
  },
  {
   "cell_type": "markdown",
   "id": "8eba1be9",
   "metadata": {},
   "source": [
    "# Problem 8: Palindrome Checker\n",
    "\n",
    "Write a function `is_palindrome` that takes a string and returns `True` if the string is a palindrome, otherwise returns `False`. A palindrome is a word, phrase, number, or other sequence of characters that reads the same forward and backward (ignoring spaces, punctuation, and capitalization)."
   ]
  },
  {
   "cell_type": "code",
   "execution_count": null,
   "id": "bdb6ece0",
   "metadata": {},
   "outputs": [],
   "source": [
    "def is_palindrome(s):\n",
    "    # Your code here\n",
    "    pass\n",
    "\n",
    "# Test cases\n",
    "print(is_palindrome(\"racecar\"))  # Output: True\n",
    "print(is_palindrome(\"hello\"))    # Output: False"
   ]
  },
  {
   "cell_type": "markdown",
   "id": "b6fe4f2a",
   "metadata": {},
   "source": [
    "# Problem 9: Count Vowels\n",
    "\n",
    "Write a function `count_vowels` that takes a string and returns the number of vowels (a, e, i, o, u) in the string."
   ]
  },
  {
   "cell_type": "code",
   "execution_count": null,
   "id": "a743df71",
   "metadata": {},
   "outputs": [],
   "source": [
    "def count_vowels(s):\n",
    "    # Your code here\n",
    "    pass\n",
    "\n",
    "# Test cases\n",
    "print(count_vowels(\"hello\"))       # Output: 2\n",
    "print(count_vowels(\"programming\")) # Output: 3"
   ]
  },
  {
   "cell_type": "markdown",
   "id": "8b71d902",
   "metadata": {},
   "source": [
    "# Problem 10: Sum of Digits\n",
    "\n",
    "Write a function `sum_of_digits` that takes an integer and returns the sum of its digits."
   ]
  },
  {
   "cell_type": "code",
   "execution_count": null,
   "id": "ba789a1d",
   "metadata": {},
   "outputs": [],
   "source": [
    "def sum_of_digits(n):\n",
    "    # Your code here\n",
    "    pass\n",
    "\n",
    "# Test cases\n",
    "print(sum_of_digits(123))  # Output: 6\n",
    "print(sum_of_digits(987))  # Output: 24"
   ]
  },
  {
   "cell_type": "markdown",
   "id": "e7ae71c7",
   "metadata": {},
   "source": [
    "# Problem 11: Reverse String\n",
    "\n",
    "Write a function `reverse_string` that takes a string and returns the string in reverse order."
   ]
  },
  {
   "cell_type": "code",
   "execution_count": null,
   "id": "d05fe483",
   "metadata": {},
   "outputs": [],
   "source": [
    "def reverse_string(s):\n",
    "    # Your code here\n",
    "    pass\n",
    "\n",
    "# Test cases\n",
    "print(reverse_string(\"hello\"))       # Output: \"olleh\"\n",
    "print(reverse_string(\"programming\")) # Output: \"gnimmargorp\""
   ]
  }
 ],
 "metadata": {
  "kernelspec": {
   "display_name": "Python 3 (ipykernel)",
   "language": "python",
   "name": "python3"
  },
  "language_info": {
   "codemirror_mode": {
    "name": "ipython",
    "version": 3
   },
   "file_extension": ".py",
   "mimetype": "text/x-python",
   "name": "python",
   "nbconvert_exporter": "python",
   "pygments_lexer": "ipython3",
   "version": "3.9.12"
  }
 },
 "nbformat": 4,
 "nbformat_minor": 5
}
