{
 "cells": [
  {
   "cell_type": "code",
   "execution_count": 35,
   "id": "246508b1",
   "metadata": {},
   "outputs": [],
   "source": [
    "import nbformat\n",
    "import io\n",
    "import contextlib\n",
    "\n",
    "def extract_code_from_notebook(notebook_path):\n",
    "    # Read the notebook\n",
    "    with open(notebook_path, 'r', encoding='utf-8') as f:\n",
    "        notebook = nbformat.read(f, as_version=4)\n",
    "    \n",
    "    # Initialize a list to store the code from each cell\n",
    "    code_cells = []\n",
    "\n",
    "    # Iterate through the cells in the notebook\n",
    "    for cell in notebook.cells:\n",
    "        # Check if the cell type is 'code'\n",
    "        if cell.cell_type == 'code':\n",
    "            # Append the cell's source code to the list\n",
    "            code_cells.append(cell.source)\n",
    "    \n",
    "    return code_cells\n",
    "\n",
    "def capture_function_output(func, *args, **kwargs):\n",
    "    # Create a StringIO object to capture the output\n",
    "    output = io.StringIO()\n",
    "    \n",
    "    # Use contextlib.redirect_stdout to redirect print output to the StringIO object\n",
    "    with contextlib.redirect_stdout(output):\n",
    "        func(*args, **kwargs)\n",
    "    \n",
    "    # Get the string from the StringIO object\n",
    "    captured_output = output.getvalue()\n",
    "    \n",
    "    # Close the StringIO object\n",
    "    output.close()\n",
    "    \n",
    "    return captured_output\n",
    "def create_cell(code):\n",
    "    cell = r'\\begin{codecell}' + '\\n' + r'\\begin{minted}[linenos, fontsize=\\small]{python}'\n",
    "    cell += '\\n' + code + '\\n'\n",
    "    cell += r'\\end{minted}' + '\\n' + r'\\end{codecell}' + '\\n'\n",
    "    return cell\n",
    "def create_output(code):\n",
    "    output = r'\\begin{outputcell}' + '\\n' + r'\\begin{verbatim}' + '\\n'\n",
    "    output += code + '\\n'\n",
    "    output += r'\\end{verbatim}' + '\\n' + r'\\end{outputcell}' + '\\n'\n",
    "    return output "
   ]
  },
  {
   "cell_type": "code",
   "execution_count": 39,
   "id": "340d869e",
   "metadata": {},
   "outputs": [],
   "source": [
    "def execute_cell(cell):\n",
    "    return capture_function_output(exec, cell)\n",
    "f = ''\n",
    "for code in extract_code_from_notebook('data_structures.ipynb'):\n",
    "    try:\n",
    "        output = execute_cell(code)\n",
    "    except Exception as e:\n",
    "        output = str(e)\n",
    "    f += create_cell(code) + create_output(output)\n",
    "    "
   ]
  },
  {
   "cell_type": "code",
   "execution_count": 42,
   "id": "31129f88",
   "metadata": {},
   "outputs": [],
   "source": [
    "import pyperclip\n",
    "pyperclip.copy(f)"
   ]
  },
  {
   "cell_type": "code",
   "execution_count": null,
   "id": "5530561b",
   "metadata": {},
   "outputs": [],
   "source": []
  }
 ],
 "metadata": {
  "kernelspec": {
   "display_name": "Python 3 (ipykernel)",
   "language": "python",
   "name": "python3"
  },
  "language_info": {
   "codemirror_mode": {
    "name": "ipython",
    "version": 3
   },
   "file_extension": ".py",
   "mimetype": "text/x-python",
   "name": "python",
   "nbconvert_exporter": "python",
   "pygments_lexer": "ipython3",
   "version": "3.9.12"
  }
 },
 "nbformat": 4,
 "nbformat_minor": 5
}
