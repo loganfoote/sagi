{
 "cells": [
  {
   "cell_type": "markdown",
   "id": "a1d040a6",
   "metadata": {},
   "source": [
    "# Control flow\n",
    "Control flow describes the order in which segments of code are executed. Here is an overview of the following control flow statements:\n",
    "<ol>\n",
    "    <li>conditional statements </li>\n",
    "    <li> looping statements </li>\n",
    "</ol>"
   ]
  },
  {
   "cell_type": "markdown",
   "id": "7d77e820",
   "metadata": {},
   "source": [
    "## 1. Conditional statements \n",
    "Conditional statements allow you to execute code based on whether or not a statement is True."
   ]
  },
  {
   "cell_type": "code",
   "execution_count": null,
   "id": "f5e05511",
   "metadata": {},
   "outputs": [],
   "source": [
    "# if condition is True, executes the indented text \n",
    "condition = True \n",
    "if condition:\n",
    "    print('1')\n",
    "if not condition:\n",
    "    print('2')"
   ]
  },
  {
   "cell_type": "code",
   "execution_count": null,
   "id": "180ee8d3",
   "metadata": {},
   "outputs": [],
   "source": [
    "# if-else statement executes the first segment of code if the \n",
    "# condition is True, and the second segment of code if the \n",
    "# condition is False \n",
    "condition = False\n",
    "if condition:\n",
    "    print('The condition is True')\n",
    "else:\n",
    "    print('The condition is False')"
   ]
  },
  {
   "cell_type": "code",
   "execution_count": null,
   "id": "f7b2910c",
   "metadata": {},
   "outputs": [],
   "source": [
    "# if-elif-else statement executes the first condition that is True \n",
    "if False:\n",
    "    print('1')\n",
    "elif True:\n",
    "    print('2')\n",
    "else:\n",
    "    print('3')"
   ]
  },
  {
   "cell_type": "markdown",
   "id": "a15bdafe",
   "metadata": {},
   "source": [
    "## 2. Looping statements \n",
    "Looping statements allow you to execute a block of code repeatedly."
   ]
  },
  {
   "cell_type": "code",
   "execution_count": null,
   "id": "3f5b8ad9",
   "metadata": {},
   "outputs": [],
   "source": [
    "# while loop: executes the code as long as a condition is True \n",
    "i = 0\n",
    "while i <= 3:\n",
    "    print(i)\n",
    "    i += 1"
   ]
  },
  {
   "cell_type": "code",
   "execution_count": null,
   "id": "554729f2",
   "metadata": {},
   "outputs": [],
   "source": [
    "# for loop: loops over each item in a sequence\n",
    "indices = [0, 1, 2, 3]\n",
    "for i in indices:\n",
    "    print(i)"
   ]
  },
  {
   "cell_type": "markdown",
   "id": "4ae3cc67",
   "metadata": {},
   "source": [
    "### Some useful functions to use with lists"
   ]
  },
  {
   "cell_type": "code",
   "execution_count": null,
   "id": "e3d726cf",
   "metadata": {},
   "outputs": [],
   "source": [
    "# range creates evenly spaced integers\n",
    "r = range(1, 4, 1) # first value inclusive, second value exclusive\n",
    "print(r)\n",
    "for index in r:\n",
    "    print(index)"
   ]
  },
  {
   "cell_type": "code",
   "execution_count": null,
   "id": "fececf30",
   "metadata": {},
   "outputs": [],
   "source": [
    "# enumerate: iterate through a list and also get the index of \n",
    "# each item \n",
    "integers = [10, 6, 5, 9, 3]\n",
    "for index, integer in enumerate(integers):\n",
    "    print(index, integer)"
   ]
  },
  {
   "cell_type": "code",
   "execution_count": null,
   "id": "1667f3bb",
   "metadata": {},
   "outputs": [],
   "source": [
    "# zip: iterate through two lists \n",
    "names = ['run0', 'run1', 'run2', 'run3', 'run4']\n",
    "data = [10, 6, 5, 9, 3] \n",
    "for name, x in zip(names, data):\n",
    "    print(name + ':', x)\n",
    "# Can you rewrite this without zip? What about using a while loop?"
   ]
  },
  {
   "cell_type": "markdown",
   "id": "816573ab",
   "metadata": {},
   "source": [
    "### Extra: control statements within loops \n",
    "The following statements should be used sparingly, but may be of use in certain situations."
   ]
  },
  {
   "cell_type": "code",
   "execution_count": null,
   "id": "5008803b",
   "metadata": {},
   "outputs": [],
   "source": [
    "# break statement escapes the loop \n",
    "i = 10\n",
    "while True:\n",
    "    print(i)\n",
    "    if i < 1:\n",
    "        break\n",
    "    i = 0\n",
    "# can you rewrite this without using a break statement?"
   ]
  },
  {
   "cell_type": "code",
   "execution_count": null,
   "id": "24b4e922",
   "metadata": {},
   "outputs": [],
   "source": [
    "# continue: bypasses the rest of the loop and moves on to \n",
    "# the next iteration\n",
    "indices = [0, 1, 2, 3]\n",
    "for i in indices:\n",
    "    if i == 2:\n",
    "        continue \n",
    "    print(i)"
   ]
  },
  {
   "cell_type": "code",
   "execution_count": null,
   "id": "212dcb2d",
   "metadata": {},
   "outputs": [],
   "source": [
    "# pass statement: does nothing. Use this as a temporary \n",
    "# placeholder for code you plan to fill in later\n",
    "for index in [0, 1, 2, 3]:\n",
    "    pass"
   ]
  }
 ],
 "metadata": {
  "kernelspec": {
   "display_name": "Python 3 (ipykernel)",
   "language": "python",
   "name": "python3"
  },
  "language_info": {
   "codemirror_mode": {
    "name": "ipython",
    "version": 3
   },
   "file_extension": ".py",
   "mimetype": "text/x-python",
   "name": "python",
   "nbconvert_exporter": "python",
   "pygments_lexer": "ipython3",
   "version": "3.9.12"
  }
 },
 "nbformat": 4,
 "nbformat_minor": 5
}
