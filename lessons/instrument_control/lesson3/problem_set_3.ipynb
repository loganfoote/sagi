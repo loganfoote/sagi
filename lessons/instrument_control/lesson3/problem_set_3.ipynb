{
 "cells": [
  {
   "cell_type": "markdown",
   "id": "29f6757d",
   "metadata": {},
   "source": [
    "# Problem 1: Instrument health monitoring system \n",
    "Write a function that monitors the health of multiple instruments. Each instrument has a connection status (connected, disconnected), enabled status (enabled, disabled), and some have a battery level. Write functions to \n",
    "<ul>\n",
    "    <li> Check if the instrument is disconnected </li>\n",
    "    <li> Check if the battery level is below 20%, if the instrument uses a battery </li>\n",
    "    <li> Print a report summarizing which instruments need attention, and which instruments are operating normally. </li>\n",
    "</ul>"
   ]
  },
  {
   "cell_type": "code",
   "execution_count": null,
   "id": "330823c0",
   "metadata": {},
   "outputs": [],
   "source": [
    "instruments = {\n",
    "    \"thermometer\"       : {\"connection\": \"connected\",\n",
    "                           \"status\": \"enabled\",\n",
    "                           \"battery\": 80},\n",
    "    \"function_generator\": {\"connection\": \"disconnected\",\n",
    "                           \"status\": \"enabled\",\n",
    "                           \"battery\": None},\n",
    "    \"oscilloscope1\"     : {\"connection\": \"connected\",\n",
    "                           \"status\": \"enabled\",\n",
    "                           \"battery\": 20}\n",
    "    \"oscilloscope2\"     : {\"connection\": \"connected\",\n",
    "                           \"status\": \"disabled\",\n",
    "                           \"battery\": 100}\n",
    "} "
   ]
  },
  {
   "cell_type": "code",
   "execution_count": null,
   "id": "c7f97eb0",
   "metadata": {},
   "outputs": [],
   "source": []
  }
 ],
 "metadata": {
  "kernelspec": {
   "display_name": "Python 3 (ipykernel)",
   "language": "python",
   "name": "python3"
  },
  "language_info": {
   "codemirror_mode": {
    "name": "ipython",
    "version": 3
   },
   "file_extension": ".py",
   "mimetype": "text/x-python",
   "name": "python",
   "nbconvert_exporter": "python",
   "pygments_lexer": "ipython3",
   "version": "3.9.12"
  }
 },
 "nbformat": 4,
 "nbformat_minor": 5
}
