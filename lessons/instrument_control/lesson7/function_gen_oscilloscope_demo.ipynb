{
 "cells": [
  {
   "cell_type": "markdown",
   "id": "399d3ba5-decb-4f51-af28-68932c7308b5",
   "metadata": {},
   "source": [
    "# Function Generator + Oscilloscope Demo\n",
    "\n",
    "Start by importing the package, opening a resource manager, and printing the available resources"
   ]
  },
  {
   "cell_type": "code",
   "execution_count": null,
   "id": "279f3831-98b7-490f-8bc3-44076a852c75",
   "metadata": {},
   "outputs": [],
   "source": [
    "import time\n",
    "import pyvisa\n",
    "import numpy as np\n",
    "import scipy as sp\n",
    "import matplotlib.pyplot as plt"
   ]
  },
  {
   "cell_type": "code",
   "execution_count": null,
   "id": "4dc4d325-a421-4edb-b560-575fe4947f66",
   "metadata": {},
   "outputs": [],
   "source": [
    "rm = pyvisa.ResourceManager()\n",
    "rm.list_resources()"
   ]
  },
  {
   "cell_type": "markdown",
   "id": "0a6a557e-95d2-4e8d-a17b-49d0c44037f2",
   "metadata": {},
   "source": [
    "# Connect to the instruments\n",
    "\n",
    "Enter the IP address, open the resource, query for confirmation"
   ]
  },
  {
   "cell_type": "code",
   "execution_count": null,
   "id": "75376f04-c50b-41ce-bf20-364ae1f3112e",
   "metadata": {},
   "outputs": [],
   "source": [
    "wavegen_ip = '192.168.1.141'\n",
    "wavegen = rm.open_resource(f'TCPIP0::{wavegen_ip}::INSTR')\n",
    "\n",
    "oscope_ip = '192.168.1.142'\n",
    "oscope = rm.open_resource(f'TCPIP0::{oscope_ip}::INSTR')"
   ]
  },
  {
   "cell_type": "code",
   "execution_count": null,
   "id": "077b84cd-6c74-4c10-b22b-ada7949f3f91",
   "metadata": {},
   "outputs": [],
   "source": [
    "wavegen.query('*IDN?')"
   ]
  },
  {
   "cell_type": "code",
   "execution_count": null,
   "id": "5f909b8a-5df2-4563-a197-442202af1662",
   "metadata": {},
   "outputs": [],
   "source": [
    "oscope.query('*IDN?')"
   ]
  },
  {
   "cell_type": "markdown",
   "id": "6dd0c69d-5bf2-4aeb-b77d-9083d3c75a42",
   "metadata": {},
   "source": [
    "# Basic Wave"
   ]
  },
  {
   "cell_type": "markdown",
   "id": "ca9cf8d0-d72b-45eb-a0f5-82a681841a32",
   "metadata": {},
   "source": [
    "Set wave type"
   ]
  },
  {
   "cell_type": "code",
   "execution_count": null,
   "id": "98a0659b-9287-4b98-a4de-488f682b33c5",
   "metadata": {},
   "outputs": [],
   "source": [
    "wave_type = 'SINE'\n",
    "wavegen.write(f'C1:BSWV WVTP,{wave_type}')"
   ]
  },
  {
   "cell_type": "markdown",
   "id": "daccffde-1af2-40d6-9dd5-c5ef67ae1291",
   "metadata": {},
   "source": [
    "Set wave frequency"
   ]
  },
  {
   "cell_type": "code",
   "execution_count": null,
   "id": "7be8c11e-22c0-48be-8b43-d153cb588373",
   "metadata": {},
   "outputs": [],
   "source": [
    "freq = 5e3\n",
    "wavegen.write(f'C1:BSWV FRQ,{freq}')"
   ]
  },
  {
   "cell_type": "markdown",
   "id": "2ec2903d-6fb8-4d2d-a9fa-bd79ec62acdb",
   "metadata": {},
   "source": [
    "Set wave amplitude"
   ]
  },
  {
   "cell_type": "code",
   "execution_count": null,
   "id": "2e6965c9-d0c3-41e5-9430-f90020934295",
   "metadata": {},
   "outputs": [],
   "source": [
    "amp = 1 # volt peak-to-peak\n",
    "wavegen.write(f'C1:BSWV AMP,{amp}')"
   ]
  },
  {
   "cell_type": "markdown",
   "id": "6bdd65a7-b887-4b16-8337-755916aee643",
   "metadata": {},
   "source": [
    "Turn the channel 1 output on"
   ]
  },
  {
   "cell_type": "code",
   "execution_count": null,
   "id": "8a96d01a-050f-4512-8749-cd444af5c83f",
   "metadata": {},
   "outputs": [],
   "source": [
    "wavegen.write('C1:OUTP ON')"
   ]
  },
  {
   "cell_type": "markdown",
   "id": "1a5bbc48-6f5d-48a5-818b-c50cc5c7f001",
   "metadata": {},
   "source": [
    "# Basic Data Capture"
   ]
  },
  {
   "cell_type": "code",
   "execution_count": null,
   "id": "ad46ae0e-731a-4412-9468-c4c3481e7d92",
   "metadata": {},
   "outputs": [],
   "source": [
    "import siglent_sds1104xe_oscope as scope_funcs"
   ]
  },
  {
   "cell_type": "code",
   "execution_count": null,
   "id": "14940452-6a2d-459d-b747-148296f02baf",
   "metadata": {},
   "outputs": [],
   "source": [
    "T, t, data = scope_funcs.capture_data(oscope)"
   ]
  },
  {
   "cell_type": "code",
   "execution_count": null,
   "id": "440bb645-38d7-45ce-a9d7-2b2abddd2303",
   "metadata": {},
   "outputs": [],
   "source": [
    "fig, ax = plt.subplots()\n",
    "\n",
    "ax.set(xlabel='Time (s)', ylabel='Voltage (V)', title='Scope Trace')\n",
    "ax.plot(t, data)"
   ]
  },
  {
   "cell_type": "markdown",
   "id": "7db04604-c5e0-4f7f-a1a4-6f241448fff5",
   "metadata": {},
   "source": [
    "# Functions for waveform generator\n",
    "\n",
    "and an fft function"
   ]
  },
  {
   "cell_type": "code",
   "execution_count": null,
   "id": "4e368f61-012f-4575-a26d-b1828c976ccb",
   "metadata": {},
   "outputs": [],
   "source": [
    "def set_wave_type(inst, channel, wave_type):\n",
    "    \"\"\" Set the waveform type using the Basic Wave command.\n",
    "\n",
    "    :param inst: PyVisa resource object corresponding to the waveform generator.\n",
    "    :param channel: (int) Channel on which to change the waveform type.\n",
    "    :param wave_type: (str) one of ['SINE', 'SQUARE', 'RAMP', 'PULSE', 'ARB', 'DC', 'PRBS', 'IQ']\n",
    "    \"\"\"\n",
    "    # - should error check here - #\n",
    "    cmd = f'C{channel}:BSWV WVTP,{wave_type}'\n",
    "    inst.write(cmd)\n",
    "\n",
    "def set_frequency(inst, channel, freq):\n",
    "    \"\"\" Set the waveform fundamental frequency.\n",
    "    \n",
    "    :param inst: PyVisa resource object corresponding to the waveform generator.\n",
    "    :param channel: (int) Channel on which to change the waveform type.\n",
    "    :param freq: COMPLETE THIS\n",
    "    \"\"\"\n",
    "    cmd = f'C{channel}:BSWV FRQ,{freq}'\n",
    "    inst.write(cmd)\n",
    "\n",
    "def set_amplitude(inst, channel, amp):\n",
    "    \"\"\" Set the waveform amplitude in peak-to-peak units.\n",
    "\n",
    "    :param inst: PyVisa resource object corresponding to the waveform generator.\n",
    "    :param channel: (int) Channel on which to change the waveform type.\n",
    "    :param amp: COMPLETE THIS\n",
    "    \"\"\"\n",
    "    cmd = f'C{channel}:BSWV AMP,{amp}'\n",
    "    inst.write(cmd)\n",
    "\n",
    "def set_channel_state(inst, channel, state):\n",
    "    \"\"\" Set the state of a waveform generator channel to ON or OFF.\n",
    "\n",
    "    :param inst: Pyvisa resource.\n",
    "    :param channel: Waveform channel.\n",
    "    :param state: 'ON' or 'OFF' to specify the state.\n",
    "    \"\"\"\n",
    "    cmd = f'C{channel}:OUTP {state}'\n",
    "    inst.write(cmd)"
   ]
  },
  {
   "cell_type": "markdown",
   "id": "8a82dfe2-23c7-4905-bf0e-1d2675c88cf5",
   "metadata": {},
   "source": [
    "FFT function"
   ]
  },
  {
   "cell_type": "code",
   "execution_count": null,
   "id": "38e45596-3c3f-4890-a0a0-1a64c2e9c1b6",
   "metadata": {},
   "outputs": [],
   "source": [
    "def simple_fft(tsample, x):\n",
    "    \"\"\"\n",
    "    Performs a positive-frequency FFT and returns the magnitude \n",
    "\n",
    "    :param tsample: float, sample time in seconds \n",
    "    :param x: array-like, data to FFR \n",
    "    \n",
    "    :return f: np.array, frequency array in Hz \n",
    "    :return y: np.array, array of FFT magnitudes\n",
    "    \"\"\"\n",
    "    N = len(x) \n",
    "    y = np.fft.fft(x) \n",
    "    y = 2 * np.abs(y) / N \n",
    "    # factor of 2 because signal is split equally between \n",
    "    # negative and positive frequency\n",
    "    f = np.fft.fftfreq(N, d = tsample) \n",
    "    f, y = f[:N // 2], y[:N // 2]\n",
    "    return f, y"
   ]
  },
  {
   "cell_type": "markdown",
   "id": "eeb13fa0-7cf0-48b4-8261-3c0025cabf5e",
   "metadata": {},
   "source": [
    "Start with the channel turned off"
   ]
  },
  {
   "cell_type": "code",
   "execution_count": null,
   "id": "f5630f97-be37-477f-9972-6d97cb849d29",
   "metadata": {},
   "outputs": [],
   "source": [
    "set_channel_state(wavegen, 1, 'OFF')"
   ]
  },
  {
   "cell_type": "markdown",
   "id": "6c61039c-eadc-4fbc-9a08-f604c0e89ae6",
   "metadata": {},
   "source": [
    "### FFT a sine wave"
   ]
  },
  {
   "cell_type": "code",
   "execution_count": null,
   "id": "161f8386-36b2-4bc5-946f-de9037bfcde4",
   "metadata": {},
   "outputs": [],
   "source": [
    "set_wave_type(wavegen, 1, 'SINE')\n",
    "set_frequency(wavegen, 1, 5e3)\n",
    "set_amplitude(wavegen, 1, 2)\n",
    "set_channel_state(wavegen, 1, 'ON')"
   ]
  },
  {
   "cell_type": "code",
   "execution_count": null,
   "id": "5eedbbd4-40e6-46cf-82b6-99eceaf9c328",
   "metadata": {},
   "outputs": [],
   "source": [
    "T, t, data = scope_funcs.capture_data(oscope)\n",
    "f, fft_data = simple_fft(T, data)\n",
    "\n",
    "set_channel_state(wavegen, 1, 'OFF')"
   ]
  },
  {
   "cell_type": "code",
   "execution_count": null,
   "id": "8aa56c22-2d08-48f1-aaad-4c95bf679b5b",
   "metadata": {},
   "outputs": [],
   "source": [
    "figsize = (11, 8.5/2)\n",
    "fig, axs = plt.subplots(1, 2, figsize=figsize)\n",
    "t_ax, f_ax = axs\n",
    "\n",
    "# - set plot labels - #\n",
    "t_ax.set(xlabel='Time (s)', ylabel='Voltage (V)', title='Scope Trace')\n",
    "f_ax.set(xlabel='Frequency (Hz.)', ylabel='FFT Magnitude')\n",
    "\n",
    "# - plot - #\n",
    "t_ax.plot(t, data)\n",
    "\n",
    "start_f = 0\n",
    "end_f = 10e3\n",
    "start_ind = np.argmin(np.abs(f - start_f))\n",
    "end_ind = np.argmin(np.abs(f - end_f))\n",
    "f_ax.plot(f[start_ind:end_ind], fft_data[start_ind:end_ind])\n",
    "\n",
    "fig.tight_layout()"
   ]
  },
  {
   "cell_type": "markdown",
   "id": "7e7727f3-e636-47ef-ba28-5808e061c0af",
   "metadata": {},
   "source": [
    "### FFT a square wave"
   ]
  },
  {
   "cell_type": "code",
   "execution_count": null,
   "id": "1018674f-ae2b-45b6-a053-70507a9d9713",
   "metadata": {},
   "outputs": [],
   "source": [
    "# - set wave parameters, take data - #\n",
    "set_wave_type(wavegen, 1, 'SQUARE')\n",
    "set_frequency(wavegen, 1, 1e3)\n",
    "set_amplitude(wavegen, 1, 2)\n",
    "set_channel_state(wavegen, 1, 'ON')\n",
    "T, t, data = scope_funcs.capture_data(oscope)\n",
    "f, fft_data = simple_fft(T, data)\n",
    "\n",
    "set_channel_state(wavegen, 1, 'OFF')"
   ]
  },
  {
   "cell_type": "code",
   "execution_count": null,
   "id": "9dc789fa-624a-41ab-bf84-15782cac4bea",
   "metadata": {},
   "outputs": [],
   "source": [
    "figsize = (11, 8.5/2)\n",
    "fig, axs = plt.subplots(1, 2, figsize=figsize)\n",
    "t_ax, f_ax = axs\n",
    "\n",
    "# - set plot labels - #\n",
    "t_ax.set(xlabel='Time (s)', ylabel='Voltage (V)', title='Scope Trace')\n",
    "f_ax.set(xlabel='Frequency (Hz.)', ylabel='FFT Magnitude', xscale='log')\n",
    "\n",
    "# - plot - #\n",
    "t_ax.plot(t, data)\n",
    "\n",
    "start_f = 0\n",
    "end_f = 200e3\n",
    "start_ind = np.argmin(np.abs(f - start_f))\n",
    "end_ind = np.argmin(np.abs(f - end_f))\n",
    "f_ax.plot(f[start_ind:end_ind], fft_data[start_ind:end_ind])\n",
    "# f_ax.plot(f, fft_data)\n",
    "\n",
    "fig.tight_layout()"
   ]
  },
  {
   "cell_type": "markdown",
   "id": "8915f557-5bfa-4f26-a662-b7eb9cc614d0",
   "metadata": {},
   "source": [
    "### FFT of Ramp"
   ]
  },
  {
   "cell_type": "code",
   "execution_count": null,
   "id": "8cdb59c9-dcb0-4ba5-9f7a-f82e19b23731",
   "metadata": {},
   "outputs": [],
   "source": [
    "# - set wave parameters, take data - #\n",
    "set_wave_type(wavegen, 1, 'Ramp')\n",
    "set_frequency(wavegen, 1, 1e3)\n",
    "set_amplitude(wavegen, 1, 2)\n",
    "set_channel_state(wavegen, 1, 'ON')\n",
    "T, t, data = scope_funcs.capture_data(oscope)\n",
    "f, fft_data = simple_fft(T, data)\n",
    "\n",
    "set_channel_state(wavegen, 1, 'OFF')"
   ]
  },
  {
   "cell_type": "code",
   "execution_count": null,
   "id": "6552665f-1920-4873-838c-f9f6ec0b8363",
   "metadata": {},
   "outputs": [],
   "source": [
    "figsize = (11, 8.5/2)\n",
    "fig, axs = plt.subplots(1, 2, figsize=figsize)\n",
    "t_ax, f_ax = axs\n",
    "\n",
    "# - set plot labels - #\n",
    "t_ax.set(xlabel='Time (s)', ylabel='Voltage (V)', title='Scope Trace')\n",
    "f_ax.set(xlabel='Frequency (Hz.)', ylabel='FFT Magnitude', xscale='log')\n",
    "\n",
    "# - plot - #\n",
    "t_ax.plot(t, data)\n",
    "\n",
    "start_f = 0\n",
    "end_f = 200e3\n",
    "start_ind = np.argmin(np.abs(f - start_f))\n",
    "end_ind = np.argmin(np.abs(f - end_f))\n",
    "f_ax.plot(f[start_ind:end_ind], fft_data[start_ind:end_ind])\n",
    "# f_ax.plot(f, fft_data)\n",
    "\n",
    "fig.tight_layout()"
   ]
  },
  {
   "cell_type": "markdown",
   "id": "bf43f656-1643-4888-829f-bdd819a2bd10",
   "metadata": {},
   "source": [
    "# Modify oscilloscope X-Scale"
   ]
  },
  {
   "cell_type": "code",
   "execution_count": null,
   "id": "e2004564-52b5-4830-9dd9-3504df6b74f4",
   "metadata": {},
   "outputs": [],
   "source": [
    "def set_xscale(inst, xscale):\n",
    "    \"\"\"\n",
    "    Sets the horizontal scale\n",
    "\n",
    "    :param inst: pyvisa resource\n",
    "    :param xscale: float, horizontal scale in seconds / div\n",
    "    \"\"\"\n",
    "    inst.write(f'TIME_DIV {xscale}s') "
   ]
  },
  {
   "cell_type": "code",
   "execution_count": null,
   "id": "49d21e7c-fb84-42fd-84ec-147d98ac2c30",
   "metadata": {},
   "outputs": [],
   "source": [
    "# - set oscilloscope parameters - #\n",
    "wave_freq = 1e3\n",
    "xscale = 1 / wave_freq\n",
    "set_xscale(oscope, xscale)\n",
    "\n",
    "# - set wave parameters, take data - #\n",
    "set_wave_type(wavegen, 1, 'SQUARE')\n",
    "set_frequency(wavegen, 1, wave_freq)\n",
    "set_amplitude(wavegen, 1, 2)\n",
    "set_channel_state(wavegen, 1, 'ON')\n",
    "T, t, data = scope_funcs.capture_data(oscope)\n",
    "f, fft_data = simple_fft(T, data)\n",
    "\n",
    "set_channel_state(wavegen, 1, 'OFF')"
   ]
  },
  {
   "cell_type": "code",
   "execution_count": null,
   "id": "41ae6d78-d4c6-40b0-b3d2-8ff8b6f19791",
   "metadata": {},
   "outputs": [],
   "source": [
    "figsize = (11, 8.5/2)\n",
    "fig, axs = plt.subplots(1, 2, figsize=figsize)\n",
    "t_ax, f_ax = axs\n",
    "\n",
    "# - set plot labels - #\n",
    "t_ax.set(xlabel='Time (s)', ylabel='Voltage (V)', title='Scope Trace')\n",
    "f_ax.set(xlabel='Frequency (Hz.)', ylabel='FFT Magnitude', xscale='log')\n",
    "\n",
    "# - plot - #\n",
    "t_ax.plot(t, data)\n",
    "\n",
    "start_f = 0\n",
    "end_f = 200e3\n",
    "start_ind = np.argmin(np.abs(f - start_f))\n",
    "end_ind = np.argmin(np.abs(f - end_f))\n",
    "f_ax.plot(f[start_ind:end_ind], fft_data[start_ind:end_ind])\n",
    "# f_ax.plot(f, fft_data)\n",
    "\n",
    "fig.tight_layout()"
   ]
  },
  {
   "cell_type": "markdown",
   "id": "261a8390-d33e-4fca-9d0b-1bbee231b64f",
   "metadata": {},
   "source": [
    "# Loop of sine waves at different frequencies"
   ]
  },
  {
   "cell_type": "code",
   "execution_count": null,
   "id": "46573844-74b3-4ec2-8a8f-6bd74fd8062c",
   "metadata": {},
   "outputs": [],
   "source": [
    "fig, ax = plt.subplots()\n",
    "ax.set(title='Sine Frequency Sweep', xlabel='Frequency (Hz)', ylabel='FFT Magnitude')\n",
    "\n",
    "freqs = np.arange(1e3, 100e3, 5e3)\n",
    "f_start = 0\n",
    "f_end = 125e3\n",
    "set_wave_type(wavegen, 1, 'SINE')\n",
    "set_amplitude(wavegen, 1, 2)\n",
    "for wave_freq in freqs:\n",
    "    # - set oscilloscope x-scale - #\n",
    "    xscale = 1 / wave_freq\n",
    "    set_xscale(oscope, xscale)\n",
    "\n",
    "    # - set frequency, turn channel on - #\n",
    "    set_frequency(wavegen, 1, wave_freq)\n",
    "    set_channel_state(wavegen, 1, 'ON')\n",
    "\n",
    "    # - capture data, run fft, plot - #\n",
    "    T, t, data = scope_funcs.capture_data(oscope)\n",
    "    f, fft_data = simple_fft(T, data)\n",
    "\n",
    "    # - turn channel off before the next measurement\n",
    "    set_channel_state(wavegen, 1, 'OFF')\n",
    "\n",
    "    # - plot - #\n",
    "    f_start_ind = np.argmin(np.abs(f - f_start))\n",
    "    f_stop_ind = np.argmin(np.abs(f - f_end))\n",
    "    ax.plot(f[f_start_ind:f_stop_ind], fft_data[f_start_ind:f_stop_ind])\n",
    "    \n",
    "    # - pause for a tenth of a second before next measurement\n",
    "    time.sleep(0.5)\n",
    "    "
   ]
  },
  {
   "cell_type": "code",
   "execution_count": null,
   "id": "5b3cb435-5f30-4908-9393-57d9b6345140",
   "metadata": {},
   "outputs": [],
   "source": []
  }
 ],
 "metadata": {
  "kernelspec": {
   "display_name": "Python 3 (ipykernel)",
   "language": "python",
   "name": "python3"
  },
  "language_info": {
   "codemirror_mode": {
    "name": "ipython",
    "version": 3
   },
   "file_extension": ".py",
   "mimetype": "text/x-python",
   "name": "python",
   "nbconvert_exporter": "python",
   "pygments_lexer": "ipython3",
   "version": "3.11.9"
  }
 },
 "nbformat": 4,
 "nbformat_minor": 5
}
