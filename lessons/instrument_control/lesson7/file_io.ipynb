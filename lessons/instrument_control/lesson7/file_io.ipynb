{
 "cells": [
  {
   "cell_type": "markdown",
   "id": "f8c3a647",
   "metadata": {},
   "source": [
    "# Basic File I/O\n",
    "In Python, we can create a file object to read and write. Let's start with the .txt file type, which is used to store strings."
   ]
  },
  {
   "cell_type": "code",
   "execution_count": null,
   "id": "72366188",
   "metadata": {},
   "outputs": [],
   "source": [
    "with open('filename.txt', 'w') as file:\n",
    "    file.write('Here is some text to save')"
   ]
  },
  {
   "cell_type": "markdown",
   "id": "fc1ba6aa",
   "metadata": {},
   "source": [
    "Here we have initiated the file object using the `open` command, which takes the path to the file and a string representing the mode you want to open the file in. Here we have just provided the filename, which will save the file in the current directory. We can also provide the complete path to the file. Some common options for the mode are \n",
    "<ul>\n",
    "    <li> \"w\" - Write - opens the file for writing. Creates the file if it doesn't exist, and overwrites the file if it does </li>\n",
    "    <li> \"r\" - Read - opens the file for reading </li> \n",
    "    <li> \"a\" - Append - opens the file for appending. Any text that is written to the file will be appended to the end of the current file contents. </li>\n",
    "</ul>\n",
    "We can try to read the file we just wrote."
   ]
  },
  {
   "cell_type": "code",
   "execution_count": null,
   "id": "aafaf6c0",
   "metadata": {},
   "outputs": [],
   "source": [
    "with open('filename.txt', 'r') as file:\n",
    "    contents = file.read() \n",
    "print(contents)"
   ]
  },
  {
   "cell_type": "markdown",
   "id": "173190ae",
   "metadata": {},
   "source": [
    "Let's try appending something to the file. "
   ]
  },
  {
   "cell_type": "code",
   "execution_count": null,
   "id": "4390b157",
   "metadata": {},
   "outputs": [],
   "source": [
    "with open('filename.txt', 'a') as file:\n",
    "    file.write('Appended text')"
   ]
  },
  {
   "cell_type": "code",
   "execution_count": null,
   "id": "bbaa103d",
   "metadata": {},
   "outputs": [],
   "source": [
    "with open('filename.txt', 'r') as file:\n",
    "    contents = file.read() \n",
    "print(contents)"
   ]
  },
  {
   "cell_type": "markdown",
   "id": "69fa94f1",
   "metadata": {},
   "source": [
    "The text is appended on the same line. It is usually good practice to end every line with `'\\n'`, so the following text will be appended on a new line. Let's try this again, this time overwriting the file and creating a new line."
   ]
  },
  {
   "cell_type": "code",
   "execution_count": null,
   "id": "7d6ca292",
   "metadata": {},
   "outputs": [],
   "source": [
    "with open('filename.txt', 'w') as file:\n",
    "    file.write('Here is some text to save\\n')\n",
    "with open('filename.txt', 'a') as file:\n",
    "    file.write('Appended text\\n')"
   ]
  },
  {
   "cell_type": "code",
   "execution_count": null,
   "id": "d12143ac",
   "metadata": {},
   "outputs": [],
   "source": [
    "with open('filename.txt', 'r') as file:\n",
    "    contents = file.read() \n",
    "print(contents)"
   ]
  },
  {
   "cell_type": "markdown",
   "id": "3258bd6a",
   "metadata": {},
   "source": [
    "Be careful when writing new files, as it is easy to overwrite files on accident. The `os` package provides useful features for checking if the file exists."
   ]
  },
  {
   "cell_type": "code",
   "execution_count": null,
   "id": "9b2041b7",
   "metadata": {},
   "outputs": [],
   "source": [
    "import os \n",
    "os.path.exists('filename.txt')"
   ]
  },
  {
   "cell_type": "code",
   "execution_count": null,
   "id": "f3a48bee",
   "metadata": {},
   "outputs": [],
   "source": [
    "if os.path.exists('filename.txt'):\n",
    "    raise FileExistsError(\"'filename.txt' already exists\")"
   ]
  },
  {
   "cell_type": "markdown",
   "id": "adecdd98",
   "metadata": {},
   "source": [
    "### With statements\n",
    "We are opening the files above with a `with` statement. The variable `file` is only opened within the indented portion of the with statement. We don't have to do this: we can instead open the file as follows."
   ]
  },
  {
   "cell_type": "code",
   "execution_count": null,
   "id": "1cf6a058",
   "metadata": {},
   "outputs": [],
   "source": [
    "file = open('filename.txt', 'w')"
   ]
  },
  {
   "cell_type": "markdown",
   "id": "abe30379",
   "metadata": {},
   "source": [
    "However, this behavior is risky, as keeping the file in the memory can cause errors if another program tries to access the file. If we do use this method, we need to close the file as soon as we are no longer using it."
   ]
  },
  {
   "cell_type": "code",
   "execution_count": null,
   "id": "eeffdba0",
   "metadata": {},
   "outputs": [],
   "source": [
    "file.close()"
   ]
  },
  {
   "cell_type": "markdown",
   "id": "589cf88e",
   "metadata": {},
   "source": [
    "The `with` statement does this for us to clean up our code. The `width` statement also ensures that the file is properly closed if there is an error in our code."
   ]
  },
  {
   "cell_type": "markdown",
   "id": "8c53b143",
   "metadata": {},
   "source": [
    "### Log files \n",
    "For log files, we will use the suffix `.log`. This file type works the same as `.txt`, so the file extension is just to signify the type of the file."
   ]
  },
  {
   "cell_type": "markdown",
   "id": "7c4c4296",
   "metadata": {},
   "source": [
    "### CSV files\n",
    "`.csv` files are one of the most important file types for us. They are way to store values in rows and columns, like a spreadsheet. Each item in each row is separated by a comma, and each row is separated by '\\n'. It is common to include a header with the columns names. "
   ]
  },
  {
   "cell_type": "code",
   "execution_count": null,
   "id": "d3c4a53a",
   "metadata": {},
   "outputs": [],
   "source": [
    "data = [[1, 2, 3], [4, 5, 6], [7, 8, 9]]\n",
    "with open('data.csv', 'w') as file:\n",
    "    file.write('column1,column2,column3\\n')\n",
    "    for row in data:\n",
    "        file.write(','.join([str(r) for r in row]) + '\\n') "
   ]
  },
  {
   "cell_type": "code",
   "execution_count": null,
   "id": "7c9bb43d",
   "metadata": {},
   "outputs": [],
   "source": [
    "with open('data.csv', 'r') as file:\n",
    "    contents = file.read()\n",
    "print(contents)"
   ]
  },
  {
   "cell_type": "markdown",
   "id": "18bab492",
   "metadata": {},
   "source": [
    "It will be very tedious to use this method for writing/reading csv files. Check out the `csv` package to learn how to write/read csv files more efficiently. Data scientists more commonly use the `pandas` package, which reads/writes csv files like `csv`, but with an enormous amount of other features for dealing with large amounts of data. As an astronomer in or out of the lab, you will become very familiar with `pandas`. It has a steeper learning curve, so we recommend looking into online resources for learning `pandas`."
   ]
  },
  {
   "cell_type": "markdown",
   "id": "f702e42f",
   "metadata": {},
   "source": [
    "### NPY files\n",
    "CSV files are great for many applications, but they are inefficient for large amounts of data. For example, if we want to store a float64 value, we require 8 bits of storage space. In order to store the same float as ASCII text in a csv file, we need 8 bits per digit, which comes out to 2-20 times more storage space. This is valuable storage space on our computer, but also increased time for writing and reading data. The binary file type can be used instead to store data in a much more efficient format. In Python, the `numpy` package has a convenient and efficient method for reading and writing binary files. In this particular format, the files will have the '.npy' extension."
   ]
  },
  {
   "cell_type": "code",
   "execution_count": null,
   "id": "85e70139",
   "metadata": {},
   "outputs": [],
   "source": [
    "import numpy as np \n",
    "data = [1, 2, 3, 4, 5, 6, 7, 8]\n",
    "np.save('binary_data.npy', data)"
   ]
  },
  {
   "cell_type": "code",
   "execution_count": null,
   "id": "95fd8308",
   "metadata": {},
   "outputs": [],
   "source": [
    "np.load('binary_data.npy')"
   ]
  }
 ],
 "metadata": {
  "kernelspec": {
   "display_name": "Python 3 (ipykernel)",
   "language": "python",
   "name": "python3"
  },
  "language_info": {
   "codemirror_mode": {
    "name": "ipython",
    "version": 3
   },
   "file_extension": ".py",
   "mimetype": "text/x-python",
   "name": "python",
   "nbconvert_exporter": "python",
   "pygments_lexer": "ipython3",
   "version": "3.9.12"
  }
 },
 "nbformat": 4,
 "nbformat_minor": 5
}
