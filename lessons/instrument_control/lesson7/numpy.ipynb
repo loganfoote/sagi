{
 "cells": [
  {
   "cell_type": "markdown",
   "id": "4c68a1c5",
   "metadata": {},
   "source": [
    "# NumPy Overview\n",
    "\n",
    "## np.array DataType\n",
    "NumPy is a powerful numerical computing library in Python. It provides support for arrays, matrices, and many mathematical functions to operate on these data structures efficiently. It is widely used in data analysis, machine learning, scientific computing, and more. As an astronomer, you will get very familiar with the `np.array` datatype.\n",
    "\n",
    "## Importing NumPy\n",
    "Convention is to import NumPy with the name `np`."
   ]
  },
  {
   "cell_type": "code",
   "execution_count": null,
   "id": "e788aa2b",
   "metadata": {},
   "outputs": [],
   "source": [
    "import numpy as np "
   ]
  },
  {
   "cell_type": "markdown",
   "id": "c645351f",
   "metadata": {},
   "source": [
    "## Creating arrays\n",
    "NumPy arrays can be created in several ways, including from Python lists, using built-in functions, or from existing data.\n"
   ]
  },
  {
   "cell_type": "code",
   "execution_count": null,
   "id": "db079a87",
   "metadata": {},
   "outputs": [],
   "source": [
    "# From Python List\n",
    "arr_from_list = np.array([1, 2, 3, 4, 5])\n",
    "print(\"Array from list:\", arr_from_list)\n",
    "\n",
    "# Using arange\n",
    "arr_arange = np.arange(0, 10, 2)\n",
    "print(\"Array using arange:\", arr_arange)\n",
    "\n",
    "# Using linspace\n",
    "arr_linspace = np.linspace(0, 1, 5)\n",
    "print(\"Array using linspace:\", arr_linspace)\n",
    "\n",
    "# Using zeros, ones, and full\n",
    "arr_zeros = np.zeros((2, 3))\n",
    "print(\"Array of zeros:\\n\", arr_zeros)\n",
    "\n",
    "arr_ones = np.ones((2, 3))\n",
    "print(\"Array of ones:\\n\", arr_ones)\n",
    "\n",
    "arr_full = np.full((2, 3), 7)\n",
    "print(\"Array of sevens:\\n\", arr_full)\n",
    "\n",
    "# From existing data\n",
    "existing_data = [6, 7, 8, 9]\n",
    "arr_existing = np.asarray(existing_data)\n",
    "print(\"Array from existing data:\", arr_existing)"
   ]
  },
  {
   "cell_type": "markdown",
   "id": "d3a0b887",
   "metadata": {},
   "source": [
    "## Array Data Types\n",
    "NumPy arrays can hold different types of data. You can specify the data type using the dtype parameter."
   ]
  },
  {
   "cell_type": "code",
   "execution_count": null,
   "id": "0b7f0141",
   "metadata": {},
   "outputs": [],
   "source": [
    "# Integer Array\n",
    "int_array = np.array([1, 2, 3], dtype=int)\n",
    "print(\"Integer Array:\", int_array)\n",
    "\n",
    "# Float Array\n",
    "float_array = np.array([1.0, 2.0, 3.0], dtype=float)\n",
    "print(\"Float Array:\", float_array)\n",
    "\n",
    "# Boolean Array\n",
    "bool_array = np.array([True, False, True])\n",
    "print(\"Boolean Array:\", bool_array)\n",
    "\n",
    "# String Array\n",
    "str_array = np.array(['a', 'b', 'c'])\n",
    "print(\"String Array:\", str_array)"
   ]
  },
  {
   "cell_type": "markdown",
   "id": "63244f01",
   "metadata": {},
   "source": [
    "## Array Attributes\n",
    "NumPy arrays have several attributes that provide information about the array."
   ]
  },
  {
   "cell_type": "code",
   "execution_count": null,
   "id": "141f8e15",
   "metadata": {},
   "outputs": [],
   "source": [
    "# Shape\n",
    "print(\"Shape of array:\", arr_from_list.shape)\n",
    "\n",
    "# Data type\n",
    "print(\"Data type of array:\", arr_from_list.dtype)\n",
    "\n",
    "# Size (number of elements)\n",
    "print(\"Size of array:\", arr_from_list.size)\n",
    "\n",
    "# Number of dimensions\n",
    "print(\"Number of dimensions:\", arr_from_list.ndim)"
   ]
  },
  {
   "cell_type": "markdown",
   "id": "c2892c9c",
   "metadata": {},
   "source": [
    "## Array Indexing and Slicing\n",
    "You can access elements and slices of arrays just like Python lists."
   ]
  },
  {
   "cell_type": "code",
   "execution_count": null,
   "id": "dce74c76",
   "metadata": {},
   "outputs": [],
   "source": [
    "# Indexing\n",
    "print(\"First element:\", arr_from_list[0])\n",
    "\n",
    "# Slicing\n",
    "print(\"Elements from index 1 to 3:\", arr_from_list[1:4])\n",
    "\n",
    "# Multi-dimensional Indexing\n",
    "arr_2d = np.array([[1, 2, 3], [4, 5, 6]])\n",
    "print(\"Element at (0,1):\", arr_2d[0, 1])\n",
    "\n",
    "# Multi-dimensional Slicing\n",
    "print(\"First row:\", arr_2d[0, :])\n",
    "print(\"First column:\", arr_2d[:, 0])"
   ]
  },
  {
   "cell_type": "markdown",
   "id": "97f41163",
   "metadata": {},
   "source": [
    "## Array Manipulation\n",
    "NumPy provides functions to manipulate arrays, including reshaping, stacking, and splitting."
   ]
  },
  {
   "cell_type": "code",
   "execution_count": null,
   "id": "467818e9",
   "metadata": {},
   "outputs": [],
   "source": [
    "# Reshaping\n",
    "reshaped_array = arr_from_list.reshape((1, 5))\n",
    "print(\"Reshaped array:\\n\", reshaped_array)\n",
    "\n",
    "# Stacking\n",
    "arr_vstack = np.vstack((arr_from_list, arr_from_list))\n",
    "print(\"Vertical Stack:\\n\", arr_vstack)\n",
    "\n",
    "arr_hstack = np.hstack((arr_from_list, arr_from_list))\n",
    "print(\"Horizontal Stack:\\n\", arr_hstack)\n",
    "\n",
    "# Splitting\n",
    "arr_split = np.split(arr_from_list, 5)\n",
    "print(\"Split array:\", arr_split)"
   ]
  },
  {
   "cell_type": "markdown",
   "id": "28f2bf6a",
   "metadata": {},
   "source": [
    "## Basic Operations\n",
    "NumPy supports element-wise operations on arrays, including addition, subtraction, multiplication, and division."
   ]
  },
  {
   "cell_type": "code",
   "execution_count": null,
   "id": "93ad3d71",
   "metadata": {},
   "outputs": [],
   "source": [
    "arr1 = np.array([1, 2, 3])\n",
    "arr2 = np.array([4, 5, 6])\n",
    "\n",
    "# Addition\n",
    "print(\"Element-wise addition:\", arr1 + arr2)\n",
    "\n",
    "# Subtraction\n",
    "print(\"Element-wise subtraction:\", arr1 - arr2)\n",
    "\n",
    "# Multiplication\n",
    "print(\"Element-wise multiplication:\", arr1 * arr2)\n",
    "\n",
    "# Division\n",
    "print(\"Element-wise division:\", arr1 / arr2)"
   ]
  }
 ],
 "metadata": {
  "kernelspec": {
   "display_name": "Python 3 (ipykernel)",
   "language": "python",
   "name": "python3"
  },
  "language_info": {
   "codemirror_mode": {
    "name": "ipython",
    "version": 3
   },
   "file_extension": ".py",
   "mimetype": "text/x-python",
   "name": "python",
   "nbconvert_exporter": "python",
   "pygments_lexer": "ipython3",
   "version": "3.9.12"
  }
 },
 "nbformat": 4,
 "nbformat_minor": 5
}
