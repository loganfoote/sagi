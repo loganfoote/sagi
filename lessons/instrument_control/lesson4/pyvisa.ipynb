{
 "cells": [
  {
   "cell_type": "markdown",
   "id": "399d3ba5-decb-4f51-af28-68932c7308b5",
   "metadata": {},
   "source": [
    "# PyVisa\n",
    "\n",
    "PyVisa is a very useful package sitting at the \"Library\" level of the Hardware Communication \"Stack\".\n",
    "We will use this package to handle the \"heavy lifting\" of communication with our instruments."
   ]
  },
  {
   "cell_type": "code",
   "execution_count": null,
   "id": "279f3831-98b7-490f-8bc3-44076a852c75",
   "metadata": {},
   "outputs": [],
   "source": []
  }
 ],
 "metadata": {
  "kernelspec": {
   "display_name": "Python 3 (ipykernel)",
   "language": "python",
   "name": "python3"
  },
  "language_info": {
   "codemirror_mode": {
    "name": "ipython",
    "version": 3
   },
   "file_extension": ".py",
   "mimetype": "text/x-python",
   "name": "python",
   "nbconvert_exporter": "python",
   "pygments_lexer": "ipython3",
   "version": "3.11.7"
  }
 },
 "nbformat": 4,
 "nbformat_minor": 5
}
