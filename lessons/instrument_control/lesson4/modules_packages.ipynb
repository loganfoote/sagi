{
 "cells": [
  {
   "cell_type": "markdown",
   "id": "89246eb8",
   "metadata": {},
   "source": [
    "# Modules\n",
    "A module is a file containing python code, which can contain functions, variables, classes (we will get to these), and runnable code. Modules are used to organize and reuse code. Python comes with a large set of built-in modules that provide an enormous amount of functionality, and there are even more free modules available. We will use some built-int modules to start, and learn how to install new modules later.\n",
    "## Importing modules"
   ]
  },
  {
   "cell_type": "code",
   "execution_count": null,
   "id": "019adce0",
   "metadata": {},
   "outputs": [],
   "source": [
    "import math \n",
    "print(math.pi)\n",
    "print(math.sqrt(121))"
   ]
  },
  {
   "cell_type": "code",
   "execution_count": null,
   "id": "ccde64b6",
   "metadata": {},
   "outputs": [],
   "source": [
    "from math import pi, sqrt \n",
    "print(pi)\n",
    "print(sqrt(49))"
   ]
  },
  {
   "cell_type": "code",
   "execution_count": null,
   "id": "a3042106",
   "metadata": {},
   "outputs": [],
   "source": [
    "import datetime as dt \n",
    "print(dt.datetime.now())"
   ]
  },
  {
   "cell_type": "markdown",
   "id": "8dae3682-3bf0-469d-bfd1-7f45ce0f5ada",
   "metadata": {},
   "source": [
    "## Don't do this \n",
    "You can use `*` to import everything from a module. This will fill your workspace with a bunch of variables that you will not use, and it may overwrite variables you have set earlier in your code."
   ]
  },
  {
   "cell_type": "code",
   "execution_count": null,
   "id": "7d31bffa-2577-46fe-8ebc-9ec3377b68fb",
   "metadata": {},
   "outputs": [],
   "source": [
    "# Don't do this\n",
    "from numpy import * \n",
    "sqrt(3)\n",
    "array([1,2,3,4])\n",
    "# Instead, do this \n",
    "import numpy as np \n",
    "np.sqrt(3)\n",
    "np.array([1,2,3,4])"
   ]
  },
  {
   "cell_type": "markdown",
   "id": "5e6591b3",
   "metadata": {},
   "source": [
    "## Common built-in modules\n",
    "### The 'math' modules contains common mathematical functions"
   ]
  },
  {
   "cell_type": "code",
   "execution_count": null,
   "id": "9b2a5c4a",
   "metadata": {},
   "outputs": [],
   "source": [
    "import math \n",
    "print(math.factorial(5))\n",
    "print(math.cos(math.pi))"
   ]
  },
  {
   "cell_type": "markdown",
   "id": "b4d75f7d",
   "metadata": {},
   "source": [
    "## The 'datetime' module allows for the manipulation of dates and times"
   ]
  },
  {
   "cell_type": "code",
   "execution_count": null,
   "id": "39f12308",
   "metadata": {},
   "outputs": [],
   "source": [
    "import datetime \n",
    "now = datetime.datetime.now()\n",
    "print(now) \n",
    "\n",
    "# Creating a specific date\n",
    "specific_date = datetime.datetime(2024, 12, 31)\n",
    "print(specific_date)  "
   ]
  },
  {
   "cell_type": "markdown",
   "id": "5141cb1e",
   "metadata": {},
   "source": [
    "### The 'random' modules provides random number generators"
   ]
  },
  {
   "cell_type": "code",
   "execution_count": null,
   "id": "65e52977",
   "metadata": {},
   "outputs": [],
   "source": [
    "import random\n",
    "print(random.randint(1, 10))\n",
    "print(random.choice(['var1', 'var2', 'var3']))\n",
    "print(random.random()) # float between 0 and 1"
   ]
  },
  {
   "cell_type": "markdown",
   "id": "828350aa",
   "metadata": {},
   "source": [
    "### The 'os' modules provides operating system functionality"
   ]
  },
  {
   "cell_type": "code",
   "execution_count": null,
   "id": "d366bf88",
   "metadata": {},
   "outputs": [],
   "source": [
    "import os \n",
    "print(os.getcwd()) # current working directory \n",
    "\n",
    "folder = 'test_directory'\n",
    "os.mkdir(folder)\n",
    "print(os.path.exists(folder))\n",
    "os.rmdir(folder)\n",
    "print(os.path.exists(folder))"
   ]
  },
  {
   "cell_type": "markdown",
   "id": "2f3d01db",
   "metadata": {},
   "source": [
    "### The 'sys' modules provides access to some variables used by the Python interpreter"
   ]
  },
  {
   "cell_type": "code",
   "execution_count": null,
   "id": "04bc1eaa",
   "metadata": {},
   "outputs": [],
   "source": [
    "import sys \n",
    "\n",
    "print(sys.platform) # platform\n",
    "print(sys.version) # Python version"
   ]
  },
  {
   "cell_type": "markdown",
   "id": "393ee8cd",
   "metadata": {},
   "source": [
    "# Packages \n",
    "Python packages are a way of structuring a module by separating code into many files/folders. Don't worry about this too much for now, but in the future you may find packages to be a useful way to organize large amounts of code."
   ]
  },
  {
   "cell_type": "code",
   "execution_count": null,
   "id": "9762e666",
   "metadata": {},
   "outputs": [],
   "source": []
  }
 ],
 "metadata": {
  "kernelspec": {
   "display_name": "Python 3 (ipykernel)",
   "language": "python",
   "name": "python3"
  },
  "language_info": {
   "codemirror_mode": {
    "name": "ipython",
    "version": 3
   },
   "file_extension": ".py",
   "mimetype": "text/x-python",
   "name": "python",
   "nbconvert_exporter": "python",
   "pygments_lexer": "ipython3",
   "version": "3.11.9"
  }
 },
 "nbformat": 4,
 "nbformat_minor": 5
}
