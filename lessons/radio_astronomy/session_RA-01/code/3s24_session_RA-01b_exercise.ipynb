{
 "cells": [
  {
   "cell_type": "markdown",
   "id": "f73eb597-841f-4ac0-95d9-308405582036",
   "metadata": {},
   "source": [
    "# Session RA-01a Exercise"
   ]
  },
  {
   "cell_type": "markdown",
   "id": "72818798-0784-4299-b454-c98008449075",
   "metadata": {},
   "source": [
    "## I. Project description\n",
    "<ins>Lecturer</ins>: Bang Nhan (NRAO)\n",
    "\n",
    "<ins>Topic</ins>: Galactic neutral hydrogen (HI) radio sky simulation\n",
    "\n",
    "<ins>Motivations</ins>:\n",
    "This exercise will illustrate how one can simulate the Galactic radio signal at a given frequency based on publicly avaiable sky maps. This is normally the first needed step to help designing and evaluating the performance of a radio telescope. \n",
    "\n",
    "Through this simulation obesrvation simulation, one can incorporate additional simulation modules representing the instrumental effects to evaluate their impacts on the instrument's detection sensitivity before actually building and deploying the instrument to the field. \n",
    "\n",
    "This is the first exercise of the series for the Sagi's instrumentation summer school. We will be building on top of the skills we learn as the summer school progresses, eventually all come together to help you work on your simple radio telescope project. \n",
    "\n",
    "<ins>Learning objectives</ins>:\n",
    "1. This exercise is to familiar you to how to read in radio survey sky map from the NASA data archive\n",
    "2. Learn how to manipulate the sky map data and rotate it to an observer's local Longitude and Latitude coordinate\n",
    "3. Simulate drift scan for the sky map over 24 hours in Local Sidereal Time (LST)\n",
    "4. Simulate the sky power measured by a simple antenna beam after 24 hours LST"
   ]
  },
  {
   "cell_type": "markdown",
   "id": "60d78e2c-3ca2-4cfc-bb21-1c6ef60bda9a",
   "metadata": {},
   "source": [
    "## II. Import common and installed Python libraries"
   ]
  },
  {
   "cell_type": "code",
   "execution_count": null,
   "id": "14df7972-7650-427c-90f2-763b90961d0a",
   "metadata": {},
   "outputs": [],
   "source": [
    "# To make inline plot in Jupyter cells\n",
    "%matplotlib inline \n",
    "\n",
    "# Import built-in python libraries\n",
    "import os\n",
    "import sys\n",
    "import numpy as np\n",
    "import struct\n",
    "import pdb # Debugger\n",
    "import re # For Regular expression operations like splitting strings\n",
    "from glob import glob # For finding existing files in a given directory\n",
    "\n",
    "# For time:\n",
    "import time\n",
    "from datetime import datetime, timedelta, date \n",
    "\n",
    "# Import additional packages provided in the environment.yml\n",
    "import h5py # for handling HDF5 data format\n",
    "import pickle as pk \n",
    "\n",
    "import healpy as hp # For handling HealPix data # Not available for Window OS\n",
    "# (Ref: https://healpy.readthedocs.io/en/1.14.0/)\n",
    "# If healpy not working, try pandas https://easy.gems.dkrz.de/Processing/healpix/healpix_starter.html\n",
    "\n",
    "from tqdm import tqdm # For progress bar for loops\n",
    "\n",
    "# For plotting:\n",
    "import matplotlib.pyplot as plt  \n",
    "import matplotlib.dates as mdates  # For datetime format in plots\n",
    "# Set white background\n",
    "plt.rcParams['figure.facecolor']='w'\n",
    "plt.rcParams['savefig.facecolor']='w'\n",
    "plt.rcParams['figure.figsize']=(10,7) # Set figure size\n",
    "\n",
    "# For signal processing and analysis\n",
    "import pandas as pd # For data science Pandas library\n",
    "\n",
    "# For astronomy related functions (coordinate transform, physical units, etc)\n",
    "from astropy import time as apTime\n",
    "from astropy import constants as apConst\n",
    "from astropy import units as u\n",
    "from astropy.coordinates import SkyCoord, ITRS, angular_separation\n",
    "from astropy.coordinates import TEME, CartesianDifferential, CartesianRepresentation\n",
    "from astropy.coordinates import EarthLocation, AltAz"
   ]
  },
  {
   "cell_type": "markdown",
   "id": "5197739d-c600-4bfc-b644-557ad0bbeb15",
   "metadata": {},
   "source": [
    "## III. Read in the Haslam sky map & coordinates data\n",
    "\n",
    "The Haslam all-sky (all direction) survey map was made at 408 MHz by [Haslam et al. (1981)](http://ui.adsabs.harvard.edu/abs/1981A&A...100..209H) and [Haslam et al. 1982](http://ui.adsabs.harvard.edu/abs/1982A&AS...47....1H)\n",
    "\n",
    "<ins>Extra</ins>: \n",
    "- The data file above can also be download from [this NASA webpage](https://lambda.gsfc.nasa.gov/product/foreground/fg_2014_haslam_408_get.html)\n",
    "- Different versions of the Haslam map are available for download on [this NASA website](https://lambda.gsfc.nasa.gov/product/foreground/fg_2014_haslam_408_info.html)\n",
    "- Other H1 21-cm survey maps on this [NASA's webpage](https://lambda.gsfc.nasa.gov/product/foreground/fg_diffuse.html)\n",
    "- Other sky survey maps are also avaialble on the [NASA's website](https://lambda.gsfc.nasa.gov/product/)\n"
   ]
  },
  {
   "cell_type": "markdown",
   "id": "4f4d976d-0242-4198-85b8-999f0dbbfc3f",
   "metadata": {},
   "source": [
    "### 1. Read in the Haslam map fits file:\n",
    "(Ref: https://docs.astropy.org/en/stable/io/fits/index.html)\n",
    "\n",
    "A copy of the sky map has been downloaded and stored in (we are using the Haslam 408 MHz with no filtering version:\n",
    ">`sagi/radio_astronomy/session_RA-01/data/lambda_haslam408_nofilt.fits`"
   ]
  },
  {
   "cell_type": "code",
   "execution_count": null,
   "id": "61853948-febd-4c27-82d0-e82a9bf6946d",
   "metadata": {},
   "outputs": [],
   "source": [
    "from astropy.io import fits\n",
    "file_dir = 'session_RA-01/data/'\n",
    "file_name = 'lambda_haslam408_nofilt.fits'"
   ]
  },
  {
   "cell_type": "code",
   "execution_count": null,
   "id": "559c5e2b-2a59-4a83-84f6-f647a95cda25",
   "metadata": {},
   "outputs": [],
   "source": [
    "# Determine if there is a file in the directory\n",
    "current_dir = os.getcwd() # Current jupyter notebook directory\n",
    "fits_image_filename = glob(os.path.join(current_dir,\n",
    "                                        file_dir,\n",
    "                                        file_name))\n",
    "print(fits_image_filename)"
   ]
  },
  {
   "cell_type": "code",
   "execution_count": null,
   "id": "0cf54fcd-8e96-4998-a5fe-98184a346f4d",
   "metadata": {},
   "outputs": [],
   "source": [
    "# Should be only one file, so reset the fits_image_filename from a list ot string\n",
    "fits_image_filename = fits_image_filename[0]"
   ]
  },
  {
   "cell_type": "code",
   "execution_count": null,
   "id": "74e94696-b26f-406e-ba8e-9c16ac211229",
   "metadata": {},
   "outputs": [],
   "source": [
    "# Open & explore the fits file as an HDUList objects:\n",
    "with fits.open(fits_image_filename) as hdul:\n",
    "    hdul.info()\n",
    "    haslam_map = hdul[1].data # Read out the data into a new variable"
   ]
  },
  {
   "cell_type": "code",
   "execution_count": null,
   "id": "03c6762a-86f5-4885-b7fb-7f18ecbf4ca0",
   "metadata": {},
   "outputs": [],
   "source": [
    "hdul"
   ]
  },
  {
   "cell_type": "code",
   "execution_count": null,
   "id": "88b5296c-7f89-4b22-a775-cb517e41d45d",
   "metadata": {},
   "outputs": [],
   "source": [
    "# Check the HDUList data's header for other information about the sky map:\n",
    "# Or look up on the NASA website:\n",
    "# https://lambda.gsfc.nasa.gov/cgi-bin/fitsheader.cgi?fitsfile=%2Fdata%2Fforegrounds%2Fhaslam%2Flambda_haslam408_nofilt.fits\n",
    "hdul[0].header, hdul[1].header"
   ]
  },
  {
   "cell_type": "code",
   "execution_count": null,
   "id": "08552624-0c58-4092-a08f-df1683b99058",
   "metadata": {},
   "outputs": [],
   "source": [
    "# Check the data structure of the Haslam map data:\n",
    "# The map should be stored in Healpix format with length of 3145728, \n",
    "# this corresponding to nside of 512, 12*(nside)**2 = npix,\n",
    "# Can check with function: npix = hp.nside2npix(nside), or nside = hp.npix2nside(npix)\n"
   ]
  },
  {
   "cell_type": "markdown",
   "id": "573841d9-68f8-4913-8056-52204c056007",
   "metadata": {},
   "source": [
    "### 2. Read in the Haslam map's coodinate maps $(\\theta, \\phi)$ fits file:\n",
    "Download from [this NASA's website](https://lambda.gsfc.nasa.gov/toolbox/pixelcoords.html)\n",
    "\n",
    "A copy of the sky map's cooridnate map has been downloaded and stored in (we are using the Nested, Nside =512, Galactic coodinates version):\n",
    ">`sagi/radio_astronomy/session_RA-01/data/ \tpixel_coords_map_nested_galactic_res9.fits`"
   ]
  },
  {
   "cell_type": "code",
   "execution_count": null,
   "id": "bdb5447d-c075-4423-bb00-2aca62adb0a6",
   "metadata": {},
   "outputs": [],
   "source": [
    "file_dir = 'session_RA-01/data/'\n",
    "file_name = 'pixel_coords_map_nested_galactic_res9.fits'\n",
    "current_dir = os.getcwd() # Current jupyter notebook directory\n",
    "fits_image_filename = glob(os.path.join(current_dir,\n",
    "                                        file_dir,\n",
    "                                        file_name))\n",
    "print(fits_image_filename)"
   ]
  },
  {
   "cell_type": "code",
   "execution_count": null,
   "id": "e6105086-2a94-47a4-bf96-3d48cb00bcfc",
   "metadata": {},
   "outputs": [],
   "source": [
    "with fits.open(fits_image_filename[0]) as hdul:\n",
    "    hdul.info()\n",
    "    haslam_coord_map = hdul[1].data"
   ]
  },
  {
   "cell_type": "code",
   "execution_count": null,
   "id": "d12ab82a-4215-4dce-8414-1ba217728248",
   "metadata": {},
   "outputs": [],
   "source": [
    "haslam_coord_map"
   ]
  },
  {
   "cell_type": "code",
   "execution_count": null,
   "id": "b24b16f9-153f-47e3-9ad8-1d69e7ad56c8",
   "metadata": {},
   "outputs": [],
   "source": [
    "# Rename the data arrays into variable\n",
    "haslam_map_gal = haslam_map['TEMPERATURE']\n",
    "theta_haslam = haslam_coord_map['LATITUDE']\n",
    "phi_haslam = haslam_coord_map['LONGITUDE']"
   ]
  },
  {
   "cell_type": "markdown",
   "id": "5601a152-409f-46b8-b29f-29f944221a94",
   "metadata": {},
   "source": [
    "### 3. Convert Nested to Ring format for healpix data \n",
    "(seems to be less buggy to work with Ring data)"
   ]
  },
  {
   "cell_type": "code",
   "execution_count": null,
   "id": "692f5d04-1cf1-49d0-9702-418297d77b52",
   "metadata": {},
   "outputs": [],
   "source": [
    "haslam_map_gal = hp.reorder(haslam_map_gal,n2r=True)\n",
    "theta_haslam = hp.reorder(theta_haslam,n2r=True)\n",
    "phi_haslam = hp.reorder(phi_haslam,n2r=True)\n"
   ]
  },
  {
   "cell_type": "markdown",
   "id": "34375604-3180-47aa-9680-f8e84678aaaa",
   "metadata": {},
   "source": [
    "## IV. Plot the Haslam map with healpy"
   ]
  },
  {
   "cell_type": "markdown",
   "id": "56bfa017-a2ca-4f85-ba76-94ffcc673822",
   "metadata": {},
   "source": [
    "### 1. Plot in Mollweide Projection:\n",
    "(Ref: https://healpy.readthedocs.io/en/latest/generated/healpy.visufunc.mollview.html#healpy.visufunc.mollview)"
   ]
  },
  {
   "cell_type": "code",
   "execution_count": null,
   "id": "a4098904-6b4d-4884-8a82-1b94137bc175",
   "metadata": {},
   "outputs": [],
   "source": [
    "# Plot the haslam map with healpy in Mollweide projection:\n",
    "# The sky brightness temperature is in millikelvin (see header above)\n",
    "# data is in NESTED Healpix format, need to set kwarg nest to True\n",
    "#  coord=[\"G\", \"E\"] is to convert from Galactic to Equatorial coordinate\n",
    "hp.mollview(haslam_map['TEMPERATURE'],nest=True, coord=[\"G\", \"E\"])  # in linear scale\n"
   ]
  },
  {
   "cell_type": "markdown",
   "id": "6078b7b5-aade-4539-b0fc-a977c58b2c1d",
   "metadata": {},
   "source": [
    "#### Exercise: Which scale (linear vs logarithmic) show the data better?"
   ]
  },
  {
   "cell_type": "code",
   "execution_count": null,
   "id": "c932a7ec-26f4-4e9a-b4c5-ae4060d64d19",
   "metadata": {},
   "outputs": [],
   "source": [
    "hp.mollview(np.log10(haslam_map['TEMPERATURE']),nest=True, coord=[\"G\", \"E\"]) # in log10 scale (Give it a try)"
   ]
  },
  {
   "cell_type": "markdown",
   "id": "770f7d4d-ff8b-4123-aacd-8ce6cc0cf6bf",
   "metadata": {},
   "source": [
    "### 2. Plot in Cartesean Projection:\n",
    "(Ref: https://healpy.readthedocs.io/en/latest/generated/healpy.visufunc.cartview.html#healpy.visufunc.cartview)"
   ]
  },
  {
   "cell_type": "code",
   "execution_count": null,
   "id": "48d0cbfb-8725-4fe5-844b-5e516373323c",
   "metadata": {},
   "outputs": [],
   "source": [
    "hp.cartview(np.log10(haslam_map_gal))#,nest=True)"
   ]
  },
  {
   "cell_type": "markdown",
   "id": "2084fb94-8fcd-4e93-9591-a52900cf4e4f",
   "metadata": {},
   "source": [
    "### 3. Plot in Orthographic Projection:\n",
    "(Ref: https://healpy.readthedocs.io/en/latest/generated/healpy.visufunc.orthview.html#healpy.visufunc.orthview)"
   ]
  },
  {
   "cell_type": "code",
   "execution_count": null,
   "id": "412cc940-e5de-4ed7-b0ac-a7e60f4224f9",
   "metadata": {},
   "outputs": [],
   "source": [
    "hp.orthview(np.log10(haslam_map_gal))"
   ]
  },
  {
   "cell_type": "markdown",
   "id": "feeba155-dc0d-4efa-a77f-fb8dae302f9c",
   "metadata": {},
   "source": [
    "#### Exercise: Rotate the sky map around"
   ]
  },
  {
   "cell_type": "code",
   "execution_count": null,
   "id": "7c72c8cb-1d5f-44a5-bbdd-47825b0761f6",
   "metadata": {},
   "outputs": [],
   "source": [
    "# Need to rotate the sky map to the correct orientation for a give observer's position on earth. \n",
    "# We will use the built-in rotator argument to do that \n",
    "# (Feel free to change the angles to see how the plot change)\n",
    "\n",
    "#hp.orthview(np.log10(haslam_map_gal),rot=(0,90))\n",
    "#hp.orthview(np.log10(haslam_map_gal),rot=(90,0))\n",
    "#hp.orthview(np.log10(haslam_map_gal),rot=(90,90))"
   ]
  },
  {
   "cell_type": "markdown",
   "id": "5499b50d-59f0-4f19-b74f-f74310f6d736",
   "metadata": {},
   "source": [
    "## V. Manipulate the Haslam map"
   ]
  },
  {
   "cell_type": "markdown",
   "id": "37891d09-b645-4820-bb50-d8e392315039",
   "metadata": {},
   "source": [
    "### 1. Change the Healpix beam map spatial resolution\n",
    "Raw Haslam map has nside = 512 (with angular resolution of a pixel = deg) or number of pixels = . \n",
    "\n",
    "To make simulation faster, we can reduce the spatial resolution of the map by interpolate to lower nside (or large angular resolution) with the healpy function ud_grade (https://healpy.readthedocs.io/en/latest/generated/healpy.pixelfunc.ud_grade.html)"
   ]
  },
  {
   "cell_type": "code",
   "execution_count": null,
   "id": "a73ef5bc-44a0-428e-8afa-441d37c69b77",
   "metadata": {},
   "outputs": [],
   "source": [
    "# Ref: (https://healpy.readthedocs.io/en/latest/generated/healpy.pixelfunc.ud_grade.html\n",
    "nside_sim = 128 #(max = 512) , any other power of two from 4, 8, 16,32,.. works\n",
    "haslam_map_new = hp.ud_grade(haslam_map_gal,\n",
    "                             nside_out=nside_sim,\n",
    "                             order_in='RING',\n",
    "                             power=-2)"
   ]
  },
  {
   "cell_type": "markdown",
   "id": "16b8c14f-44a6-477a-8168-e3abc908df19",
   "metadata": {},
   "source": [
    "#### Exercise: Plot the new and old Haslma maps with one of the plotting projections above to see how different the two Haslam maps look like"
   ]
  },
  {
   "cell_type": "code",
   "execution_count": null,
   "id": "77e788b1",
   "metadata": {},
   "outputs": [],
   "source": [
    "Student make plots for different nside_sim"
   ]
  },
  {
   "cell_type": "markdown",
   "id": "1f9d6b5b-d98c-4b06-a1c5-5ab2af1b360e",
   "metadata": {},
   "source": [
    "### 2. Align the sky map to where the observer \n",
    "\n",
    "The Haslam map is stored in Galactic coordinate, so doesn't know where the observer is on Earth. We need to align the Haslam map to the observer's Longitude and Latitude"
   ]
  },
  {
   "cell_type": "markdown",
   "id": "36651824-abee-4261-8f68-c86f23a560a9",
   "metadata": {},
   "source": [
    "#### 2.1 Determine the observation site coordinate for the observer"
   ]
  },
  {
   "cell_type": "code",
   "execution_count": null,
   "id": "60b02c1e-8124-4fa9-9242-1a1d46737817",
   "metadata": {},
   "outputs": [],
   "source": [
    "# Determine the observer's Longitude & Latitude\n",
    "# (Can use Google map to help determine Lon & Lat by right click a location on the map)\n",
    "\n",
    "# Student's exercise!!! \n",
    "# (Fill in the three variable for your location, we will pick ICISE in Quy Nhon for today)\n",
    "# Example: Nha Trang Observatory's (Lat,Lon) = (12.271, 109.205)\n",
    "obs_lat = 12.271 # [degree]\n",
    "obs_lon = 109.205 # [degree]\n",
    "obs_elevation = 0. #[m]"
   ]
  },
  {
   "cell_type": "markdown",
   "id": "58aa074a-51d5-4eaf-af93-e64a926721e3",
   "metadata": {},
   "source": [
    "#### Exercise: Determine the Lon & Lat of the ICISE site with Google Map"
   ]
  },
  {
   "cell_type": "code",
   "execution_count": null,
   "id": "5ef6acb1-8ef8-44cb-b1a7-ade79339169e",
   "metadata": {},
   "outputs": [],
   "source": [
    "'''\n",
    "# Quy Nhon ICSISE site:\n",
    "obs_lon = # [degree]\n",
    "obs_lat = # [degree]\n",
    "obs_elevation = # [m] Elevation above sea level\n",
    "# can look up online, or if close to sea level, can set to 0\n",
    "'''"
   ]
  },
  {
   "cell_type": "code",
   "execution_count": null,
   "id": "569572da-8980-45e1-985a-124602f01636",
   "metadata": {},
   "outputs": [],
   "source": [
    "# Create an Earth Location object from the Astropy library:\n",
    "obs_site = EarthLocation(lat=obs_lat*u.deg,\n",
    "                          lon=obs_lon*u.deg,\n",
    "                          height=obs_elevation*u.m)"
   ]
  },
  {
   "cell_type": "markdown",
   "id": "6b6c39f3-c152-4e64-a537-7985dd8cedad",
   "metadata": {},
   "source": [
    "#### 2.2  Rotate the Haslam map to where we are"
   ]
  },
  {
   "cell_type": "markdown",
   "id": "b05d6297-a501-4b35-90bb-1b7911aeb071",
   "metadata": {},
   "source": [
    "We will use the Rotator class introduced in Healpy above when doing plotting to align the Haslam map\n",
    "\n",
    "Things to know: \n",
    "- The Equatorial Cooridnate is the North & South poles aligned with the Earth's geographical poles (Not magnetic poles)\n",
    "- Longitude and Latitude are already on the same geographic coordinate\n",
    "\n",
    "Ref: https://www.zonca.dev/posts/2021-03-11-rotate-maps-healpy.html"
   ]
  },
  {
   "cell_type": "markdown",
   "id": "6d4652d6-df89-49b5-a280-d2ee85a5aff4",
   "metadata": {},
   "source": [
    "#### 2.2.1 First convert from Galatic to Equatorial coordinate"
   ]
  },
  {
   "cell_type": "code",
   "execution_count": null,
   "id": "9e9ca8af-318b-419e-9fca-a699cfb99483",
   "metadata": {},
   "outputs": [],
   "source": [
    "# Determine the theta and phi array for the existing Haslam map\n",
    "# in Galactic coordinate:\n",
    "n_pix  = hp.get_map_size(haslam_map_new)\n",
    "theta_haslam_gal, phi_haslam_gal = hp.pix2ang(nside_sim, \n",
    "                                              np.arange(n_pix))\n",
    "\n",
    "# Define the Healpy Rotator (from Galactic to Equatorial):\n",
    "rot_g2e = hp.rotator.Rotator(coord=['G','E'],\n",
    "                             inv=True) \n",
    "\n",
    "# Calculate the rotated coordinate arrays:\n",
    "theta_haslam_eq, phi_haslam_eq = rot_g2e(theta_haslam_gal,\n",
    "                                         phi_haslam_gal) \n",
    "\n",
    "# Fill out the rotated map's new indices with the original map values:\n",
    "# (hp.ang2pix need radians, not degrees)\n",
    "pix_rot = hp.ang2pix(nside_sim, \n",
    "                     theta_haslam_eq, \n",
    "                     phi_haslam_eq)\n",
    "haslam_rotated_eq = haslam_map_new[pix_rot]\n"
   ]
  },
  {
   "cell_type": "markdown",
   "id": "4a7afd62-3c53-4486-8388-d6c73c6562e8",
   "metadata": {},
   "source": [
    "#### Exercise: Plot and check the rotated map:"
   ]
  },
  {
   "cell_type": "code",
   "execution_count": null,
   "id": "2f2eae61-b92e-44d2-8376-8ddd18e3d019",
   "metadata": {},
   "outputs": [],
   "source": [
    "hp.orthview(np.log10(haslam_map_new))"
   ]
  },
  {
   "cell_type": "code",
   "execution_count": null,
   "id": "f6429eab-7fe3-448e-a5ed-4fca8e04c6f8",
   "metadata": {},
   "outputs": [],
   "source": [
    "# Plot the rotated map using Rotator to rotate the Haslam map first\n",
    "hp.orthview(np.log10(haslam_rotated_eq))"
   ]
  },
  {
   "cell_type": "code",
   "execution_count": null,
   "id": "19708150-7bdc-4a8f-84e9-b81277ddd5c3",
   "metadata": {},
   "outputs": [],
   "source": [
    "# Plotting the rotated by rotating the map in the plot function\n",
    "# This method doesn't give us the sky array easily, good for visual checking\n",
    "hp.orthview(np.log10(haslam_map_new),coord=['G','C'])"
   ]
  },
  {
   "cell_type": "markdown",
   "id": "949464ff-9ff4-4f7b-98b4-e5e0afec7b8c",
   "metadata": {},
   "source": [
    "#### 2.2.2 Rotate Equatorial haslam map to the observer's Longitude and Latitude"
   ]
  },
  {
   "cell_type": "code",
   "execution_count": null,
   "id": "55b54891-4485-4c8a-ad15-f2aad7452477",
   "metadata": {},
   "outputs": [],
   "source": [
    "# One trick is to align sky map so the overhead angle (zenith) from the observer is facing out of the screen \n",
    "# Need to also rotate the cooridnate arrays to keep track of things:"
   ]
  },
  {
   "cell_type": "code",
   "execution_count": null,
   "id": "0975b852-81f5-4276-8a20-5fc37e55cdb2",
   "metadata": {},
   "outputs": [],
   "source": [
    "# Create a local rotator function:\n",
    "def sky_map_obs_rotate(map_in, theta_in, phi_in,\n",
    "                       rot_lon_deg,rot_lat_deg,\n",
    "                       nside_sim=128):\n",
    "    '''\n",
    "    This function will rotate the sky map (in equitorial coordinate) \n",
    "    to a local observer's overhead/zenith at the observer's Long Lat\n",
    "\n",
    "    Parameters\n",
    "    ----------\n",
    "    map_in : ndarray (in Healpix format)\n",
    "        Input sky map\n",
    "    theta_in : ndarray\n",
    "        Theta array of the input skymap [degree]\n",
    "    phi_in : ndarray\n",
    "        Phi array of the input skymap [degree]\n",
    "    rot_lon_deg : float\n",
    "        Longitude angle to rotate the sky map to\n",
    "    rot_lat_deg : float\n",
    "        Latitude angle to rotate the sky map to\n",
    "        \n",
    "    Returns\n",
    "    -------\n",
    "    map_out : ndarray (in Healpix format)\n",
    "        Output Sky map at the observer's zenith\n",
    "    '''\n",
    "    # Define the Healpy Rotator (From Equatorial to local Observer's Lon & Lat):\n",
    "    rot_obs = hp.rotator.Rotator(rot=[rot_lon_deg,rot_lat_deg],\n",
    "                                 inv=True) \n",
    "\n",
    "    # Calculate the rotated coordinate arrays:\n",
    "    theta_out, phi_out = rot_obs(theta_in,\n",
    "                                 phi_in) \n",
    "\n",
    "    # Fill out the rotated map's new indices with the original map values:\n",
    "    # (hp.ang2pix need radians, not degrees)\n",
    "    pix_rot = hp.ang2pix(nside_sim, \n",
    "                         theta_out, \n",
    "                         phi_out)\n",
    "    map_out = map_in[pix_rot]\n",
    "\n",
    "    return map_out, theta_out, phi_out"
   ]
  },
  {
   "cell_type": "code",
   "execution_count": null,
   "id": "b73d5975-cfe2-429e-ada8-93b10d665a51",
   "metadata": {},
   "outputs": [],
   "source": [
    "# Run the rotation function to ge tthe new sky map\n",
    "haslam_rotated_obs, theta_obs, phi_obs = sky_map_obs_rotate(haslam_rotated_eq,\n",
    "                                                            theta_haslam_eq,\n",
    "                                                            phi_haslam_eq,\n",
    "                                                            obs_site.lon.value,\n",
    "                                                            obs_site.lat.value,\n",
    "                                                            nside_sim = nside_sim)\n",
    "                                        "
   ]
  },
  {
   "cell_type": "markdown",
   "id": "e5b70e2a-3dd3-4937-ab68-6d7005e79e59",
   "metadata": {},
   "source": [
    "#### Exercise: Plot inspect rotated map"
   ]
  },
  {
   "cell_type": "code",
   "execution_count": null,
   "id": "bbb428df-3414-41f3-aff3-a961f23456e7",
   "metadata": {},
   "outputs": [],
   "source": [
    "hp.orthview(np.log10(haslam_rotated_obs))"
   ]
  },
  {
   "cell_type": "markdown",
   "id": "92f7dce4-9ee8-4556-988d-1b4ddad061e3",
   "metadata": {},
   "source": [
    "## VI. Simulate drift scan for the sky map over 24 hours in Local Sidereal Time (LST)\n",
    "\n",
    "For not moving the telescope, just pointing upward, the sky will change over time, which is called \"drift\" scan due to the Earth's rotation.\n",
    "\n",
    "<ins>Tasks</ins>: Students will learn how to rotate the sky map for different LST time, knowing that for 24 hr LST, it's 360 deg, so 1 hr *(360 deg/24 hr) = 15 deg"
   ]
  },
  {
   "cell_type": "markdown",
   "id": "597b204d-5c19-4a46-a81d-5e0316a9ec31",
   "metadata": {},
   "source": [
    "### 1. Generate UTC time array for the observation"
   ]
  },
  {
   "cell_type": "code",
   "execution_count": null,
   "id": "65f16cd5-6945-400c-9bf1-8c868530b76b",
   "metadata": {},
   "outputs": [],
   "source": [
    "#t_utc_start = datetime.now() # Assume today now\n",
    "t_utc_start = datetime(2024,7,24,0,0,0) # Pick a start UTC at 00:00:00 on 24/7/2024\n",
    "t_utc_end = t_utc_start + timedelta(hours=24) # add 24 hours later\n",
    "\n",
    "# Generate the UTC time array for the givenstar, end, and step size:\n",
    "delta_t_min = 60 # [min] Step size of the array in minutes, must be integer\n",
    "\n",
    "# dt = datetime\n",
    "t_utc_dt =  np.arange(t_utc_start, t_utc_end, timedelta(minutes=delta_t_min)).astype(datetime)"
   ]
  },
  {
   "cell_type": "markdown",
   "id": "ad396a68-2681-4118-91a3-1de122c785d8",
   "metadata": {},
   "source": [
    "### 2. Convert UTC to LST"
   ]
  },
  {
   "cell_type": "code",
   "execution_count": null,
   "id": "779d083e-6f31-4857-a067-4bc6ac3ee9e5",
   "metadata": {},
   "outputs": [],
   "source": [
    "# Convert UTC to LST with astropy:\n",
    "# i) Convert the datetime t_utc to astropy.Time object first\n",
    "# Ref: for astropy.Time.Time https://docs.astropy.org/en/stable/time/index.html\n",
    "t_utc = apTime.Time(t_utc_dt,\n",
    "                    format='datetime',\n",
    "                    scale='utc',\n",
    "                    location=obs_site)"
   ]
  },
  {
   "cell_type": "code",
   "execution_count": null,
   "id": "cdd9915c-0805-42b3-a248-1c2a4290b32f",
   "metadata": {},
   "outputs": [],
   "source": [
    "# ii) Convert the astropy.Time object from UTC to LST\n",
    "# There are two types of sidereal time: 'mean' vs 'apparent' \n",
    "# (https://en.wikipedia.org/wiki/Sidereal_time#Mean_and_apparent_varieties)\n",
    "t_lst_mean = t_utc.sidereal_time('mean')\n",
    "# t_lst_app = t_utc.sidereal_time('apparent')"
   ]
  },
  {
   "cell_type": "markdown",
   "id": "2e67230a-b95d-4de9-a31a-4c25d425f0e7",
   "metadata": {},
   "source": [
    "#### Exercises: Compare LST and UTC\n",
    "1. Print the t_lst and t_utc out and see what's the difference between them\n",
    "2. Check what's different between t_lst_mean and t_lst_app"
   ]
  },
  {
   "cell_type": "code",
   "execution_count": null,
   "id": "99aafeb7-2557-4acb-bed2-1fb5ea4d7faa",
   "metadata": {},
   "outputs": [],
   "source": []
  },
  {
   "cell_type": "markdown",
   "id": "d4839967-5d1d-4557-9a43-432890325578",
   "metadata": {},
   "source": [
    "### 3. Rotate the sky map over LST time\n",
    "\n",
    "We will use the Rotator class again to rotate the sky map every hours\n",
    "\n",
    "Tips: \n",
    "- Used the aligned Haslam map, haslam_rotated\n",
    "- Knowing that every 1 LST hour = 15 degree\n",
    "- To make things easier to keep track of, we can align the beam and sky so it's zenith or boreisght is pointing out of the page when looking at hp.orthview by\n",
    "- Rotate the haslam_rotated with rot=[180,90]\n"
   ]
  },
  {
   "cell_type": "code",
   "execution_count": null,
   "id": "f319a261-e0a1-4441-ab62-923b3a01c55f",
   "metadata": {},
   "outputs": [],
   "source": [
    "# Define arrays to store and keep track of how the sky rotates:\n",
    "sky_map_arr = np.zeros([len(t_lst_mean),hp.nside2npix(nside_sim)])\n",
    "theta_map_arr = 0*sky_map_arr\n",
    "phi_map_arr = 0*sky_map_arr\n",
    "\n",
    "# Loop through 24 hours LST:\n",
    "for tt in tqdm(range(len(t_lst_mean))):\n",
    "    print(\"Running LST hour {:f}\".format(t_lst_mean.value[tt]))\n",
    "    # Assume the rotated map we had above is at LST = 0 hr\n",
    "    if tt == 0:\n",
    "        sky_map_arr[tt,:] = haslam_rotated_obs\n",
    "        theta_map_arr[tt,:] = theta_obs \n",
    "        phi_map_arr[tt,:] = phi_obs \n",
    "    else:\n",
    "        rot_lon_tt = tt*15.0\n",
    "        rot_lat_tt = 0\n",
    "        # Each new time step, we will rotate the sky by 15 deg in Longitude\n",
    "        # We use the rotation function we wrote above \n",
    "        sky_map_arr[tt,:], theta_map_arr[tt,:],\\\n",
    "            phi_map_arr[tt,:] = sky_map_obs_rotate(sky_map_arr[0,:],\n",
    "                                                   theta_map_arr[0,:],\n",
    "                                                   phi_map_arr[0,:],\n",
    "                                                   rot_lon_tt,\n",
    "                                                   rot_lat_tt,\n",
    "                                                    nside_sim = nside_sim)\n",
    "\n"
   ]
  },
  {
   "cell_type": "markdown",
   "id": "d8368019-583c-42c1-91be-4b9fe45fbb2a",
   "metadata": {},
   "source": [
    "## VII. Simulate the sky power measured by a simple antenna beam after 24 hours LST"
   ]
  },
  {
   "cell_type": "markdown",
   "id": "330c546b-a9cf-43c2-95d5-ffbe604e737e",
   "metadata": {},
   "source": [
    "### 1. Generate a mock antenna beam"
   ]
  },
  {
   "cell_type": "markdown",
   "id": "7d6f52a7-dec9-4350-834f-ed5c98011a74",
   "metadata": {},
   "source": [
    "#### 1.1 Generate a 2D Gaussian function on spherical coordinate $(\\theta,\\phi)$\n",
    "\n",
    "2D Gaussian (https://en.wikipedia.org/wiki/Gaussian_function)\n",
    "$f(x,y) = A*\\exp\\{-\\left[\\frac{(x-x_0)^2}{2\\sigma_x^2}+\\frac{(y-y_0)^2}{2\\sigma_y^2}\\right]\\}$"
   ]
  },
  {
   "cell_type": "code",
   "execution_count": null,
   "id": "312e8acd-2a8c-4b86-968f-3720e00ad5cf",
   "metadata": {},
   "outputs": [],
   "source": [
    "def gauss_kernel_2d(A=1.0, side_l=5, sig=1.):\n",
    "    \"\"\"\\\n",
    "    creates gaussian kernel with side length `l` and a sigma of `sig`\n",
    "    Ref: https://copyprogramming.com/howto/how-to-calculate-a-gaussian-kernel-matrix-efficiently-in-numpy\n",
    "    \"\"\"\n",
    "    ax = np.linspace(-(side_l - 1) / 2., (side_l - 1) / 2., side_l)\n",
    "    gauss = np.exp(-0.5 * np.square(ax) / np.square(sig))\n",
    "    kernel = np.outer(gauss, gauss)\n",
    "    return A*kernel / np.sum(kernel)"
   ]
  },
  {
   "cell_type": "code",
   "execution_count": null,
   "id": "3f436c0b-5430-4e33-b0c2-be5a93ca6760",
   "metadata": {},
   "outputs": [],
   "source": [
    "theta_deg = np.arange(0,180,1)\n",
    "theta_rad = np.radians(theta_deg)# Theta array [radians] (from 0 to 180 deg)\n",
    "phi_deg = np.arange(0,360,1.)\n",
    "phi_rad = np.radians(phi_deg)# Phi array [radians], from 0 to 360 deg\n",
    "\n",
    "# Define the Beam Full width at half max (FWHM) & amplitude (or gain):\n",
    "beam_fwhm_deg = 60. #[deg]\n",
    "beam_gain = 1.0 # [linear unit, not dB], assuming unity gain, not need to correct later\n",
    "\n",
    "# Compute the gaussian Sigma with FWHM:\n",
    "# Ref: #https://en.wikipedia.org/wiki/Full_width_at_half_maximum\n",
    "beam_sigma_deg = beam_fwhm_deg/(2*np.sqrt(2*np.log(2))) \n",
    "\n",
    "# Generate the 2D Gaussian Kernel (size = side_l x side_l):\n",
    "gaussian_beam_2d_tmp = gauss_kernel_2d(A=beam_gain, \n",
    "                                       side_l=len(phi_rad),\n",
    "                                       sig=beam_sigma_deg)"
   ]
  },
  {
   "cell_type": "code",
   "execution_count": null,
   "id": "e73ffe55-9c57-489c-8286-74b7ec7e1e2e",
   "metadata": {},
   "outputs": [],
   "source": [
    "# Plot and Check the Gaussian profile\n",
    "plt.imshow(gaussian_beam_2d_tmp)"
   ]
  },
  {
   "cell_type": "markdown",
   "id": "a84db936-0aae-477a-9f76-db599280c760",
   "metadata": {},
   "source": [
    "#### Exercise: Try different width (sigma) of the Gaussian beam and plot them"
   ]
  },
  {
   "cell_type": "code",
   "execution_count": null,
   "id": "011a21b7-4916-4b01-8ef7-c1a960f26583",
   "metadata": {},
   "outputs": [],
   "source": [
    "# Reshape the 2d array of the Gaussian kernel so the upper hemisphere (theta = 0-90 deg is the beam)\n",
    "# before converting into a healpix map:\n",
    "# Need to be size of len(theta_rad) x len(phi_rad), \n",
    "# e.g., for 1-deg resolution, it's 180x360\n",
    "gaussian_beam_2d = np.zeros([len(theta_rad),len(phi_rad)])\n",
    "gaussian_beam_1d_profile = gaussian_beam_2d_tmp[180:,180]\n",
    "# Create 2d profile in the right size by taking the 1d gaussian profile and rotate 360 deg\n",
    "for pp in range(len(phi_rad)): \n",
    "    gaussian_beam_2d[:,pp] = gaussian_beam_1d_profile"
   ]
  },
  {
   "cell_type": "code",
   "execution_count": null,
   "id": "416373d8-8632-41ea-99a8-1ff04365f4d8",
   "metadata": {},
   "outputs": [],
   "source": [
    "# Plot and Check the Gaussian profile\n",
    "plt.imshow(gaussian_beam_2d_tmp)"
   ]
  },
  {
   "cell_type": "code",
   "execution_count": null,
   "id": "bcbb10ca-d44c-4fb2-a052-6b0e3b9faed0",
   "metadata": {},
   "outputs": [],
   "source": [
    "plt.plot(theta_deg,gaussian_beam_2d[:,0])\n",
    "plt.xlabel(r'$\\theta$ [deg]',fontsize=16)\n",
    "plt.ylabel('Gaussian 1D profile',fontsize=16)\n",
    "plt.title('FWHM = {:.2f} deg'.format(beam_fwhm_deg),fontsize=16)"
   ]
  },
  {
   "cell_type": "code",
   "execution_count": null,
   "id": "13e4d628-0421-4928-ae10-bc27304c61c8",
   "metadata": {},
   "outputs": [],
   "source": [
    "plt.imshow(gaussian_beam_2d)"
   ]
  },
  {
   "cell_type": "markdown",
   "id": "eb84b039-b3ef-42d0-8b42-33f3e5e5ea39",
   "metadata": {},
   "source": [
    "#### 1.2 Convert the Gausisan beam from  spherical coordinate grid to Healpix"
   ]
  },
  {
   "cell_type": "code",
   "execution_count": null,
   "id": "6433abde-bcc4-4e0d-bd12-ee0bfada24ea",
   "metadata": {},
   "outputs": [],
   "source": [
    "from scipy.interpolate import RectSphereBivariateSpline\n",
    "# Ref: https://docs.scipy.org/doc/scipy/reference/generated/scipy.interpolate.RectSphereBivariateSpline.html\n",
    "# We will use the RectSphereBivariateSpline function \n",
    "def spherical2d_to_healpix(data2d,\n",
    "                           theta_2d_rad,\n",
    "                           phi_2d_rad,\n",
    "                           nside=512):\n",
    "        '''\n",
    "        This method will convert a given 2d array in spherical coordinate \n",
    "        in format of [theta x phi] into a healpix format\n",
    "        \n",
    "        Parameters\n",
    "        ----------\n",
    "        data2d : ndarray\n",
    "        theta_2d_rad : ndarray\n",
    "        phi_2d_rad : ndarray\n",
    "        nside : int\n",
    "        \n",
    "        Returns\n",
    "        -------\n",
    "        data_hp : ndarray\n",
    "            The output data in healpix format\n",
    "        '''        \n",
    "        npix = hp.nside2npix(nside)\n",
    "        theta_hp, phi_hp = hp.pixelfunc.pix2ang(nside, np.arange(npix))\n",
    "        \n",
    "        # Note excluding the index since hte index at the poles are duplicates\n",
    "        lut = RectSphereBivariateSpline(theta_2d_rad[1:-1],phi_2d_rad[:-1],data2d[1:-1,:-1]) \n",
    "        data_hp = lut.ev(theta_hp.ravel(),phi_hp.ravel())\n",
    "\n",
    "        return data_hp, theta_hp, phi_hp\n"
   ]
  },
  {
   "cell_type": "code",
   "execution_count": null,
   "id": "67528616-5fad-4895-aff9-dd2989d91403",
   "metadata": {},
   "outputs": [],
   "source": [
    "gaussian_beam_hp, theta_hp, phi_hp = spherical2d_to_healpix(gaussian_beam_2d,\n",
    "                                                            theta_rad,\n",
    "                                                            phi_rad,\n",
    "                                                            nside=nside_sim)"
   ]
  },
  {
   "cell_type": "markdown",
   "id": "f454027e-bacc-4104-bd70-42d82e92c5b0",
   "metadata": {},
   "source": [
    "### 2. Calculate the beam-weighted antenna temperature at 408 MHz\n",
    "(Ref: https://antenna-theory.com/basics/temperature.php)\n",
    "$T_\\mathrm{ant}(408 \\mathrm{MHz}) \n",
    "= \\frac{\\int_{0}^{2\\pi}\\int_{0}^{\\pi} B(\\theta,\\phi)T_\\mathrm{Haslam}(\\theta,\\phi)\\sin\\theta\\mathrm{d}\\theta\\mathrm{d}\\phi}{\\int_{0}^{2\\pi}\\int_{0}^{\\pi} B(\\theta,\\phi) \\sin\\theta\\mathrm{d}\\theta\\mathrm{d}\\phi} \n",
    "= \\frac{\\sum_i B(i)T_\\mathrm{Haslam}(i)}{\\sum_i B(i)}$, where $i$ is the pixel index, $B$ is the antenna beam (farfield) pattern in spherical cooridnate"
   ]
  },
  {
   "cell_type": "code",
   "execution_count": null,
   "id": "571d6261-9f8a-45fa-a59a-b55a2c338301",
   "metadata": {},
   "outputs": [],
   "source": [
    "def Tant_compute(beam_map,\n",
    "                 sky_map,\n",
    "                 theta_in_rad,\n",
    "                 phi_in_rad,\n",
    "                 map_fmt='healpix'):\n",
    "    '''\n",
    "    This function is to compute the antenna temperature\n",
    "\n",
    "    Parameters\n",
    "    ----------\n",
    "    beam_map : ndarray\n",
    "        Beam pattern/map array\n",
    "    sky_map: ndarray\n",
    "        Sky map array\n",
    "    Returns\n",
    "    -------\n",
    "    T_ant : ndarray\n",
    "        The beam-weighted and normalized antenna temperature using the equation above\n",
    "    '''\n",
    "\n",
    "    # Homework for the student\n",
    "    numerator = spatial_integral(beam_map*sky_map,\n",
    "                                 theta_in_rad,\n",
    "                                 phi_in_rad,\n",
    "                                 theta_range=[0,np.pi],\n",
    "                                 phi_range=[0,2*np.pi],\n",
    "                                 map_fmt=map_fmt)\n",
    "    denominator = spatial_integral(beam_map,\n",
    "                                   theta_in_rad,\n",
    "                                   phi_in_rad,\n",
    "                                   theta_range=[0,np.pi],\n",
    "                                   phi_range=[0,2*np.pi],\n",
    "                                   map_fmt=map_fmt)\n",
    "    \n",
    "    T_ant = numerator/denominator\n",
    "    \n",
    "    return T_ant\n",
    "\n",
    "def spatial_integral(map_in,\n",
    "                     theta_in_rad,\n",
    "                     phi_in_rad,\n",
    "                     theta_range=[0,np.pi],\n",
    "                     phi_range=[0,2*np.pi],\n",
    "                     map_fmt='healpix'):\n",
    "    \"\"\"\n",
    "    Author: Bang Nhan (NRAO)\n",
    "    \n",
    "    This function performs the spatial integration over the solid angles. \n",
    "    If no integral interval is provided, the function will integrate over \n",
    "    all 4 pi steradian.\n",
    "\n",
    "    For healpix, due to the equal area pixels, no Jacobian sin(theta)\n",
    "    term is needed in the solid angle integral.\n",
    "    \n",
    "    For spherical 2D format, the pixel area gets larger, hence still\n",
    "    need the sin(theta) term in the integral.\n",
    "    \n",
    "    Parameters\n",
    "    ----------\n",
    "    map_in : ndarray (float)\n",
    "        Input spatial map to be integrated over, size [len(theta_in), len(phi_in)]\n",
    "    theta_in_rad : ndarray \n",
    "        Theta in for spherical coordinate of the map_in [rad]\n",
    "    phi_in_rad : ndarray\n",
    "        Phi in for spherical coordinate of the map_in [rad]\n",
    "    theta_range : list\n",
    "        Theta integral range. Default = None. Format is two element [theta_lo, theta_hi]\n",
    "    phi_range : list\n",
    "        Phi integral range. Default = None. Format is two element [phi_lo, phi_hi]\n",
    "    map_fmt : str\n",
    "        Input map format, default = 'healpix', or can be 'spherical2d' format in the \n",
    "        shape of [len(theta) x len(phi)]\n",
    "    \n",
    "    Returns\n",
    "    -------\n",
    "    map_integral : float\n",
    "        Spatial integrated value of the input map\n",
    "\n",
    "    \"\"\"\n",
    "    \n",
    "    # Check map_in size and theta_in and phi_in\n",
    "    map_sz = np.shape(map_in)\n",
    "    \n",
    "    if (map_fmt.lower() == 'healpix') & (len(map_sz) == 1):  # For Healpix format\n",
    "        if map_sz[0] != len(theta_in_rad):\n",
    "            raise ErrorValue(\"Check format of the map in to ensure its has shape of npix\")\n",
    "        \n",
    "        # For healpix, the theta and phi are in radians by default        \n",
    "        nside = hp.npix2nside(map_sz[0])\n",
    "        pix_resol = hp.nside2resol(nside)\n",
    "        \n",
    "        # Find theta & phi idx here theta and phi range are defined:\n",
    "        theta_idx = np.where((theta_in_rad >= theta_range[0]) & (theta_in_rad <= theta_range[1]))[0]       \n",
    "        \n",
    "        map_integral = np.sum(map_in[theta_idx]*pix_resol*pix_resol) # Only integrate up to index within the given theta range\n",
    "        \n",
    "    elif (map_fmt.lower() == 'spherical2d') & (len(map_sz) == 2): # For non Healpix 2D format\n",
    "    \n",
    "        if map_sz[0] != len(theta_in_rad):\n",
    "            raise ErrorValue(\"Check format of the map in to ensure its has shape of [len(theta),len(phi)]\")\n",
    "            \n",
    "        # Check if theta and phi in radians, if not convert them:\n",
    "        if theta_in_rad.max() > np.pi:\n",
    "            print(\"Converting theta from deg to rad\")\n",
    "            theta_in_rad = np.radians(theta_in_rad)\n",
    "        \n",
    "        if phi_in_rad.max() > 2*np.pi:\n",
    "            print(\"Converting phi from deg to rad\")\n",
    "            phi_in_rad = np.radians(phi_in_rad)\n",
    "        \n",
    "        # Calculate the delta_theta and delta_phi:\n",
    "        delta_theta = np.mean(theta_in_rad[1:] - theta_in_rad [0:-1])\n",
    "        delta_phi =  np.mean(phi_in_rad[1:] - phi_in_rad [0:-1])\n",
    "    \n",
    "        # Find theta & phi idx here theta and phi range are defined:\n",
    "        theta_idx = np.where((theta_in_rad >= theta_range[0]) & (theta_in_rad <= theta_range[1]))[0]\n",
    "        \n",
    "        # Perform integration :\n",
    "        map_integral = 0\n",
    "        for pp in range(len(phi_in_rad)):        \n",
    "            map_integral += np.sum(map_in[theta_idx[0]:theta_idx[-1],pp]*np.sin(theta_in_rad[theta_idx[0]:theta_idx[-1]]))*delta_theta\n",
    "        \n",
    "        map_integral *= delta_phi                         \n",
    "\n",
    "    else:\n",
    "        raise ValueError(\"Wrong data format, please make sure either 'healpix' or 'spherical2d'\")\n",
    "        \n",
    "    return map_integral   \n"
   ]
  },
  {
   "cell_type": "code",
   "execution_count": null,
   "id": "3de3030b-a793-40d7-b92a-3eabeff4c253",
   "metadata": {},
   "outputs": [],
   "source": [
    "# Run the T_ant computation function:\n",
    "# Tips: use gaussian_beam_hp, sky_map_arr, theta_hp, phi_hp\n",
    "#T_ant = Tant_compute(...) # Student complete the line (replace ... with correct inputs)\n"
   ]
  },
  {
   "cell_type": "markdown",
   "id": "38acb4dc-0475-4ffa-9bb9-46e251aebdb5",
   "metadata": {},
   "source": [
    "#### Exercise: How can we compute the T_ant for 24 hour LST? "
   ]
  },
  {
   "cell_type": "code",
   "execution_count": null,
   "id": "cecc4e78-130d-4533-bf3c-4a62ae5803c4",
   "metadata": {},
   "outputs": [],
   "source": [
    "T_ant_24h = np.zeros(len(t_lst_mean))\n",
    "for tt in tqdm(range(len(t_lst_mean))):\n",
    "    ..."
   ]
  },
  {
   "cell_type": "markdown",
   "id": "5b9520ea-9448-4b1e-a62e-5808a6704567",
   "metadata": {},
   "source": [
    "## VIII. Plot the simulated antenna temperature at different frequencies"
   ]
  },
  {
   "cell_type": "code",
   "execution_count": null,
   "id": "5593cc51-e9dc-4f5b-bfa5-30bea30af7bd",
   "metadata": {},
   "outputs": [],
   "source": [
    "fig = plt.figure(figsize=(10,7))\n",
    "plt.scatter(t_lst_mean,T_ant_24h,\n",
    "            ls='-',marker='o',color='k',\n",
    "            label=r'$\\nu$ = 408 MHz')\n",
    "plt.xlabel('LST [hr]', fontsize=16)\n",
    "plt.ylabel(r'$T_\\mathrm{ant}$ [mK]', fontsize=16)\n",
    "plt.grid(ls='--')"
   ]
  },
  {
   "cell_type": "markdown",
   "id": "e88a36cc-7856-4d4c-b918-b10c850f80ac",
   "metadata": {},
   "source": [
    "# Extra (if have time)\n",
    "\n",
    "## E1. Convert the Haslam map from 408 MHz to different frequency with a power law function\n",
    "\n",
    "$T_\\mathrm{sky}(\\nu,\\theta,\\phi) = T_\\mathrm{Haslam}(408~\\mathrm{MHz},\\theta,\\phi)(\\frac{\\nu~\\mathrm{MHz}}{408~\\mathrm{MHz}})^{-\\beta}$, \n",
    "\n",
    "where $\\beta$ is called the spectral index, measured to be about 2.5 from sky survey\n"
   ]
  },
  {
   "cell_type": "code",
   "execution_count": null,
   "id": "905e9db4-c312-4fd5-ab8a-9262259377c1",
   "metadata": {},
   "outputs": [],
   "source": [
    "# Try to calulate the $T_\\mathrm{ant}$ between 20-120 MHz at LST = 0, 6, 12, 18, 24 hrs\n"
   ]
  },
  {
   "cell_type": "code",
   "execution_count": null,
   "id": "04b275fc-7c22-4d56-bb6c-bce341c21de8",
   "metadata": {},
   "outputs": [],
   "source": [
    "# Overplot the $T_\\mathrm{ant}$ as a function of frequency for different LST\n"
   ]
  },
  {
   "cell_type": "code",
   "execution_count": null,
   "id": "3eccc108-8e90-4d52-b9d7-eaa67941f87a",
   "metadata": {},
   "outputs": [],
   "source": []
  }
 ],
 "metadata": {
  "kernelspec": {
   "display_name": "sagi",
   "language": "python",
   "name": "sagi"
  },
  "language_info": {
   "codemirror_mode": {
    "name": "ipython",
    "version": 3
   },
   "file_extension": ".py",
   "mimetype": "text/x-python",
   "name": "python",
   "nbconvert_exporter": "python",
   "pygments_lexer": "ipython3",
   "version": "3.11.9"
  }
 },
 "nbformat": 4,
 "nbformat_minor": 5
}
