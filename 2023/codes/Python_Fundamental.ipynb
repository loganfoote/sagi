{
  "nbformat": 4,
  "nbformat_minor": 0,
  "metadata": {
    "colab": {
      "provenance": [],
      "gpuType": "T4"
    },
    "kernelspec": {
      "name": "python3",
      "display_name": "Python 3"
    },
    "language_info": {
      "name": "python"
    },
    "accelerator": "GPU"
  },
  "cells": [
    {
      "cell_type": "markdown",
      "source": [
        "# Statistics and Optimisation Fundamental\n",
        "## Tran Quang Vinh - Massachusetts Institute of Technology (MIT), US\n",
        "kein schlaf und getrunken"
      ],
      "metadata": {
        "id": "oCp278ISMaIj"
      }
    },
    {
      "cell_type": "markdown",
      "source": [
        "### Linking to Google Drive"
      ],
      "metadata": {
        "id": "XA1e-RKeJI7S"
      }
    },
    {
      "cell_type": "code",
      "source": [
        "from google.colab import drive\n",
        "drive.mount('/content/drive')"
      ],
      "metadata": {
        "id": "Tfcpsv11JFhv",
        "colab": {
          "base_uri": "https://localhost:8080/"
        },
        "outputId": "e73308aa-afbe-41bb-969b-eb6645259b9a"
      },
      "execution_count": null,
      "outputs": [
        {
          "output_type": "stream",
          "name": "stdout",
          "text": [
            "Mounted at /content/drive\n"
          ]
        }
      ]
    },
    {
      "cell_type": "markdown",
      "source": [
        "### GPU Activating"
      ],
      "metadata": {
        "id": "sko3dyJAJOgn"
      }
    },
    {
      "cell_type": "markdown",
      "source": [
        "Navigate to Edit -> Notebook Settings and select GPU from the Hardware Accelerator drop-down"
      ],
      "metadata": {
        "id": "pP3Fa3TMJgQ_"
      }
    },
    {
      "cell_type": "code",
      "source": [
        "%tensorflow_version 2.x\n",
        "import tensorflow as tf\n",
        "device_name = tf.test.gpu_device_name()\n",
        "if device_name != '/device:GPU:0':\n",
        "    raise SystemError('GPU device not found')\n",
        "print('Found GPU at: {}'.format(device_name))"
      ],
      "metadata": {
        "id": "3aU1s9-kJGE4",
        "colab": {
          "base_uri": "https://localhost:8080/"
        },
        "outputId": "62cd67f2-e94a-4c16-8e92-20891959b40b"
      },
      "execution_count": null,
      "outputs": [
        {
          "output_type": "stream",
          "name": "stdout",
          "text": [
            "Colab only includes TensorFlow 2.x; %tensorflow_version has no effect.\n",
            "Found GPU at: /device:GPU:0\n"
          ]
        }
      ]
    },
    {
      "cell_type": "markdown",
      "source": [
        "## Python Fundamental"
      ],
      "metadata": {
        "id": "1fh62cCHEV_7"
      }
    },
    {
      "cell_type": "markdown",
      "source": [
        "### Setting and editting variables"
      ],
      "metadata": {
        "id": "cm_9iyz-D2Uo"
      }
    },
    {
      "cell_type": "code",
      "source": [
        "a = 12\n",
        "b = 22\n",
        "\n",
        "c = a*b\n",
        "\n",
        "print(a)\n",
        "print(b)\n",
        "print(c)"
      ],
      "metadata": {
        "id": "6BFagLB8D99J",
        "colab": {
          "base_uri": "https://localhost:8080/"
        },
        "outputId": "32df5109-06ea-4082-dbfd-03a284c50d19"
      },
      "execution_count": null,
      "outputs": [
        {
          "output_type": "stream",
          "name": "stdout",
          "text": [
            "12\n",
            "22\n",
            "264\n"
          ]
        }
      ]
    },
    {
      "cell_type": "code",
      "source": [
        "c = c + 1\n",
        "\n",
        "print(c)"
      ],
      "metadata": {
        "id": "N7jvpW0MEHFC",
        "colab": {
          "base_uri": "https://localhost:8080/"
        },
        "outputId": "e7322d6e-2710-4b91-9823-41cbda00f851"
      },
      "execution_count": null,
      "outputs": [
        {
          "output_type": "stream",
          "name": "stdout",
          "text": [
            "265\n"
          ]
        }
      ]
    },
    {
      "cell_type": "code",
      "source": [
        "c += 1\n",
        "\n",
        "print(c)"
      ],
      "metadata": {
        "id": "3JlrXzvdEIjg",
        "colab": {
          "base_uri": "https://localhost:8080/"
        },
        "outputId": "0dbf1e16-b1ca-473c-9a14-f32598ddcc74"
      },
      "execution_count": null,
      "outputs": [
        {
          "output_type": "stream",
          "name": "stdout",
          "text": [
            "266\n"
          ]
        }
      ]
    },
    {
      "cell_type": "code",
      "source": [
        "c = 3\n",
        "\n",
        "print(c)"
      ],
      "metadata": {
        "id": "6a6lsuZyELu3",
        "colab": {
          "base_uri": "https://localhost:8080/"
        },
        "outputId": "583fb468-ed97-454c-9fe4-0fe847b9af93"
      },
      "execution_count": null,
      "outputs": [
        {
          "output_type": "stream",
          "name": "stdout",
          "text": [
            "3\n"
          ]
        }
      ]
    },
    {
      "cell_type": "code",
      "source": [
        "c_23 = 23\n",
        "23_c = 23"
      ],
      "metadata": {
        "id": "N4wm7f-LE2rM",
        "colab": {
          "base_uri": "https://localhost:8080/",
          "height": 130
        },
        "outputId": "969560a1-cb01-49bb-c9b5-e90378f04557"
      },
      "execution_count": null,
      "outputs": [
        {
          "output_type": "error",
          "ename": "SyntaxError",
          "evalue": "ignored",
          "traceback": [
            "\u001b[0;36m  File \u001b[0;32m\"<ipython-input-6-a1d66447b067>\"\u001b[0;36m, line \u001b[0;32m2\u001b[0m\n\u001b[0;31m    23_c = 23\u001b[0m\n\u001b[0m      ^\u001b[0m\n\u001b[0;31mSyntaxError\u001b[0m\u001b[0;31m:\u001b[0m invalid decimal literal\n"
          ]
        }
      ]
    },
    {
      "cell_type": "markdown",
      "source": [
        "### Text Data Type: String"
      ],
      "metadata": {
        "id": "TqTASPxPEJUI"
      }
    },
    {
      "cell_type": "code",
      "source": [
        "string = 'this is a string'\n",
        "print(string)"
      ],
      "metadata": {
        "id": "HqabzP82FD4x",
        "colab": {
          "base_uri": "https://localhost:8080/"
        },
        "outputId": "c92914be-c78e-426c-c9a0-d513c5134f5e"
      },
      "execution_count": null,
      "outputs": [
        {
          "output_type": "stream",
          "name": "stdout",
          "text": [
            "this is a string\n"
          ]
        }
      ]
    },
    {
      "cell_type": "code",
      "source": [
        "fstring_1 = f'{string} is a string'\n",
        "print(fstring_1)"
      ],
      "metadata": {
        "id": "Omt-FtA5GhPz",
        "colab": {
          "base_uri": "https://localhost:8080/"
        },
        "outputId": "2a45a188-f51e-42c7-a69e-ba48f4189859"
      },
      "execution_count": null,
      "outputs": [
        {
          "output_type": "stream",
          "name": "stdout",
          "text": [
            "this is a string is a string\n"
          ]
        }
      ]
    },
    {
      "cell_type": "code",
      "source": [
        "fstring_2 = '{} is a string'.format(string)\n",
        "print(fstring_2)"
      ],
      "metadata": {
        "id": "WAkPjASWGs-a",
        "colab": {
          "base_uri": "https://localhost:8080/"
        },
        "outputId": "80b63fc0-97d3-4070-b8e0-df3977378f5e"
      },
      "execution_count": null,
      "outputs": [
        {
          "output_type": "stream",
          "name": "stdout",
          "text": [
            "this is a string is a string\n"
          ]
        }
      ]
    },
    {
      "cell_type": "code",
      "source": [
        "apostrophe_in_string_1 = '\"a\" is a'\n",
        "print(apostrophe_in_string_1)"
      ],
      "metadata": {
        "id": "4KLaZlkSGiqV",
        "colab": {
          "base_uri": "https://localhost:8080/"
        },
        "outputId": "bd7b7a26-7f4a-4f03-cf5c-7706bb20e2be"
      },
      "execution_count": null,
      "outputs": [
        {
          "output_type": "stream",
          "name": "stdout",
          "text": [
            "\"a\" is a\n"
          ]
        }
      ]
    },
    {
      "cell_type": "code",
      "source": [
        "apostrophe_in_string_2 = \"'a' is a\"\n",
        "print(apostrophe_in_string_2)"
      ],
      "metadata": {
        "id": "PfSu7phbGk5f",
        "colab": {
          "base_uri": "https://localhost:8080/"
        },
        "outputId": "37337c1a-fe10-4adc-cf49-5a158f0aa337"
      },
      "execution_count": null,
      "outputs": [
        {
          "output_type": "stream",
          "name": "stdout",
          "text": [
            "'a' is a\n"
          ]
        }
      ]
    },
    {
      "cell_type": "code",
      "source": [
        "print(type(string))\n",
        "print(isinstance(string,str))"
      ],
      "metadata": {
        "id": "wxvKe_8OHTYd",
        "colab": {
          "base_uri": "https://localhost:8080/"
        },
        "outputId": "ee9221b8-ccc6-4333-944f-dc094caa3f72"
      },
      "execution_count": null,
      "outputs": [
        {
          "output_type": "stream",
          "name": "stdout",
          "text": [
            "<class 'str'>\n",
            "True\n"
          ]
        }
      ]
    },
    {
      "cell_type": "code",
      "source": [
        "print(string[0])\n",
        "print(string[1])\n",
        "print(string[2])"
      ],
      "metadata": {
        "id": "dKH6Y53CKvVv",
        "colab": {
          "base_uri": "https://localhost:8080/"
        },
        "outputId": "d15d5596-4515-4b15-8ab1-190689439ac5"
      },
      "execution_count": null,
      "outputs": [
        {
          "output_type": "stream",
          "name": "stdout",
          "text": [
            "t\n",
            "h\n",
            "i\n"
          ]
        }
      ]
    },
    {
      "cell_type": "code",
      "source": [
        "print(string[:6])\n",
        "print(string[6:])"
      ],
      "metadata": {
        "id": "J3aiLjtvLHGY",
        "colab": {
          "base_uri": "https://localhost:8080/"
        },
        "outputId": "667b99af-e426-43c0-9535-51b9f204f41c"
      },
      "execution_count": null,
      "outputs": [
        {
          "output_type": "stream",
          "name": "stdout",
          "text": [
            "this i\n",
            "s a string\n"
          ]
        }
      ]
    },
    {
      "cell_type": "code",
      "source": [
        "print(string[9:12])"
      ],
      "metadata": {
        "id": "KgeAdJ4xLIG3"
      },
      "execution_count": null,
      "outputs": []
    },
    {
      "cell_type": "markdown",
      "source": [
        "### Numerical Data Type: Integer and Float"
      ],
      "metadata": {
        "id": "6MLXeIWFHKfr"
      }
    },
    {
      "cell_type": "code",
      "source": [
        "a = 2\n",
        "b = 2.\n",
        "\n",
        "print(a)\n",
        "print(b)"
      ],
      "metadata": {
        "colab": {
          "base_uri": "https://localhost:8080/"
        },
        "id": "jsEQHd8iIV7H",
        "outputId": "a195678c-f602-4836-ff5b-e07ea0aaff3a"
      },
      "execution_count": null,
      "outputs": [
        {
          "output_type": "stream",
          "name": "stdout",
          "text": [
            "2\n",
            "2.0\n"
          ]
        }
      ]
    },
    {
      "cell_type": "code",
      "source": [
        "print(type(a))\n",
        "print(type(b))"
      ],
      "metadata": {
        "colab": {
          "base_uri": "https://localhost:8080/"
        },
        "id": "xBmzs0Y0IfkU",
        "outputId": "045628c3-e9c4-47fa-83d3-97282b74d7b6"
      },
      "execution_count": null,
      "outputs": [
        {
          "output_type": "stream",
          "name": "stdout",
          "text": [
            "<class 'int'>\n",
            "<class 'float'>\n"
          ]
        }
      ]
    },
    {
      "cell_type": "code",
      "source": [
        "a /= 3\n",
        "\n",
        "print(a)\n",
        "print(type(a))"
      ],
      "metadata": {
        "colab": {
          "base_uri": "https://localhost:8080/"
        },
        "id": "4V09e7ERIj9E",
        "outputId": "447558bc-7968-4121-bb98-5c89859d66a1"
      },
      "execution_count": null,
      "outputs": [
        {
          "output_type": "stream",
          "name": "stdout",
          "text": [
            "0.6666666666666666\n",
            "<class 'float'>\n"
          ]
        }
      ]
    },
    {
      "cell_type": "markdown",
      "source": [
        "### Transforming variable type"
      ],
      "metadata": {
        "id": "f-0ATAdgJznw"
      }
    },
    {
      "cell_type": "code",
      "source": [
        "a = int(a)\n",
        "\n",
        "print(a)\n",
        "print(type(a))"
      ],
      "metadata": {
        "colab": {
          "base_uri": "https://localhost:8080/"
        },
        "id": "GaSbhI-_JyLe",
        "outputId": "7db6a563-ec08-4d90-cc9f-5589ac4283b4"
      },
      "execution_count": null,
      "outputs": [
        {
          "output_type": "stream",
          "name": "stdout",
          "text": [
            "0\n",
            "<class 'int'>\n"
          ]
        }
      ]
    },
    {
      "cell_type": "code",
      "source": [
        "a = str(a)\n",
        "\n",
        "print(a)\n",
        "print(type(a))"
      ],
      "metadata": {
        "colab": {
          "base_uri": "https://localhost:8080/"
        },
        "id": "oRZq13CkJ5xc",
        "outputId": "344dbbf3-0486-4edf-c5d6-37d1616744d9"
      },
      "execution_count": null,
      "outputs": [
        {
          "output_type": "stream",
          "name": "stdout",
          "text": [
            "0\n",
            "<class 'str'>\n"
          ]
        }
      ]
    },
    {
      "cell_type": "markdown",
      "source": [
        "### Boolean Type: True/False"
      ],
      "metadata": {
        "id": "1sDdocO0LoNP"
      }
    },
    {
      "cell_type": "code",
      "source": [
        "a = True\n",
        "b = False\n",
        "\n",
        "print(a)\n",
        "print(b)\n",
        "\n",
        "print(type(a))\n",
        "print(type(b))"
      ],
      "metadata": {
        "id": "BGJLr-47L4xo",
        "colab": {
          "base_uri": "https://localhost:8080/"
        },
        "outputId": "8085315e-25b3-48d3-e918-301747a4ae83"
      },
      "execution_count": null,
      "outputs": [
        {
          "output_type": "stream",
          "name": "stdout",
          "text": [
            "True\n",
            "False\n",
            "<class 'bool'>\n",
            "<class 'bool'>\n"
          ]
        }
      ]
    },
    {
      "cell_type": "code",
      "source": [
        "c = a or b\n",
        "d = a and b\n",
        "\n",
        "print(c)\n",
        "print(d)"
      ],
      "metadata": {
        "id": "qGnWtskRMAX5",
        "colab": {
          "base_uri": "https://localhost:8080/"
        },
        "outputId": "2ea83478-c633-4f8d-8c91-3fe09888a3fc"
      },
      "execution_count": null,
      "outputs": [
        {
          "output_type": "stream",
          "name": "stdout",
          "text": [
            "True\n",
            "False\n"
          ]
        }
      ]
    },
    {
      "cell_type": "code",
      "source": [
        "a = not a\n",
        "\n",
        "print(a)"
      ],
      "metadata": {
        "id": "Ea_vtwA4MHTe",
        "colab": {
          "base_uri": "https://localhost:8080/"
        },
        "outputId": "bb8d542b-0f92-44a7-944b-70c4d1c6f682"
      },
      "execution_count": null,
      "outputs": [
        {
          "output_type": "stream",
          "name": "stdout",
          "text": [
            "False\n"
          ]
        }
      ]
    },
    {
      "cell_type": "markdown",
      "source": [
        "### Sequence Data Type: List, Tuple, Range"
      ],
      "metadata": {
        "id": "boQXYD4FMQor"
      }
    },
    {
      "cell_type": "code",
      "source": [
        "ls = [2,3,4,'cd',33,'eee',23,45,22]\n",
        "tp = (4,5,55,5,'sfc')\n",
        "rg1 = range(3)\n",
        "rg2 = range(5,11,2)\n",
        "\n",
        "print(ls)\n",
        "print(tp)\n",
        "print(rg1)\n",
        "print(rg2)"
      ],
      "metadata": {
        "colab": {
          "base_uri": "https://localhost:8080/"
        },
        "id": "ZpgPOayMP-x7",
        "outputId": "b429bcc4-7916-45e5-ea76-c0aa5fd74fb1"
      },
      "execution_count": null,
      "outputs": [
        {
          "output_type": "stream",
          "name": "stdout",
          "text": [
            "[2, 3, 4, 'cd', 33, 'eee', 23, 45, 22]\n",
            "(4, 5, 55, 5, 'sfc')\n",
            "range(0, 3)\n",
            "range(5, 11, 2)\n"
          ]
        }
      ]
    },
    {
      "cell_type": "code",
      "source": [
        "bundle = [('rr',ls),rg1,[rg1,rg2]]\n",
        "\n",
        "print(bundle)"
      ],
      "metadata": {
        "colab": {
          "base_uri": "https://localhost:8080/"
        },
        "id": "iVyln4tkp2Pk",
        "outputId": "d52eb677-3e53-4de8-935f-1537d5dc2390"
      },
      "execution_count": null,
      "outputs": [
        {
          "output_type": "stream",
          "name": "stdout",
          "text": [
            "[('rr', [2, 3, 4, 'cd', 33, 'eee', 23, 45, 22]), range(0, 3), [range(0, 3), range(5, 11, 2)]]\n"
          ]
        }
      ]
    },
    {
      "cell_type": "code",
      "source": [
        "bundle.append(3)\n",
        "print(bundle)\n",
        "\n",
        "a = bundle.pop(-1)\n",
        "print(a)\n",
        "print(bundle)\n",
        "\n",
        "bundle.append([3])\n",
        "print(bundle)"
      ],
      "metadata": {
        "colab": {
          "base_uri": "https://localhost:8080/"
        },
        "id": "RLTBVq71wS0h",
        "outputId": "8a70f52e-56e3-4f04-c28f-e8588cb41a32"
      },
      "execution_count": null,
      "outputs": [
        {
          "output_type": "stream",
          "name": "stdout",
          "text": [
            "[('rr', [2, 3, 4, 'cd', 33, 'eee', 23, 45, 22]), range(0, 3), [range(0, 3), range(5, 11, 2)], 3]\n",
            "3\n",
            "[('rr', [2, 3, 4, 'cd', 33, 'eee', 23, 45, 22]), range(0, 3), [range(0, 3), range(5, 11, 2)]]\n",
            "[('rr', [2, 3, 4, 'cd', 33, 'eee', 23, 45, 22]), range(0, 3), [range(0, 3), range(5, 11, 2)], [3]]\n"
          ]
        }
      ]
    },
    {
      "cell_type": "code",
      "source": [
        "more_bundle = bundle + ls\n",
        "print(more_bundle)"
      ],
      "metadata": {
        "colab": {
          "base_uri": "https://localhost:8080/"
        },
        "id": "vSTpRVLZwpGZ",
        "outputId": "cbc59268-3b6f-4cc4-b988-1056fee7e061"
      },
      "execution_count": null,
      "outputs": [
        {
          "output_type": "stream",
          "name": "stdout",
          "text": [
            "[('rr', [2, 3, 4, 'cd', 33, 'eee', 23, 45, 22]), range(0, 3), [range(0, 3), range(5, 11, 2)], [3], 2, 3, 4, 'cd', 33, 'eee', 23, 45, 22]\n"
          ]
        }
      ]
    },
    {
      "cell_type": "markdown",
      "source": [
        "### Loops: While Loop and For Loop"
      ],
      "metadata": {
        "id": "82RGZV3uqR2F"
      }
    },
    {
      "cell_type": "code",
      "source": [
        "a = 1\n",
        "\n",
        "while True:\n",
        "    a += 1\n",
        "    print(a)"
      ],
      "metadata": {
        "id": "pMiY72MvqYN-"
      },
      "execution_count": null,
      "outputs": []
    },
    {
      "cell_type": "code",
      "source": [
        "a = 1\n",
        "\n",
        "while a < 20:\n",
        "    a += 1\n",
        "    print(a)"
      ],
      "metadata": {
        "id": "CmFDQMpTql5y",
        "colab": {
          "base_uri": "https://localhost:8080/"
        },
        "outputId": "3fc19bd2-594f-4bfb-9745-8b85a3df83a8"
      },
      "execution_count": null,
      "outputs": [
        {
          "output_type": "stream",
          "name": "stdout",
          "text": [
            "2\n",
            "3\n",
            "4\n",
            "5\n",
            "6\n",
            "7\n",
            "8\n",
            "9\n",
            "10\n",
            "11\n",
            "12\n",
            "13\n",
            "14\n",
            "15\n",
            "16\n",
            "17\n",
            "18\n",
            "19\n",
            "20\n"
          ]
        }
      ]
    },
    {
      "cell_type": "code",
      "source": [
        "for i in string:\n",
        "    print(string)"
      ],
      "metadata": {
        "id": "3tlD3BbUq7Bt",
        "colab": {
          "base_uri": "https://localhost:8080/"
        },
        "outputId": "562cf2f4-8737-4c79-f67b-0c075f32cb80"
      },
      "execution_count": null,
      "outputs": [
        {
          "output_type": "stream",
          "name": "stdout",
          "text": [
            "this is a string\n",
            "this is a string\n",
            "this is a string\n",
            "this is a string\n",
            "this is a string\n",
            "this is a string\n",
            "this is a string\n",
            "this is a string\n",
            "this is a string\n",
            "this is a string\n",
            "this is a string\n",
            "this is a string\n",
            "this is a string\n",
            "this is a string\n",
            "this is a string\n",
            "this is a string\n"
          ]
        }
      ]
    },
    {
      "cell_type": "code",
      "source": [
        "for i in bundle:\n",
        "    for j in i:\n",
        "        print(j)"
      ],
      "metadata": {
        "colab": {
          "base_uri": "https://localhost:8080/"
        },
        "id": "IQMVQqqNq_OC",
        "outputId": "f61212b8-d18f-4f71-b683-61a0c05d81d0"
      },
      "execution_count": null,
      "outputs": [
        {
          "output_type": "stream",
          "name": "stdout",
          "text": [
            "rr\n",
            "[2, 3, 4, 'cd', 33, 'eee', 23, 45, 22]\n",
            "0\n",
            "1\n",
            "2\n",
            "range(0, 3)\n",
            "range(5, 11, 2)\n",
            "3\n"
          ]
        }
      ]
    },
    {
      "cell_type": "code",
      "source": [
        "for i in (2,3,44,[22,45,66]):\n",
        "    if isinstance(i,list):\n",
        "        for j in i:\n",
        "            print(j)"
      ],
      "metadata": {
        "colab": {
          "base_uri": "https://localhost:8080/"
        },
        "id": "js-BKyuXrL6T",
        "outputId": "ae918b59-253c-4894-ed33-324c549a9a04"
      },
      "execution_count": null,
      "outputs": [
        {
          "output_type": "stream",
          "name": "stdout",
          "text": [
            "22\n",
            "45\n",
            "66\n"
          ]
        }
      ]
    },
    {
      "cell_type": "code",
      "source": [
        "x = [2,3,4,5,6]\n",
        "y = [6,5,4,3,2]\n",
        "\n",
        "for i,ix in enumerate(x):\n",
        "    print(f'{ix} is x[{i}]')"
      ],
      "metadata": {
        "id": "AE5TAx1GtIcV",
        "colab": {
          "base_uri": "https://localhost:8080/"
        },
        "outputId": "a73385d7-a151-4966-92bf-60c48c8643dd"
      },
      "execution_count": null,
      "outputs": [
        {
          "output_type": "stream",
          "name": "stdout",
          "text": [
            "2 is x[0]\n",
            "3 is x[1]\n",
            "4 is x[2]\n",
            "5 is x[3]\n",
            "6 is x[4]\n"
          ]
        }
      ]
    },
    {
      "cell_type": "code",
      "source": [
        "for ix,iy in zip(x,y):\n",
        "    print(f'{ix} and {iy} is zipped')"
      ],
      "metadata": {
        "id": "QjWnOXCMtUk4",
        "colab": {
          "base_uri": "https://localhost:8080/"
        },
        "outputId": "90cb40f4-4026-4551-dd62-fc717e8e94de"
      },
      "execution_count": null,
      "outputs": [
        {
          "output_type": "stream",
          "name": "stdout",
          "text": [
            "2 and 6 is zipped\n",
            "3 and 5 is zipped\n",
            "4 and 4 is zipped\n",
            "5 and 3 is zipped\n",
            "6 and 2 is zipped\n"
          ]
        }
      ]
    },
    {
      "cell_type": "markdown",
      "source": [
        "###Conditional: If, Elif, Else"
      ],
      "metadata": {
        "id": "KTc_YKoBrpDj"
      }
    },
    {
      "cell_type": "code",
      "source": [
        "a = 10\n",
        "\n",
        "if a < 0:\n",
        "    print(f'{a} < 0')\n",
        "elif a < 10:\n",
        "    prin(f'0 <= {a} < 10')\n",
        "else:\n",
        "    print(f'10 <= {a}')"
      ],
      "metadata": {
        "colab": {
          "base_uri": "https://localhost:8080/"
        },
        "id": "nr1YKzTKrxAR",
        "outputId": "f80ee44f-65da-46e3-9074-230b9e75ccab"
      },
      "execution_count": null,
      "outputs": [
        {
          "output_type": "stream",
          "name": "stdout",
          "text": [
            "10 <= 10\n"
          ]
        }
      ]
    },
    {
      "cell_type": "markdown",
      "source": [
        "### List Comprehension"
      ],
      "metadata": {
        "id": "_5uY1_eaIFqo"
      }
    },
    {
      "cell_type": "code",
      "source": [
        " # Create a matrix (2d array or list of list) with each element is the tuple containing its (y,x) coordinate. For example\n",
        " # [[(0,0),(0,1),(0,2),(0,3)],\n",
        " #  [(1,0),(1,1),(1,2),(1,3)],\n",
        " #  [(2,0),(2,1),(2,2),(2,3)]]\n",
        "\n",
        " [\n",
        "      [\n",
        "          (y,x) if y**2 + x**2 < 3 else 0 for x in range(15)\n",
        "      ] for y in range(12)\n",
        " ]"
      ],
      "metadata": {
        "id": "-H-ytn5dIK64",
        "colab": {
          "base_uri": "https://localhost:8080/"
        },
        "outputId": "905d9087-0bce-433d-d034-2f4dab0525bc"
      },
      "execution_count": null,
      "outputs": [
        {
          "output_type": "execute_result",
          "data": {
            "text/plain": [
              "[[(0, 0), (0, 1), 0, 0, 0, 0, 0, 0, 0, 0, 0, 0, 0, 0, 0],\n",
              " [(1, 0), (1, 1), 0, 0, 0, 0, 0, 0, 0, 0, 0, 0, 0, 0, 0],\n",
              " [0, 0, 0, 0, 0, 0, 0, 0, 0, 0, 0, 0, 0, 0, 0],\n",
              " [0, 0, 0, 0, 0, 0, 0, 0, 0, 0, 0, 0, 0, 0, 0],\n",
              " [0, 0, 0, 0, 0, 0, 0, 0, 0, 0, 0, 0, 0, 0, 0],\n",
              " [0, 0, 0, 0, 0, 0, 0, 0, 0, 0, 0, 0, 0, 0, 0],\n",
              " [0, 0, 0, 0, 0, 0, 0, 0, 0, 0, 0, 0, 0, 0, 0],\n",
              " [0, 0, 0, 0, 0, 0, 0, 0, 0, 0, 0, 0, 0, 0, 0],\n",
              " [0, 0, 0, 0, 0, 0, 0, 0, 0, 0, 0, 0, 0, 0, 0],\n",
              " [0, 0, 0, 0, 0, 0, 0, 0, 0, 0, 0, 0, 0, 0, 0],\n",
              " [0, 0, 0, 0, 0, 0, 0, 0, 0, 0, 0, 0, 0, 0, 0],\n",
              " [0, 0, 0, 0, 0, 0, 0, 0, 0, 0, 0, 0, 0, 0, 0]]"
            ]
          },
          "metadata": {},
          "execution_count": 39
        }
      ]
    },
    {
      "cell_type": "markdown",
      "source": [
        "### Set"
      ],
      "metadata": {
        "id": "nxAWK2zsvTUi"
      }
    },
    {
      "cell_type": "code",
      "source": [
        "se = {3,5,5,5,3,2,1}\n",
        "\n",
        "print(se)"
      ],
      "metadata": {
        "colab": {
          "base_uri": "https://localhost:8080/"
        },
        "id": "LV7WWrZFvVdJ",
        "outputId": "fdb21ba5-32c6-4e29-89f5-5fb663efd20f"
      },
      "execution_count": null,
      "outputs": [
        {
          "output_type": "stream",
          "name": "stdout",
          "text": [
            "{1, 2, 3, 5}\n"
          ]
        }
      ]
    },
    {
      "cell_type": "code",
      "source": [
        "se = set() #{}\n",
        "\n",
        "print(type(se))"
      ],
      "metadata": {
        "colab": {
          "base_uri": "https://localhost:8080/"
        },
        "id": "WejZJLWGvc6m",
        "outputId": "20a97c1b-20b7-45e4-da00-227822fe2a57"
      },
      "execution_count": null,
      "outputs": [
        {
          "output_type": "stream",
          "name": "stdout",
          "text": [
            "<class 'set'>\n"
          ]
        }
      ]
    },
    {
      "cell_type": "code",
      "source": [
        "for i in se:\n",
        "    print(i)"
      ],
      "metadata": {
        "id": "IDYQiu97viEa"
      },
      "execution_count": null,
      "outputs": []
    },
    {
      "cell_type": "code",
      "source": [
        "se.add(50)\n",
        "print(se)\n",
        "\n",
        "se = se | {3,3,2,4}\n",
        "print(se)\n",
        "\n",
        "se = se.difference({3,3,2,4})\n",
        "print(se)"
      ],
      "metadata": {
        "colab": {
          "base_uri": "https://localhost:8080/"
        },
        "id": "z_cRPFZ_wHQU",
        "outputId": "f77a1a32-1e4c-4279-e3de-5758a2d3f7d2"
      },
      "execution_count": null,
      "outputs": [
        {
          "output_type": "stream",
          "name": "stdout",
          "text": [
            "{50}\n",
            "{3, 50, 2, 4}\n",
            "{50}\n"
          ]
        }
      ]
    },
    {
      "cell_type": "markdown",
      "source": [
        "### Dictionary"
      ],
      "metadata": {
        "id": "2M6GCC76yNe9"
      }
    },
    {
      "cell_type": "code",
      "source": [
        "exa = {'do':1,'fo':2}\n",
        "print(exa)\n",
        "\n",
        "exx = {\n",
        "    tp : bundle,\n",
        "    'e': (33,33)\n",
        "}\n",
        "print(exx)"
      ],
      "metadata": {
        "colab": {
          "base_uri": "https://localhost:8080/"
        },
        "id": "v2EH-F31yQv2",
        "outputId": "04fba2d3-2e07-4e0e-d15b-baba73783754"
      },
      "execution_count": null,
      "outputs": [
        {
          "output_type": "stream",
          "name": "stdout",
          "text": [
            "{'do': 1, 'fo': 2}\n",
            "{(4, 5, 55, 5, 'sfc'): [('rr', [2, 3, 4, 'cd', 33, 'eee', 23, 45, 22]), range(0, 3), [range(0, 3), range(5, 11, 2)], [3]], 'e': (33, 33)}\n"
          ]
        }
      ]
    },
    {
      "cell_type": "code",
      "source": [
        "direction_vector = {\n",
        "    \"up\": (-1, 0),\n",
        "    \"down\": (+1, 0),\n",
        "    \"left\": (0, -1),\n",
        "    \"right\": (0, +1),\n",
        "}\n",
        "\n",
        "print(direction_vector['left'])"
      ],
      "metadata": {
        "colab": {
          "base_uri": "https://localhost:8080/"
        },
        "id": "A6xiUw2gz4G8",
        "outputId": "6576958c-2d56-4e88-988d-a66f835002d8"
      },
      "execution_count": null,
      "outputs": [
        {
          "output_type": "stream",
          "name": "stdout",
          "text": [
            "(0, -1)\n"
          ]
        }
      ]
    },
    {
      "cell_type": "code",
      "source": [
        "coord = (3,2)\n",
        "new_coord = tuple(i+di for i,di in zip(coord,direction_vector['down']))\n",
        "\n",
        "print(new_coord)"
      ],
      "metadata": {
        "colab": {
          "base_uri": "https://localhost:8080/"
        },
        "id": "yus693Du0E8j",
        "outputId": "6baad939-475f-4a80-a987-5325848f79ce"
      },
      "execution_count": null,
      "outputs": [
        {
          "output_type": "stream",
          "name": "stdout",
          "text": [
            "(4, 2)\n"
          ]
        }
      ]
    },
    {
      "cell_type": "code",
      "source": [
        "direction_vector['still']\n",
        "\n",
        "print(direction_vector)"
      ],
      "metadata": {
        "colab": {
          "base_uri": "https://localhost:8080/"
        },
        "id": "0jHrWc6r0btB",
        "outputId": "e182fdeb-77cf-48e4-b290-ef6cbd009330"
      },
      "execution_count": null,
      "outputs": [
        {
          "output_type": "stream",
          "name": "stdout",
          "text": [
            "{'up': (-1, 0), 'down': (1, 0), 'left': (0, -1), 'right': (0, 1), 'still': (0, 0)}\n"
          ]
        }
      ]
    },
    {
      "cell_type": "code",
      "source": [
        "print(direction_vector.get('up'))"
      ],
      "metadata": {
        "colab": {
          "base_uri": "https://localhost:8080/"
        },
        "id": "ROzhUedS0k5_",
        "outputId": "a255d13f-96ec-4d85-b3c4-30bc5f287863"
      },
      "execution_count": null,
      "outputs": [
        {
          "output_type": "stream",
          "name": "stdout",
          "text": [
            "(-1, 0)\n"
          ]
        }
      ]
    },
    {
      "cell_type": "code",
      "source": [
        "direction_vector['bla'] = direction_vector.get('bla',2)\n",
        "\n",
        "print(direction_vector)"
      ],
      "metadata": {
        "id": "NWlp6Yvq06IU"
      },
      "execution_count": null,
      "outputs": []
    },
    {
      "cell_type": "markdown",
      "source": [
        "### Function"
      ],
      "metadata": {
        "id": "GstKv7Gs1zzX"
      }
    },
    {
      "cell_type": "code",
      "source": [
        "def foo(x):\n",
        "    a = x / 5\n",
        "    print(round(a,2))\n",
        "\n",
        "def too(x):\n",
        "    b = - x * 5\n",
        "    print(abs(b))\n",
        "\n",
        "print(foo(3))\n",
        "print(too(9))"
      ],
      "metadata": {
        "id": "P-iL_hyy11NM",
        "colab": {
          "base_uri": "https://localhost:8080/"
        },
        "outputId": "883065a7-7364-4b6c-8d5f-c1371b886b29"
      },
      "execution_count": null,
      "outputs": [
        {
          "output_type": "stream",
          "name": "stdout",
          "text": [
            "0.6\n",
            "None\n",
            "45\n",
            "None\n"
          ]
        }
      ]
    },
    {
      "cell_type": "code",
      "source": [
        "def noo():\n",
        "    return 2\n",
        "\n",
        "print(noo)\n",
        "print(noo())"
      ],
      "metadata": {
        "id": "aRXox5TK23BM",
        "colab": {
          "base_uri": "https://localhost:8080/"
        },
        "outputId": "3bb41def-7749-48c9-acbe-40dd11542400"
      },
      "execution_count": null,
      "outputs": [
        {
          "output_type": "stream",
          "name": "stdout",
          "text": [
            "<function noo at 0x7e03b288e290>\n",
            "2\n"
          ]
        }
      ]
    },
    {
      "cell_type": "code",
      "source": [
        "a = lambda x: x+1\n",
        "\n",
        "print(a(3))"
      ],
      "metadata": {
        "id": "Z3X1rCxR3G2R"
      },
      "execution_count": null,
      "outputs": []
    },
    {
      "cell_type": "code",
      "source": [
        "def frac(x):\n",
        "    if x == 0:\n",
        "        return 1\n",
        "    return x*frac(x-1)\n",
        "\n",
        "print(frac(0))\n",
        "print(frac(5))"
      ],
      "metadata": {
        "colab": {
          "base_uri": "https://localhost:8080/"
        },
        "id": "kQ1R3tFf3hoc",
        "outputId": "1827e9c3-5fe4-4c58-d11b-200896501b32"
      },
      "execution_count": null,
      "outputs": [
        {
          "output_type": "stream",
          "name": "stdout",
          "text": [
            "1\n",
            "120\n"
          ]
        }
      ]
    },
    {
      "cell_type": "markdown",
      "source": [
        "## Environment Diagram"
      ],
      "metadata": {
        "id": "QJrUG6aJHJRh"
      }
    },
    {
      "cell_type": "markdown",
      "source": [
        "## Numpy"
      ],
      "metadata": {
        "id": "UApVFBHm4UlG"
      }
    },
    {
      "cell_type": "markdown",
      "source": [],
      "metadata": {
        "id": "MJcFe_zOHLc3"
      }
    },
    {
      "cell_type": "code",
      "source": [
        "import numpy as np\n",
        "\n",
        "arr = np.array([3,2,3,4])\n",
        "ext = np.array([4,4,5,6])\n",
        "\n",
        "print(arr)\n",
        "print(ext)"
      ],
      "metadata": {
        "colab": {
          "base_uri": "https://localhost:8080/"
        },
        "id": "YJY0pDNV5aXX",
        "outputId": "b5940449-7c68-4161-e261-f486330d2ac1"
      },
      "execution_count": null,
      "outputs": [
        {
          "output_type": "stream",
          "name": "stdout",
          "text": [
            "[3 2 3 4]\n",
            "[4 4 5 6]\n"
          ]
        }
      ]
    },
    {
      "cell_type": "code",
      "source": [
        "print(arr.shape)\n",
        "print(arr.dtype)"
      ],
      "metadata": {
        "colab": {
          "base_uri": "https://localhost:8080/"
        },
        "id": "dQ-r7kzNARPl",
        "outputId": "9678d62e-439e-4766-c9f5-2a5c7322ca69"
      },
      "execution_count": null,
      "outputs": [
        {
          "output_type": "stream",
          "name": "stdout",
          "text": [
            "(4,)\n",
            "int64\n"
          ]
        }
      ]
    },
    {
      "cell_type": "code",
      "source": [
        "print(arr*3)\n",
        "print(arr+ext)"
      ],
      "metadata": {
        "id": "pE2P_qXH6Dgb",
        "colab": {
          "base_uri": "https://localhost:8080/"
        },
        "outputId": "239dcca1-22ff-4b27-8c05-1d09f764c263"
      },
      "execution_count": null,
      "outputs": [
        {
          "output_type": "stream",
          "name": "stdout",
          "text": [
            "[ 9  6  9 12]\n",
            "[ 7  6  8 10]\n"
          ]
        }
      ]
    },
    {
      "cell_type": "code",
      "source": [
        "new = np.append(arr,ext)\n",
        "\n",
        "print(new)"
      ],
      "metadata": {
        "id": "0rokDiSX6HT5",
        "colab": {
          "base_uri": "https://localhost:8080/"
        },
        "outputId": "8f3fbd77-73ce-4812-9a6d-e9d4642903ea"
      },
      "execution_count": null,
      "outputs": [
        {
          "output_type": "stream",
          "name": "stdout",
          "text": [
            "[3 2 3 4 4 4 5 6]\n"
          ]
        }
      ]
    },
    {
      "cell_type": "code",
      "source": [
        "zero = np.zeros(4)\n",
        "print(zero)\n",
        "\n",
        "one = np.ones((3,4))\n",
        "print(one)\n",
        "\n",
        "one_like = np.ones_like(zero)\n",
        "print(one_like)"
      ],
      "metadata": {
        "id": "6ZZqpyxl6J7h",
        "colab": {
          "base_uri": "https://localhost:8080/"
        },
        "outputId": "86680227-61f7-477a-997d-c44809067bc3"
      },
      "execution_count": null,
      "outputs": [
        {
          "output_type": "stream",
          "name": "stdout",
          "text": [
            "[0. 0. 0. 0.]\n",
            "[[1. 1. 1. 1.]\n",
            " [1. 1. 1. 1.]\n",
            " [1. 1. 1. 1.]]\n",
            "[1. 1. 1. 1.]\n"
          ]
        }
      ]
    },
    {
      "cell_type": "code",
      "source": [
        "arange = np.arange(3)\n",
        "print(arange)\n",
        "\n",
        "linspace = np.linspace(1,5,10)\n",
        "print(linspace)"
      ],
      "metadata": {
        "id": "QNjT12ppAtDB",
        "colab": {
          "base_uri": "https://localhost:8080/"
        },
        "outputId": "6e692ad3-4edf-43e9-bbc7-3ab52aca9b41"
      },
      "execution_count": null,
      "outputs": [
        {
          "output_type": "stream",
          "name": "stdout",
          "text": [
            "[0 1 2]\n",
            "[1.         1.44444444 1.88888889 2.33333333 2.77777778 3.22222222\n",
            " 3.66666667 4.11111111 4.55555556 5.        ]\n"
          ]
        }
      ]
    },
    {
      "cell_type": "code",
      "source": [
        "ran = np.random.normal(loc=10,scale=3,size=8000)\n",
        "\n",
        "print(ran.mean())\n",
        "print(np.median(ran))\n",
        "print(ran.var())\n",
        "print(np.std(ran))"
      ],
      "metadata": {
        "colab": {
          "base_uri": "https://localhost:8080/"
        },
        "id": "wof-5LKjFWEX",
        "outputId": "71e9b0f5-e456-4d31-a3c5-f0c16b973309"
      },
      "execution_count": null,
      "outputs": [
        {
          "output_type": "stream",
          "name": "stdout",
          "text": [
            "9.998406582156665\n",
            "9.969631845832485\n",
            "9.241153970924492\n",
            "3.039926639069517\n"
          ]
        }
      ]
    },
    {
      "cell_type": "markdown",
      "source": [
        "## Matplotlib"
      ],
      "metadata": {
        "id": "EWDHnrvfCTC6"
      }
    },
    {
      "cell_type": "code",
      "source": [
        "from matplotlib import pyplot as plt\n",
        "\n",
        "%config InlineBackend.figure_format = 'retina'\n",
        "\n",
        "plt.rcParams['figure.figsize'] = (9,6)\n",
        "\n",
        "medium_size = 12\n",
        "large_size = 15\n",
        "\n",
        "plt.rc('font', size=medium_size)\n",
        "plt.rc('xtick', labelsize=medium_size)\n",
        "plt.rc('ytick', labelsize=medium_size)\n",
        "plt.rc('legend', fontsize=medium_size)\n",
        "plt.rc('axes', titlesize=large_size)\n",
        "plt.rc('axes', labelsize=large_size)\n",
        "plt.rc('figure', titlesize=large_size)"
      ],
      "metadata": {
        "id": "m4FrAD2NCcto"
      },
      "execution_count": null,
      "outputs": []
    },
    {
      "cell_type": "code",
      "source": [
        "plt.figure() # _,ax = plt.subplots()\n",
        "\n",
        "plt.plot(np.arange(5),\n",
        "         [frac(i) for i in np.arange(5)],\n",
        "         color='indianred',\n",
        "         alpha=0.6,\n",
        "         linestyle='--',\n",
        "         linewidth=0.7,\n",
        "         label='ble')\n",
        "\n",
        "plt.scatter(np.arange(5),\n",
        "            25-np.array([frac(i) for i in np.arange(5)]),\n",
        "            color='darkgreen',\n",
        "            alpha=0.9,\n",
        "            s=20,\n",
        "            label='blo')\n",
        "\n",
        "plt.xlabel('Are')\n",
        "plt.ylabel(r'$\\alpha$')\n",
        "\n",
        "plt.legend()\n",
        "plt.show()"
      ],
      "metadata": {
        "colab": {
          "base_uri": "https://localhost:8080/",
          "height": 555
        },
        "id": "w4QXGCYVCjhE",
        "outputId": "90e10b94-d4b6-4d05-857b-889eec16ab6f"
      },
      "execution_count": null,
      "outputs": [
        {
          "output_type": "display_data",
          "data": {
            "text/plain": [
              "<Figure size 900x600 with 1 Axes>"
            ],
            "image/png": "[encoded data removed]"
          },
          "metadata": {
            "image/png": {
              "width": 775,
              "height": 538
            }
          }
        }
      ]
    },
    {
      "cell_type": "code",
      "source": [
        "plt.figure()\n",
        "\n",
        "hist,bins,_ = plt.hist(ran,bins=50,density=True) #bins = np.linspace(0,20,50)\n",
        "\n",
        "plt.xlabel('x')\n",
        "plt.ylabel('Histogram')\n",
        "\n",
        "plt.show()"
      ],
      "metadata": {
        "colab": {
          "base_uri": "https://localhost:8080/",
          "height": 551
        },
        "id": "7mE5MCNwFmcV",
        "outputId": "89cfeee9-d66f-4f3a-922d-368faa8200aa"
      },
      "execution_count": null,
      "outputs": [
        {
          "output_type": "display_data",
          "data": {
            "text/plain": [
              "<Figure size 900x600 with 1 Axes>"
            ],
            "image/png": "[encoded data removed]"
          },
          "metadata": {
            "image/png": {
              "width": 791,
              "height": 534
            }
          }
        }
      ]
    },
    {
      "cell_type": "code",
      "source": [
        "plt.figure()\n",
        "\n",
        "hist,bins = np.histogram(ran,bins=50)\n",
        "bin_centers = (bins[1:]+bins[:-1])/2\n",
        "hist_err = np.sqrt(hist)\n",
        "\n",
        "scaling = 1 / np.sum(hist) / (bins[-1]-bins[0]) * bin_centers.shape[0]\n",
        "hist, hist_err = hist*scaling, hist_err*scaling\n",
        "\n",
        "plt.errorbar(bin_centers,hist,hist_err,\n",
        "             color='steelblue',fmt=' ',\n",
        "             elinewidth=2,capsize=5)\n",
        "\n",
        "plt.xlabel('x')\n",
        "plt.ylabel('Histogram')\n",
        "\n",
        "plt.show()"
      ],
      "metadata": {
        "colab": {
          "base_uri": "https://localhost:8080/",
          "height": 551
        },
        "id": "OsGIYmtCGOH9",
        "outputId": "6d7ecc8f-6ae2-4cf1-b77c-14e9a0d959c4"
      },
      "execution_count": null,
      "outputs": [
        {
          "output_type": "display_data",
          "data": {
            "text/plain": [
              "<Figure size 900x600 with 1 Axes>"
            ],
            "image/png": "[encoded data removed]"
          },
          "metadata": {
            "image/png": {
              "width": 791,
              "height": 534
            }
          }
        }
      ]
    }
  ]
}